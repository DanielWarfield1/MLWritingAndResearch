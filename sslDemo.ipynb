{
  "nbformat": 4,
  "nbformat_minor": 0,
  "metadata": {
    "colab": {
      "provenance": [],
      "gpuType": "T4",
      "authorship_tag": "ABX9TyNb8h/w3h8i4Tt71h5T0i6W",
      "include_colab_link": true
    },
    "kernelspec": {
      "name": "python3",
      "display_name": "Python 3"
    },
    "language_info": {
      "name": "python"
    }
  },
  "cells": [
    {
      "cell_type": "markdown",
      "metadata": {
        "id": "view-in-github",
        "colab_type": "text"
      },
      "source": [
        "<a href=\"https://colab.research.google.com/github/DanielWarfield1/MLWritingAndResearch/blob/main/sslDemo.ipynb\" target=\"_parent\"><img src=\"https://colab.research.google.com/assets/colab-badge.svg\" alt=\"Open In Colab\"/></a>"
      ]
    },
    {
      "cell_type": "markdown",
      "source": [
        "# Self Supervised Learning with Projection Heads and Contrastive Learning\n",
        "In this demo, I train a simple convolutional neural network on a very sparse\n",
        "version of MNIST. 60,000 training examples, I only preserve 200 labels (meaning\n",
        "we have 59,800 unlabled training examples, and 200 labled training examples).\n",
        "In this notebook:\n",
        "\n",
        " - A simple supervised model is trained on only the 200 labels, resulting in a\n",
        " test set accuracy of 52.5%\n",
        " - A model is trained via self-supervised contrastive learning, yielding a test set accuracy of 59.7%\n",
        " - A model is trained via self-supervised contrastive learning, with a discarded projection head before refinement, yielding a test set accuracy of 63.6%\n",
        "\n",
        "(results may be different due to stocasticity)\n",
        "\n",
        "Given the incredible sparsity of the labled training set, I think 63.6% accuracy\n",
        "is quite impressive, especially considering this is a proof of concept notebook\n",
        "without significant hyperparameter refinement. This shows the power of self supervised learning using contrastive learning, and the importance of the projection head in that process.\n",
        "\n",
        "If you like what you see, and want to work with me, visit https://danielwarfield.dev\n",
        "\n",
        "# Table Of Contents\n",
        "\n",
        " - **Dataset Preperation:** Convert MNIST data into a very sparsely labled dataset\n",
        " - **Defining Model:** Create a simple convolutional netowrk with a fully connected projection head\n",
        " - **Training with Only Supervised Learning:** Establish baseline performance with only supervised learning\n",
        " - **Defining Augmentation:** Define the image augmentations necessary for self supervised learning\n",
        " - **Defining Contrastive Loss:** Define the loss function necessary for self supervised learning.\n",
        " - **Self Supervised Training:** Train the model to have general image understanding, without human defined lables, via self supervised learning with contrastive loss.\n",
        " - **Self Supervised Learning Training Progress:** A visual of the loss reduction compared to the learning rate scheduler, which is practically useful in understanding if SSL is actually doing anything productive\n",
        " - **Fine Tuning Self Supervised Model with Supervised Learning:** Training on the sparsely labled dataset, both with the original head from SSL, as well as new randomly initialized head\n",
        " - **Discussion:** A brief discussion\n"
      ],
      "metadata": {
        "id": "JwBCCtPSGkxz"
      }
    },
    {
      "cell_type": "markdown",
      "source": [
        "# Dataset Preperation\n",
        " - Setup PyTorch\n",
        " - Downloading the MNIST dataset\n",
        " - Remove labels from all but 200 training examples\n",
        " - Reformat the data into PyTorch tensors"
      ],
      "metadata": {
        "id": "UncrQc1pIvaD"
      }
    },
    {
      "cell_type": "code",
      "source": [
        "\"\"\"\n",
        "Downloading and rendering sample MNIST data\n",
        "\"\"\"\n",
        "\n",
        "#torch setup\n",
        "import torch\n",
        "import torchvision\n",
        "import torchvision.datasets as datasets\n",
        "device = 'cuda' if torch.cuda.is_available() else 'cpu'\n",
        "\n",
        "#downloading mnist\n",
        "mnist_trainset = datasets.MNIST(root='./data', train=True,\n",
        "                                download=True, transform=None)\n",
        "mnist_testset = datasets.MNIST(root='./data', train=False,\n",
        "                               download=True, transform=None)\n",
        "\n",
        "#printing lengths\n",
        "print('length of the training set: {}'.format(len(mnist_trainset)))\n",
        "print('length of the test set: {}'.format(len(mnist_testset)))\n",
        "\n",
        "#rendering a few examples\n",
        "for i in range(3):\n",
        "  print('the number {}:'.format(mnist_trainset[i][1]))\n",
        "  mnist_trainset[i][0].show()"
      ],
      "metadata": {
        "colab": {
          "base_uri": "https://localhost:8080/",
          "height": 551
        },
        "id": "qbp5sfo9Gszq",
        "outputId": "1296c4f3-bf4d-4d0d-c939-aadbd138a945"
      },
      "execution_count": 1,
      "outputs": [
        {
          "output_type": "stream",
          "name": "stdout",
          "text": [
            "Downloading http://yann.lecun.com/exdb/mnist/train-images-idx3-ubyte.gz\n",
            "Downloading http://yann.lecun.com/exdb/mnist/train-images-idx3-ubyte.gz to ./data/MNIST/raw/train-images-idx3-ubyte.gz\n"
          ]
        },
        {
          "output_type": "stream",
          "name": "stderr",
          "text": [
            "100%|██████████| 9912422/9912422 [00:00<00:00, 215649485.43it/s]"
          ]
        },
        {
          "output_type": "stream",
          "name": "stdout",
          "text": [
            "Extracting ./data/MNIST/raw/train-images-idx3-ubyte.gz to ./data/MNIST/raw\n"
          ]
        },
        {
          "output_type": "stream",
          "name": "stderr",
          "text": [
            "\n"
          ]
        },
        {
          "output_type": "stream",
          "name": "stdout",
          "text": [
            "\n",
            "Downloading http://yann.lecun.com/exdb/mnist/train-labels-idx1-ubyte.gz\n",
            "Downloading http://yann.lecun.com/exdb/mnist/train-labels-idx1-ubyte.gz to ./data/MNIST/raw/train-labels-idx1-ubyte.gz\n"
          ]
        },
        {
          "output_type": "stream",
          "name": "stderr",
          "text": [
            "100%|██████████| 28881/28881 [00:00<00:00, 89201541.84it/s]\n"
          ]
        },
        {
          "output_type": "stream",
          "name": "stdout",
          "text": [
            "Extracting ./data/MNIST/raw/train-labels-idx1-ubyte.gz to ./data/MNIST/raw\n",
            "\n",
            "Downloading http://yann.lecun.com/exdb/mnist/t10k-images-idx3-ubyte.gz\n",
            "Downloading http://yann.lecun.com/exdb/mnist/t10k-images-idx3-ubyte.gz to ./data/MNIST/raw/t10k-images-idx3-ubyte.gz\n"
          ]
        },
        {
          "output_type": "stream",
          "name": "stderr",
          "text": [
            "100%|██████████| 1648877/1648877 [00:00<00:00, 69067054.78it/s]"
          ]
        },
        {
          "output_type": "stream",
          "name": "stdout",
          "text": [
            "Extracting ./data/MNIST/raw/t10k-images-idx3-ubyte.gz to ./data/MNIST/raw\n",
            "\n",
            "Downloading http://yann.lecun.com/exdb/mnist/t10k-labels-idx1-ubyte.gz\n"
          ]
        },
        {
          "output_type": "stream",
          "name": "stderr",
          "text": [
            "\n"
          ]
        },
        {
          "output_type": "stream",
          "name": "stdout",
          "text": [
            "Downloading http://yann.lecun.com/exdb/mnist/t10k-labels-idx1-ubyte.gz to ./data/MNIST/raw/t10k-labels-idx1-ubyte.gz\n"
          ]
        },
        {
          "output_type": "stream",
          "name": "stderr",
          "text": [
            "100%|██████████| 4542/4542 [00:00<00:00, 21003890.59it/s]\n"
          ]
        },
        {
          "output_type": "stream",
          "name": "stdout",
          "text": [
            "Extracting ./data/MNIST/raw/t10k-labels-idx1-ubyte.gz to ./data/MNIST/raw\n",
            "\n",
            "length of the training set: 60000\n",
            "length of the test set: 10000\n",
            "the number 5:\n"
          ]
        },
        {
          "output_type": "display_data",
          "data": {
            "text/plain": [
              "<PIL.Image.Image image mode=L size=28x28 at 0x7F8F2441FC10>"
            ],
            "image/png": "[encoded data removed]"
          },
          "metadata": {}
        },
        {
          "output_type": "stream",
          "name": "stdout",
          "text": [
            "the number 0:\n"
          ]
        },
        {
          "output_type": "display_data",
          "data": {
            "text/plain": [
              "<PIL.Image.Image image mode=L size=28x28 at 0x7F8F21771BD0>"
            ],
            "image/png": "[encoded data removed]"
          },
          "metadata": {}
        },
        {
          "output_type": "stream",
          "name": "stdout",
          "text": [
            "the number 4:\n"
          ]
        },
        {
          "output_type": "display_data",
          "data": {
            "text/plain": [
              "<PIL.Image.Image image mode=L size=28x28 at 0x7F8F2441FC10>"
            ],
            "image/png": "[encoded data removed]"
          },
          "metadata": {}
        }
      ]
    },
    {
      "cell_type": "code",
      "source": [
        "\"\"\"\n",
        "Creating un-labled data and transforming the data into more familiar types\n",
        "\"\"\"\n",
        "\n",
        "from tqdm import tqdm\n",
        "import numpy as np\n",
        "from sklearn.preprocessing import OneHotEncoder\n",
        "\n",
        "# ========== Data Extraction ==========\n",
        "# unlabeling some data, and one hot encoding the labels which remain\n",
        "# =====================================\n",
        "\n",
        "partition_index = 200\n",
        "\n",
        "def one_hot(y):\n",
        "  #For converting a numpy array of 0-9 into a one hot encoding of vectors of length 10\n",
        "  b = np.zeros((y.size, y.max() + 1))\n",
        "  b[np.arange(y.size), y] = 1\n",
        "  return b\n",
        "\n",
        "print('processing labeld training x and y')\n",
        "train_x = np.asarray([np.asarray(mnist_trainset[i][0]) for i in tqdm(range(partition_index))])\n",
        "train_y = one_hot(np.asarray([np.asarray(mnist_trainset[i][1]) for i in tqdm(range(partition_index))]))\n",
        "\n",
        "print('processing unlabled training data')\n",
        "train_unlabled = np.asarray([np.asarray(mnist_trainset[i][0]) for i in tqdm(range(partition_index,len(mnist_trainset)))])\n",
        "\n",
        "print('processing labeld test x and y')\n",
        "test_x = np.asarray([np.asarray(mnist_testset[i][0]) for i in tqdm(range(len(mnist_testset)))])\n",
        "test_y = one_hot(np.asarray([np.asarray(mnist_testset[i][1]) for i in tqdm(range(len(mnist_testset)))]))\n",
        "\n",
        "# ========== Data Reformatting ==========\n",
        "# adding a channel dimension and converting to pytorch\n",
        "# =====================================\n",
        "\n",
        "#adding a dimension to all X values to put them in the proper shape\n",
        "#(batch size, channels, x, y)\n",
        "print('reformatting shape...')\n",
        "train_x = np.expand_dims(train_x, 1)\n",
        "train_unlabled = np.expand_dims(train_unlabled, 1)\n",
        "test_x = np.expand_dims(test_x, 1)\n",
        "\n",
        "#converting data to pytorch type\n",
        "torch_train_x = torch.tensor(train_x.astype(np.float32), requires_grad=True).to(device)\n",
        "torch_train_y = torch.tensor(train_y).to(device)\n",
        "torch_test_x = torch.tensor(test_x.astype(np.float32), requires_grad=True).to(device)\n",
        "torch_test_y = torch.tensor(test_y).to(device)\n",
        "torch_train_unlabled = torch.tensor(train_unlabled.astype(np.float32), requires_grad=True).to(device)\n",
        "\n",
        "print('done')"
      ],
      "metadata": {
        "colab": {
          "base_uri": "https://localhost:8080/"
        },
        "id": "57-rgCpZK20X",
        "outputId": "cf8a0d24-6c10-478d-b5ea-4519ce4880f7"
      },
      "execution_count": 12,
      "outputs": [
        {
          "output_type": "stream",
          "name": "stdout",
          "text": [
            "processing labeld training x and y\n"
          ]
        },
        {
          "output_type": "stream",
          "name": "stderr",
          "text": [
            "100%|██████████| 200/200 [00:00<00:00, 9037.79it/s]\n",
            "100%|██████████| 200/200 [00:00<00:00, 13853.33it/s]\n"
          ]
        },
        {
          "output_type": "stream",
          "name": "stdout",
          "text": [
            "processing unlabled training data\n"
          ]
        },
        {
          "output_type": "stream",
          "name": "stderr",
          "text": [
            "100%|██████████| 59800/59800 [00:04<00:00, 12532.35it/s]\n"
          ]
        },
        {
          "output_type": "stream",
          "name": "stdout",
          "text": [
            "processing labeld test x and y\n"
          ]
        },
        {
          "output_type": "stream",
          "name": "stderr",
          "text": [
            "100%|██████████| 10000/10000 [00:00<00:00, 18298.73it/s]\n",
            "100%|██████████| 10000/10000 [00:00<00:00, 42868.00it/s]\n"
          ]
        },
        {
          "output_type": "stream",
          "name": "stdout",
          "text": [
            "reformatting shape...\n",
            "done\n"
          ]
        }
      ]
    },
    {
      "cell_type": "markdown",
      "source": [
        "# Defining Model\n",
        "The model is a very simple, low parameter convolutional model. There is a\n",
        "convolutional backbone with max pooling, and a fully connected head. The \"head\"\n",
        "is what is refered to as the \"projection head\" in the original blog post, and\n",
        "is re-initialized later in one of the examples."
      ],
      "metadata": {
        "id": "5e02je9BJPse"
      }
    },
    {
      "cell_type": "code",
      "source": [
        "\"\"\"\n",
        "Using PyTorch to create a modified, smaller version of AlexNet\n",
        "\"\"\"\n",
        "import torch.nn.functional as F\n",
        "import torch.nn as nn\n",
        "\n",
        "class Backbone(nn.Module):\n",
        "    def __init__(self):\n",
        "        super(Backbone, self).__init__()\n",
        "        self.conv1 = nn.Conv2d(1, 16, 3)\n",
        "        self.conv2 = nn.Conv2d(16, 16, 3)\n",
        "        self.conv3 = nn.Conv2d(16, 32, 3)\n",
        "\n",
        "        if torch.cuda.is_available():\n",
        "            self.cuda()\n",
        "\n",
        "    def forward(self, x):\n",
        "        x = F.max_pool2d(F.relu(self.conv1(x)), 2)\n",
        "        x = F.max_pool2d(F.relu(self.conv2(x)), 2)\n",
        "        x = F.max_pool2d(F.relu(self.conv3(x)), 2)\n",
        "        x = torch.flatten(x, 1)\n",
        "        return x\n",
        "\n",
        "\n",
        "class Head(nn.Module):\n",
        "    def __init__(self, n_class=10):\n",
        "        super(Head, self).__init__()\n",
        "        self.fc1 = nn.Linear(32, 32)\n",
        "        self.fc2 = nn.Linear(32, 16)\n",
        "        self.fc3 = nn.Linear(16, n_class)\n",
        "\n",
        "        if torch.cuda.is_available():\n",
        "            self.cuda()\n",
        "\n",
        "    def forward(self, x):\n",
        "        x = F.relu(self.fc1(x))\n",
        "        x = F.relu(self.fc2(x))\n",
        "        x = self.fc3(x)\n",
        "        return F.softmax(x,1)\n",
        "\n",
        "\n",
        "class Model(nn.Module):\n",
        "    def __init__(self):\n",
        "        super(Model, self).__init__()\n",
        "        self.backbone = Backbone()\n",
        "        self.head = Head()\n",
        "\n",
        "        if torch.cuda.is_available():\n",
        "            self.cuda()\n",
        "\n",
        "    def forward(self, x):\n",
        "        x = self.backbone(x)\n",
        "        x = self.head(x)\n",
        "        return x\n",
        "\n",
        "model_baseline = Model()\n",
        "print(model_baseline(torch_train_x[:1]).shape)\n",
        "model_baseline"
      ],
      "metadata": {
        "colab": {
          "base_uri": "https://localhost:8080/"
        },
        "id": "I0fEzqKaOHID",
        "outputId": "faf9dc79-cedb-4984-b93b-1b39c8649fb8"
      },
      "execution_count": 40,
      "outputs": [
        {
          "output_type": "stream",
          "name": "stdout",
          "text": [
            "torch.Size([1, 10])\n"
          ]
        },
        {
          "output_type": "execute_result",
          "data": {
            "text/plain": [
              "Model(\n",
              "  (backbone): Backbone(\n",
              "    (conv1): Conv2d(1, 16, kernel_size=(3, 3), stride=(1, 1))\n",
              "    (conv2): Conv2d(16, 16, kernel_size=(3, 3), stride=(1, 1))\n",
              "    (conv3): Conv2d(16, 32, kernel_size=(3, 3), stride=(1, 1))\n",
              "  )\n",
              "  (head): Head(\n",
              "    (fc1): Linear(in_features=32, out_features=32, bias=True)\n",
              "    (fc2): Linear(in_features=32, out_features=16, bias=True)\n",
              "    (fc3): Linear(in_features=16, out_features=10, bias=True)\n",
              "  )\n",
              ")"
            ]
          },
          "metadata": {},
          "execution_count": 40
        }
      ]
    },
    {
      "cell_type": "markdown",
      "source": [
        "# Training with Only Supervised Learning\n",
        "attempting to train a model using only supervised learning with the 200 labled\n",
        "training samples. Naturally, performance is very poor as a result of a lack of\n",
        "sufficient data."
      ],
      "metadata": {
        "id": "MxYvusmEJrue"
      }
    },
    {
      "cell_type": "code",
      "source": [
        "\"\"\"\n",
        "Training model using only supervised learning, and rendering the results\n",
        "\"\"\"\n",
        "\n",
        "def supervised_train(model):\n",
        "\n",
        "    #defining key hyperparamaters explicitly (instead of hyperparamater search)\n",
        "    batch_size = 64\n",
        "    lr = 0.001\n",
        "    momentum = 0.9\n",
        "    num_epochs = 20000\n",
        "\n",
        "    #defining a stocastic gradient descent optimizer\n",
        "    optimizer = torch.optim.SGD(model.parameters(), lr=lr, momentum=momentum)\n",
        "\n",
        "    #defining loss function\n",
        "    loss_fn = torch.nn.CrossEntropyLoss()\n",
        "\n",
        "    train_hist = []\n",
        "    test_hist = []\n",
        "    test_accuracy = []\n",
        "\n",
        "    for epoch in tqdm(range(num_epochs)):\n",
        "\n",
        "        #iterating over all batches\n",
        "        for i in range(int(len(train_x)/batch_size)-1):\n",
        "\n",
        "            #Put the model in training mode, so that things like dropout work\n",
        "            model.train(True)\n",
        "\n",
        "            # Zero gradients\n",
        "            optimizer.zero_grad()\n",
        "\n",
        "            #extracting X and y values from the batch\n",
        "            X = torch_train_x[i*batch_size: (i+1)*batch_size]\n",
        "            y = torch_train_y[i*batch_size: (i+1)*batch_size]\n",
        "\n",
        "            # Make predictions for this batch\n",
        "            y_pred = model(X)\n",
        "\n",
        "            #compute gradients\n",
        "            loss_fn(model(X), y).backward()\n",
        "\n",
        "            # Adjust learning weights\n",
        "            optimizer.step()\n",
        "\n",
        "        with torch.no_grad():\n",
        "\n",
        "            #Disable things like dropout\n",
        "            model.train(False)\n",
        "\n",
        "            #calculating epoch training and test loss\n",
        "            train_loss = loss_fn(model(torch_train_x), torch_train_y).cpu().numpy()\n",
        "            y_pred_test = model(torch_test_x)\n",
        "            test_loss = loss_fn(y_pred_test, torch_test_y).cpu().numpy()\n",
        "\n",
        "            train_hist.append(train_loss)\n",
        "            test_hist.append(test_loss)\n",
        "\n",
        "            #computing test accuracy\n",
        "            matches = np.equal(np.argmax(y_pred_test.cpu().numpy(), axis=1), np.argmax(torch_test_y.cpu().numpy(), axis=1))\n",
        "            test_accuracy.append(matches.sum()/len(matches))\n",
        "\n",
        "    import matplotlib.pyplot as plt\n",
        "    plt.plot(train_hist, label = 'train loss')\n",
        "    plt.plot(test_hist, label = 'test loss')\n",
        "    plt.legend()\n",
        "    plt.show()\n",
        "    plt.plot(test_accuracy, label = 'test accuracy')\n",
        "    plt.legend()\n",
        "    plt.show()\n",
        "\n",
        "    maxacc = max(test_accuracy)\n",
        "    print('max accuracy: {}'.format(maxacc))\n",
        "\n",
        "    return maxacc\n",
        "\n",
        "supervised_maxacc = supervised_train(model_baseline)\n"
      ],
      "metadata": {
        "colab": {
          "base_uri": "https://localhost:8080/",
          "height": 880
        },
        "id": "XpDWuQ-XZm92",
        "outputId": "e96a3506-0c9a-45c1-9820-94dadc6ece11"
      },
      "execution_count": 42,
      "outputs": [
        {
          "output_type": "stream",
          "name": "stderr",
          "text": [
            "100%|██████████| 20000/20000 [14:13<00:00, 23.45it/s]\n"
          ]
        },
        {
          "output_type": "display_data",
          "data": {
            "text/plain": [
              "<Figure size 640x480 with 1 Axes>"
            ],
            "image/png": "[encoded data removed]"
          },
          "metadata": {}
        },
        {
          "output_type": "display_data",
          "data": {
            "text/plain": [
              "<Figure size 640x480 with 1 Axes>"
            ],
            "image/png": "[encoded data removed]"
          },
          "metadata": {}
        },
        {
          "output_type": "stream",
          "name": "stdout",
          "text": [
            "max accuracy: 0.5249\n"
          ]
        }
      ]
    },
    {
      "cell_type": "markdown",
      "source": [
        "# Defining Augmentation\n",
        "Augmentations are a crucial part of contrastive self supervision. This function takes a tensor and produces augmentations which morph the images of numbers such they are signifficantly changed, but still recognizable as the original number.\n",
        "\n",
        "A reference I used:\n",
        "https://theaisummer.com/simclr/\n"
      ],
      "metadata": {
        "id": "SI27qCBQ9HZf"
      }
    },
    {
      "cell_type": "code",
      "source": [
        "import torch\n",
        "import torchvision.transforms as T\n",
        "\n",
        "class Augment:\n",
        "   \"\"\"\n",
        "   A stochastic data augmentation module\n",
        "   Transforms any given data example randomly\n",
        "   resulting in two correlated views of the same example,\n",
        "   denoted x ̃i and x ̃j, which we consider as a positive pair.\n",
        "   \"\"\"\n",
        "\n",
        "   def __init__(self):\n",
        "\n",
        "       blur = T.GaussianBlur((3, 3), (0.1, 2.0))\n",
        "\n",
        "       self.train_transform = torch.nn.Sequential(\n",
        "           T.RandomAffine(degrees = (-50,50), translate = (0.1,0.1), scale=(0.5,1.5), shear=0.2),\n",
        "           T.RandomPerspective(0.4,0.5),\n",
        "           T.RandomPerspective(0.2,0.5),\n",
        "           T.RandomPerspective(0.2,0.5),\n",
        "           T.RandomApply([blur], p=0.25),\n",
        "           T.RandomApply([blur], p=0.25)\n",
        "       )\n",
        "\n",
        "   def __call__(self, x):\n",
        "       return self.train_transform(x), self.train_transform(x)\n",
        "\n",
        "a = Augment()\n",
        "\n",
        "i = 2\n",
        "plt.imshow(torch_train_unlabled.cpu().detach().numpy()[i,0])\n",
        "plt.show()\n",
        "\n",
        "aug = a(torch_train_unlabled[0:100])\n",
        "\n",
        "plt.imshow(aug[0].cpu().detach().numpy()[i,0])\n",
        "plt.show()\n",
        "plt.imshow(aug[0].cpu().detach().numpy()[i+1,0])\n",
        "plt.show()"
      ],
      "metadata": {
        "colab": {
          "base_uri": "https://localhost:8080/",
          "height": 1000
        },
        "id": "16YFOFSPWK01",
        "outputId": "367988d6-988e-4cb8-9376-181b03124f7e"
      },
      "execution_count": 31,
      "outputs": [
        {
          "output_type": "display_data",
          "data": {
            "text/plain": [
              "<Figure size 640x480 with 1 Axes>"
            ],
            "image/png": "[encoded data removed]"
          },
          "metadata": {}
        },
        {
          "output_type": "display_data",
          "data": {
            "text/plain": [
              "<Figure size 640x480 with 1 Axes>"
            ],
            "image/png": "[encoded data removed]"
          },
          "metadata": {}
        },
        {
          "output_type": "display_data",
          "data": {
            "text/plain": [
              "<Figure size 640x480 with 1 Axes>"
            ],
            "image/png": "[encoded data removed]"
          },
          "metadata": {}
        }
      ]
    },
    {
      "cell_type": "markdown",
      "source": [
        "# Defining Contrastive Loss\n",
        "Contrastiv loss is the loss function which defines how the model should seperate different examples. In essence, Contrastive loss punishes when similar examples are far apart, and when differnt examples are close together.\n",
        "\n",
        "<iframe src=\"https://giphy.com/embed/8SZhj0qY3XlHcr1150\" width=\"432\" height=\"480\" frameBorder=\"0\" class=\"giphy-embed\" allowFullScreen></iframe><p><a href=\"https://giphy.com/gifs/simclr-8SZhj0qY3XlHcr1150\">A Visual Demonstration of Contrastive Loss</a></p>\n",
        "\n",
        "A reference I used:\n",
        "https://theaisummer.com/simclr/"
      ],
      "metadata": {
        "id": "n22VuhGjKh-3"
      }
    },
    {
      "cell_type": "code",
      "source": [
        "class ContrastiveLoss(nn.Module):\n",
        "   \"\"\"\n",
        "   Vanilla Contrastive loss, also called InfoNceLoss as in SimCLR paper\n",
        "   \"\"\"\n",
        "   def __init__(self, batch_size, temperature=0.5):\n",
        "       \"\"\"\n",
        "       Defining certain constants used between calculations. The mask is important\n",
        "       in understanding which are positive and negative examples. For more\n",
        "       information see https://theaisummer.com/simclr/\n",
        "       \"\"\"\n",
        "       super().__init__()\n",
        "       self.batch_size = batch_size\n",
        "       self.temperature = temperature\n",
        "       self.mask = (~torch.eye(batch_size * 2, batch_size * 2, dtype=bool)).float().to(device)\n",
        "\n",
        "   def calc_similarity_batch(self, a, b):\n",
        "       \"\"\"\n",
        "       Defines the cosin similarity between one example, and all other examples.\n",
        "       For more information see https://theaisummer.com/simclr/\n",
        "       \"\"\"\n",
        "       representations = torch.cat([a, b], dim=0)\n",
        "       return F.cosine_similarity(representations.unsqueeze(1), representations.unsqueeze(0), dim=2)\n",
        "\n",
        "   def forward(self, proj_1, proj_2):\n",
        "       \"\"\"\n",
        "       The actual loss function, where proj_1 and proj_2 are embeddings from the\n",
        "       projection head. This function calculates the cosin similarity between\n",
        "       all vectors, and rewards closeness between examples which come from the\n",
        "       same example, and farness for examples which do not. For more information\n",
        "       see https://theaisummer.com/simclr/\n",
        "       \"\"\"\n",
        "       batch_size = proj_1.shape[0]\n",
        "       z_i = F.normalize(proj_1, p=2, dim=1)\n",
        "       z_j = F.normalize(proj_2, p=2, dim=1)\n",
        "\n",
        "       similarity_matrix = self.calc_similarity_batch(z_i, z_j)\n",
        "\n",
        "       sim_ij = torch.diag(similarity_matrix, batch_size)\n",
        "       sim_ji = torch.diag(similarity_matrix, -batch_size)\n",
        "\n",
        "       positives = torch.cat([sim_ij, sim_ji], dim=0)\n",
        "\n",
        "       nominator = torch.exp(positives / self.temperature)\n",
        "\n",
        "       denominator = self.mask * torch.exp(similarity_matrix / self.temperature)\n",
        "\n",
        "       all_losses = -torch.log(nominator / torch.sum(denominator, dim=1))\n",
        "       loss = torch.sum(all_losses) / (2 * self.batch_size)\n",
        "       return loss"
      ],
      "metadata": {
        "id": "wvTMpmzZ9HAQ",
        "colab": {
          "base_uri": "https://localhost:8080/",
          "height": 241
        },
        "outputId": "65abcb2a-dbbc-414f-f856-4a32b68dc6f8"
      },
      "execution_count": 3,
      "outputs": [
        {
          "output_type": "error",
          "ename": "NameError",
          "evalue": "ignored",
          "traceback": [
            "\u001b[0;31m---------------------------------------------------------------------------\u001b[0m",
            "\u001b[0;31mNameError\u001b[0m                                 Traceback (most recent call last)",
            "\u001b[0;32m<ipython-input-3-4c45096fbe55>\u001b[0m in \u001b[0;36m<cell line: 1>\u001b[0;34m()\u001b[0m\n\u001b[0;32m----> 1\u001b[0;31m \u001b[0;32mclass\u001b[0m \u001b[0mContrastiveLoss\u001b[0m\u001b[0;34m(\u001b[0m\u001b[0mnn\u001b[0m\u001b[0;34m.\u001b[0m\u001b[0mModule\u001b[0m\u001b[0;34m)\u001b[0m\u001b[0;34m:\u001b[0m\u001b[0;34m\u001b[0m\u001b[0;34m\u001b[0m\u001b[0m\n\u001b[0m\u001b[1;32m      2\u001b[0m    \"\"\"\n\u001b[1;32m      3\u001b[0m    \u001b[0mVanilla\u001b[0m \u001b[0mContrastive\u001b[0m \u001b[0mloss\u001b[0m\u001b[0;34m,\u001b[0m \u001b[0malso\u001b[0m \u001b[0mcalled\u001b[0m \u001b[0mInfoNceLoss\u001b[0m \u001b[0;32mas\u001b[0m \u001b[0;32min\u001b[0m \u001b[0mSimCLR\u001b[0m \u001b[0mpaper\u001b[0m\u001b[0;34m\u001b[0m\u001b[0;34m\u001b[0m\u001b[0m\n\u001b[1;32m      4\u001b[0m    \"\"\"\n\u001b[1;32m      5\u001b[0m    \u001b[0;32mdef\u001b[0m \u001b[0m__init__\u001b[0m\u001b[0;34m(\u001b[0m\u001b[0mself\u001b[0m\u001b[0;34m,\u001b[0m \u001b[0mbatch_size\u001b[0m\u001b[0;34m,\u001b[0m \u001b[0mtemperature\u001b[0m\u001b[0;34m=\u001b[0m\u001b[0;36m0.5\u001b[0m\u001b[0;34m)\u001b[0m\u001b[0;34m:\u001b[0m\u001b[0;34m\u001b[0m\u001b[0;34m\u001b[0m\u001b[0m\n",
            "\u001b[0;31mNameError\u001b[0m: name 'nn' is not defined"
          ]
        }
      ]
    },
    {
      "cell_type": "code",
      "source": [
        "\"\"\"\n",
        "testing the loss function on fake data, to see if it works effectively\n",
        "\"\"\"\n",
        "loss = ContrastiveLoss(torch_train_x.shape[0]).forward\n",
        "fake_proj_0, fake_proj_1 = a(torch_train_x)\n",
        "fake_proj_0 = fake_proj_0[:,0,:,0]\n",
        "fake_proj_1 = fake_proj_1[:,0,:,0]\n",
        "loss(fake_proj_0, fake_proj_1)"
      ],
      "metadata": {
        "colab": {
          "base_uri": "https://localhost:8080/"
        },
        "id": "k9CHfs2jRDPR",
        "outputId": "b7740cc6-c9fa-48e2-f894-62b2fb6a3c63"
      },
      "execution_count": 33,
      "outputs": [
        {
          "output_type": "execute_result",
          "data": {
            "text/plain": [
              "tensor(6.1486, device='cuda:0', grad_fn=<DivBackward0>)"
            ]
          },
          "metadata": {},
          "execution_count": 33
        }
      ]
    },
    {
      "cell_type": "markdown",
      "source": [
        "# Self Supervised Training\n",
        "\n",
        "Pairing augmentations, and the contrastive loss function, to train a model to be able to distinguish between similar and different images of charecters. This model will then serve as an initialization for further model fine tuning via supervised learning.\n",
        "\n",
        "\n",
        "**Useful References:**\n",
        "\n",
        "General: https://theaisummer.com/simclr/\n",
        "\n",
        "PyTorch Schedulers: https://towardsdatascience.com/a-visual-guide-to-learning-rate-schedulers-in-pytorch-24bbb262c863#eec7"
      ],
      "metadata": {
        "id": "qV69j8yDhe2x"
      }
    },
    {
      "cell_type": "code",
      "source": [
        "from torch.optim.lr_scheduler import ExponentialLR\n",
        "\n",
        "model = Model()\n",
        "model.train()\n",
        "\n",
        "batch_size = 512\n",
        "epoch_size = round(torch_train_unlabled.shape[0]/batch_size)-1\n",
        "num_epochs = 100\n",
        "patience = 5\n",
        "cutoff_ratio = 0.001\n",
        "\n",
        "optimizer = torch.optim.Adam(model.parameters(), lr=1e-3)\n",
        "num_examples = train_unlabled.shape[0]\n",
        "lossfn = ContrastiveLoss(batch_size).forward\n",
        "augmentfn = Augment() #augment function\n",
        "\n",
        "loss_hist = []\n",
        "improvement_hist = []\n",
        "schedule_hist = []\n",
        "\n",
        "scheduler = ExponentialLR(optimizer,\n",
        "                          gamma = 0.95)\n",
        "\n",
        "patience_count=0\n",
        "avg_loss = 1e10\n",
        "for i in range(num_epochs):\n",
        "\n",
        "    print('epoch {}/{}'.format(i,num_epochs))\n",
        "\n",
        "    total_loss = 0\n",
        "    loss_change = 0\n",
        "\n",
        "    for j in tqdm(range(epoch_size)):\n",
        "\n",
        "        #getting random batch\n",
        "        X = torch_train_unlabled[j*batch_size: (j+1)*batch_size]\n",
        "\n",
        "        #creating pairs of augmented batches\n",
        "        X_aug_i, X_aug_j = augmentfn(X)\n",
        "\n",
        "        #ensuring gradients are zero\n",
        "        optimizer.zero_grad()\n",
        "\n",
        "        #passing through the model\n",
        "        z_i = model(X_aug_i)\n",
        "        z_j = model(X_aug_j)\n",
        "\n",
        "        #calculating loss on the model embeddings, and computing gradients\n",
        "        loss = lossfn(z_i, z_j)\n",
        "        loss.backward()\n",
        "\n",
        "        # Adjust learning weights\n",
        "        optimizer.step()\n",
        "\n",
        "        #checking to see if backpropegation resulted in a reduction of the loss function\n",
        "        if True:\n",
        "            #passing through the model, now that parameters have been updated\n",
        "            z_i = model(X_aug_i)\n",
        "            z_j = model(X_aug_j)\n",
        "\n",
        "            #calculating new loss value\n",
        "            new_loss = lossfn(z_i, z_j)\n",
        "\n",
        "            loss_change += new_loss.cpu().detach().numpy() - loss.cpu().detach().numpy()\n",
        "\n",
        "        total_loss += loss.cpu().detach().numpy()\n",
        "\n",
        "        #step learning rate scheduler\n",
        "        schedule_hist.append(scheduler.get_last_lr())\n",
        "\n",
        "    scheduler.step()\n",
        "\n",
        "    #calculating percentage loss reduction\n",
        "    new_avg_loss = total_loss/epoch_size\n",
        "    per_loss_reduction = (avg_loss-new_avg_loss)/avg_loss\n",
        "    print('Percentage Loss Reduction: {}'.format(per_loss_reduction))\n",
        "\n",
        "    #deciding to stop if loss is not decreasing fast enough\n",
        "    if per_loss_reduction < cutoff_ratio:\n",
        "        patience_count+=1\n",
        "        print('patience counter: {}'.format(patience_count))\n",
        "        if patience_count > patience:\n",
        "            break\n",
        "    else:\n",
        "        patience_count = 0\n",
        "\n",
        "    #setting new loss as previous loss\n",
        "    avg_loss = new_avg_loss\n",
        "\n",
        "    #book keeping\n",
        "    avg_improvement = loss_change/epoch_size\n",
        "    loss_hist.append(avg_loss)\n",
        "    improvement_hist.append(avg_improvement)\n",
        "    print('Average Loss: {}'.format(avg_loss))\n",
        "    print('Average Loss change (if calculated): {}'.format(avg_improvement))\n"
      ],
      "metadata": {
        "colab": {
          "base_uri": "https://localhost:8080/"
        },
        "id": "0GhOjL4Lh-qx",
        "outputId": "3e161386-1306-47dd-ac0b-7d7a4e720d26"
      },
      "execution_count": 34,
      "outputs": [
        {
          "output_type": "stream",
          "name": "stdout",
          "text": [
            "epoch 0/100\n"
          ]
        },
        {
          "output_type": "stream",
          "name": "stderr",
          "text": [
            "100%|██████████| 116/116 [00:27<00:00,  4.27it/s]\n"
          ]
        },
        {
          "output_type": "stream",
          "name": "stdout",
          "text": [
            "Percentage Loss Reduction: 0.9999999993151959\n",
            "Average Loss: 6.848041291894583\n",
            "Average Loss change (if calculated): -0.01992147133268159\n",
            "epoch 1/100\n"
          ]
        },
        {
          "output_type": "stream",
          "name": "stderr",
          "text": [
            "100%|██████████| 116/116 [00:25<00:00,  4.54it/s]\n"
          ]
        },
        {
          "output_type": "stream",
          "name": "stdout",
          "text": [
            "Percentage Loss Reduction: 0.02761450766361156\n",
            "Average Loss: 6.658936003158832\n",
            "Average Loss change (if calculated): -0.025475666440766435\n",
            "epoch 2/100\n"
          ]
        },
        {
          "output_type": "stream",
          "name": "stderr",
          "text": [
            "100%|██████████| 116/116 [00:25<00:00,  4.54it/s]\n"
          ]
        },
        {
          "output_type": "stream",
          "name": "stdout",
          "text": [
            "Percentage Loss Reduction: 0.02182705715330352\n",
            "Average Loss: 6.513591026437694\n",
            "Average Loss change (if calculated): -0.020024377724220013\n",
            "epoch 3/100\n"
          ]
        },
        {
          "output_type": "stream",
          "name": "stderr",
          "text": [
            "100%|██████████| 116/116 [00:26<00:00,  4.38it/s]\n"
          ]
        },
        {
          "output_type": "stream",
          "name": "stdout",
          "text": [
            "Percentage Loss Reduction: 0.00788365712569554\n",
            "Average Loss: 6.462240108128252\n",
            "Average Loss change (if calculated): -0.019849218171218347\n",
            "epoch 4/100\n"
          ]
        },
        {
          "output_type": "stream",
          "name": "stderr",
          "text": [
            "100%|██████████| 116/116 [00:25<00:00,  4.48it/s]\n"
          ]
        },
        {
          "output_type": "stream",
          "name": "stdout",
          "text": [
            "Percentage Loss Reduction: 0.008046210388291142\n",
            "Average Loss: 6.4102435646385985\n",
            "Average Loss change (if calculated): -0.01674765965034222\n",
            "epoch 5/100\n"
          ]
        },
        {
          "output_type": "stream",
          "name": "stderr",
          "text": [
            "100%|██████████| 116/116 [00:25<00:00,  4.48it/s]\n"
          ]
        },
        {
          "output_type": "stream",
          "name": "stdout",
          "text": [
            "Percentage Loss Reduction: 0.0037767664200002295\n",
            "Average Loss: 6.386033571999649\n",
            "Average Loss change (if calculated): -0.015815582768670445\n",
            "epoch 6/100\n"
          ]
        },
        {
          "output_type": "stream",
          "name": "stderr",
          "text": [
            "100%|██████████| 116/116 [00:26<00:00,  4.45it/s]\n"
          ]
        },
        {
          "output_type": "stream",
          "name": "stdout",
          "text": [
            "Percentage Loss Reduction: 0.0005590571778010578\n",
            "patience counter: 1\n",
            "Average Loss: 6.382463414093544\n",
            "Average Loss change (if calculated): -0.016948510860574657\n",
            "epoch 7/100\n"
          ]
        },
        {
          "output_type": "stream",
          "name": "stderr",
          "text": [
            "100%|██████████| 116/116 [00:26<00:00,  4.41it/s]\n"
          ]
        },
        {
          "output_type": "stream",
          "name": "stdout",
          "text": [
            "Percentage Loss Reduction: 0.006255775227826797\n",
            "Average Loss: 6.342536157575147\n",
            "Average Loss change (if calculated): -0.012253827062146417\n",
            "epoch 8/100\n"
          ]
        },
        {
          "output_type": "stream",
          "name": "stderr",
          "text": [
            "100%|██████████| 116/116 [00:25<00:00,  4.47it/s]\n"
          ]
        },
        {
          "output_type": "stream",
          "name": "stdout",
          "text": [
            "Percentage Loss Reduction: 0.0036662154073206325\n",
            "Average Loss: 6.3192830537927565\n",
            "Average Loss change (if calculated): -0.011606475402568948\n",
            "epoch 9/100\n"
          ]
        },
        {
          "output_type": "stream",
          "name": "stderr",
          "text": [
            "100%|██████████| 116/116 [00:26<00:00,  4.45it/s]\n"
          ]
        },
        {
          "output_type": "stream",
          "name": "stdout",
          "text": [
            "Percentage Loss Reduction: 0.0037872264024975274\n",
            "Average Loss: 6.295350498166577\n",
            "Average Loss change (if calculated): -0.011138093882593614\n",
            "epoch 10/100\n"
          ]
        },
        {
          "output_type": "stream",
          "name": "stderr",
          "text": [
            "100%|██████████| 116/116 [00:25<00:00,  4.50it/s]\n"
          ]
        },
        {
          "output_type": "stream",
          "name": "stdout",
          "text": [
            "Percentage Loss Reduction: -0.0023387918897786767\n",
            "patience counter: 1\n",
            "Average Loss: 6.3100740128550035\n",
            "Average Loss change (if calculated): -0.012399833777855182\n",
            "epoch 11/100\n"
          ]
        },
        {
          "output_type": "stream",
          "name": "stderr",
          "text": [
            "100%|██████████| 116/116 [00:25<00:00,  4.51it/s]\n"
          ]
        },
        {
          "output_type": "stream",
          "name": "stdout",
          "text": [
            "Percentage Loss Reduction: 0.005331512517209969\n",
            "Average Loss: 6.276431774270946\n",
            "Average Loss change (if calculated): -0.010326529371327367\n",
            "epoch 12/100\n"
          ]
        },
        {
          "output_type": "stream",
          "name": "stderr",
          "text": [
            "100%|██████████| 116/116 [00:25<00:00,  4.47it/s]\n"
          ]
        },
        {
          "output_type": "stream",
          "name": "stdout",
          "text": [
            "Percentage Loss Reduction: -0.002182862570463071\n",
            "patience counter: 1\n",
            "Average Loss: 6.290132362267067\n",
            "Average Loss change (if calculated): -0.01054087178460483\n",
            "epoch 13/100\n"
          ]
        },
        {
          "output_type": "stream",
          "name": "stderr",
          "text": [
            "100%|██████████| 116/116 [00:26<00:00,  4.45it/s]\n"
          ]
        },
        {
          "output_type": "stream",
          "name": "stdout",
          "text": [
            "Percentage Loss Reduction: 0.0025214766543459302\n",
            "Average Loss: 6.274271940362865\n",
            "Average Loss change (if calculated): -0.01020263803416285\n",
            "epoch 14/100\n"
          ]
        },
        {
          "output_type": "stream",
          "name": "stderr",
          "text": [
            "100%|██████████| 116/116 [00:26<00:00,  4.45it/s]\n"
          ]
        },
        {
          "output_type": "stream",
          "name": "stdout",
          "text": [
            "Percentage Loss Reduction: 0.001710597440703886\n",
            "Average Loss: 6.2635391868394\n",
            "Average Loss change (if calculated): -0.010184752530065077\n",
            "epoch 15/100\n"
          ]
        },
        {
          "output_type": "stream",
          "name": "stderr",
          "text": [
            "100%|██████████| 116/116 [00:26<00:00,  4.46it/s]\n"
          ]
        },
        {
          "output_type": "stream",
          "name": "stdout",
          "text": [
            "Percentage Loss Reduction: 0.004075421231451637\n",
            "Average Loss: 6.238012626253325\n",
            "Average Loss change (if calculated): -0.008724278417126885\n",
            "epoch 16/100\n"
          ]
        },
        {
          "output_type": "stream",
          "name": "stderr",
          "text": [
            "100%|██████████| 116/116 [00:25<00:00,  4.47it/s]\n"
          ]
        },
        {
          "output_type": "stream",
          "name": "stdout",
          "text": [
            "Percentage Loss Reduction: -0.002272293077185555\n",
            "patience counter: 1\n",
            "Average Loss: 6.252187219159357\n",
            "Average Loss change (if calculated): -0.008212295071832064\n",
            "epoch 17/100\n"
          ]
        },
        {
          "output_type": "stream",
          "name": "stderr",
          "text": [
            "100%|██████████| 116/116 [00:25<00:00,  4.48it/s]\n"
          ]
        },
        {
          "output_type": "stream",
          "name": "stdout",
          "text": [
            "Percentage Loss Reduction: 0.0013656145150851547\n",
            "Average Loss: 6.243649141541843\n",
            "Average Loss change (if calculated): -0.008183462866421404\n",
            "epoch 18/100\n"
          ]
        },
        {
          "output_type": "stream",
          "name": "stderr",
          "text": [
            "100%|██████████| 116/116 [00:26<00:00,  4.45it/s]\n"
          ]
        },
        {
          "output_type": "stream",
          "name": "stdout",
          "text": [
            "Percentage Loss Reduction: 0.004252847162136745\n",
            "Average Loss: 6.217095856008859\n",
            "Average Loss change (if calculated): -0.007589093570051522\n",
            "epoch 19/100\n"
          ]
        },
        {
          "output_type": "stream",
          "name": "stderr",
          "text": [
            "100%|██████████| 116/116 [00:25<00:00,  4.49it/s]\n"
          ]
        },
        {
          "output_type": "stream",
          "name": "stdout",
          "text": [
            "Percentage Loss Reduction: 0.001597395587245353\n",
            "Average Loss: 6.207164694522989\n",
            "Average Loss change (if calculated): -0.0067755682715054215\n",
            "epoch 20/100\n"
          ]
        },
        {
          "output_type": "stream",
          "name": "stderr",
          "text": [
            "100%|██████████| 116/116 [00:25<00:00,  4.48it/s]\n"
          ]
        },
        {
          "output_type": "stream",
          "name": "stdout",
          "text": [
            "Percentage Loss Reduction: -3.326060399582363e-05\n",
            "patience counter: 1\n",
            "Average Loss: 6.20737114856983\n",
            "Average Loss change (if calculated): -0.005731401772334658\n",
            "epoch 21/100\n"
          ]
        },
        {
          "output_type": "stream",
          "name": "stderr",
          "text": [
            "100%|██████████| 116/116 [00:25<00:00,  4.52it/s]\n"
          ]
        },
        {
          "output_type": "stream",
          "name": "stdout",
          "text": [
            "Percentage Loss Reduction: 0.0024564460853848807\n",
            "Average Loss: 6.192123076011395\n",
            "Average Loss change (if calculated): -0.005882633143457873\n",
            "epoch 22/100\n"
          ]
        },
        {
          "output_type": "stream",
          "name": "stderr",
          "text": [
            "100%|██████████| 116/116 [00:25<00:00,  4.47it/s]\n"
          ]
        },
        {
          "output_type": "stream",
          "name": "stdout",
          "text": [
            "Percentage Loss Reduction: -0.002820739190953576\n",
            "patience counter: 1\n",
            "Average Loss: 6.209589440247108\n",
            "Average Loss change (if calculated): -0.006083077397839776\n",
            "epoch 23/100\n"
          ]
        },
        {
          "output_type": "stream",
          "name": "stderr",
          "text": [
            "100%|██████████| 116/116 [00:26<00:00,  4.45it/s]\n"
          ]
        },
        {
          "output_type": "stream",
          "name": "stdout",
          "text": [
            "Percentage Loss Reduction: 0.0037994676009638338\n",
            "Average Loss: 6.185996306353602\n",
            "Average Loss change (if calculated): -0.006368147915807264\n",
            "epoch 24/100\n"
          ]
        },
        {
          "output_type": "stream",
          "name": "stderr",
          "text": [
            "100%|██████████| 116/116 [00:25<00:00,  4.50it/s]\n"
          ]
        },
        {
          "output_type": "stream",
          "name": "stdout",
          "text": [
            "Percentage Loss Reduction: -0.00138558803457343\n",
            "patience counter: 1\n",
            "Average Loss: 6.194567548817601\n",
            "Average Loss change (if calculated): -0.0050496561773892105\n",
            "epoch 25/100\n"
          ]
        },
        {
          "output_type": "stream",
          "name": "stderr",
          "text": [
            "100%|██████████| 116/116 [00:25<00:00,  4.47it/s]\n"
          ]
        },
        {
          "output_type": "stream",
          "name": "stdout",
          "text": [
            "Percentage Loss Reduction: 0.001739002427318402\n",
            "Average Loss: 6.18379518081402\n",
            "Average Loss change (if calculated): -0.0050808479045999465\n",
            "epoch 26/100\n"
          ]
        },
        {
          "output_type": "stream",
          "name": "stderr",
          "text": [
            "100%|██████████| 116/116 [00:25<00:00,  4.49it/s]\n"
          ]
        },
        {
          "output_type": "stream",
          "name": "stdout",
          "text": [
            "Percentage Loss Reduction: -0.0008140722737288555\n",
            "patience counter: 1\n",
            "Average Loss: 6.1888292370171385\n",
            "Average Loss change (if calculated): -0.005540888884971882\n",
            "epoch 27/100\n"
          ]
        },
        {
          "output_type": "stream",
          "name": "stderr",
          "text": [
            "100%|██████████| 116/116 [00:25<00:00,  4.50it/s]\n"
          ]
        },
        {
          "output_type": "stream",
          "name": "stdout",
          "text": [
            "Percentage Loss Reduction: -0.0012436642841019805\n",
            "patience counter: 2\n",
            "Average Loss: 6.196526062899623\n",
            "Average Loss change (if calculated): -0.0050919549218539535\n",
            "epoch 28/100\n"
          ]
        },
        {
          "output_type": "stream",
          "name": "stderr",
          "text": [
            "100%|██████████| 116/116 [00:25<00:00,  4.52it/s]\n"
          ]
        },
        {
          "output_type": "stream",
          "name": "stdout",
          "text": [
            "Percentage Loss Reduction: 0.002822281998782418\n",
            "Average Loss: 6.179037718937315\n",
            "Average Loss change (if calculated): -0.003972867439533102\n",
            "epoch 29/100\n"
          ]
        },
        {
          "output_type": "stream",
          "name": "stderr",
          "text": [
            "100%|██████████| 116/116 [00:25<00:00,  4.51it/s]\n"
          ]
        },
        {
          "output_type": "stream",
          "name": "stdout",
          "text": [
            "Percentage Loss Reduction: -0.001992552773553289\n",
            "patience counter: 1\n",
            "Average Loss: 6.191349777682074\n",
            "Average Loss change (if calculated): -0.005119693690332873\n",
            "epoch 30/100\n"
          ]
        },
        {
          "output_type": "stream",
          "name": "stderr",
          "text": [
            "100%|██████████| 116/116 [00:25<00:00,  4.47it/s]\n"
          ]
        },
        {
          "output_type": "stream",
          "name": "stdout",
          "text": [
            "Percentage Loss Reduction: 0.0022358185685367408\n",
            "Average Loss: 6.177507042884827\n",
            "Average Loss change (if calculated): -0.004085248914258233\n",
            "epoch 31/100\n"
          ]
        },
        {
          "output_type": "stream",
          "name": "stderr",
          "text": [
            "100%|██████████| 116/116 [00:25<00:00,  4.48it/s]\n"
          ]
        },
        {
          "output_type": "stream",
          "name": "stdout",
          "text": [
            "Percentage Loss Reduction: -0.0006532939101641356\n",
            "patience counter: 1\n",
            "Average Loss: 6.181542770615939\n",
            "Average Loss change (if calculated): -0.004740028545774263\n",
            "epoch 32/100\n"
          ]
        },
        {
          "output_type": "stream",
          "name": "stderr",
          "text": [
            "100%|██████████| 116/116 [00:25<00:00,  4.50it/s]\n"
          ]
        },
        {
          "output_type": "stream",
          "name": "stdout",
          "text": [
            "Percentage Loss Reduction: -0.000784128474876562\n",
            "patience counter: 2\n",
            "Average Loss: 6.186389894321047\n",
            "Average Loss change (if calculated): -0.003937930896364409\n",
            "epoch 33/100\n"
          ]
        },
        {
          "output_type": "stream",
          "name": "stderr",
          "text": [
            "100%|██████████| 116/116 [00:25<00:00,  4.48it/s]\n"
          ]
        },
        {
          "output_type": "stream",
          "name": "stdout",
          "text": [
            "Percentage Loss Reduction: 0.003949966024131481\n",
            "Average Loss: 6.161953864426448\n",
            "Average Loss change (if calculated): -0.003628406031378384\n",
            "epoch 34/100\n"
          ]
        },
        {
          "output_type": "stream",
          "name": "stderr",
          "text": [
            "100%|██████████| 116/116 [00:25<00:00,  4.48it/s]\n"
          ]
        },
        {
          "output_type": "stream",
          "name": "stdout",
          "text": [
            "Percentage Loss Reduction: -0.0016945526785947618\n",
            "patience counter: 1\n",
            "Average Loss: 6.172395619852789\n",
            "Average Loss change (if calculated): -0.003912605088332604\n",
            "epoch 35/100\n"
          ]
        },
        {
          "output_type": "stream",
          "name": "stderr",
          "text": [
            "100%|██████████| 116/116 [00:25<00:00,  4.51it/s]\n"
          ]
        },
        {
          "output_type": "stream",
          "name": "stdout",
          "text": [
            "Percentage Loss Reduction: -0.0004375533247947622\n",
            "patience counter: 2\n",
            "Average Loss: 6.175096372078205\n",
            "Average Loss change (if calculated): -0.003349102776626061\n",
            "epoch 36/100\n"
          ]
        },
        {
          "output_type": "stream",
          "name": "stderr",
          "text": [
            "100%|██████████| 116/116 [00:25<00:00,  4.51it/s]\n"
          ]
        },
        {
          "output_type": "stream",
          "name": "stdout",
          "text": [
            "Percentage Loss Reduction: 0.0012742610150902104\n",
            "Average Loss: 6.16722768750684\n",
            "Average Loss change (if calculated): -0.002994746997438628\n",
            "epoch 37/100\n"
          ]
        },
        {
          "output_type": "stream",
          "name": "stderr",
          "text": [
            "100%|██████████| 116/116 [00:25<00:00,  4.52it/s]\n"
          ]
        },
        {
          "output_type": "stream",
          "name": "stdout",
          "text": [
            "Percentage Loss Reduction: 0.0019300190126741103\n",
            "Average Loss: 6.155324820814462\n",
            "Average Loss change (if calculated): -0.0032668442561708646\n",
            "epoch 38/100\n"
          ]
        },
        {
          "output_type": "stream",
          "name": "stderr",
          "text": [
            "100%|██████████| 116/116 [00:25<00:00,  4.49it/s]\n"
          ]
        },
        {
          "output_type": "stream",
          "name": "stdout",
          "text": [
            "Percentage Loss Reduction: -4.092951281547135e-05\n",
            "patience counter: 1\n",
            "Average Loss: 6.155576755260599\n",
            "Average Loss change (if calculated): -0.0025728529897229425\n",
            "epoch 39/100\n"
          ]
        },
        {
          "output_type": "stream",
          "name": "stderr",
          "text": [
            "100%|██████████| 116/116 [00:25<00:00,  4.48it/s]\n"
          ]
        },
        {
          "output_type": "stream",
          "name": "stdout",
          "text": [
            "Percentage Loss Reduction: 6.54566264114429e-05\n",
            "patience counter: 2\n",
            "Average Loss: 6.155173831972583\n",
            "Average Loss change (if calculated): -0.0026212560719457165\n",
            "epoch 40/100\n"
          ]
        },
        {
          "output_type": "stream",
          "name": "stderr",
          "text": [
            "100%|██████████| 116/116 [00:25<00:00,  4.51it/s]\n"
          ]
        },
        {
          "output_type": "stream",
          "name": "stdout",
          "text": [
            "Percentage Loss Reduction: 0.000517431642151756\n",
            "patience counter: 3\n",
            "Average Loss: 6.151988950268976\n",
            "Average Loss change (if calculated): -0.0026378138311978043\n",
            "epoch 41/100\n"
          ]
        },
        {
          "output_type": "stream",
          "name": "stderr",
          "text": [
            "100%|██████████| 116/116 [00:25<00:00,  4.51it/s]\n"
          ]
        },
        {
          "output_type": "stream",
          "name": "stdout",
          "text": [
            "Percentage Loss Reduction: -0.0026367418561416066\n",
            "patience counter: 4\n",
            "Average Loss: 6.168210157032671\n",
            "Average Loss change (if calculated): -0.0034151159483810953\n",
            "epoch 42/100\n"
          ]
        },
        {
          "output_type": "stream",
          "name": "stderr",
          "text": [
            "100%|██████████| 116/116 [00:25<00:00,  4.51it/s]\n"
          ]
        },
        {
          "output_type": "stream",
          "name": "stdout",
          "text": [
            "Percentage Loss Reduction: 0.0006359691412457083\n",
            "patience counter: 5\n",
            "Average Loss: 6.1642873657160795\n",
            "Average Loss change (if calculated): -0.0024158050274026804\n",
            "epoch 43/100\n"
          ]
        },
        {
          "output_type": "stream",
          "name": "stderr",
          "text": [
            "100%|██████████| 116/116 [00:25<00:00,  4.50it/s]\n"
          ]
        },
        {
          "output_type": "stream",
          "name": "stdout",
          "text": [
            "Percentage Loss Reduction: 0.0031194906405234515\n",
            "Average Loss: 6.145057928973231\n",
            "Average Loss change (if calculated): -0.002062086401314571\n",
            "epoch 44/100\n"
          ]
        },
        {
          "output_type": "stream",
          "name": "stderr",
          "text": [
            "100%|██████████| 116/116 [00:25<00:00,  4.49it/s]\n"
          ]
        },
        {
          "output_type": "stream",
          "name": "stdout",
          "text": [
            "Percentage Loss Reduction: -0.00104348903531477\n",
            "patience counter: 1\n",
            "Average Loss: 6.151470229543489\n",
            "Average Loss change (if calculated): -0.002304512878944134\n",
            "epoch 45/100\n"
          ]
        },
        {
          "output_type": "stream",
          "name": "stderr",
          "text": [
            "100%|██████████| 116/116 [00:25<00:00,  4.50it/s]\n"
          ]
        },
        {
          "output_type": "stream",
          "name": "stdout",
          "text": [
            "Percentage Loss Reduction: 0.0017705101076947178\n",
            "Average Loss: 6.140578989324899\n",
            "Average Loss change (if calculated): -0.0016805879000959725\n",
            "epoch 46/100\n"
          ]
        },
        {
          "output_type": "stream",
          "name": "stderr",
          "text": [
            "100%|██████████| 116/116 [00:25<00:00,  4.48it/s]\n"
          ]
        },
        {
          "output_type": "stream",
          "name": "stdout",
          "text": [
            "Percentage Loss Reduction: -0.0015475938100078697\n",
            "patience counter: 1\n",
            "Average Loss: 6.150082111358643\n",
            "Average Loss change (if calculated): -0.002191847768323175\n",
            "epoch 47/100\n"
          ]
        },
        {
          "output_type": "stream",
          "name": "stderr",
          "text": [
            "100%|██████████| 116/116 [00:26<00:00,  4.43it/s]\n"
          ]
        },
        {
          "output_type": "stream",
          "name": "stdout",
          "text": [
            "Percentage Loss Reduction: 0.002687220899755318\n",
            "Average Loss: 6.133555482173788\n",
            "Average Loss change (if calculated): -0.0015508388650828395\n",
            "epoch 48/100\n"
          ]
        },
        {
          "output_type": "stream",
          "name": "stderr",
          "text": [
            "100%|██████████| 116/116 [00:25<00:00,  4.47it/s]\n"
          ]
        },
        {
          "output_type": "stream",
          "name": "stdout",
          "text": [
            "Percentage Loss Reduction: -0.0010425788375602624\n",
            "patience counter: 1\n",
            "Average Loss: 6.139950197318504\n",
            "Average Loss change (if calculated): -0.001782322752064672\n",
            "epoch 49/100\n"
          ]
        },
        {
          "output_type": "stream",
          "name": "stderr",
          "text": [
            "100%|██████████| 116/116 [00:25<00:00,  4.50it/s]\n"
          ]
        },
        {
          "output_type": "stream",
          "name": "stdout",
          "text": [
            "Percentage Loss Reduction: -0.0005400828503249148\n",
            "patience counter: 2\n",
            "Average Loss: 6.143266279121925\n",
            "Average Loss change (if calculated): -0.0015961342844469793\n",
            "epoch 50/100\n"
          ]
        },
        {
          "output_type": "stream",
          "name": "stderr",
          "text": [
            "100%|██████████| 116/116 [00:25<00:00,  4.50it/s]\n"
          ]
        },
        {
          "output_type": "stream",
          "name": "stdout",
          "text": [
            "Percentage Loss Reduction: -7.155445804375024e-05\n",
            "patience counter: 3\n",
            "Average Loss: 6.143705857211146\n",
            "Average Loss change (if calculated): -0.0015071753797859981\n",
            "epoch 51/100\n"
          ]
        },
        {
          "output_type": "stream",
          "name": "stderr",
          "text": [
            "100%|██████████| 116/116 [00:25<00:00,  4.51it/s]\n"
          ]
        },
        {
          "output_type": "stream",
          "name": "stdout",
          "text": [
            "Percentage Loss Reduction: -0.0011742967582260447\n",
            "patience counter: 4\n",
            "Average Loss: 6.150920391082764\n",
            "Average Loss change (if calculated): -0.0015028591813712284\n",
            "epoch 52/100\n"
          ]
        },
        {
          "output_type": "stream",
          "name": "stderr",
          "text": [
            "100%|██████████| 116/116 [00:25<00:00,  4.49it/s]\n"
          ]
        },
        {
          "output_type": "stream",
          "name": "stdout",
          "text": [
            "Percentage Loss Reduction: 0.0008801267878934605\n",
            "patience counter: 5\n",
            "Average Loss: 6.145506801276372\n",
            "Average Loss change (if calculated): -0.0014941610138991784\n",
            "epoch 53/100\n"
          ]
        },
        {
          "output_type": "stream",
          "name": "stderr",
          "text": [
            "100%|██████████| 116/116 [00:25<00:00,  4.49it/s]"
          ]
        },
        {
          "output_type": "stream",
          "name": "stdout",
          "text": [
            "Percentage Loss Reduction: -0.0012384643495572142\n",
            "patience counter: 6\n"
          ]
        },
        {
          "output_type": "stream",
          "name": "stderr",
          "text": [
            "\n"
          ]
        }
      ]
    },
    {
      "cell_type": "markdown",
      "source": [
        "# Self Supervised Learning Training Progress\n",
        "prints a graph of the learning rate and loss results from self supervised learning"
      ],
      "metadata": {
        "id": "GLTkWRxkO9xH"
      }
    },
    {
      "cell_type": "code",
      "source": [
        "plt.plot(schedule_hist, label='learning rate')\n",
        "plt.legend()\n",
        "plt.show()\n",
        "plt.plot(loss_hist, label = 'loss')\n",
        "plt.legend()\n",
        "plt.show()"
      ],
      "metadata": {
        "id": "2pcyFRkjpbbW",
        "colab": {
          "base_uri": "https://localhost:8080/",
          "height": 843
        },
        "outputId": "d6b1aede-e3d3-4ee4-f4b8-a563761e01ef"
      },
      "execution_count": 35,
      "outputs": [
        {
          "output_type": "display_data",
          "data": {
            "text/plain": [
              "<Figure size 640x480 with 1 Axes>"
            ],
            "image/png": "[encoded data removed]"
          },
          "metadata": {}
        },
        {
          "output_type": "display_data",
          "data": {
            "text/plain": [
              "<Figure size 640x480 with 1 Axes>"
            ],
            "image/png": "[encoded data removed]"
          },
          "metadata": {}
        }
      ]
    },
    {
      "cell_type": "markdown",
      "source": [
        "# Fine Tuning Self Supervised Model with Supervised Learning\n",
        "in this example, fine tune the model, both with the original projection head as well as with a new projection head, and display the results of each."
      ],
      "metadata": {
        "id": "yyuPSVSCPV-V"
      }
    },
    {
      "cell_type": "code",
      "source": [
        "import copy\n",
        "\n",
        "#creating duplicate models for finetuning\n",
        "model_same_head = copy.deepcopy(model)\n",
        "model_new_head = copy.deepcopy(model)\n",
        "\n",
        "#replacing the projection head with a randomly initialized head\n",
        "#for one of the models\n",
        "model_new_head.head = Head()\n",
        "\n",
        "#training models\n",
        "same_head_maxacc = supervised_train(model_same_head)\n",
        "new_head_maxacc = supervised_train(model_new_head)"
      ],
      "metadata": {
        "id": "rN8CyZRzAjWx",
        "colab": {
          "base_uri": "https://localhost:8080/",
          "height": 1000
        },
        "outputId": "aaccacb9-2f93-4fe6-8daa-b17022adcebd"
      },
      "execution_count": 43,
      "outputs": [
        {
          "output_type": "stream",
          "name": "stderr",
          "text": [
            "100%|██████████| 20000/20000 [14:13<00:00, 23.44it/s]\n"
          ]
        },
        {
          "output_type": "display_data",
          "data": {
            "text/plain": [
              "<Figure size 640x480 with 1 Axes>"
            ],
            "image/png": "[encoded data removed]"
          },
          "metadata": {}
        },
        {
          "output_type": "display_data",
          "data": {
            "text/plain": [
              "<Figure size 640x480 with 1 Axes>"
            ],
            "image/png": "[encoded data removed]"
          },
          "metadata": {}
        },
        {
          "output_type": "stream",
          "name": "stdout",
          "text": [
            "max accuracy: 0.5972\n"
          ]
        },
        {
          "output_type": "stream",
          "name": "stderr",
          "text": [
            "100%|██████████| 20000/20000 [14:22<00:00, 23.18it/s]\n"
          ]
        },
        {
          "output_type": "display_data",
          "data": {
            "text/plain": [
              "<Figure size 640x480 with 1 Axes>"
            ],
            "image/png": "[encoded data removed]"
          },
          "metadata": {}
        },
        {
          "output_type": "display_data",
          "data": {
            "text/plain": [
              "<Figure size 640x480 with 1 Axes>"
            ],
            "image/png": "[encoded data removed]"
          },
          "metadata": {}
        },
        {
          "output_type": "stream",
          "name": "stdout",
          "text": [
            "max accuracy: 0.6363\n"
          ]
        }
      ]
    },
    {
      "cell_type": "markdown",
      "source": [
        "# Discussion\n",
        "As can be seen, pure supevised learning perfomed the worst, self supervised learning with supervised learning performed second best, and self supervised learning with supervised learning on a new head performed best.\n",
        "\n",
        "These results are purely demonstrative; there was no significant hyperparameter optimization which would be necessary in production machine learning tasks. However, this notebook does proove the theoretical utility of self supervision, and the importance of careful refinement of the projection head.\n",
        "\n",
        "**Results**\n",
        "\n",
        " - Only supervised learning: 52.5% accuracy\n",
        " - SSL and supervised: 59.7% accuracy\n",
        " - SSL and supervised on a new head: 63.6%\n"
      ],
      "metadata": {
        "id": "f6MOCQyIPxnG"
      }
    },
    {
      "cell_type": "code",
      "source": [],
      "metadata": {
        "id": "NRGE4qvlqQAw"
      },
      "execution_count": null,
      "outputs": []
    }
  ]
}