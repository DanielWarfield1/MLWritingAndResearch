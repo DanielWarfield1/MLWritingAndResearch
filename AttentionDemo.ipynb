{
  "nbformat": 4,
  "nbformat_minor": 0,
  "metadata": {
    "colab": {
      "provenance": [],
      "authorship_tag": "ABX9TyOo4vuw8RG7Xi7iIdk+sJ78",
      "include_colab_link": true
    },
    "kernelspec": {
      "name": "python3",
      "display_name": "Python 3"
    },
    "language_info": {
      "name": "python"
    }
  },
  "cells": [
    {
      "cell_type": "markdown",
      "metadata": {
        "id": "view-in-github",
        "colab_type": "text"
      },
      "source": [
        "<a href=\"https://colab.research.google.com/github/DanielWarfield1/MLWritingAndResearch/blob/main/AttentionDemo.ipynb\" target=\"_parent\"><img src=\"https://colab.research.google.com/assets/colab-badge.svg\" alt=\"Open In Colab\"/></a>"
      ]
    },
    {
      "cell_type": "markdown",
      "source": [
        "# Attention\n",
        "in this notebook we will be implimenting an encoder-decoder style model for english to french translation. This model will employ a bi-directional lstm encoder and an attention based decoder as described in *Neural Machine Translation by Jointly Learning to Align and Translate*(2014).\n",
        "\n",
        "https://arxiv.org/pdf/1409.0473v7.pdf\n",
        "\n",
        "In sticking with the original paper, everything is set up to work with minibatches.\n",
        "\n",
        "Ref:\n",
        "\n",
        "https://github.com/bentrevett/pytorch-seq2seq/blob/master/3%20-%20Neural%20Machine%20Translation%20by%20Jointly%20Learning%20to%20Align%20and%20Translate.ipynb\n"
      ],
      "metadata": {
        "id": "fTXGtxYfFFoQ"
      }
    },
    {
      "cell_type": "markdown",
      "source": [
        "# Downloading Dataset\n",
        "I saved the [kaggle english to french dataset](https://www.kaggle.com/datasets/dhruvildave/en-fr-translation-dataset?resource=download) on my drive for my own conveneince. You can store it in your google drive to run this notebook.\n",
        "\n",
        "This is zipped for compression purposes, and has to be unzipped to reveal the csv. This process takes a 4-5 minutes ish."
      ],
      "metadata": {
        "id": "BE4rvvFHGbfp"
      }
    },
    {
      "cell_type": "code",
      "source": [
        "#copying from google drive to local\n",
        "from google.colab import drive\n",
        "drive.mount('/content/drive')\n",
        "\n",
        "!cp '/content/drive/My Drive/ColabDatasets/en-fr.zip' 'en-fr.zip'"
      ],
      "metadata": {
        "colab": {
          "base_uri": "https://localhost:8080/"
        },
        "id": "GynVJz_gKpX3",
        "outputId": "c15c0a6a-f338-45f5-83f1-c6252642d7d0"
      },
      "execution_count": null,
      "outputs": [
        {
          "output_type": "stream",
          "name": "stdout",
          "text": [
            "Mounted at /content/drive\n"
          ]
        }
      ]
    },
    {
      "cell_type": "code",
      "source": [
        "#unzipping en-fr\n",
        "!unzip en-fr.zip"
      ],
      "metadata": {
        "colab": {
          "base_uri": "https://localhost:8080/"
        },
        "id": "GsmvjeK-G5iB",
        "outputId": "8136ceff-c93c-4703-c147-9dd65a276787"
      },
      "execution_count": null,
      "outputs": [
        {
          "output_type": "stream",
          "name": "stdout",
          "text": [
            "Archive:  en-fr.zip\n",
            "  inflating: en-fr.csv               \n"
          ]
        }
      ]
    },
    {
      "cell_type": "markdown",
      "source": [
        "# Loading and Exploring Dataset\n",
        "There's a lot of data. As this notebook is chiefly for demonstrative purposes, I'll only be reading the first 500,000 english-french pairs."
      ],
      "metadata": {
        "id": "4NoZ6PU6RVCN"
      }
    },
    {
      "cell_type": "code",
      "source": [
        "\"\"\"\n",
        "Loading subset of data that can fit into the memory of a modest computer.\n",
        "\"\"\"\n",
        "\n",
        "import pandas as pd\n",
        "\n",
        "#loading subset of the data and shuffling\n",
        "df_subset = pd.read_csv('en-fr.csv', nrows=500000).sample(frac = 1)\n",
        "\n",
        "#making sure the columns are defined as strings\n",
        "df_subset['en'] = df_subset.en.astype(str)\n",
        "df_subset['fr'] = df_subset.fr.astype(str)\n",
        "\n",
        "#displaying subset\n",
        "df_subset"
      ],
      "metadata": {
        "colab": {
          "base_uri": "https://localhost:8080/",
          "height": 424
        },
        "id": "1U2CdeTfRaoO",
        "outputId": "c9152091-e045-4723-9f47-3d3380d23f7f"
      },
      "execution_count": null,
      "outputs": [
        {
          "output_type": "execute_result",
          "data": {
            "text/plain": [
              "                                                       en  \\\n",
              "141013  In fact, over the decade British Columbia lost...   \n",
              "401233  LIMITATIONS O. BMPs Management practices are a...   \n",
              "319259  This leads to poor vine performance, poor brix...   \n",
              "302312  In addition to tree fruit, berry crops, and ve...   \n",
              "281676  Renewal, the Environment, and Food Safety and ...   \n",
              "...                                                   ...   \n",
              "447440  **Continue if \"familiar\" with at least one pro...   \n",
              "43344   A strong local representative will have the kn...   \n",
              "31890   The market is particularly attractive, conside...   \n",
              "318831  Early planting and good weed management will m...   \n",
              "485691  likes to say that commercialization is not jus...   \n",
              "\n",
              "                                                       fr  \n",
              "141013  En fait, en dix ans, la Colombie-Britannique a...  \n",
              "401233  LIMITES DES MPG Les pratiques de gestion const...  \n",
              "319259  Il en résulte un piètre rendement de la vigne,...  \n",
              "302312  Outre la culture fruitière, des baies et des l...  \n",
              "281676  L’un des répondants estime que les revenus agr...  \n",
              "...                                                   ...  \n",
              "447440  Si votre interlocuteur a répondu à la question...  \n",
              "43344   Un représentant local compétent possédera les ...  \n",
              "31890   Ce marché suscite un intérêt particulier étant...  \n",
              "318831  Un ensemencement tôt en saison et une bonne ge...  \n",
              "485691  Mike Lazaridis aime répéter que la valorisatio...  \n",
              "\n",
              "[500000 rows x 2 columns]"
            ],
            "text/html": [
              "\n",
              "\n",
              "  <div id=\"df-1649839b-6263-4946-8f4c-686dc5d88977\">\n",
              "    <div class=\"colab-df-container\">\n",
              "      <div>\n",
              "<style scoped>\n",
              "    .dataframe tbody tr th:only-of-type {\n",
              "        vertical-align: middle;\n",
              "    }\n",
              "\n",
              "    .dataframe tbody tr th {\n",
              "        vertical-align: top;\n",
              "    }\n",
              "\n",
              "    .dataframe thead th {\n",
              "        text-align: right;\n",
              "    }\n",
              "</style>\n",
              "<table border=\"1\" class=\"dataframe\">\n",
              "  <thead>\n",
              "    <tr style=\"text-align: right;\">\n",
              "      <th></th>\n",
              "      <th>en</th>\n",
              "      <th>fr</th>\n",
              "    </tr>\n",
              "  </thead>\n",
              "  <tbody>\n",
              "    <tr>\n",
              "      <th>141013</th>\n",
              "      <td>In fact, over the decade British Columbia lost...</td>\n",
              "      <td>En fait, en dix ans, la Colombie-Britannique a...</td>\n",
              "    </tr>\n",
              "    <tr>\n",
              "      <th>401233</th>\n",
              "      <td>LIMITATIONS O. BMPs Management practices are a...</td>\n",
              "      <td>LIMITES DES MPG Les pratiques de gestion const...</td>\n",
              "    </tr>\n",
              "    <tr>\n",
              "      <th>319259</th>\n",
              "      <td>This leads to poor vine performance, poor brix...</td>\n",
              "      <td>Il en résulte un piètre rendement de la vigne,...</td>\n",
              "    </tr>\n",
              "    <tr>\n",
              "      <th>302312</th>\n",
              "      <td>In addition to tree fruit, berry crops, and ve...</td>\n",
              "      <td>Outre la culture fruitière, des baies et des l...</td>\n",
              "    </tr>\n",
              "    <tr>\n",
              "      <th>281676</th>\n",
              "      <td>Renewal, the Environment, and Food Safety and ...</td>\n",
              "      <td>L’un des répondants estime que les revenus agr...</td>\n",
              "    </tr>\n",
              "    <tr>\n",
              "      <th>...</th>\n",
              "      <td>...</td>\n",
              "      <td>...</td>\n",
              "    </tr>\n",
              "    <tr>\n",
              "      <th>447440</th>\n",
              "      <td>**Continue if \"familiar\" with at least one pro...</td>\n",
              "      <td>Si votre interlocuteur a répondu à la question...</td>\n",
              "    </tr>\n",
              "    <tr>\n",
              "      <th>43344</th>\n",
              "      <td>A strong local representative will have the kn...</td>\n",
              "      <td>Un représentant local compétent possédera les ...</td>\n",
              "    </tr>\n",
              "    <tr>\n",
              "      <th>31890</th>\n",
              "      <td>The market is particularly attractive, conside...</td>\n",
              "      <td>Ce marché suscite un intérêt particulier étant...</td>\n",
              "    </tr>\n",
              "    <tr>\n",
              "      <th>318831</th>\n",
              "      <td>Early planting and good weed management will m...</td>\n",
              "      <td>Un ensemencement tôt en saison et une bonne ge...</td>\n",
              "    </tr>\n",
              "    <tr>\n",
              "      <th>485691</th>\n",
              "      <td>likes to say that commercialization is not jus...</td>\n",
              "      <td>Mike Lazaridis aime répéter que la valorisatio...</td>\n",
              "    </tr>\n",
              "  </tbody>\n",
              "</table>\n",
              "<p>500000 rows × 2 columns</p>\n",
              "</div>\n",
              "      <button class=\"colab-df-convert\" onclick=\"convertToInteractive('df-1649839b-6263-4946-8f4c-686dc5d88977')\"\n",
              "              title=\"Convert this dataframe to an interactive table.\"\n",
              "              style=\"display:none;\">\n",
              "\n",
              "  <svg xmlns=\"http://www.w3.org/2000/svg\" height=\"24px\"viewBox=\"0 0 24 24\"\n",
              "       width=\"24px\">\n",
              "    <path d=\"M0 0h24v24H0V0z\" fill=\"none\"/>\n",
              "    <path d=\"M18.56 5.44l.94 2.06.94-2.06 2.06-.94-2.06-.94-.94-2.06-.94 2.06-2.06.94zm-11 1L8.5 8.5l.94-2.06 2.06-.94-2.06-.94L8.5 2.5l-.94 2.06-2.06.94zm10 10l.94 2.06.94-2.06 2.06-.94-2.06-.94-.94-2.06-.94 2.06-2.06.94z\"/><path d=\"M17.41 7.96l-1.37-1.37c-.4-.4-.92-.59-1.43-.59-.52 0-1.04.2-1.43.59L10.3 9.45l-7.72 7.72c-.78.78-.78 2.05 0 2.83L4 21.41c.39.39.9.59 1.41.59.51 0 1.02-.2 1.41-.59l7.78-7.78 2.81-2.81c.8-.78.8-2.07 0-2.86zM5.41 20L4 18.59l7.72-7.72 1.47 1.35L5.41 20z\"/>\n",
              "  </svg>\n",
              "      </button>\n",
              "\n",
              "\n",
              "\n",
              "    <div id=\"df-9ba1e3e9-4a28-401c-b6a8-50f1b32ef264\">\n",
              "      <button class=\"colab-df-quickchart\" onclick=\"quickchart('df-9ba1e3e9-4a28-401c-b6a8-50f1b32ef264')\"\n",
              "              title=\"Suggest charts.\"\n",
              "              style=\"display:none;\">\n",
              "\n",
              "<svg xmlns=\"http://www.w3.org/2000/svg\" height=\"24px\"viewBox=\"0 0 24 24\"\n",
              "     width=\"24px\">\n",
              "    <g>\n",
              "        <path d=\"M19 3H5c-1.1 0-2 .9-2 2v14c0 1.1.9 2 2 2h14c1.1 0 2-.9 2-2V5c0-1.1-.9-2-2-2zM9 17H7v-7h2v7zm4 0h-2V7h2v10zm4 0h-2v-4h2v4z\"/>\n",
              "    </g>\n",
              "</svg>\n",
              "      </button>\n",
              "    </div>\n",
              "\n",
              "<style>\n",
              "  .colab-df-quickchart {\n",
              "    background-color: #E8F0FE;\n",
              "    border: none;\n",
              "    border-radius: 50%;\n",
              "    cursor: pointer;\n",
              "    display: none;\n",
              "    fill: #1967D2;\n",
              "    height: 32px;\n",
              "    padding: 0 0 0 0;\n",
              "    width: 32px;\n",
              "  }\n",
              "\n",
              "  .colab-df-quickchart:hover {\n",
              "    background-color: #E2EBFA;\n",
              "    box-shadow: 0px 1px 2px rgba(60, 64, 67, 0.3), 0px 1px 3px 1px rgba(60, 64, 67, 0.15);\n",
              "    fill: #174EA6;\n",
              "  }\n",
              "\n",
              "  [theme=dark] .colab-df-quickchart {\n",
              "    background-color: #3B4455;\n",
              "    fill: #D2E3FC;\n",
              "  }\n",
              "\n",
              "  [theme=dark] .colab-df-quickchart:hover {\n",
              "    background-color: #434B5C;\n",
              "    box-shadow: 0px 1px 3px 1px rgba(0, 0, 0, 0.15);\n",
              "    filter: drop-shadow(0px 1px 2px rgba(0, 0, 0, 0.3));\n",
              "    fill: #FFFFFF;\n",
              "  }\n",
              "</style>\n",
              "\n",
              "    <script>\n",
              "      async function quickchart(key) {\n",
              "        const containerElement = document.querySelector('#' + key);\n",
              "        const charts = await google.colab.kernel.invokeFunction(\n",
              "            'suggestCharts', [key], {});\n",
              "      }\n",
              "    </script>\n",
              "\n",
              "      <script>\n",
              "\n",
              "function displayQuickchartButton(domScope) {\n",
              "  let quickchartButtonEl =\n",
              "    domScope.querySelector('#df-9ba1e3e9-4a28-401c-b6a8-50f1b32ef264 button.colab-df-quickchart');\n",
              "  quickchartButtonEl.style.display =\n",
              "    google.colab.kernel.accessAllowed ? 'block' : 'none';\n",
              "}\n",
              "\n",
              "        displayQuickchartButton(document);\n",
              "      </script>\n",
              "      <style>\n",
              "    .colab-df-container {\n",
              "      display:flex;\n",
              "      flex-wrap:wrap;\n",
              "      gap: 12px;\n",
              "    }\n",
              "\n",
              "    .colab-df-convert {\n",
              "      background-color: #E8F0FE;\n",
              "      border: none;\n",
              "      border-radius: 50%;\n",
              "      cursor: pointer;\n",
              "      display: none;\n",
              "      fill: #1967D2;\n",
              "      height: 32px;\n",
              "      padding: 0 0 0 0;\n",
              "      width: 32px;\n",
              "    }\n",
              "\n",
              "    .colab-df-convert:hover {\n",
              "      background-color: #E2EBFA;\n",
              "      box-shadow: 0px 1px 2px rgba(60, 64, 67, 0.3), 0px 1px 3px 1px rgba(60, 64, 67, 0.15);\n",
              "      fill: #174EA6;\n",
              "    }\n",
              "\n",
              "    [theme=dark] .colab-df-convert {\n",
              "      background-color: #3B4455;\n",
              "      fill: #D2E3FC;\n",
              "    }\n",
              "\n",
              "    [theme=dark] .colab-df-convert:hover {\n",
              "      background-color: #434B5C;\n",
              "      box-shadow: 0px 1px 3px 1px rgba(0, 0, 0, 0.15);\n",
              "      filter: drop-shadow(0px 1px 2px rgba(0, 0, 0, 0.3));\n",
              "      fill: #FFFFFF;\n",
              "    }\n",
              "  </style>\n",
              "\n",
              "      <script>\n",
              "        const buttonEl =\n",
              "          document.querySelector('#df-1649839b-6263-4946-8f4c-686dc5d88977 button.colab-df-convert');\n",
              "        buttonEl.style.display =\n",
              "          google.colab.kernel.accessAllowed ? 'block' : 'none';\n",
              "\n",
              "        async function convertToInteractive(key) {\n",
              "          const element = document.querySelector('#df-1649839b-6263-4946-8f4c-686dc5d88977');\n",
              "          const dataTable =\n",
              "            await google.colab.kernel.invokeFunction('convertToInteractive',\n",
              "                                                     [key], {});\n",
              "          if (!dataTable) return;\n",
              "\n",
              "          const docLinkHtml = 'Like what you see? Visit the ' +\n",
              "            '<a target=\"_blank\" href=https://colab.research.google.com/notebooks/data_table.ipynb>data table notebook</a>'\n",
              "            + ' to learn more about interactive tables.';\n",
              "          element.innerHTML = '';\n",
              "          dataTable['output_type'] = 'display_data';\n",
              "          await google.colab.output.renderOutput(dataTable, element);\n",
              "          const docLink = document.createElement('div');\n",
              "          docLink.innerHTML = docLinkHtml;\n",
              "          element.appendChild(docLink);\n",
              "        }\n",
              "      </script>\n",
              "    </div>\n",
              "  </div>\n"
            ]
          },
          "metadata": {},
          "execution_count": 3
        }
      ]
    },
    {
      "cell_type": "code",
      "source": [
        "\n",
        "\n",
        "\"\"\"\n",
        "Plotting how long phrases are in french and english, and how different\n",
        "corresponding lengths are\n",
        "\"\"\"\n",
        "\n",
        "import matplotlib.pyplot as plt\n",
        "\n",
        "#computing sequence lengths\n",
        "df_subset['en_len'] = df_subset.en.str.split().apply(len)\n",
        "df_subset['fr_len'] = df_subset.fr.str.split().apply(len)\n",
        "\n",
        "#plotting histogram of length distribution, filtering out large outliers\n",
        "plt.hist(df_subset.en_len[df_subset.en_len<150], bins=100, alpha=0.5, label='english length')\n",
        "plt.hist(df_subset.fr_len[df_subset.fr_len<150], bins=100, alpha=0.5, label='french length')\n",
        "plt.legend()\n",
        "plt.show()\n",
        "\n",
        "#plotting how much longer french is by english, by percentage\n",
        "fr_per_larger = (df_subset.fr_len-df_subset.en_len)*100/ (df_subset.en_len)\n",
        "fr_per_larger = fr_per_larger[fr_per_larger<=200]\n",
        "plt.hist(fr_per_larger, bins=100, label='french percent larger than eng')\n",
        "plt.legend()\n",
        "plt.show()"
      ],
      "metadata": {
        "colab": {
          "base_uri": "https://localhost:8080/",
          "height": 843
        },
        "id": "KDZBu1isRhLo",
        "outputId": "05f694af-99f1-45a0-a6d3-e900aa70a90a"
      },
      "execution_count": null,
      "outputs": [
        {
          "output_type": "display_data",
          "data": {
            "text/plain": [
              "<Figure size 640x480 with 1 Axes>"
            ],
            "image/png": "[encoded data removed]"
          },
          "metadata": {}
        },
        {
          "output_type": "display_data",
          "data": {
            "text/plain": [
              "<Figure size 640x480 with 1 Axes>"
            ],
            "image/png": "[encoded data removed]"
          },
          "metadata": {}
        }
      ]
    },
    {
      "cell_type": "code",
      "source": [
        "\"\"\"\n",
        "Printing a random sample, for sanity checking purposes.\n",
        "\"\"\"\n",
        "\n",
        "#for wrapping text that is too ling\n",
        "import textwrap\n",
        "\n",
        "samp = df_subset.sample(1).iloc[0]\n",
        "samp\n",
        "print('================== English: {} words ================='.format(samp.en_len))\n",
        "print(textwrap.fill(samp.en, 100))\n",
        "print('================== French: {} words ================='.format(samp.fr_len))\n",
        "print(textwrap.fill(samp.fr, 100))"
      ],
      "metadata": {
        "colab": {
          "base_uri": "https://localhost:8080/"
        },
        "id": "YKxef1SUTvz1",
        "outputId": "bcdb0e4c-bd98-40e2-d485-e6783ed09b9a"
      },
      "execution_count": null,
      "outputs": [
        {
          "output_type": "stream",
          "name": "stdout",
          "text": [
            "================== English: 18 words =================\n",
            "Termination This Implementation Agreement, or parts thereof, may be terminated in writing by any\n",
            "mutually agreed upon date.\n",
            "================== French: 24 words =================\n",
            "Il est entendu que l=exercice des attributions par le comité de gestion en vertu du paragraphe 3.4\n",
            "des présentes ne constitue pas une modification.\n"
          ]
        }
      ]
    },
    {
      "cell_type": "markdown",
      "source": [
        "# Creating a text embeder\n",
        "using a word2vect style word embeder for both english and french.\n",
        "\n",
        "In this example I'm using pre-trained word-piece embeddings from https://github.com/bheinzerling/bpemb."
      ],
      "metadata": {
        "id": "l38rs6Y8dKHt"
      }
    },
    {
      "cell_type": "code",
      "source": [
        "!pip install bpemb"
      ],
      "metadata": {
        "colab": {
          "base_uri": "https://localhost:8080/"
        },
        "id": "lWArNyOHadk_",
        "outputId": "73eb48ab-d8e3-4ffb-edd7-fda1660c81d9"
      },
      "execution_count": null,
      "outputs": [
        {
          "output_type": "stream",
          "name": "stdout",
          "text": [
            "Collecting bpemb\n",
            "  Downloading bpemb-0.3.4-py3-none-any.whl (19 kB)\n",
            "Requirement already satisfied: gensim in /usr/local/lib/python3.10/dist-packages (from bpemb) (4.3.1)\n",
            "Requirement already satisfied: numpy in /usr/local/lib/python3.10/dist-packages (from bpemb) (1.22.4)\n",
            "Requirement already satisfied: requests in /usr/local/lib/python3.10/dist-packages (from bpemb) (2.27.1)\n",
            "Collecting sentencepiece (from bpemb)\n",
            "  Downloading sentencepiece-0.1.99-cp310-cp310-manylinux_2_17_x86_64.manylinux2014_x86_64.whl (1.3 MB)\n",
            "\u001b[2K     \u001b[90m━━━━━━━━━━━━━━━━━━━━━━━━━━━━━━━━━━━━━━━━\u001b[0m \u001b[32m1.3/1.3 MB\u001b[0m \u001b[31m17.6 MB/s\u001b[0m eta \u001b[36m0:00:00\u001b[0m\n",
            "\u001b[?25hRequirement already satisfied: tqdm in /usr/local/lib/python3.10/dist-packages (from bpemb) (4.65.0)\n",
            "Requirement already satisfied: scipy>=1.7.0 in /usr/local/lib/python3.10/dist-packages (from gensim->bpemb) (1.10.1)\n",
            "Requirement already satisfied: smart-open>=1.8.1 in /usr/local/lib/python3.10/dist-packages (from gensim->bpemb) (6.3.0)\n",
            "Requirement already satisfied: urllib3<1.27,>=1.21.1 in /usr/local/lib/python3.10/dist-packages (from requests->bpemb) (1.26.16)\n",
            "Requirement already satisfied: certifi>=2017.4.17 in /usr/local/lib/python3.10/dist-packages (from requests->bpemb) (2023.5.7)\n",
            "Requirement already satisfied: charset-normalizer~=2.0.0 in /usr/local/lib/python3.10/dist-packages (from requests->bpemb) (2.0.12)\n",
            "Requirement already satisfied: idna<4,>=2.5 in /usr/local/lib/python3.10/dist-packages (from requests->bpemb) (3.4)\n",
            "Installing collected packages: sentencepiece, bpemb\n",
            "Successfully installed bpemb-0.3.4 sentencepiece-0.1.99\n"
          ]
        }
      ]
    },
    {
      "cell_type": "code",
      "source": [
        "\"\"\"\n",
        "subword embeding experimentation\n",
        "\n",
        "uses BPEmb, which is a subword embeder compatible with multiple languages.\n",
        "This module loads a pre-trained word embeding, breaks words into sub-words,\n",
        "places them in an embeding vector, and can convert embeding vectors to sub-words\n",
        "based on similarity.\n",
        "\n",
        "Because there's no out-of-the-box support for utility tokens (<start> and <stop>)\n",
        "I'm planning on using a vector of all zeros to denote non-output. This is important\n",
        "as I have to pad jagged matrixies when constructing mini-batches, and also decide\n",
        "when to stop outputting from the model when inferencing.\n",
        "\n",
        "It's important that this vector can't be confused as a real token, so I'm\n",
        "experimenting to see if cosin-similarity is used as the similarity function,\n",
        "which is magnitude invarient. If the embedding is magnitude invarient, I can use\n",
        "the magnitude of the vector to decide weather to otuput something or not.\n",
        "\n",
        "An addition to this might be adding another dimension as an \"exists or not\"\n",
        "dimension, this could be done both on the input and output.\n",
        "\"\"\"\n",
        "\n",
        "from bpemb import BPEmb\n",
        "import numpy as np\n",
        "\n",
        "#embedding vector length\n",
        "EMBED_DIM = 50\n",
        "\n",
        "print('=======================================================')\n",
        "print('||                      English                      ||')\n",
        "print('=======================================================')\n",
        "\n",
        "bpemb_en = BPEmb(lang=\"en\", dim=EMBED_DIM)\n",
        "\n",
        "txt_en = \"How does the janitor misenterperate the signage?\"\n",
        "\n",
        "print('example:')             #printing the example\n",
        "print(txt_en)\n",
        "print('\\nsub-word tokens:')   #printing the sub-word tokens\n",
        "print(bpemb_en.encode(txt_en))\n",
        "\n",
        "for i in range(2):\n",
        "    print('\\n=========== sub-word {} ============='.format(i))\n",
        "    print('subword \"{}\":'.format(bpemb_en.encode(txt_en)[i]))\n",
        "    print('embeding (first 5 dimensions):')\n",
        "    print(bpemb_en.embed(txt_en)[i][:5])\n",
        "    print('embeding similarity (top 3):')\n",
        "    print(bpemb_en.most_similar(bpemb_en.embed(txt_en)[i])[:3])\n",
        "\n",
        "\n",
        "print('\\n\\n=======================================================')\n",
        "print('||                      French                       ||')\n",
        "print('=======================================================')\n",
        "\n",
        "bpemb_fr = BPEmb(lang=\"fr\", dim=EMBED_DIM)\n",
        "\n",
        "txt_fr = \"Comment le concierge interprète-t-il mal la signalisation?\"\n",
        "\n",
        "print('example:')             #printing the example\n",
        "print(txt_fr)\n",
        "print('\\nsub-word tokens:')   #printing the sub-word tokens\n",
        "print(bpemb_fr.encode(txt_fr))\n",
        "\n",
        "for i in range(2):\n",
        "    print('\\n=========== sub-word {} ============='.format(i))\n",
        "    print('subword \"{}\":'.format(bpemb_fr.encode(txt_fr)[i]))\n",
        "    print('embeding (first 5 dimensions):')\n",
        "    print(bpemb_fr.embed(txt_fr)[i][:5])\n",
        "    print('embeding similarity (top 3):')\n",
        "    print(bpemb_fr.most_similar(bpemb_fr.embed(txt_fr)[i])[:3])\n",
        "\n",
        "\n",
        "print('\\n\\n=======================================================')\n",
        "print('||                      Utility                       ||')\n",
        "print('=======================================================')\n",
        "all1 = np.ones((EMBED_DIM)) * 0.001\n",
        "print('similarities for magnitude 1')\n",
        "print(bpemb_fr.most_similar(all1)[:3])\n",
        "print(bpemb_en.most_similar(all1)[:3])\n",
        "all1 = np.ones((EMBED_DIM)) * 0.00001\n",
        "print('similarities for magnitude 2, same direction')\n",
        "print(bpemb_fr.most_similar(all1)[:3])\n",
        "print(bpemb_en.most_similar(all1)[:3])\n",
        "print('\\nsimilarities are magnitude invarient')"
      ],
      "metadata": {
        "colab": {
          "base_uri": "https://localhost:8080/"
        },
        "id": "XXeblaRlqYp6",
        "outputId": "1d5881cc-9600-4e9f-b654-fbe644159594"
      },
      "execution_count": null,
      "outputs": [
        {
          "output_type": "stream",
          "name": "stdout",
          "text": [
            "=======================================================\n",
            "||                      English                      ||\n",
            "=======================================================\n",
            "downloading https://nlp.h-its.org/bpemb/en/en.wiki.bpe.vs10000.model\n"
          ]
        },
        {
          "output_type": "stream",
          "name": "stderr",
          "text": [
            "100%|██████████| 400869/400869 [00:00<00:00, 1133908.58B/s]\n"
          ]
        },
        {
          "output_type": "stream",
          "name": "stdout",
          "text": [
            "downloading https://nlp.h-its.org/bpemb/en/en.wiki.bpe.vs10000.d50.w2v.bin.tar.gz\n"
          ]
        },
        {
          "output_type": "stream",
          "name": "stderr",
          "text": [
            "100%|██████████| 1924908/1924908 [00:00<00:00, 3171997.10B/s]\n"
          ]
        },
        {
          "output_type": "stream",
          "name": "stdout",
          "text": [
            "example:\n",
            "How does the janitor misenterperate the signage?\n",
            "\n",
            "sub-word tokens:\n",
            "['▁how', '▁does', '▁the', '▁jan', 'itor', '▁mis', 'ent', 'er', 'per', 'ate', '▁the', '▁sign', 'age', '?']\n",
            "\n",
            "=========== sub-word 0 =============\n",
            "subword \"▁how\":\n",
            "embeding (first 5 dimensions):\n",
            "[ 0.134556  0.25324  -0.300284 -0.050174  0.225998]\n",
            "embeding similarity (top 3):\n",
            "[('▁how', 1.0), ('▁why', 0.8465365767478943), ('▁understand', 0.8464795351028442)]\n",
            "\n",
            "=========== sub-word 1 =============\n",
            "subword \"▁does\":\n",
            "embeding (first 5 dimensions):\n",
            "[ 0.371606  0.411344  0.312751 -0.025828  0.197103]\n",
            "embeding similarity (top 3):\n",
            "[('▁does', 1.0000001192092896), ('▁makes', 0.7987446784973145), ('▁whether', 0.7980255484580994)]\n",
            "\n",
            "\n",
            "=======================================================\n",
            "||                      French                       ||\n",
            "=======================================================\n",
            "downloading https://nlp.h-its.org/bpemb/fr/fr.wiki.bpe.vs10000.model\n"
          ]
        },
        {
          "output_type": "stream",
          "name": "stderr",
          "text": [
            "100%|██████████| 400824/400824 [00:00<00:00, 957749.38B/s]\n"
          ]
        },
        {
          "output_type": "stream",
          "name": "stdout",
          "text": [
            "downloading https://nlp.h-its.org/bpemb/fr/fr.wiki.bpe.vs10000.d50.w2v.bin.tar.gz\n"
          ]
        },
        {
          "output_type": "stream",
          "name": "stderr",
          "text": [
            "100%|██████████| 1924882/1924882 [00:00<00:00, 3221262.45B/s]\n"
          ]
        },
        {
          "output_type": "stream",
          "name": "stdout",
          "text": [
            "example:\n",
            "Comment le concierge interprète-t-il mal la signalisation?\n",
            "\n",
            "sub-word tokens:\n",
            "['▁comment', '▁le', '▁con', 'cier', 'ge', '▁interprète', '-', 't', '-', 'il', '▁mal', '▁la', '▁sign', 'alisation', '?']\n",
            "\n",
            "=========== sub-word 0 =============\n",
            "subword \"▁comment\":\n",
            "embeding (first 5 dimensions):\n",
            "[-0.242793  0.644877  0.446036 -0.111873 -0.693018]\n",
            "embeding similarity (top 3):\n",
            "[('▁comment', 1.0), ('▁lire', 0.7813255190849304), ('▁nous', 0.7470166087150574)]\n",
            "\n",
            "=========== sub-word 1 =============\n",
            "subword \"▁le\":\n",
            "embeding (first 5 dimensions):\n",
            "[-0.09845  -0.11444   0.33016   0.275052  0.237902]\n",
            "embeding similarity (top 3):\n",
            "[('▁le', 1.0), ('▁premier', 0.8239309787750244), ('▁dernier', 0.8175572156906128)]\n",
            "\n",
            "\n",
            "=======================================================\n",
            "||                      Utility                       ||\n",
            "=======================================================\n",
            "similarities for magnitude 1\n",
            "[('▁nuclé', 0.4147549569606781), ('sol', 0.4073708951473236), ('nik', 0.40434518456459045)]\n",
            "[('▁pam', 0.4569125473499298), ('enda', 0.431844025850296), ('uin', 0.4181838929653168)]\n",
            "similarities for magnitude 2, same direction\n",
            "[('▁nuclé', 0.4147549569606781), ('sol', 0.4073708951473236), ('nik', 0.40434518456459045)]\n",
            "[('▁pam', 0.4569125473499298), ('enda', 0.431844025850296), ('uin', 0.4181838929653168)]\n",
            "\n",
            "similarities are magnitude invarient\n"
          ]
        }
      ]
    },
    {
      "cell_type": "code",
      "source": [
        "\"\"\"\n",
        "building a function for embeding an input-output pair,\n",
        "based on the previous experiments.\n",
        "\n",
        "Because this will be creating the i/o for the model, this has to accept batches\n",
        "of english and french pairs.\n",
        "\"\"\"\n",
        "import torch\n",
        "\n",
        "#for padding 0s\n",
        "def boolean_indexing(v):\n",
        "    lens = np.array([len(item) for item in v])\n",
        "    print('----')\n",
        "    print(lens)\n",
        "    mask = lens[:,None] > np.arange(lens.max())\n",
        "    mask = np.expand_dims(mask,2)\n",
        "    mask = np.repeat(mask, EMBED_DIM, 2)\n",
        "    out = np.zeros((mask.shape[0], mask.shape[1], EMBED_DIM),dtype=int)\n",
        "    print('----')\n",
        "    print(out.shape)\n",
        "    print(mask.shape)\n",
        "    print(v.shape)\n",
        "    print(v[0].shape)\n",
        "    return out\n",
        "\n",
        "def xy_embeding(batch_en, batch_fr):\n",
        "    \"\"\"\n",
        "    takes in a batch of english sentences, and a corresponding batch of\n",
        "    french sentences. Embeds each sentence in the batch, then constructs\n",
        "    a padded tensor containing the embeddings. Outputs a pytorch tensor\n",
        "    \"\"\"\n",
        "\n",
        "    #embedding all sentences\n",
        "    emb_en = [bpemb_en.embed(txt_en) for txt_en in batch_en]\n",
        "    emb_fr = [bpemb_en.embed(txt_en) for txt_en in batch_fr]\n",
        "\n",
        "    #computing the maximum length\n",
        "    emb_en_maxlen = max([len(e) for e in emb_en])\n",
        "    emb_fr_maxlen = max([len(e) for e in emb_fr])\n",
        "\n",
        "    #constructing a placeholder\n",
        "    emb_en_out = np.zeros((len(emb_en), emb_en_maxlen, EMBED_DIM), dtype=np.float32)\n",
        "    emb_fr_out = np.zeros((len(emb_en), emb_fr_maxlen, EMBED_DIM), dtype=np.float32)\n",
        "\n",
        "    #filling in the actual embeddings, both have same batch size\n",
        "    for i in range(len(batch_en)):\n",
        "        emb_en_out[i,:emb_en[i].shape[0],:] = emb_en[i]\n",
        "        emb_fr_out[i,:emb_fr[i].shape[0],:] = emb_fr[i]\n",
        "\n",
        "    return torch.from_numpy(emb_en_out), torch.from_numpy(emb_fr_out)\n",
        "\n",
        "#creating a batch of embeddings\n",
        "#including both language in one to create a jagged array for testing.\n",
        "#in reality these would be several english and several french examples\n",
        "#respectively. These are not numpy arrays because they are jagged.\n",
        "batch_en = [\"hello to you\", \"without a doubt he did?\", \"expeditiously executed directive is done\"]\n",
        "batch_fr = [\"Bonjour à vous\", \"sans aucun doute il l'a fait?\", \"directive exécutée rapidement est faite\"]\n",
        "\n",
        "emb_en, emb_fr = xy_embeding(batch_en, batch_fr)\n",
        "print('test english batched embeddings: {}'.format(emb_en.shape))\n",
        "print('test french batched embeddings: {}'.format(emb_fr.shape))"
      ],
      "metadata": {
        "id": "qa86smwqs4iE",
        "colab": {
          "base_uri": "https://localhost:8080/"
        },
        "outputId": "c1f004bb-bc03-4098-b77f-42a7612a3671"
      },
      "execution_count": null,
      "outputs": [
        {
          "output_type": "stream",
          "name": "stdout",
          "text": [
            "test english batched embeddings: torch.Size([3, 9, 50])\n",
            "test french batched embeddings: torch.Size([3, 15, 50])\n"
          ]
        }
      ]
    },
    {
      "cell_type": "markdown",
      "source": [
        "# Creating an attention mechanism\n",
        "Implimenting the attention mechanism from https://arxiv.org/pdf/1409.0473v7.pdf, from scratch.\n",
        "\n",
        " - define alignment function with learnable parameters\n",
        " - define that function in such a way where it accepts\n",
        "    - the previous decoder embedding\n",
        "    - all encoder embeddings\n",
        " - Put that into a pytorch module with learnable parameters"
      ],
      "metadata": {
        "id": "ibL5OPky4Yx0"
      }
    },
    {
      "cell_type": "code",
      "source": [
        "\"\"\"\n",
        "Implimenting the alignment function, which has trainable parameters v, W, and U.\n",
        "the whole idea is that, given an embedding for the encoder and decoder, the\n",
        "alignment func outputs a scalar raiting the alignment. So, the shapes of\n",
        "v, W, and U should be such that the output is a scalar.\n",
        "\"\"\"\n",
        "\n",
        "import torch\n",
        "import torch.nn.functional as F\n",
        "\n",
        "#these need to be sized in such a way that matrix multiplication yields a scalar\n",
        "#otherwise, they're just general learnable parameters. Different alignment\n",
        "#functions might have different parameters. For instance, \"attention is all you\n",
        "#need\" uses a projection head that generates a query, key, and value, which are\n",
        "#used in a different self-alignment function. this can allign vectors of different\n",
        "#lengths\n",
        "encoder_embedding_dim = EMBED_DIM*2\n",
        "decoder_embedding_dim = EMBED_DIM\n",
        "\n",
        "U_attention = torch.rand(EMBED_DIM, encoder_embedding_dim)\n",
        "W_attention = torch.rand(decoder_embedding_dim, EMBED_DIM)\n",
        "v_attention = torch.rand(1,EMBED_DIM)\n",
        "\n",
        "def alignment_func(s, h, W=W_attention, U=U_attention, v=v_attention):\n",
        "    \"\"\"\n",
        "    s: si-1, from the paper, the previous decoder state\n",
        "    h: hj, from the paper, an input embedding\n",
        "    W,U,v: trainable parameters\n",
        "\n",
        "    calculates v*tanh(W*s + U*h), should return the scalar alpha\n",
        "    \"\"\"\n",
        "\n",
        "    v1 = torch.matmul(W,s)\n",
        "    v2 = torch.matmul(U,h)\n",
        "    v3 = F.tanh(v1+v2)\n",
        "\n",
        "    return torch.matmul(v, v3)\n"
      ],
      "metadata": {
        "id": "ExIFepJO2roB"
      },
      "execution_count": null,
      "outputs": []
    },
    {
      "cell_type": "code",
      "source": [
        "#testing the alignment function between one embedded word and another\n",
        "#dividing by zero to get them in a good range for tanh\n",
        "s = torch.rand(decoder_embedding_dim)/50\n",
        "h = torch.rand(encoder_embedding_dim)/50\n",
        "alignment_func(s, h)"
      ],
      "metadata": {
        "colab": {
          "base_uri": "https://localhost:8080/"
        },
        "id": "3MNpabyd56Op",
        "outputId": "353a4a99-045f-4790-b8ed-2f1bc27adc38"
      },
      "execution_count": null,
      "outputs": [
        {
          "output_type": "execute_result",
          "data": {
            "text/plain": [
              "tensor([16.2514])"
            ]
          },
          "metadata": {},
          "execution_count": 10
        }
      ]
    },
    {
      "cell_type": "code",
      "source": [
        "\"\"\"\n",
        "defining attention, wich is a list of softmaxed alignment scores for all input\n",
        "embeddings (hj) given the previous decoder embedding (si-1). This is equivilent\n",
        "to a row of the attention matrix, hence the name of the function.\n",
        "\"\"\"\n",
        "\n",
        "def compute_attention_row(s, hs, W=W_attention, U=U_attention, v=v_attention):\n",
        "    \"\"\"\n",
        "    computes alignments for all h values given s\n",
        "\n",
        "    s is a vector of length embedding size\n",
        "    hs is a tensor of shape (sequence length, embedding size)\n",
        "    the output is a vector of sequence length\n",
        "    \"\"\"\n",
        "    return F.softmax(torch.cat([alignment_func(s, h, W, U, v) for h in hs]),0)\n",
        "\n",
        "#testing the computation of an allignment row between the previous decoder\n",
        "#embedding and all encoder embeddings\n",
        "compute_attention_row(torch.rand(decoder_embedding_dim)/50, torch.rand(10,encoder_embedding_dim)/50)"
      ],
      "metadata": {
        "colab": {
          "base_uri": "https://localhost:8080/"
        },
        "id": "OmTDpCXx8be8",
        "outputId": "a024234b-f17c-4ea1-fd7c-c63f988ea41d"
      },
      "execution_count": null,
      "outputs": [
        {
          "output_type": "execute_result",
          "data": {
            "text/plain": [
              "tensor([0.0541, 0.0790, 0.0875, 0.1084, 0.0649, 0.0490, 0.0944, 0.1974, 0.1529,\n",
              "        0.1124])"
            ]
          },
          "metadata": {},
          "execution_count": 11
        }
      ]
    },
    {
      "cell_type": "code",
      "source": [
        "\"\"\"\n",
        "Defining the attention module\n",
        "\n",
        "this will go into a larger network later. For now, we will create the module\n",
        "and train it on a synthetic dataset so we can confirm it can learn simple\n",
        "alignments.\n",
        "\"\"\"\n",
        "from torch import nn\n",
        "\n",
        "class Attention(nn.Module):\n",
        "    \"\"\"\n",
        "    -computes an alignment for all encoder embeddings\n",
        "    -constructs a context vector using those embeddings\n",
        "    -outputs that context vector\n",
        "    \"\"\"\n",
        "\n",
        "    def __init__(self, embed_dim=EMBED_DIM, encoder_embedding_dim=encoder_embedding_dim, decoder_embedding_dim=decoder_embedding_dim):\n",
        "        super(Attention, self).__init__()\n",
        "\n",
        "        #learnable attention parameters\n",
        "        self.U = nn.Parameter(torch.rand(embed_dim, encoder_embedding_dim), requires_grad=True )\n",
        "        self.W = nn.Parameter(torch.rand(embed_dim, decoder_embedding_dim), requires_grad=True )\n",
        "        self.v = nn.Parameter(torch.rand(1,embed_dim), requires_grad=True )\n",
        "        self.encoder_embedding_dim = encoder_embedding_dim\n",
        "\n",
        "        if torch.cuda.is_available():\n",
        "            self.cuda()\n",
        "\n",
        "    def forward(self, s, hn):\n",
        "        \"\"\"\n",
        "        computes a batch of context vectors given a current the all encoder\n",
        "        embeddings and the current decoder embedding\n",
        "        \"\"\"\n",
        "        #defining a tensor consisting of a context vector for each batch\n",
        "        context = torch.empty((s.shape[0], self.encoder_embedding_dim))\n",
        "\n",
        "        #iterating over all batches\n",
        "        for i, (s_single, hn_single) in enumerate(zip(s, hn)):\n",
        "            weights = compute_attention_row(s_single, hn_single, W=self.W, U=self.U, v=self.v)\n",
        "\n",
        "            #getting context for this batch\n",
        "            context_single = torch.sum(hn_single * weights[:, None], axis=0)\n",
        "\n",
        "            context[i] = context_single\n",
        "\n",
        "        return context\n",
        "\n",
        "print('==== Testing Attention ====')\n",
        "#testing if the attention mechanism can support different sizes\n",
        "test_attention = Attention()\n",
        "#getting the context of the first token of every batch. The token embedding\n",
        "#is of length 50, and and the batch size in this example is 3\n",
        "# test_attention(emb_fr[:,0], emb_en).shape\n",
        "test_attention(torch.rand(10,decoder_embedding_dim)/50, torch.rand(10,10,encoder_embedding_dim)/50).shape"
      ],
      "metadata": {
        "colab": {
          "base_uri": "https://localhost:8080/"
        },
        "id": "5GxhdjQQm0Ee",
        "outputId": "112a59f9-04f4-45ee-902d-363dbfa57328"
      },
      "execution_count": null,
      "outputs": [
        {
          "output_type": "stream",
          "name": "stdout",
          "text": [
            "==== Testing Attention ====\n"
          ]
        },
        {
          "output_type": "execute_result",
          "data": {
            "text/plain": [
              "torch.Size([10, 100])"
            ]
          },
          "metadata": {},
          "execution_count": 12
        }
      ]
    },
    {
      "cell_type": "markdown",
      "source": [
        "# Testing attention Mechanism\n",
        "I want to confirm the attention mechanism can generate reasonable alignments (instead of treating it like a black box and hoping it works). Because there's no positional encoding, and I don't have an encoder and decoder to give me embedded positional information, I have to use the values of `s` and `hn` to create some obvious association.\n",
        "\n",
        "Here's what I'll do:\n",
        "the input will have an embedding length of 2. The first number will be the current index, and the next value will be the next inde. I'll shuffle the input, and ask the model to correctly choose the output. So:\n",
        "\n",
        "The sequence will always start with an unshuffled `[0,1]`, and the model will be given the previous embedding (right or wrong) as `s`. This is to simulate how the decoder will probably have nonsensical output values for `s` initially.\n",
        "\n",
        "```\n",
        "[0,1],[5,6],[3,4],[1,2],[2,3] -> [0,1],[1,2],[2,3],[3,4],[5,6]\n",
        "```\n"
      ],
      "metadata": {
        "id": "R3ZBu4XG8mBK"
      }
    },
    {
      "cell_type": "code",
      "source": [
        "print(torch.rand(10,decoder_embedding_dim).shape)\n",
        "print(torch.rand(10,10,encoder_embedding_dim).shape)"
      ],
      "metadata": {
        "colab": {
          "base_uri": "https://localhost:8080/"
        },
        "id": "riIzFA-_XJEM",
        "outputId": "1f1f2e42-2120-4037-c3db-23a2674118d9"
      },
      "execution_count": null,
      "outputs": [
        {
          "output_type": "stream",
          "name": "stdout",
          "text": [
            "torch.Size([10, 50])\n",
            "torch.Size([10, 10, 100])\n"
          ]
        }
      ]
    },
    {
      "cell_type": "code",
      "source": [
        "import random\n",
        "from tqdm import tqdm\n",
        "min_len = 5\n",
        "max_len = 20\n",
        "\n",
        "test_attention = Attention(10,2,2)\n",
        "loss_fn = nn.MSELoss()\n",
        "optimizer = torch.optim.SGD(test_attention.parameters(), lr=1e-2)\n",
        "lr_phase = 0\n",
        "\n",
        "#training on some number of random sequences\n",
        "batch_losses = []\n",
        "for i in tqdm(range(800)):\n",
        "\n",
        "    #generating x and y\n",
        "    y = []\n",
        "    x = []\n",
        "    for j in range(random.randint(min_len,max_len)):\n",
        "        y.append([j, j+1])\n",
        "        x.append([j,j+1])\n",
        "    random.shuffle(x)\n",
        "    x = np.expand_dims(np.array([[0,1]] + x), axis=0).astype(np.float32)\n",
        "    y = np.expand_dims(np.array([[0,1]] + y), axis=0).astype(np.float32)\n",
        "    x = torch.from_numpy(x)\n",
        "    y = torch.from_numpy(y)\n",
        "\n",
        "    #iterating over all training examples (given s predict s+1)\n",
        "    s_in = x[:,0]\n",
        "    sample_losses = []\n",
        "    for j in range(2,len(x[0])):\n",
        "\n",
        "        y_this = y[:,j]\n",
        "\n",
        "        optimizer.zero_grad()\n",
        "        s_out = test_attention(s_in, x)\n",
        "\n",
        "        loss = loss_fn(s_out, y_this)\n",
        "        sample_losses.append(loss.detach())\n",
        "\n",
        "        # debug printout\n",
        "        if False:\n",
        "            print('-------')\n",
        "            print('in: {}'.format(s_in))\n",
        "            print('out: {}'.format(s_out))\n",
        "            print('should be: {}'.format(y_this))\n",
        "            print('loss: {}'.format(loss))\n",
        "\n",
        "        loss.backward(retain_graph=True)\n",
        "        optimizer.step()\n",
        "\n",
        "        s_in = torch.clone(y_this).detach()\n",
        "\n",
        "    batch_loss = np.mean(sample_losses)\n",
        "    batch_losses.append(batch_loss)\n",
        "\n",
        "    #hacking together a simple learning rate scheduler\n",
        "    if batch_loss<0.05 and lr_phase == 0:\n",
        "        optimizer = torch.optim.SGD(test_attention.parameters(), lr=1e-3, momentum=0.2)\n",
        "        lr_phase+=1\n",
        "\n",
        "    #stopping training when loss is good enough\n",
        "    if batch_loss<0.03:\n",
        "        break\n",
        "\n",
        "plt.plot(batch_losses)"
      ],
      "metadata": {
        "colab": {
          "base_uri": "https://localhost:8080/",
          "height": 465
        },
        "id": "yhLcW5m3-MkR",
        "outputId": "2f036622-1070-49ed-9af1-bd2b60c80b7f"
      },
      "execution_count": null,
      "outputs": [
        {
          "output_type": "stream",
          "name": "stderr",
          "text": [
            " 84%|████████▍ | 673/800 [00:20<00:03, 32.90it/s]\n"
          ]
        },
        {
          "output_type": "execute_result",
          "data": {
            "text/plain": [
              "[<matplotlib.lines.Line2D at 0x7af99e684b20>]"
            ]
          },
          "metadata": {},
          "execution_count": 32
        },
        {
          "output_type": "display_data",
          "data": {
            "text/plain": [
              "<Figure size 640x480 with 1 Axes>"
            ],
            "image/png": "[encoded data removed]"
          },
          "metadata": {}
        }
      ]
    },
    {
      "cell_type": "code",
      "source": [
        "\"\"\"\n",
        "Visualizing alignment\n",
        "\"\"\"\n",
        "\n",
        "#generating x and y\n",
        "y = []\n",
        "x = []\n",
        "for j in range(1, random.randint(min_len,max_len)):\n",
        "    y.append([j, j+1])\n",
        "    x.append([j,j+1])\n",
        "random.shuffle(x)\n",
        "\n",
        "x = np.expand_dims(np.array([[0,1]] + x), axis=0).astype(np.float32)\n",
        "y = np.expand_dims(np.array([[0,1]] + y), axis=0).astype(np.float32)\n",
        "\n",
        "x = torch.from_numpy(x)\n",
        "y = torch.from_numpy(y)\n",
        "\n",
        "\n",
        "\n",
        "#Extracting learned parameters for generating alignment visual\n",
        "W = test_attention.W\n",
        "U = test_attention.U\n",
        "v = test_attention.v\n",
        "\n",
        "s = x[:,0]\n",
        "y_hat = []\n",
        "rows = []\n",
        "\n",
        "\n",
        "#predicting the next element in the sequence.\n",
        "#skipping over the trivia first, and not predicting one after the last.\n",
        "for _ in range(0,len(x[0])-2):\n",
        "\n",
        "    #computing attention weights for this output\n",
        "    row = list(compute_attention_row(s[0], x[0], W=W, U=U, v=v).detach().numpy())\n",
        "    rows.append(row)\n",
        "\n",
        "    #predicting what should be in this location.\n",
        "    with torch.no_grad():\n",
        "        s = torch.round(test_attention(s, x))\n",
        "\n",
        "    y_hat.append(list(s[0]))\n",
        "\n",
        "y_hat = np.array(y_hat)\n",
        "x_p = np.array(x)\n",
        "\n",
        "print('input: ')\n",
        "print(x_p)\n",
        "print('output: ')\n",
        "print(y_hat)\n",
        "\n",
        "from matplotlib.ticker import MaxNLocator\n",
        "alignments = np.array(rows)\n",
        "\n",
        "plt.pcolormesh(alignments, edgecolors='k', linewidth=2)\n",
        "ax = plt.gca()\n",
        "ax.set_aspect('equal')\n",
        "ax.yaxis.set_major_locator(MaxNLocator(integer=True))\n",
        "ax.xaxis.set_major_locator(MaxNLocator(integer=True))\n",
        "plt.title('Algnment scores used in attention')\n",
        "plt.ylabel('output index (each row is attention for an output)')\n",
        "plt.xlabel('input index')\n",
        "plt.show()"
      ],
      "metadata": {
        "colab": {
          "base_uri": "https://localhost:8080/",
          "height": 1000
        },
        "id": "NjpDAqUxlFln",
        "outputId": "3130c816-088b-4121-8194-5914f2b41e6b"
      },
      "execution_count": null,
      "outputs": [
        {
          "output_type": "stream",
          "name": "stdout",
          "text": [
            "input: \n",
            "[[[ 0.  1.]\n",
            "  [17. 18.]\n",
            "  [10. 11.]\n",
            "  [13. 14.]\n",
            "  [14. 15.]\n",
            "  [ 2.  3.]\n",
            "  [11. 12.]\n",
            "  [16. 17.]\n",
            "  [ 5.  6.]\n",
            "  [18. 19.]\n",
            "  [ 7.  8.]\n",
            "  [12. 13.]\n",
            "  [ 9. 10.]\n",
            "  [ 3.  4.]\n",
            "  [ 4.  5.]\n",
            "  [ 6.  7.]\n",
            "  [ 8.  9.]\n",
            "  [15. 16.]\n",
            "  [ 1.  2.]]]\n",
            "output: \n",
            "[[ 2.  3.]\n",
            " [ 3.  4.]\n",
            " [ 4.  5.]\n",
            " [ 5.  6.]\n",
            " [ 6.  7.]\n",
            " [ 7.  8.]\n",
            " [ 8.  9.]\n",
            " [ 9. 10.]\n",
            " [10. 11.]\n",
            " [11. 12.]\n",
            " [12. 13.]\n",
            " [13. 14.]\n",
            " [14. 15.]\n",
            " [15. 16.]\n",
            " [16. 17.]\n",
            " [17. 18.]\n",
            " [18. 19.]]\n"
          ]
        },
        {
          "output_type": "display_data",
          "data": {
            "text/plain": [
              "<Figure size 640x480 with 1 Axes>"
            ],
            "image/png": "[encoded data removed]"
          },
          "metadata": {}
        }
      ]
    },
    {
      "cell_type": "markdown",
      "source": [
        "# Creating The Model\n",
        "This model uses a bi-directional LSTM as an encoder, a single LSTM as a decoder, and an attention mechanism between.\n",
        "\n",
        "For simplicity, the embeddings throughtout will have the same dimension. So the hidden state in the encoder, the attention mechanism, the hidden state in the decoder, all consistent. This was defined earlier as `EMBED_DIM`.\n",
        "\n",
        "The output dimension will have one more output: a boolean telling the model weather to stop outputing or not. I chose to add this chiefly because the embedding I'm using doesn't seem to have convenient support of utility tokens."
      ],
      "metadata": {
        "id": "knwyY0jpdPEj"
      }
    },
    {
      "cell_type": "code",
      "source": [
        "\"\"\"\n",
        "Defining a bi-directional LSTM encoder\n",
        "\"\"\"\n",
        "import torch.nn as nn\n",
        "import numpy as np\n",
        "\n",
        "#defining the bi-directional encoder\n",
        "class Encoder(nn.Module):\n",
        "    def __init__(self):\n",
        "        super(Encoder, self).__init__()\n",
        "        self.bilstm = nn.LSTM(input_size=EMBED_DIM,\n",
        "                              hidden_size=EMBED_DIM,\n",
        "                              bidirectional=True)\n",
        "\n",
        "        if torch.cuda.is_available():\n",
        "            self.cuda()\n",
        "\n",
        "    def forward(self, x):\n",
        "        #outputting both layers of the bi-directional lstm as h\n",
        "        #this will have an embedding size which is twice as long\n",
        "        #which the attention mechanism needs to account for in the\n",
        "        #shape of the U matrix\n",
        "        out, (_, _) = self.bilstm(x)\n",
        "        return out\n",
        "\n",
        "\n",
        "print('==== Testing Bi-Directional LSTM encoder ====')\n",
        "test_encoder = Encoder()\n",
        "#adding a batch dimension\n",
        "print('input shape:')\n",
        "print(emb_en.shape)\n",
        "print('output shape:')\n",
        "encoder_output = test_encoder(emb_en)\n",
        "print(encoder_output.shape)\n",
        "\n"
      ],
      "metadata": {
        "id": "ygLmtul1Ve6I",
        "colab": {
          "base_uri": "https://localhost:8080/"
        },
        "outputId": "05bccba4-bff0-45d2-90d8-43c2efb842a5"
      },
      "execution_count": null,
      "outputs": [
        {
          "output_type": "stream",
          "name": "stdout",
          "text": [
            "==== Testing Bi-Directional LSTM encoder ====\n",
            "input shape:\n",
            "torch.Size([3, 9, 50])\n",
            "output shape:\n",
            "torch.Size([3, 9, 100])\n"
          ]
        }
      ]
    },
    {
      "cell_type": "markdown",
      "source": [
        "reference of sequence 2 sequence https://www.youtube.com/watch?v=EoGUlvhRYpk\n",
        "I can probably virtually completely vampire everything but the attention mechanism, which might be easier from a practical perspective."
      ],
      "metadata": {
        "id": "OkUJKv_gR_lF"
      }
    },
    {
      "cell_type": "code",
      "source": [
        "\"\"\"\n",
        "Defining an LSTM Decoder\n",
        "\"\"\"\n",
        "\n",
        "#defining the bi-directional encoder\n",
        "class Decode(nn.Module):\n",
        "    def __init__(self, max_len = 100):\n",
        "        super(Encoder, self).__init__()\n",
        "        self.lstm = nn.LSTM(input_size=EMBED_DIM,\n",
        "                              hidden_size=EMBED_DIM,\n",
        "                              bidirectional=False)\n",
        "\n",
        "        self.max_len = max_len\n",
        "        if torch.cuda.is_available():\n",
        "            self.cuda()\n",
        "\n",
        "    def forward(self, x):\n",
        "\n",
        "        #Taking in the hidden state modifying, and outputting until end\n",
        "        for i in range(max_len):\n",
        "            out, (_, _) = self.lstm(x)\n",
        "        return out"
      ],
      "metadata": {
        "id": "9ZdOd4aaxqzK"
      },
      "execution_count": null,
      "outputs": []
    }
  ]
}