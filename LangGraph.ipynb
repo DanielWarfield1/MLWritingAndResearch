{
  "nbformat": 4,
  "nbformat_minor": 0,
  "metadata": {
    "colab": {
      "provenance": [],
      "authorship_tag": "ABX9TyMUv5QS+QIGtfLmdfd5O4sU",
      "include_colab_link": true
    },
    "kernelspec": {
      "name": "python3",
      "display_name": "Python 3"
    },
    "language_info": {
      "name": "python"
    }
  },
  "cells": [
    {
      "cell_type": "markdown",
      "metadata": {
        "id": "view-in-github",
        "colab_type": "text"
      },
      "source": [
        "<a href=\"https://colab.research.google.com/github/DanielWarfield1/MLWritingAndResearch/blob/main/LangGraph.ipynb\" target=\"_parent\"><img src=\"https://colab.research.google.com/assets/colab-badge.svg\" alt=\"Open In Colab\"/></a>"
      ]
    },
    {
      "cell_type": "code",
      "execution_count": 1,
      "metadata": {
        "id": "TAMvnYYuPyYc",
        "colab": {
          "base_uri": "https://localhost:8080/"
        },
        "outputId": "aa86e198-e07a-40de-e69a-d8eb2964b083"
      },
      "outputs": [
        {
          "output_type": "stream",
          "name": "stdout",
          "text": [
            "Requirement already satisfied: langgraph in /usr/local/lib/python3.10/dist-packages (0.2.16)\n",
            "Requirement already satisfied: langchain-openai in /usr/local/lib/python3.10/dist-packages (0.1.23)\n",
            "Requirement already satisfied: langchain-core<0.3,>=0.2.27 in /usr/local/lib/python3.10/dist-packages (from langgraph) (0.2.37)\n",
            "Requirement already satisfied: langgraph-checkpoint<2.0.0,>=1.0.2 in /usr/local/lib/python3.10/dist-packages (from langgraph) (1.0.8)\n",
            "Requirement already satisfied: openai<2.0.0,>=1.40.0 in /usr/local/lib/python3.10/dist-packages (from langchain-openai) (1.43.0)\n",
            "Requirement already satisfied: tiktoken<1,>=0.7 in /usr/local/lib/python3.10/dist-packages (from langchain-openai) (0.7.0)\n",
            "Requirement already satisfied: PyYAML>=5.3 in /usr/local/lib/python3.10/dist-packages (from langchain-core<0.3,>=0.2.27->langgraph) (6.0.2)\n",
            "Requirement already satisfied: jsonpatch<2.0,>=1.33 in /usr/local/lib/python3.10/dist-packages (from langchain-core<0.3,>=0.2.27->langgraph) (1.33)\n",
            "Requirement already satisfied: langsmith<0.2.0,>=0.1.75 in /usr/local/lib/python3.10/dist-packages (from langchain-core<0.3,>=0.2.27->langgraph) (0.1.108)\n",
            "Requirement already satisfied: packaging<25,>=23.2 in /usr/local/lib/python3.10/dist-packages (from langchain-core<0.3,>=0.2.27->langgraph) (24.1)\n",
            "Requirement already satisfied: pydantic<3,>=1 in /usr/local/lib/python3.10/dist-packages (from langchain-core<0.3,>=0.2.27->langgraph) (2.8.2)\n",
            "Requirement already satisfied: tenacity!=8.4.0,<9.0.0,>=8.1.0 in /usr/local/lib/python3.10/dist-packages (from langchain-core<0.3,>=0.2.27->langgraph) (8.5.0)\n",
            "Requirement already satisfied: typing-extensions>=4.7 in /usr/local/lib/python3.10/dist-packages (from langchain-core<0.3,>=0.2.27->langgraph) (4.12.2)\n",
            "Requirement already satisfied: anyio<5,>=3.5.0 in /usr/local/lib/python3.10/dist-packages (from openai<2.0.0,>=1.40.0->langchain-openai) (3.7.1)\n",
            "Requirement already satisfied: distro<2,>=1.7.0 in /usr/lib/python3/dist-packages (from openai<2.0.0,>=1.40.0->langchain-openai) (1.7.0)\n",
            "Requirement already satisfied: httpx<1,>=0.23.0 in /usr/local/lib/python3.10/dist-packages (from openai<2.0.0,>=1.40.0->langchain-openai) (0.27.2)\n",
            "Requirement already satisfied: jiter<1,>=0.4.0 in /usr/local/lib/python3.10/dist-packages (from openai<2.0.0,>=1.40.0->langchain-openai) (0.5.0)\n",
            "Requirement already satisfied: sniffio in /usr/local/lib/python3.10/dist-packages (from openai<2.0.0,>=1.40.0->langchain-openai) (1.3.1)\n",
            "Requirement already satisfied: tqdm>4 in /usr/local/lib/python3.10/dist-packages (from openai<2.0.0,>=1.40.0->langchain-openai) (4.66.5)\n",
            "Requirement already satisfied: regex>=2022.1.18 in /usr/local/lib/python3.10/dist-packages (from tiktoken<1,>=0.7->langchain-openai) (2024.5.15)\n",
            "Requirement already satisfied: requests>=2.26.0 in /usr/local/lib/python3.10/dist-packages (from tiktoken<1,>=0.7->langchain-openai) (2.32.3)\n",
            "Requirement already satisfied: idna>=2.8 in /usr/local/lib/python3.10/dist-packages (from anyio<5,>=3.5.0->openai<2.0.0,>=1.40.0->langchain-openai) (3.8)\n",
            "Requirement already satisfied: exceptiongroup in /usr/local/lib/python3.10/dist-packages (from anyio<5,>=3.5.0->openai<2.0.0,>=1.40.0->langchain-openai) (1.2.2)\n",
            "Requirement already satisfied: certifi in /usr/local/lib/python3.10/dist-packages (from httpx<1,>=0.23.0->openai<2.0.0,>=1.40.0->langchain-openai) (2024.7.4)\n",
            "Requirement already satisfied: httpcore==1.* in /usr/local/lib/python3.10/dist-packages (from httpx<1,>=0.23.0->openai<2.0.0,>=1.40.0->langchain-openai) (1.0.5)\n",
            "Requirement already satisfied: h11<0.15,>=0.13 in /usr/local/lib/python3.10/dist-packages (from httpcore==1.*->httpx<1,>=0.23.0->openai<2.0.0,>=1.40.0->langchain-openai) (0.14.0)\n",
            "Requirement already satisfied: jsonpointer>=1.9 in /usr/local/lib/python3.10/dist-packages (from jsonpatch<2.0,>=1.33->langchain-core<0.3,>=0.2.27->langgraph) (3.0.0)\n",
            "Requirement already satisfied: orjson<4.0.0,>=3.9.14 in /usr/local/lib/python3.10/dist-packages (from langsmith<0.2.0,>=0.1.75->langchain-core<0.3,>=0.2.27->langgraph) (3.10.7)\n",
            "Requirement already satisfied: annotated-types>=0.4.0 in /usr/local/lib/python3.10/dist-packages (from pydantic<3,>=1->langchain-core<0.3,>=0.2.27->langgraph) (0.7.0)\n",
            "Requirement already satisfied: pydantic-core==2.20.1 in /usr/local/lib/python3.10/dist-packages (from pydantic<3,>=1->langchain-core<0.3,>=0.2.27->langgraph) (2.20.1)\n",
            "Requirement already satisfied: charset-normalizer<4,>=2 in /usr/local/lib/python3.10/dist-packages (from requests>=2.26.0->tiktoken<1,>=0.7->langchain-openai) (3.3.2)\n",
            "Requirement already satisfied: urllib3<3,>=1.21.1 in /usr/local/lib/python3.10/dist-packages (from requests>=2.26.0->tiktoken<1,>=0.7->langchain-openai) (2.0.7)\n"
          ]
        }
      ],
      "source": [
        "# %pip install --quiet -U langgraph langchain-community langchain-openai\n",
        "!pip install langgraph langchain-openai"
      ]
    },
    {
      "cell_type": "code",
      "source": [
        "import os\n",
        "from google.colab import userdata\n",
        "\n",
        "os.environ['OPENAI_API_KEY'] = userdata.get('OpenAIAPIKey')"
      ],
      "metadata": {
        "id": "oO_H5d_dP3gI"
      },
      "execution_count": 2,
      "outputs": []
    },
    {
      "cell_type": "markdown",
      "source": [
        "# Making a simple graph that runs"
      ],
      "metadata": {
        "id": "GKzuWfQEWvBH"
      }
    },
    {
      "cell_type": "code",
      "source": [
        "from typing import TypedDict\n",
        "from langgraph.graph import StateGraph, START, END\n",
        "\n",
        "# Defining state\n",
        "class GraphState(TypedDict):\n",
        "    incrementor: int\n",
        "\n",
        "workflow = StateGraph(GraphState)\n",
        "\n",
        "# I still have no idea why I need to return the state in this example, and\n",
        "# I don't in the previous example. But, to me this is more explicit so whatever.\n",
        "def handle_hello_world(state):\n",
        "    print('Hello World')\n",
        "    state['incrementor'] += 1  # Correctly update the state\n",
        "    return state  # Return the modified state\n",
        "\n",
        "# Add the node to the graph\n",
        "workflow.add_node(\"hello_world\", handle_hello_world)\n",
        "\n",
        "# Set entry point and edge\n",
        "workflow.set_entry_point(\"hello_world\")\n",
        "workflow.add_edge('hello_world', END)\n",
        "\n",
        "# Compile and run the workflow\n",
        "app = workflow.compile()\n",
        "inputs = {\"incrementor\": 0}  # Provide the initial state\n",
        "result = app.invoke(inputs)\n",
        "print(result)"
      ],
      "metadata": {
        "colab": {
          "base_uri": "https://localhost:8080/"
        },
        "id": "Q21b_f_zc9ZU",
        "outputId": "89d47e67-dd00-4263-9f06-2fdd6627393a"
      },
      "execution_count": 3,
      "outputs": [
        {
          "output_type": "stream",
          "name": "stdout",
          "text": [
            "Hello World\n",
            "{'incrementor': 1}\n"
          ]
        }
      ]
    },
    {
      "cell_type": "markdown",
      "source": [
        "# Making a simple graph that introduces itself, asks for a name, then updates the state"
      ],
      "metadata": {
        "id": "zK1AOqp-e3Hw"
      }
    },
    {
      "cell_type": "code",
      "source": [
        "from typing import TypedDict\n",
        "from langgraph.graph import StateGraph, START, END\n",
        "\n",
        "# Defining state\n",
        "class GraphState(TypedDict):\n",
        "    name: str\n",
        "    incrementor: int\n",
        "\n",
        "workflow = StateGraph(GraphState)\n",
        "\n",
        "# I still have no idea why I need to return the state in this example, and\n",
        "# I don't in the previous example. But, to me this is more explicit so whatever.\n",
        "def handle_intro(state):\n",
        "    state['incrementor'] += 1\n",
        "    print('Hello!')\n",
        "    return state  # Does not modify state\n",
        "\n",
        "def handle_name_request(state):\n",
        "    state['incrementor'] += 1\n",
        "    state['name'] = input('What is your name? ')\n",
        "    return state\n",
        "\n",
        "# Adding Nodes to Graph\n",
        "workflow.add_node(\"intro\", handle_intro)\n",
        "workflow.add_node(\"name_request\", handle_name_request)\n",
        "\n",
        "# Set entry point and edge\n",
        "workflow.set_entry_point(\"intro\")\n",
        "workflow.add_edge('intro', 'name_request')\n",
        "workflow.add_edge('name_request', END)\n",
        "\n",
        "# Compile and run the workflow\n",
        "app = workflow.compile()\n",
        "inputs = {\"incrementor\": 0}  # Provide the initial state\n",
        "result = app.invoke(inputs)\n",
        "print('output state:')\n",
        "print(result)"
      ],
      "metadata": {
        "colab": {
          "base_uri": "https://localhost:8080/"
        },
        "id": "UYLb6WAtdzH5",
        "outputId": "df26010f-90ee-4647-bfd7-195a53565638"
      },
      "execution_count": 4,
      "outputs": [
        {
          "output_type": "stream",
          "name": "stdout",
          "text": [
            "Hello!\n",
            "What is your name? dan\n",
            "output state:\n",
            "{'name': 'dan', 'incrementor': 2}\n"
          ]
        }
      ]
    },
    {
      "cell_type": "markdown",
      "source": [
        "# Parsing first name and last name"
      ],
      "metadata": {
        "id": "be_GjJyrhZox"
      }
    },
    {
      "cell_type": "code",
      "source": [
        "from typing import TypedDict\n",
        "from langgraph.graph import StateGraph, START, END\n",
        "from langchain_openai import ChatOpenAI\n",
        "from langchain_core.prompts import ChatPromptTemplate\n",
        "\n",
        "# Defining state\n",
        "class GraphState(TypedDict):\n",
        "    first_name: str\n",
        "    last_name: str\n",
        "    incrementor: int\n",
        "\n",
        "workflow = StateGraph(GraphState)\n",
        "\n",
        "def handle_intro(state):\n",
        "    state['incrementor'] += 1\n",
        "    print('Hello!')\n",
        "    return state  # Does not modify state\n",
        "\n",
        "class Name(TypedDict):\n",
        "    first_name: str\n",
        "    last_name: str\n",
        "\n",
        "name_parse_prompt = ChatPromptTemplate.from_messages(\n",
        "    [\n",
        "        (\n",
        "            \"system\",\n",
        "            \"\"\"Parse the first and last name from the users message\"\"\",\n",
        "        ),\n",
        "        (\"placeholder\", \"{messages}\"),\n",
        "    ]\n",
        ")\n",
        "\n",
        "name_parser = name_parse_prompt | ChatOpenAI(\n",
        "    model=\"gpt-4o\", temperature=0\n",
        ").with_structured_output(Name)\n",
        "\n",
        "def handle_name_request(state):\n",
        "    state['incrementor'] += 1\n",
        "    user_reponse = input('What is your first and last name? ')\n",
        "    name = name_parser.invoke({\"messages\": [(\"ai\", \"What is your first and last name?\"),(\"user\", user_reponse)]})\n",
        "    state['first_name'] = name['first_name']\n",
        "    state['last_name'] = name['last_name']\n",
        "    return state\n",
        "\n",
        "# Adding Nodes to Graph\n",
        "workflow.add_node(\"intro\", handle_intro)\n",
        "workflow.add_node(\"name_request\", handle_name_request)\n",
        "\n",
        "# Set entry point and edge\n",
        "workflow.set_entry_point(\"intro\")\n",
        "workflow.add_edge('intro', 'name_request')\n",
        "workflow.add_edge('name_request', END)\n",
        "\n",
        "# Compile and run the workflow\n",
        "app = workflow.compile()\n",
        "inputs = {\"incrementor\": 0}  # Provide the initial state\n",
        "result = app.invoke(inputs)\n",
        "print('output state:')\n",
        "print(result)"
      ],
      "metadata": {
        "colab": {
          "base_uri": "https://localhost:8080/"
        },
        "id": "z-P39JCTfrRL",
        "outputId": "e542d551-aca3-4547-b819-3ce436002aa6"
      },
      "execution_count": 5,
      "outputs": [
        {
          "output_type": "stream",
          "name": "stdout",
          "text": [
            "Hello!\n",
            "What is your first and last name? dan w\n",
            "output state:\n",
            "{'first_name': 'dan', 'last_name': 'w', 'incrementor': 2}\n"
          ]
        }
      ]
    },
    {
      "cell_type": "markdown",
      "source": [
        "# Checking for full first and last name\n",
        "if the name is not full, re-ask"
      ],
      "metadata": {
        "id": "hPHWJ58rlnnL"
      }
    },
    {
      "cell_type": "code",
      "source": [
        "from typing import TypedDict\n",
        "from langgraph.graph import StateGraph, START, END\n",
        "from langchain_openai import ChatOpenAI\n",
        "from langchain_core.prompts import ChatPromptTemplate\n",
        "\n",
        "# Defining state\n",
        "class GraphState(TypedDict):\n",
        "    first_name: str\n",
        "    last_name: str\n",
        "    incrementor: int\n",
        "\n",
        "workflow = StateGraph(GraphState)\n",
        "\n",
        "# ===========================\n",
        "def handle_intro(state):\n",
        "    state['incrementor'] += 1\n",
        "    print('Hello!')\n",
        "    return state  # Does not modify state\n",
        "\n",
        "workflow.add_node(\"intro\", handle_intro)\n",
        "# ===========================\n",
        "class Name(TypedDict):\n",
        "    first_name: str\n",
        "    last_name: str\n",
        "\n",
        "name_parse_prompt = ChatPromptTemplate.from_messages(\n",
        "    [\n",
        "        (\n",
        "            \"system\",\n",
        "            \"\"\"Parse the first and last name from the users message\"\"\",\n",
        "        ),\n",
        "        (\"placeholder\", \"{messages}\"),\n",
        "    ]\n",
        ")\n",
        "\n",
        "name_parser = name_parse_prompt | ChatOpenAI(\n",
        "    model=\"gpt-4o\", temperature=0\n",
        ").with_structured_output(Name)\n",
        "\n",
        "def handle_name_request(state):\n",
        "    state['incrementor'] += 1\n",
        "    user_reponse = input('What is your full first and last name? ')\n",
        "    name = name_parser.invoke({\"messages\": [(\"ai\", \"What is your full first and last name?\"),(\"user\", user_reponse)]})\n",
        "    state['first_name'] = name['first_name']\n",
        "    state['last_name'] = name['last_name']\n",
        "    return state\n",
        "\n",
        "workflow.add_node(\"name_request\", handle_name_request)\n",
        "# ===========================\n",
        "class IsFullName(TypedDict):\n",
        "    is_full_name: bool\n",
        "\n",
        "name_check_prompt = ChatPromptTemplate.from_messages(\n",
        "    [\n",
        "        (\n",
        "            \"system\",\n",
        "            \"\"\"Is the name a full and complete first and last name?\"\"\",\n",
        "        ),\n",
        "        (\"placeholder\", \"{messages}\"),\n",
        "    ]\n",
        ")\n",
        "\n",
        "name_checker = name_check_prompt | ChatOpenAI(\n",
        "    model=\"gpt-4o\", temperature=0\n",
        ").with_structured_output(IsFullName)\n",
        "\n",
        "def check_full_name(state):\n",
        "    state['incrementor'] += 1\n",
        "    name_check = name_checker.invoke({\"messages\": [(\"user\", f\"first name: \\\"{state['first_name']}\\\", last name: \\\"{state['last_name']}\\\"\")]})\n",
        "    if name_check['is_full_name']:\n",
        "        return '__end__'\n",
        "    else:\n",
        "        print('The name provided was not complete')\n",
        "        return 'name_request'\n",
        "# ===========================\n",
        "\n",
        "# Set entry point and edge\n",
        "workflow.set_entry_point(\"intro\")\n",
        "workflow.add_edge('intro', 'name_request')\n",
        "workflow.add_conditional_edges(\n",
        "    'name_request',\n",
        "    check_full_name,\n",
        "    [\"name_request\", \"__end__\"]\n",
        ")\n",
        "\n",
        "# Compile and run the workflow\n",
        "app = workflow.compile()\n",
        "inputs = {\"incrementor\": 0}  # Provide the initial state\n",
        "result = app.invoke(inputs)\n",
        "print('output state:')\n",
        "print(result)"
      ],
      "metadata": {
        "colab": {
          "base_uri": "https://localhost:8080/"
        },
        "id": "YSfsxNiNkoY_",
        "outputId": "177e6145-ce73-4f62-d4e7-12ac5ce1e776"
      },
      "execution_count": 6,
      "outputs": [
        {
          "output_type": "stream",
          "name": "stdout",
          "text": [
            "Hello!\n",
            "What is your full first and last name? dan w\n",
            "The name provided was not complete\n",
            "What is your full first and last name? daniel warfield\n",
            "output state:\n",
            "{'first_name': 'daniel', 'last_name': 'warfield', 'incrementor': 3}\n"
          ]
        }
      ]
    },
    {
      "cell_type": "code",
      "source": [
        "from IPython.display import Image, display\n",
        "display(Image(app.get_graph(xray=True).draw_mermaid_png()))"
      ],
      "metadata": {
        "colab": {
          "base_uri": "https://localhost:8080/",
          "height": 320
        },
        "id": "kEY-bjFRukei",
        "outputId": "e889a0b8-d4ff-4018-a819-685229b98c50"
      },
      "execution_count": 7,
      "outputs": [
        {
          "output_type": "display_data",
          "data": {
            "image/jpeg": "[encoded data removed]",
            "text/plain": [
              "<IPython.core.display.Image object>"
            ]
          },
          "metadata": {}
        }
      ]
    },
    {
      "cell_type": "markdown",
      "source": [
        "# Making it more conversational\n",
        "The requests are hard coded. In this modification I'll keep track of all the dialogue between the system, and all the decisions, and use that to inform the language model of how to communicate with the user."
      ],
      "metadata": {
        "id": "-CScjKlo7adP"
      }
    },
    {
      "cell_type": "code",
      "source": [
        "from typing import TypedDict\n",
        "from langgraph.graph import StateGraph, START, END\n",
        "from langchain_openai import ChatOpenAI\n",
        "from langchain_core.prompts import ChatPromptTemplate\n",
        "\n",
        "# Defining state\n",
        "class GraphState(TypedDict):\n",
        "    first_name: str\n",
        "    last_name: str\n",
        "    incrementor: int\n",
        "    conversation: list[tuple[str]]\n",
        "\n",
        "workflow = StateGraph(GraphState)\n",
        "\n",
        "# ===========================\n",
        "class Name(TypedDict):\n",
        "    first_name: str\n",
        "    last_name: str\n",
        "\n",
        "name_parse_prompt = ChatPromptTemplate.from_messages(\n",
        "    [\n",
        "        (\n",
        "            \"system\",\n",
        "            \"\"\"Parse the first and last name from the users message\"\"\",\n",
        "        ),\n",
        "        (\"placeholder\", \"{messages}\"),\n",
        "    ]\n",
        ")\n",
        "\n",
        "name_parser = name_parse_prompt | ChatOpenAI(\n",
        "    model=\"gpt-4o\", temperature=0\n",
        ").with_structured_output(Name)\n",
        "\n",
        "def handle_name_request(state):\n",
        "    state['incrementor'] += 1\n",
        "\n",
        "    #if the conversation has just started, append a system prompt\n",
        "    if state['conversation'] is None:\n",
        "        system_prompt = '''\n",
        "        You are an AI agent tasked with doing lead qualification for a real-estate\n",
        "        company. Your present objective is to introduce yourself as \"Rachael\", say\n",
        "        you're excited to help them get set up with a new home. After you introduce yourself,\n",
        "        ask them for their name in full so you can get started.\n",
        "        '''\n",
        "        state['conversation'] = [('system', system_prompt)]\n",
        "\n",
        "\n",
        "    chat = ChatOpenAI(model=\"gpt-4o\", temperature=0)\n",
        "    ai_request_to_user = chat.invoke(state['conversation']).content\n",
        "\n",
        "    user_reponse = input(ai_request_to_user +'\\n')\n",
        "    state['conversation'].append(('user', user_reponse))\n",
        "    name = name_parser.invoke({\"messages\": state['conversation']})\n",
        "    state['first_name'] = name.get('first_name', '')\n",
        "    state['last_name'] = name.get('last_name', '')\n",
        "    return state\n",
        "\n",
        "workflow.add_node(\"name_request\", handle_name_request)\n",
        "# ===========================\n",
        "class IsAcceptable(TypedDict):\n",
        "    is_acceptable: bool\n",
        "\n",
        "name_check_prompt = ChatPromptTemplate.from_messages(\n",
        "    [\n",
        "        (\n",
        "            \"system\",\n",
        "            \"\"\"Is the name a full and complete first and last name? The name should either\n",
        "be an obvious full legal name, or the user should have confirmed that it is their full name.\n",
        "If either are true, then the name is considered acceptable.\"\"\",\n",
        "        ),\n",
        "        (\"placeholder\", \"{messages}\"),\n",
        "    ]\n",
        ")\n",
        "\n",
        "name_checker = name_check_prompt | ChatOpenAI(\n",
        "    model=\"gpt-4o\", temperature=0\n",
        ").with_structured_output(IsAcceptable)\n",
        "\n",
        "def check_full_name(state):\n",
        "    state['incrementor'] += 1\n",
        "\n",
        "    name_check = name_checker.invoke({\"messages\": state['conversation']+[(\"user\", f\"first name: \\\"{state['first_name']}\\\", last name: \\\"{state['last_name']}\\\"\")]})\n",
        "    if name_check['is_acceptable']:\n",
        "        return '__end__'\n",
        "    else:\n",
        "        system_prompt = '''\n",
        "        The provided name appears to be incomplete. Please notify the user\n",
        "that the name does not appear to be complete and request that they either\n",
        "provide their full name or confirm that that is indeed their full name. You don't need to re-introduce yourself anymore.\n",
        "        '''\n",
        "        state['conversation'].append(('system', system_prompt))\n",
        "        return 'name_request'\n",
        "# ===========================\n",
        "\n",
        "# Set entry point and edge\n",
        "workflow.set_entry_point('name_request')\n",
        "workflow.add_conditional_edges(\n",
        "    'name_request',\n",
        "    check_full_name,\n",
        "    [\"name_request\", \"__end__\"]\n",
        ")\n",
        "\n",
        "# Compile and run the workflow\n",
        "app = workflow.compile()\n",
        "inputs = {\"incrementor\": 0, \"conversation\":None}  # Provide the initial state\n",
        "result = app.invoke(inputs)\n",
        "print('output state:')\n",
        "print(result)"
      ],
      "metadata": {
        "colab": {
          "base_uri": "https://localhost:8080/"
        },
        "id": "2MD4TGVcvBhz",
        "outputId": "0162af21-4376-4fbd-cded-b1d21e1499e0"
      },
      "execution_count": 9,
      "outputs": [
        {
          "output_type": "stream",
          "name": "stdout",
          "text": [
            "Hi there! I'm Rachael, and I'm excited to help you get set up with a new home. Could you please provide me with your full name so we can get started?\n",
            "Hi Rachael! I'm looking to buy a new home!\n",
            "Hi there! I'm excited to help you get set up with a new home. Could you please provide your full name so we can get started?\n",
            "Yeah it's dan\n",
            "Hi Dan! Could you please provide your full name so I can get started with helping you find your new home?\n",
            "oh yeah dan w\n",
            "Hi Dan! Could you please provide your full name so we can get started?\n",
            "oh you need my full legal name. Why didn't you say so! daniel warfield\n",
            "output state:\n",
            "{'first_name': 'Daniel', 'last_name': 'Warfield', 'incrementor': 4, 'conversation': [('system', '\\n        You are an AI agent tasked with doing lead qualification for a real-estate\\n        company. Your present objective is to introduce yourself as \"Rachael\", say\\n        you\\'re excited to help them get set up with a new home. After you introduce yourself,\\n        ask them for their name in full so you can get started.\\n        '), ('user', \"Hi Rachael! I'm looking to buy a new home!\"), ('system', \"\\n        The provided name appears to be incomplete. Please notify the user\\nthat the name does not appear to be complete and request that they either\\nprovide their full name or confirm that that is indeed their full name. You don't need to re-introduce yourself anymore.\\n        \"), ('user', \"Yeah it's dan\"), ('system', \"\\n        The provided name appears to be incomplete. Please notify the user\\nthat the name does not appear to be complete and request that they either\\nprovide their full name or confirm that that is indeed their full name. You don't need to re-introduce yourself anymore.\\n        \"), ('user', 'oh yeah dan w'), ('system', \"\\n        The provided name appears to be incomplete. Please notify the user\\nthat the name does not appear to be complete and request that they either\\nprovide their full name or confirm that that is indeed their full name. You don't need to re-introduce yourself anymore.\\n        \"), ('user', \"oh you need my full legal name. Why didn't you say so! daniel warfield\")]}\n"
          ]
        }
      ]
    },
    {
      "cell_type": "code",
      "source": [
        "from IPython.display import Image, display\n",
        "display(Image(app.get_graph(xray=True).draw_mermaid_png()))"
      ],
      "metadata": {
        "colab": {
          "base_uri": "https://localhost:8080/",
          "height": 236
        },
        "id": "jZpoCT3NVmap",
        "outputId": "d289d002-4eb4-45ab-a437-97279f8f2462"
      },
      "execution_count": 10,
      "outputs": [
        {
          "output_type": "display_data",
          "data": {
            "image/jpeg": "[encoded data removed]",
            "text/plain": [
              "<IPython.core.display.Image object>"
            ]
          },
          "metadata": {}
        }
      ]
    },
    {
      "cell_type": "markdown",
      "source": [
        "# Fleshing out some more stuff\n",
        "Imagining that they need to create an account with an email, then need to provide a short code from that email. First we need to ask them if they have an email. If we do we send them to make one and tell them to come back when they're done.\n",
        "\n",
        "once they enter in some email, we \"send a code\" to that email, weather it exists or not. They then respond with that code and progress, or they have an invalid email. If their email is invalid we ask them to re-enter it."
      ],
      "metadata": {
        "id": "AN9Tf6pmVcaj"
      }
    },
    {
      "cell_type": "code",
      "source": [
        "from typing import TypedDict\n",
        "from langgraph.graph import StateGraph, START, END\n",
        "from langchain_openai import ChatOpenAI\n",
        "from langchain_core.prompts import ChatPromptTemplate\n",
        "\n",
        "# Defining state\n",
        "class GraphState(TypedDict):\n",
        "    first_name: str\n",
        "    last_name: str\n",
        "    incrementor: int\n",
        "    conversation: list[tuple[str]]\n",
        "    has_account: bool\n",
        "    email: str\n",
        "    verification_code: int\n",
        "\n",
        "workflow = StateGraph(GraphState)\n",
        "\n",
        "# ===========================\n",
        "class Name(TypedDict):\n",
        "    first_name: str\n",
        "    last_name: str\n",
        "\n",
        "name_parse_prompt = ChatPromptTemplate.from_messages(\n",
        "    [\n",
        "        (\n",
        "            \"system\",\n",
        "            \"\"\"Parse the first and last name from the users message\"\"\",\n",
        "        ),\n",
        "        (\"placeholder\", \"{messages}\"),\n",
        "    ]\n",
        ")\n",
        "\n",
        "name_parser = name_parse_prompt | ChatOpenAI(\n",
        "    model=\"gpt-4o\", temperature=0\n",
        ").with_structured_output(Name)\n",
        "\n",
        "def handle_name_request(state):\n",
        "    state['incrementor'] += 1\n",
        "\n",
        "    #if the conversation has just started, append a system prompt\n",
        "    if state['conversation'] is None:\n",
        "        system_prompt = '''\n",
        "        You are an AI agent tasked with doing lead qualification for a real-estate\n",
        "        company. Your present objective is to introduce yourself as \"Rachael\", say\n",
        "        you're excited to help them get set up with a new home. After you introduce yourself,\n",
        "        ask them for their name in full so you can get started.\n",
        "        '''\n",
        "        state['conversation'] = [('system', system_prompt)]\n",
        "\n",
        "    chat = ChatOpenAI(model=\"gpt-4o\", temperature=0)\n",
        "    ai_request_to_user = chat.invoke(state['conversation']).content\n",
        "\n",
        "    user_reponse = input(ai_request_to_user +'\\n')\n",
        "    state['conversation'].append(('user', user_reponse))\n",
        "    name = name_parser.invoke({\"messages\": state['conversation']})\n",
        "    state['first_name'] = name['first_name']\n",
        "    state['last_name'] = name['last_name']\n",
        "    return state\n",
        "\n",
        "workflow.add_node(\"name_request\", handle_name_request)\n",
        "# ===========================\n",
        "class IsAcceptable(TypedDict):\n",
        "    is_acceptable: bool\n",
        "\n",
        "name_check_prompt = ChatPromptTemplate.from_messages(\n",
        "    [\n",
        "        (\n",
        "            \"system\",\n",
        "            \"\"\"Is the name a full and complete first and last name? The name should either\n",
        "be an obvious full legal name, or the user should have confirmed that it is their full name.\n",
        "If either are true, then the name is considered acceptable.\"\"\",\n",
        "        ),\n",
        "        (\"placeholder\", \"{messages}\"),\n",
        "    ]\n",
        ")\n",
        "\n",
        "name_checker = name_check_prompt | ChatOpenAI(\n",
        "    model=\"gpt-4o\", temperature=0\n",
        ").with_structured_output(IsAcceptable)\n",
        "\n",
        "def check_full_name(state):\n",
        "    state['incrementor'] += 1\n",
        "\n",
        "    name_check = name_checker.invoke({\"messages\": state['conversation']+[(\"user\", f\"first name: \\\"{state['first_name']}\\\", last name: \\\"{state['last_name']}\\\"\")]})\n",
        "    if name_check['is_acceptable']:\n",
        "        return 'has_account_node'\n",
        "    else:\n",
        "        system_prompt = '''\n",
        "        The provided name appears to be incomplete. Please notify the user\n",
        "that the name does not appear to be complete and request that they either\n",
        "provide their full name or confirm that that is indeed their full name. You don't need to re-introduce yourself.\n",
        "        '''\n",
        "        state['conversation'].append(('system', system_prompt))\n",
        "        return 'name_request'\n",
        "\n",
        "# ===========================\n",
        "class HasAccount(TypedDict):\n",
        "    has_account: bool\n",
        "\n",
        "has_account_prompt = ChatPromptTemplate.from_messages(\n",
        "    [\n",
        "        (\n",
        "            \"system\",\n",
        "            \"\"\"Does the user have an account or not?\"\"\",\n",
        "        ),\n",
        "        (\"placeholder\", \"{messages}\"),\n",
        "    ]\n",
        ")\n",
        "\n",
        "has_account_parser = has_account_prompt | ChatOpenAI(\n",
        "    model=\"gpt-4o\", temperature=0\n",
        ").with_structured_output(HasAccount)\n",
        "\n",
        "def handle_has_account(state):\n",
        "    state['incrementor'] += 1\n",
        "\n",
        "    system_prompt = '''\n",
        "    The users name has been acquired. Now, ask if they have an account\n",
        "    already set up.\n",
        "    '''\n",
        "    state['conversation'].append(('system', system_prompt))\n",
        "\n",
        "    chat = ChatOpenAI(model=\"gpt-4o\", temperature=0)\n",
        "    ai_request_to_user = chat.invoke(state['conversation']).content\n",
        "\n",
        "    user_reponse = input(ai_request_to_user +'\\n')\n",
        "    state['conversation'].append(('user', user_reponse))\n",
        "    has_account = has_account_parser.invoke({\"messages\": state['conversation']})\n",
        "    state['has_account'] = has_account['has_account']\n",
        "    return state\n",
        "\n",
        "workflow.add_node(\"has_account_node\", handle_has_account)\n",
        "\n",
        "# ===========================\n",
        "def check_has_account(state):\n",
        "    state['incrementor'] += 1\n",
        "\n",
        "    if state['has_account']:\n",
        "        return 'get_email'\n",
        "    else:\n",
        "        system_prompt = '''\n",
        "        The user does not have an account set up. Tell them to set one up at\n",
        "        danielwarfield.dev then ask them to come back when they're done.\n",
        "        Respond directly to the previous users message as if in a continuous\n",
        "        conversation\n",
        "        '''\n",
        "        state['conversation'].append(('system', system_prompt))\n",
        "        chat = ChatOpenAI(model=\"gpt-4o\", temperature=0)\n",
        "        ai_request_to_user = chat.invoke(state['conversation']).content\n",
        "        user_reponse = input(ai_request_to_user +'\\n')\n",
        "        state['conversation'].append(('user', user_reponse))\n",
        "        return 'get_email'\n",
        "\n",
        "# ===========================\n",
        "class Email(TypedDict):\n",
        "    email: str\n",
        "\n",
        "email_parse_prompt = ChatPromptTemplate.from_messages(\n",
        "    [\n",
        "        (\n",
        "            \"system\",\n",
        "            \"\"\"What email did the user provide?\"\"\",\n",
        "        ),\n",
        "        (\"placeholder\", \"{messages}\"),\n",
        "    ]\n",
        ")\n",
        "\n",
        "email_parser = email_parse_prompt | ChatOpenAI(\n",
        "    model=\"gpt-4o\", temperature=0\n",
        ").with_structured_output(Email)\n",
        "\n",
        "def handle_request_email(state):\n",
        "    state['incrementor'] += 1\n",
        "\n",
        "    system_prompt = '''\n",
        "    The user has an email associated to their account. Ask them for it.\n",
        "    '''\n",
        "    state['conversation'].append(('system', system_prompt))\n",
        "\n",
        "    chat = ChatOpenAI(model=\"gpt-4o\", temperature=0)\n",
        "    ai_request_to_user = chat.invoke(state['conversation']).content\n",
        "\n",
        "    user_reponse = input(ai_request_to_user +'\\n')\n",
        "    state['conversation'].append(('user', user_reponse))\n",
        "    email = email_parser.invoke({\"messages\": state['conversation']})\n",
        "    state['email'] = email['email']\n",
        "    return state\n",
        "\n",
        "workflow.add_node(\"get_email\", handle_request_email)\n",
        "\n",
        "# ===========================\n",
        "class ShortCode(TypedDict):\n",
        "    short_code: int\n",
        "\n",
        "code_parse_ptompt = ChatPromptTemplate.from_messages(\n",
        "    [\n",
        "        (\n",
        "            \"system\",\n",
        "            \"\"\"Parse out the short integer code from the prompt\"\"\",\n",
        "        ),\n",
        "        (\"placeholder\", \"{messages}\"),\n",
        "    ]\n",
        ")\n",
        "\n",
        "short_code_parser = code_parse_ptompt | ChatOpenAI(\n",
        "    model=\"gpt-4o\", temperature=0\n",
        ").with_structured_output(ShortCode)\n",
        "\n",
        "def email_verify(state):\n",
        "    state['incrementor'] += 1\n",
        "\n",
        "    system_prompt = '''\n",
        "    Inform the user that a short code has been sent to their email. Ask them\n",
        "    to confirm their email with that code.\n",
        "    '''\n",
        "    state['conversation'].append(('system', system_prompt))\n",
        "\n",
        "    chat = ChatOpenAI(model=\"gpt-4o\", temperature=0)\n",
        "    ai_request_to_user = chat.invoke(state['conversation']).content\n",
        "\n",
        "    user_reponse = input(ai_request_to_user +'\\n')\n",
        "    state['conversation'].append(('user', user_reponse))\n",
        "    short_code = short_code_parser.invoke({\"messages\": state['conversation']})\n",
        "    state['verification_code'] = short_code['short_code']\n",
        "\n",
        "    return state\n",
        "\n",
        "workflow.add_node(\"email_verify\", email_verify)\n",
        "# ===========================\n",
        "def check_auth(state):\n",
        "    state['incrementor'] += 1\n",
        "\n",
        "    if state['email'] == 'hire@danielwarfield.dev' and state['verification_code'] == 1111:\n",
        "        print('Email verified. Done!')\n",
        "        return '__end__'\n",
        "    else:\n",
        "        system_prompt = '''\n",
        "        Either the user name or short code was incorrect. Ask for the email again.\n",
        "        '''\n",
        "        state['conversation'].append(('system', system_prompt))\n",
        "        chat = ChatOpenAI(model=\"gpt-4o\", temperature=0)\n",
        "        ai_request_to_user = chat.invoke(state['conversation']).content\n",
        "        user_reponse = input(ai_request_to_user +'\\n')\n",
        "        state['conversation'].append(('user', user_reponse))\n",
        "        return 'get_email'\n",
        "# ===========================\n",
        "\n",
        "# Set entry point and edges\n",
        "workflow.set_entry_point('name_request')\n",
        "workflow.add_conditional_edges(\n",
        "    'name_request',\n",
        "    check_full_name,\n",
        "    [\"name_request\", \"has_account_node\"]\n",
        ")\n",
        "workflow.add_conditional_edges(\n",
        "    'has_account_node',\n",
        "    check_has_account,\n",
        "    [\"get_email\"]\n",
        ")\n",
        "workflow.add_edge(\"get_email\", \"email_verify\")\n",
        "workflow.add_conditional_edges(\n",
        "    'email_verify',\n",
        "    check_auth,\n",
        "    [\"get_email\", '__end__']\n",
        ")\n",
        "\n",
        "# Compile and run the workflow\n",
        "app = workflow.compile()\n",
        "inputs = {\"incrementor\": 0, \"conversation\":None}  # Provide the initial state\n",
        "result = app.invoke(inputs)\n",
        "print('output state:')\n",
        "print(result)"
      ],
      "metadata": {
        "colab": {
          "base_uri": "https://localhost:8080/"
        },
        "id": "ZiNPtLPuQ3vY",
        "outputId": "a92bed69-a5df-4a66-c482-5278faba40f5"
      },
      "execution_count": 12,
      "outputs": [
        {
          "output_type": "stream",
          "name": "stdout",
          "text": [
            "Hi there! I'm Rachael, and I'm excited to help you get set up with a new home. Could you please provide me with your full name so we can get started?\n",
            "dan w\n",
            "Hi Dan, it looks like your name might be incomplete. Could you please provide your full name or confirm if \"Dan W\" is indeed your full name? This will help me get started on finding the perfect home for you.\n",
            "yeah beleive it or not that's actually my full name. Weird parents.\n",
            "Nice to meet you, Dan W! Do you already have an account set up with us?\n",
            "yep\n",
            "Great, Dan! Could you please provide the email address associated with your account?\n",
            "yeah it's hire@danielwarfield.dev\n",
            "Great, Dan! A short code has been sent to your email. Could you please check your inbox and provide me with that code to confirm your email?\n",
            "just got it. 1111\n",
            "Email verified. Done!\n",
            "output state:\n",
            "{'first_name': 'Dan', 'last_name': 'W', 'incrementor': 5, 'conversation': [('system', '\\n        You are an AI agent tasked with doing lead qualification for a real-estate\\n        company. Your present objective is to introduce yourself as \"Rachael\", say\\n        you\\'re excited to help them get set up with a new home. After you introduce yourself,\\n        ask them for their name in full so you can get started.\\n        '), ('user', 'dan w'), ('system', \"\\n        The provided name appears to be incomplete. Please notify the user\\nthat the name does not appear to be complete and request that they either\\nprovide their full name or confirm that that is indeed their full name. You don't need to re-introduce yourself.\\n        \"), ('user', \"yeah beleive it or not that's actually my full name. Weird parents.\"), ('system', '\\n    The users name has been acquired. Now, ask if they have an account\\n    already set up.\\n    '), ('user', 'yep'), ('system', '\\n    The user has an email associated to their account. Ask them for it.\\n    '), ('user', \"yeah it's hire@danielwarfield.dev\"), ('system', '\\n    Inform the user that a short code has been sent to their email. Ask them\\n    to confirm their email with that code.\\n    '), ('user', 'just got it. 1111')], 'has_account': True, 'email': 'hire@danielwarfield.dev', 'verification_code': 1111}\n"
          ]
        }
      ]
    },
    {
      "cell_type": "code",
      "source": [
        "from IPython.display import Image, display\n",
        "display(Image(app.get_graph(xray=True).draw_mermaid_png()))"
      ],
      "metadata": {
        "colab": {
          "base_uri": "https://localhost:8080/",
          "height": 488
        },
        "id": "jERwP3yfbXLl",
        "outputId": "459b7568-de4f-4ed1-e902-81f0ffc96876"
      },
      "execution_count": 14,
      "outputs": [
        {
          "output_type": "display_data",
          "data": {
            "image/jpeg": "[encoded data removed]",
            "text/plain": [
              "<IPython.core.display.Image object>"
            ]
          },
          "metadata": {}
        }
      ]
    },
    {
      "cell_type": "code",
      "source": [],
      "metadata": {
        "id": "Jn2bkDxycvVi"
      },
      "execution_count": null,
      "outputs": []
    }
  ]
}