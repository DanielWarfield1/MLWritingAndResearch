{
  "nbformat": 4,
  "nbformat_minor": 0,
  "metadata": {
    "colab": {
      "provenance": [],
      "authorship_tag": "ABX9TyNSX/k2oFPt6Mp87Zhc/5Ev",
      "include_colab_link": true
    },
    "kernelspec": {
      "name": "python3",
      "display_name": "Python 3"
    },
    "language_info": {
      "name": "python"
    }
  },
  "cells": [
    {
      "cell_type": "markdown",
      "metadata": {
        "id": "view-in-github",
        "colab_type": "text"
      },
      "source": [
        "<a href=\"https://colab.research.google.com/github/DanielWarfield1/MLWritingAndResearch/blob/main/SQL.ipynb\" target=\"_parent\"><img src=\"https://colab.research.google.com/assets/colab-badge.svg\" alt=\"Open In Colab\"/></a>"
      ]
    },
    {
      "cell_type": "code",
      "source": [
        "import sqlite3\n",
        "connection = sqlite3.connect(\"tutorial.db\")\n",
        "cursor = connection.cursor()"
      ],
      "metadata": {
        "id": "uewlxm0e_nqq"
      },
      "execution_count": null,
      "outputs": []
    },
    {
      "cell_type": "code",
      "source": [
        "cursor.execute(\"\"\"\n",
        "\n",
        "CREATE TABLE movie(title, year, score)\n",
        "\n",
        "\"\"\")"
      ],
      "metadata": {
        "colab": {
          "base_uri": "https://localhost:8080/"
        },
        "id": "q09jeK_k6Vm-",
        "outputId": "26838dda-224d-4915-9791-7c25b0fcbca1"
      },
      "execution_count": null,
      "outputs": [
        {
          "output_type": "execute_result",
          "data": {
            "text/plain": [
              "<sqlite3.Cursor at 0x7fe259f6ca40>"
            ]
          },
          "metadata": {},
          "execution_count": 15
        }
      ]
    },
    {
      "cell_type": "code",
      "source": [
        "cursor.execute(\"\"\"\n",
        "\n",
        "INSERT INTO movie VALUES\n",
        "    ('Monty Python and the Holy Grail', 1975, 8.2),\n",
        "    ('And Now for Something Completely Different', 1971, 7.5)\n",
        "\n",
        "\"\"\")\n",
        "connection.commit()"
      ],
      "metadata": {
        "id": "LaqwxHmb66fi"
      },
      "execution_count": null,
      "outputs": []
    },
    {
      "cell_type": "code",
      "source": [
        "res = cursor.execute(\"\"\"\n",
        "\n",
        "SELECT score FROM movie\n",
        "\n",
        "\"\"\")\n",
        "res.fetchall()"
      ],
      "metadata": {
        "colab": {
          "base_uri": "https://localhost:8080/"
        },
        "id": "vUDokYC57nn8",
        "outputId": "28a74a56-1f68-4611-c672-b663b8a3913a"
      },
      "execution_count": null,
      "outputs": [
        {
          "output_type": "execute_result",
          "data": {
            "text/plain": [
              "[(8.2,), (7.5,)]"
            ]
          },
          "metadata": {},
          "execution_count": 17
        }
      ]
    },
    {
      "cell_type": "markdown",
      "source": [
        "# Making a Helper Function"
      ],
      "metadata": {
        "id": "FqyYfQJs8Up0"
      }
    },
    {
      "cell_type": "code",
      "source": [
        "import sqlite3\n",
        "from IPython.display import Markdown, display\n",
        "\n",
        "def display_table(table_name):\n",
        "\n",
        "    # Getting all the content from a table\n",
        "    cursor.execute(f\"\"\"\n",
        "\n",
        "    SELECT * FROM {table_name}\n",
        "\n",
        "    \"\"\")\n",
        "    rows = cursor.fetchall()\n",
        "    columns = [description[0] for description in cursor.description]\n",
        "\n",
        "    # Building a markdown table\n",
        "    md = \"| \" + \" | \".join(columns) + \" |\\n\"\n",
        "    md += \"| \" + \" | \".join([\"---\"] * len(columns)) + \" |\\n\"\n",
        "    for row in rows:\n",
        "        md += \"| \" + \" | \".join(str(cell) for cell in row) + \" |\\n\"\n",
        "\n",
        "    # Displaying in Markdown format\n",
        "    display(Markdown(md))\n",
        "\n",
        "\n",
        "# display_table('movie')"
      ],
      "metadata": {
        "id": "s0WC2yQy7rvJ"
      },
      "execution_count": 16,
      "outputs": []
    },
    {
      "cell_type": "code",
      "source": [
        "from tabulate import tabulate\n",
        "\n",
        "def display_results(cursor, results):\n",
        "\n",
        "    # Get column names from cursor.description\n",
        "    columns = [desc[0] for desc in cursor.description]\n",
        "\n",
        "    # Render Markdown table\n",
        "    display(Markdown((tabulate(results, headers=columns, tablefmt=\"github\"))))"
      ],
      "metadata": {
        "id": "ddJq1eMDSQeN"
      },
      "execution_count": 17,
      "outputs": []
    },
    {
      "cell_type": "markdown",
      "source": [
        "# Schema Rendering"
      ],
      "metadata": {
        "id": "x959BWkN_6oZ"
      }
    },
    {
      "cell_type": "code",
      "source": [
        "!pip install eralchemy"
      ],
      "metadata": {
        "colab": {
          "base_uri": "https://localhost:8080/"
        },
        "id": "sK5LmLtG_91s",
        "outputId": "6f06bf55-4660-4488-a5da-c11380395be8"
      },
      "execution_count": null,
      "outputs": [
        {
          "output_type": "stream",
          "name": "stdout",
          "text": [
            "Collecting eralchemy\n",
            "  Downloading eralchemy-1.5.0-py3-none-any.whl.metadata (6.4 kB)\n",
            "Requirement already satisfied: sqlalchemy>=1.4.18 in /usr/local/lib/python3.11/dist-packages (from eralchemy) (2.0.40)\n",
            "Requirement already satisfied: greenlet>=1 in /usr/local/lib/python3.11/dist-packages (from sqlalchemy>=1.4.18->eralchemy) (3.1.1)\n",
            "Requirement already satisfied: typing-extensions>=4.6.0 in /usr/local/lib/python3.11/dist-packages (from sqlalchemy>=1.4.18->eralchemy) (4.13.0)\n",
            "Downloading eralchemy-1.5.0-py3-none-any.whl (19 kB)\n",
            "Installing collected packages: eralchemy\n",
            "Successfully installed eralchemy-1.5.0\n"
          ]
        }
      ]
    },
    {
      "cell_type": "code",
      "source": [
        "from sqlalchemy import create_engine, MetaData\n",
        "from eralchemy import render_er\n",
        "\n",
        "# Replace 'your_database.db' with the actual path to your SQLite database file\n",
        "engine = create_engine('sqlite:///tutorial.db')\n",
        "metadata = MetaData()\n",
        "metadata.reflect(bind=engine)\n",
        "\n",
        "# Render the schema to a file named 'erd_from_sqlite.png'\n",
        "render_er(metadata, 'erd_from_sqlite.png')"
      ],
      "metadata": {
        "colab": {
          "base_uri": "https://localhost:8080/",
          "height": 180
        },
        "id": "RsLsoXaJ8iji",
        "outputId": "e9aaae84-a2e0-4393-c4ff-1573052a2363"
      },
      "execution_count": null,
      "outputs": [
        {
          "output_type": "execute_result",
          "data": {
            "image/svg+xml": "<?xml version=\"1.0\" encoding=\"UTF-8\" standalone=\"no\"?>\n<!DOCTYPE svg PUBLIC \"-//W3C//DTD SVG 1.1//EN\"\n \"http://www.w3.org/Graphics/SVG/1.1/DTD/svg11.dtd\">\n<!-- Generated by graphviz version 2.43.0 (0)\n -->\n<!-- Title: %3 Pages: 1 -->\n<svg width=\"118pt\" height=\"119pt\"\n viewBox=\"0.00 0.00 118.00 119.00\" xmlns=\"http://www.w3.org/2000/svg\" xmlns:xlink=\"http://www.w3.org/1999/xlink\">\n<g id=\"graph0\" class=\"graph\" transform=\"scale(1 1) rotate(0) translate(4 115)\">\n<title>%3</title>\n<polygon fill=\"white\" stroke=\"transparent\" points=\"-4,4 -4,-115 114,-115 114,4 -4,4\"/>\n<!-- movie -->\n<g id=\"node1\" class=\"node\">\n<title>movie</title>\n<polygon fill=\"none\" stroke=\"black\" points=\"8,-78.5 8,-106.5 102,-106.5 102,-78.5 8,-78.5\"/>\n<text text-anchor=\"start\" x=\"31.5\" y=\"-89.7\" font-family=\"Helvetica,sans-Serif\" font-weight=\"bold\" font-size=\"16.00\">movie</text>\n<polygon fill=\"none\" stroke=\"black\" points=\"8,-53.5 8,-78.5 102,-78.5 102,-53.5 8,-53.5\"/>\n<text text-anchor=\"start\" x=\"13\" y=\"-63.3\" font-family=\"Helvetica,sans-Serif\" font-size=\"14.00\">score</text>\n<text text-anchor=\"start\" x=\"47\" y=\"-63.3\" font-family=\"Helvetica,sans-Serif\" font-size=\"14.00\"> </text>\n<text text-anchor=\"start\" x=\"51\" y=\"-63.3\" font-family=\"Helvetica,sans-Serif\" font-size=\"14.00\"> [NULL]</text>\n<polygon fill=\"none\" stroke=\"black\" points=\"8,-28.5 8,-53.5 102,-53.5 102,-28.5 8,-28.5\"/>\n<text text-anchor=\"start\" x=\"13\" y=\"-38.3\" font-family=\"Helvetica,sans-Serif\" font-size=\"14.00\">title</text>\n<text text-anchor=\"start\" x=\"35\" y=\"-38.3\" font-family=\"Helvetica,sans-Serif\" font-size=\"14.00\"> </text>\n<text text-anchor=\"start\" x=\"39\" y=\"-38.3\" font-family=\"Helvetica,sans-Serif\" font-size=\"14.00\"> [NULL]</text>\n<polygon fill=\"none\" stroke=\"black\" points=\"8,-3.5 8,-28.5 102,-28.5 102,-3.5 8,-3.5\"/>\n<text text-anchor=\"start\" x=\"13\" y=\"-13.3\" font-family=\"Helvetica,sans-Serif\" font-size=\"14.00\">year</text>\n<text text-anchor=\"start\" x=\"40\" y=\"-13.3\" font-family=\"Helvetica,sans-Serif\" font-size=\"14.00\"> </text>\n<text text-anchor=\"start\" x=\"44\" y=\"-13.3\" font-family=\"Helvetica,sans-Serif\" font-size=\"14.00\"> [NULL]</text>\n</g>\n</g>\n</svg>\n",
            "text/plain": [
              "<graphviz.sources.Source at 0x7fe21e827a10>"
            ]
          },
          "metadata": {},
          "execution_count": 23
        }
      ]
    },
    {
      "cell_type": "markdown",
      "source": [
        "# Creating a Schema"
      ],
      "metadata": {
        "id": "HfcKzQfYAEjD"
      }
    },
    {
      "cell_type": "code",
      "source": [
        "import sqlite3\n",
        "from sqlalchemy import create_engine, MetaData\n",
        "from eralchemy import render_er\n",
        "\n",
        "# Step 1: Create SQLite DB and execute raw SQL to define schema\n",
        "connection = sqlite3.connect(\"schema_tutorial.db\")\n",
        "cursor = connection.cursor()\n",
        "\n",
        "cursor.executescript(\"\"\"\n",
        "DROP TABLE IF EXISTS comments;\n",
        "DROP TABLE IF EXISTS posts;\n",
        "DROP TABLE IF EXISTS users;\n",
        "\n",
        "CREATE TABLE users (\n",
        "    id INTEGER PRIMARY KEY,\n",
        "    name TEXT NOT NULL,\n",
        "    email TEXT UNIQUE NOT NULL\n",
        ");\n",
        "\n",
        "CREATE TABLE posts (\n",
        "    id INTEGER PRIMARY KEY,\n",
        "    title TEXT NOT NULL,\n",
        "    content TEXT,\n",
        "    user_id INTEGER,\n",
        "    FOREIGN KEY (user_id) REFERENCES users(id)\n",
        ");\n",
        "\n",
        "CREATE TABLE comments (\n",
        "    id INTEGER PRIMARY KEY,\n",
        "    text TEXT,\n",
        "    post_id INTEGER,\n",
        "    user_id INTEGER,\n",
        "    FOREIGN KEY (post_id) REFERENCES posts(id),\n",
        "    FOREIGN KEY (user_id) REFERENCES users(id)\n",
        ");\n",
        "\"\"\")\n",
        "\n",
        "connection.commit()\n",
        "connection.close()\n",
        "\n",
        "# Step 2: Reflect schema with SQLAlchemy\n",
        "engine = create_engine('sqlite:///schema_tutorial.db')\n",
        "metadata = MetaData()\n",
        "metadata.reflect(bind=engine)\n",
        "\n",
        "# Step 3: Render ER diagram\n",
        "render_er(metadata, 'erd_from_sqlite.png')"
      ],
      "metadata": {
        "colab": {
          "base_uri": "https://localhost:8080/",
          "height": 313
        },
        "id": "ej3iSZNGAAo-",
        "outputId": "f761ca3e-3e48-4165-cc47-31e7de729176"
      },
      "execution_count": null,
      "outputs": [
        {
          "output_type": "execute_result",
          "data": {
            "image/svg+xml": "<?xml version=\"1.0\" encoding=\"UTF-8\" standalone=\"no\"?>\n<!DOCTYPE svg PUBLIC \"-//W3C//DTD SVG 1.1//EN\"\n \"http://www.w3.org/Graphics/SVG/1.1/DTD/svg11.dtd\">\n<!-- Generated by graphviz version 2.43.0 (0)\n -->\n<!-- Title: %3 Pages: 1 -->\n<svg width=\"655pt\" height=\"219pt\"\n viewBox=\"0.00 0.00 655.00 218.50\" xmlns=\"http://www.w3.org/2000/svg\" xmlns:xlink=\"http://www.w3.org/1999/xlink\">\n<g id=\"graph0\" class=\"graph\" transform=\"scale(1 1) rotate(0) translate(4 214.5)\">\n<title>%3</title>\n<polygon fill=\"white\" stroke=\"transparent\" points=\"-4,4 -4,-214.5 651,-214.5 651,4 -4,4\"/>\n<!-- comments -->\n<g id=\"node1\" class=\"node\">\n<title>comments</title>\n<polygon fill=\"none\" stroke=\"black\" points=\"507,-169.5 507,-197.5 639,-197.5 639,-169.5 507,-169.5\"/>\n<text text-anchor=\"start\" x=\"532.5\" y=\"-180.7\" font-family=\"Helvetica,sans-Serif\" font-weight=\"bold\" font-size=\"16.00\">comments</text>\n<polygon fill=\"none\" stroke=\"black\" points=\"507,-144.5 507,-169.5 639,-169.5 639,-144.5 507,-144.5\"/>\n<text text-anchor=\"start\" x=\"512\" y=\"-154.3\" font-family=\"Helvetica,sans-Serif\" text-decoration=\"underline\" font-size=\"14.00\">id</text>\n<text text-anchor=\"start\" x=\"523\" y=\"-154.3\" font-family=\"Helvetica,sans-Serif\" font-size=\"14.00\"> </text>\n<text text-anchor=\"start\" x=\"527\" y=\"-154.3\" font-family=\"Helvetica,sans-Serif\" font-size=\"14.00\"> [INTEGER]</text>\n<polygon fill=\"none\" stroke=\"black\" points=\"507,-119.5 507,-144.5 639,-144.5 639,-119.5 507,-119.5\"/>\n<text text-anchor=\"start\" x=\"512\" y=\"-129.3\" font-family=\"Helvetica,sans-Serif\" font-size=\"14.00\">post_id</text>\n<text text-anchor=\"start\" x=\"556\" y=\"-129.3\" font-family=\"Helvetica,sans-Serif\" font-size=\"14.00\"> </text>\n<text text-anchor=\"start\" x=\"560\" y=\"-129.3\" font-family=\"Helvetica,sans-Serif\" font-size=\"14.00\"> [INTEGER]</text>\n<polygon fill=\"none\" stroke=\"black\" points=\"507,-94.5 507,-119.5 639,-119.5 639,-94.5 507,-94.5\"/>\n<text text-anchor=\"start\" x=\"512\" y=\"-104.3\" font-family=\"Helvetica,sans-Serif\" font-size=\"14.00\">text</text>\n<text text-anchor=\"start\" x=\"534\" y=\"-104.3\" font-family=\"Helvetica,sans-Serif\" font-size=\"14.00\"> </text>\n<text text-anchor=\"start\" x=\"538\" y=\"-104.3\" font-family=\"Helvetica,sans-Serif\" font-size=\"14.00\"> [TEXT]</text>\n<polygon fill=\"none\" stroke=\"black\" points=\"507,-69.5 507,-94.5 639,-94.5 639,-69.5 507,-69.5\"/>\n<text text-anchor=\"start\" x=\"512\" y=\"-79.3\" font-family=\"Helvetica,sans-Serif\" font-size=\"14.00\">user_id</text>\n<text text-anchor=\"start\" x=\"557\" y=\"-79.3\" font-family=\"Helvetica,sans-Serif\" font-size=\"14.00\"> </text>\n<text text-anchor=\"start\" x=\"561\" y=\"-79.3\" font-family=\"Helvetica,sans-Serif\" font-size=\"14.00\"> [INTEGER]</text>\n</g>\n<!-- posts -->\n<g id=\"node2\" class=\"node\">\n<title>posts</title>\n<polygon fill=\"none\" stroke=\"black\" points=\"264,-178.5 264,-206.5 418,-206.5 418,-178.5 264,-178.5\"/>\n<text text-anchor=\"start\" x=\"319.5\" y=\"-189.7\" font-family=\"Helvetica,sans-Serif\" font-weight=\"bold\" font-size=\"16.00\">posts</text>\n<polygon fill=\"none\" stroke=\"black\" points=\"264,-153.5 264,-178.5 418,-178.5 418,-153.5 264,-153.5\"/>\n<text text-anchor=\"start\" x=\"269\" y=\"-163.3\" font-family=\"Helvetica,sans-Serif\" text-decoration=\"underline\" font-size=\"14.00\">id</text>\n<text text-anchor=\"start\" x=\"280\" y=\"-163.3\" font-family=\"Helvetica,sans-Serif\" font-size=\"14.00\"> </text>\n<text text-anchor=\"start\" x=\"284\" y=\"-163.3\" font-family=\"Helvetica,sans-Serif\" font-size=\"14.00\"> [INTEGER]</text>\n<polygon fill=\"none\" stroke=\"black\" points=\"264,-128.5 264,-153.5 418,-153.5 418,-128.5 264,-128.5\"/>\n<text text-anchor=\"start\" x=\"269\" y=\"-138.3\" font-family=\"Helvetica,sans-Serif\" font-size=\"14.00\">content</text>\n<text text-anchor=\"start\" x=\"314\" y=\"-138.3\" font-family=\"Helvetica,sans-Serif\" font-size=\"14.00\"> </text>\n<text text-anchor=\"start\" x=\"318\" y=\"-138.3\" font-family=\"Helvetica,sans-Serif\" font-size=\"14.00\"> [TEXT]</text>\n<polygon fill=\"none\" stroke=\"black\" points=\"264,-103.5 264,-128.5 418,-128.5 418,-103.5 264,-103.5\"/>\n<text text-anchor=\"start\" x=\"269\" y=\"-113.3\" font-family=\"Helvetica,sans-Serif\" font-size=\"14.00\">title</text>\n<text text-anchor=\"start\" x=\"291\" y=\"-113.3\" font-family=\"Helvetica,sans-Serif\" font-size=\"14.00\"> </text>\n<text text-anchor=\"start\" x=\"295\" y=\"-113.3\" font-family=\"Helvetica,sans-Serif\" font-size=\"14.00\"> [TEXT]</text>\n<text text-anchor=\"start\" x=\"341\" y=\"-113.3\" font-family=\"Helvetica,sans-Serif\" font-size=\"14.00\"> NOT NULL</text>\n<polygon fill=\"none\" stroke=\"black\" points=\"264,-78.5 264,-103.5 418,-103.5 418,-78.5 264,-78.5\"/>\n<text text-anchor=\"start\" x=\"269\" y=\"-88.3\" font-family=\"Helvetica,sans-Serif\" font-size=\"14.00\">user_id</text>\n<text text-anchor=\"start\" x=\"314\" y=\"-88.3\" font-family=\"Helvetica,sans-Serif\" font-size=\"14.00\"> </text>\n<text text-anchor=\"start\" x=\"318\" y=\"-88.3\" font-family=\"Helvetica,sans-Serif\" font-size=\"14.00\"> [INTEGER]</text>\n</g>\n<!-- posts&#45;&#45;comments -->\n<g id=\"edge2\" class=\"edge\">\n<title>posts:id&#45;&#45;comments:post_id</title>\n<path fill=\"none\" stroke=\"#7f7f7f\" stroke-dasharray=\"5,2\" d=\"M419,-166.5C460.68,-166.5 464.32,-131.5 506,-131.5\"/>\n<text text-anchor=\"start\" x=\"481\" y=\"-120.3\" font-family=\"Times,serif\" font-size=\"14.00\">0..N</text>\n<text text-anchor=\"start\" x=\"419\" y=\"-155.3\" font-family=\"Times,serif\" font-size=\"14.00\">{0,1}</text>\n</g>\n<!-- users -->\n<g id=\"node3\" class=\"node\">\n<title>users</title>\n<polygon fill=\"none\" stroke=\"black\" points=\"8.5,-78.5 8.5,-106.5 175.5,-106.5 175.5,-78.5 8.5,-78.5\"/>\n<text text-anchor=\"start\" x=\"70.5\" y=\"-89.7\" font-family=\"Helvetica,sans-Serif\" font-weight=\"bold\" font-size=\"16.00\">users</text>\n<polygon fill=\"none\" stroke=\"black\" points=\"8.5,-53.5 8.5,-78.5 175.5,-78.5 175.5,-53.5 8.5,-53.5\"/>\n<text text-anchor=\"start\" x=\"13.5\" y=\"-63.3\" font-family=\"Helvetica,sans-Serif\" text-decoration=\"underline\" font-size=\"14.00\">id</text>\n<text text-anchor=\"start\" x=\"24.5\" y=\"-63.3\" font-family=\"Helvetica,sans-Serif\" font-size=\"14.00\"> </text>\n<text text-anchor=\"start\" x=\"28.5\" y=\"-63.3\" font-family=\"Helvetica,sans-Serif\" font-size=\"14.00\"> [INTEGER]</text>\n<polygon fill=\"none\" stroke=\"black\" points=\"8.5,-28.5 8.5,-53.5 175.5,-53.5 175.5,-28.5 8.5,-28.5\"/>\n<text text-anchor=\"start\" x=\"13.5\" y=\"-38.3\" font-family=\"Helvetica,sans-Serif\" font-size=\"14.00\">email</text>\n<text text-anchor=\"start\" x=\"47.5\" y=\"-38.3\" font-family=\"Helvetica,sans-Serif\" font-size=\"14.00\"> </text>\n<text text-anchor=\"start\" x=\"51.5\" y=\"-38.3\" font-family=\"Helvetica,sans-Serif\" font-size=\"14.00\"> [TEXT]</text>\n<text text-anchor=\"start\" x=\"97.5\" y=\"-38.3\" font-family=\"Helvetica,sans-Serif\" font-size=\"14.00\"> NOT NULL</text>\n<polygon fill=\"none\" stroke=\"black\" points=\"8.5,-3.5 8.5,-28.5 175.5,-28.5 175.5,-3.5 8.5,-3.5\"/>\n<text text-anchor=\"start\" x=\"13.5\" y=\"-13.3\" font-family=\"Helvetica,sans-Serif\" font-size=\"14.00\">name</text>\n<text text-anchor=\"start\" x=\"48.5\" y=\"-13.3\" font-family=\"Helvetica,sans-Serif\" font-size=\"14.00\"> </text>\n<text text-anchor=\"start\" x=\"52.5\" y=\"-13.3\" font-family=\"Helvetica,sans-Serif\" font-size=\"14.00\"> [TEXT]</text>\n<text text-anchor=\"start\" x=\"98.5\" y=\"-13.3\" font-family=\"Helvetica,sans-Serif\" font-size=\"14.00\"> NOT NULL</text>\n</g>\n<!-- users&#45;&#45;comments -->\n<g id=\"edge1\" class=\"edge\">\n<title>users:id&#45;&#45;comments:user_id</title>\n<path fill=\"none\" stroke=\"#7f7f7f\" stroke-dasharray=\"5,2\" d=\"M176.5,-66.5C287.39,-66.5 315.65,-54.57 426,-65.5 462.08,-69.07 469.74,-81.5 506,-81.5\"/>\n<text text-anchor=\"start\" x=\"481\" y=\"-70.3\" font-family=\"Times,serif\" font-size=\"14.00\">0..N</text>\n<text text-anchor=\"start\" x=\"176.5\" y=\"-59.05\" font-family=\"Times,serif\" font-size=\"14.00\">{0,1}</text>\n</g>\n<!-- users&#45;&#45;posts -->\n<g id=\"edge3\" class=\"edge\">\n<title>users:id&#45;&#45;posts:user_id</title>\n<path fill=\"none\" stroke=\"#7f7f7f\" stroke-dasharray=\"5,2\" d=\"M176.5,-66.5C216.4,-66.5 223.1,-90.5 263,-90.5\"/>\n<text text-anchor=\"start\" x=\"238\" y=\"-79.3\" font-family=\"Times,serif\" font-size=\"14.00\">0..N</text>\n<text text-anchor=\"start\" x=\"176.5\" y=\"-70.3\" font-family=\"Times,serif\" font-size=\"14.00\">{0,1}</text>\n</g>\n</g>\n</svg>\n",
            "text/plain": [
              "<graphviz.sources.Source at 0x7fe21d472590>"
            ]
          },
          "metadata": {},
          "execution_count": 49
        }
      ]
    },
    {
      "cell_type": "code",
      "source": [
        "connection = sqlite3.connect(\"schema_tutorial.db\")\n",
        "cursor = connection.cursor()\n",
        "display_table('posts')"
      ],
      "metadata": {
        "colab": {
          "base_uri": "https://localhost:8080/",
          "height": 49
        },
        "id": "FXvDkevnVn4Z",
        "outputId": "d2f7b4e1-cbce-410c-b18b-90d32bc3f927"
      },
      "execution_count": null,
      "outputs": [
        {
          "output_type": "display_data",
          "data": {
            "text/plain": [
              "<IPython.core.display.Markdown object>"
            ],
            "text/markdown": "| id | title | content | user_id |\n| --- | --- | --- | --- |\n"
          },
          "metadata": {}
        }
      ]
    },
    {
      "cell_type": "markdown",
      "source": [
        "# Example 1) Basic Database\n",
        "\n",
        "## Creating a Database"
      ],
      "metadata": {
        "id": "flq7yMZhRUIg"
      }
    },
    {
      "cell_type": "code",
      "source": [
        "import sqlite3\n",
        "connection = sqlite3.connect(\"example_database_1.db\")\n",
        "cursor = connection.cursor()"
      ],
      "metadata": {
        "id": "DqiOqfvkPz_U"
      },
      "execution_count": null,
      "outputs": []
    },
    {
      "cell_type": "markdown",
      "source": [
        "## Creating a Table"
      ],
      "metadata": {
        "id": "LoXEg714kC1Z"
      }
    },
    {
      "cell_type": "code",
      "source": [
        "cursor.execute(\"\"\"\n",
        "\n",
        "CREATE TABLE People(first_name, last_name, age, favorite_color)\n",
        "\n",
        "\"\"\")"
      ],
      "metadata": {
        "colab": {
          "base_uri": "https://localhost:8080/"
        },
        "id": "n8i0IZ25jilE",
        "outputId": "a371b4a4-29b5-4b34-c837-00a457f0809e"
      },
      "execution_count": null,
      "outputs": [
        {
          "output_type": "execute_result",
          "data": {
            "text/plain": [
              "<sqlite3.Cursor at 0x7fe0370befc0>"
            ]
          },
          "metadata": {},
          "execution_count": 210
        }
      ]
    },
    {
      "cell_type": "markdown",
      "source": [
        "## Adding Records"
      ],
      "metadata": {
        "id": "0CDsHzdvkArJ"
      }
    },
    {
      "cell_type": "code",
      "source": [
        "cursor.execute(\"\"\"\n",
        "\n",
        "INSERT INTO People\n",
        "VALUES\n",
        "    ('Tom', 'Sawyer', 19, 'White'),\n",
        "    ('Mel', 'Gibson', 69, 'Green'),\n",
        "    ('Daniel', 'Warfiled', 27, 'Yellow')\n",
        "\n",
        "\"\"\")\n",
        "connection.commit()"
      ],
      "metadata": {
        "id": "RnTXMcqhj5Yb"
      },
      "execution_count": null,
      "outputs": []
    },
    {
      "cell_type": "markdown",
      "source": [
        "## Getting Table Content"
      ],
      "metadata": {
        "id": "9d2d1ZSukrR6"
      }
    },
    {
      "cell_type": "code",
      "source": [
        "cursor.execute(f\"\"\"\n",
        "\n",
        "SELECT * FROM People\n",
        "\n",
        "\"\"\")\n",
        "results = cursor.fetchall()\n",
        "\n",
        "display_results(cursor, results)"
      ],
      "metadata": {
        "colab": {
          "base_uri": "https://localhost:8080/",
          "height": 143
        },
        "id": "z7yOtDUYkhdx",
        "outputId": "45042777-8d69-4d5d-840d-a6353d7e927d"
      },
      "execution_count": null,
      "outputs": [
        {
          "output_type": "display_data",
          "data": {
            "text/plain": [
              "<IPython.core.display.Markdown object>"
            ],
            "text/markdown": "| first_name   | last_name   |   age | favorite_color   |\n|--------------|-------------|-------|------------------|\n| Tom          | Sawyer      |    19 | White            |\n| Mel          | Gibson      |    69 | Green            |\n| Daniel       | Warfiled    |    27 | Yellow           |"
          },
          "metadata": {}
        }
      ]
    },
    {
      "cell_type": "code",
      "source": [
        "cursor.execute(f\"\"\"\n",
        "\n",
        "SELECT first_name, favorite_color FROM People\n",
        "\n",
        "\"\"\")\n",
        "results = cursor.fetchall()\n",
        "\n",
        "display_results(cursor, results)"
      ],
      "metadata": {
        "colab": {
          "base_uri": "https://localhost:8080/",
          "height": 143
        },
        "id": "y2PM-Q3ATd6D",
        "outputId": "b7cd880d-81c0-4bb8-ed90-0e76c157c847"
      },
      "execution_count": null,
      "outputs": [
        {
          "output_type": "display_data",
          "data": {
            "text/plain": [
              "<IPython.core.display.Markdown object>"
            ],
            "text/markdown": "| first_name   | favorite_color   |\n|--------------|------------------|\n| Tom          | White            |\n| Mel          | Green            |\n| Daniel       | Yellow           |"
          },
          "metadata": {}
        }
      ]
    },
    {
      "cell_type": "markdown",
      "source": [
        "## Making a Helper Function to Render Tables Better"
      ],
      "metadata": {
        "id": "hm0QKRHPk7nS"
      }
    },
    {
      "cell_type": "code",
      "source": [
        "import sqlite3\n",
        "from IPython.display import Markdown, display\n",
        "\n",
        "def display_table(cursor, table_name):\n",
        "\n",
        "    # Getting all the content from a table\n",
        "    cursor.execute(f\"\"\"\n",
        "\n",
        "    SELECT * FROM {table_name}\n",
        "\n",
        "    \"\"\")\n",
        "    rows = cursor.fetchall()\n",
        "    columns = [description[0] for description in cursor.description]\n",
        "\n",
        "    # Building a markdown table\n",
        "    md = \"| \" + \" | \".join(columns) + \" |\\n\"\n",
        "    md += \"| \" + \" | \".join([\"---\"] * len(columns)) + \" |\\n\"\n",
        "    for row in rows:\n",
        "        md += \"| \" + \" | \".join(str(cell) for cell in row) + \" |\\n\"\n",
        "\n",
        "    # Displaying in Markdown format\n",
        "    display(Markdown(md))\n",
        "\n",
        "\n",
        "# display_table(cursor, \"People\")"
      ],
      "metadata": {
        "id": "lqwe-__Qkyav"
      },
      "execution_count": null,
      "outputs": []
    },
    {
      "cell_type": "markdown",
      "source": [
        "## Adding a Person, with a Null value"
      ],
      "metadata": {
        "id": "YkEuOYPhmFsd"
      }
    },
    {
      "cell_type": "code",
      "source": [
        "cursor.execute(\"\"\"\n",
        "\n",
        "INSERT INTO People\n",
        "VALUES\n",
        "    ('Tom', 'Bombadill', NULL, 'Yellow')\n",
        "\n",
        "\"\"\")\n",
        "connection.commit()"
      ],
      "metadata": {
        "id": "I58q-GkNmFgg"
      },
      "execution_count": null,
      "outputs": []
    },
    {
      "cell_type": "code",
      "source": [
        "display_table(\"People\")"
      ],
      "metadata": {
        "colab": {
          "base_uri": "https://localhost:8080/",
          "height": 174
        },
        "id": "Gg_Kvc8UlJNe",
        "outputId": "961ec240-021d-4f94-b498-848e252bf07e"
      },
      "execution_count": null,
      "outputs": [
        {
          "output_type": "display_data",
          "data": {
            "text/plain": [
              "<IPython.core.display.Markdown object>"
            ],
            "text/markdown": "| first_name | last_name | age | favorite_color |\n| --- | --- | --- | --- |\n| Tom | Sawyer | 19 | White |\n| Mel | Gibson | 69 | Green |\n| Daniel | Warfiled | 27 | Yellow |\n| Tom | Bombadill | None | Yellow |\n"
          },
          "metadata": {}
        }
      ]
    },
    {
      "cell_type": "markdown",
      "source": [
        "# Example 2) Basic Selection and Filtering"
      ],
      "metadata": {
        "id": "9FuKvtTom9WY"
      }
    },
    {
      "cell_type": "markdown",
      "source": [
        "## Creating with an auto incrementing primary key"
      ],
      "metadata": {
        "id": "o0DcCj_AoP30"
      }
    },
    {
      "cell_type": "code",
      "source": [
        "import sqlite3\n",
        "connection = sqlite3.connect(\"example_database_2.db\")\n",
        "cursor = connection.cursor()"
      ],
      "metadata": {
        "id": "9--pBllAmYiL"
      },
      "execution_count": null,
      "outputs": []
    },
    {
      "cell_type": "code",
      "source": [
        "cursor.execute(\"\"\"\n",
        "\n",
        "CREATE TABLE People(\n",
        "    id INTEGER PRIMARY KEY,\n",
        "    first_name TEXT,\n",
        "    last_name TEXT,\n",
        "    age INTEGER,\n",
        "    favorite_color TEXT\n",
        ")\n",
        "\n",
        "\"\"\")"
      ],
      "metadata": {
        "colab": {
          "base_uri": "https://localhost:8080/"
        },
        "id": "aiqmxLcinW_-",
        "outputId": "b6aa2481-c11a-467d-9cd7-ad9d3b2e3f07"
      },
      "execution_count": null,
      "outputs": [
        {
          "output_type": "execute_result",
          "data": {
            "text/plain": [
              "<sqlite3.Cursor at 0x7fe0370bfdc0>"
            ]
          },
          "metadata": {},
          "execution_count": 219
        }
      ]
    },
    {
      "cell_type": "code",
      "source": [
        "cursor.execute(\"\"\"\n",
        "\n",
        "INSERT INTO People\n",
        "VALUES\n",
        "    (NULL, 'Tom', 'Sawyer', 19, 'White'),\n",
        "    (NULL, 'Mel', 'Gibson', 69, 'Green'),\n",
        "    (NULL, 'Daniel', 'Warfiled', 27, 'Yellow')\n",
        "\n",
        "\"\"\")\n",
        "connection.commit()"
      ],
      "metadata": {
        "id": "8m5f2wNLnnu2"
      },
      "execution_count": null,
      "outputs": []
    },
    {
      "cell_type": "code",
      "source": [
        "display_table(cursor, \"People\")"
      ],
      "metadata": {
        "colab": {
          "base_uri": "https://localhost:8080/",
          "height": 143
        },
        "id": "BkYY9V7inqWJ",
        "outputId": "a1e08c51-332a-41e4-b177-aa31e99fd4a1"
      },
      "execution_count": null,
      "outputs": [
        {
          "output_type": "display_data",
          "data": {
            "text/plain": [
              "<IPython.core.display.Markdown object>"
            ],
            "text/markdown": "| id | first_name | last_name | age | favorite_color |\n| --- | --- | --- | --- | --- |\n| 1 | Tom | Sawyer | 19 | White |\n| 2 | Mel | Gibson | 69 | Green |\n| 3 | Daniel | Warfiled | 27 | Yellow |\n"
          },
          "metadata": {}
        }
      ]
    },
    {
      "cell_type": "markdown",
      "source": [
        "## Type Conflict"
      ],
      "metadata": {
        "id": "voXjTqQmav73"
      }
    },
    {
      "cell_type": "code",
      "source": [
        "cursor.execute(\"\"\"\n",
        "\n",
        "INSERT INTO People\n",
        "VALUES\n",
        "    (NULL, 3, 3, 'hello', 3)\n",
        "\n",
        "\"\"\")\n",
        "connection.commit()\n",
        "\n",
        "display_table(cursor, \"People\")"
      ],
      "metadata": {
        "colab": {
          "base_uri": "https://localhost:8080/",
          "height": 174
        },
        "id": "5uJHm_TVavl1",
        "outputId": "fecffbcd-8a32-4c97-a15c-26bc38e4c22b"
      },
      "execution_count": null,
      "outputs": [
        {
          "output_type": "display_data",
          "data": {
            "text/plain": [
              "<IPython.core.display.Markdown object>"
            ],
            "text/markdown": "| id | first_name | last_name | age | favorite_color |\n| --- | --- | --- | --- | --- |\n| 1 | Tom | Sawyer | 19 | White |\n| 2 | Mel | Gibson | 69 | Green |\n| 3 | Daniel | Warfiled | 27 | Yellow |\n| 4 | 3 | 3 | hello | 3 |\n"
          },
          "metadata": {}
        }
      ]
    },
    {
      "cell_type": "markdown",
      "source": [
        "## Getting Individual Item"
      ],
      "metadata": {
        "id": "ltFBMKqGo3d8"
      }
    },
    {
      "cell_type": "code",
      "source": [
        "cursor.execute(\"\"\"\n",
        "\n",
        "SELECT * FROM People WHERE id = 3\n",
        "\n",
        "\"\"\")\n",
        "results = cursor.fetchall()\n",
        "display_results(cursor, results)"
      ],
      "metadata": {
        "colab": {
          "base_uri": "https://localhost:8080/",
          "height": 80
        },
        "id": "DRx3eQsjoJ2Z",
        "outputId": "30753fe5-8e95-458f-b1de-8d8ac5842004"
      },
      "execution_count": null,
      "outputs": [
        {
          "output_type": "display_data",
          "data": {
            "text/plain": [
              "<IPython.core.display.Markdown object>"
            ],
            "text/markdown": "|   id | first_name   | last_name   |   age | favorite_color   |\n|------|--------------|-------------|-------|------------------|\n|    3 | Daniel       | Warfiled    |    27 | Yellow           |"
          },
          "metadata": {}
        }
      ]
    },
    {
      "cell_type": "code",
      "source": [
        "cursor.execute(\"\"\"\n",
        "\n",
        "SELECT\n",
        "*\n",
        "FROM\n",
        "People\n",
        "WHERE\n",
        "id\n",
        "=\n",
        "3\n",
        "\n",
        "\"\"\")\n",
        "row = cursor.fetchone()\n",
        "print(row)"
      ],
      "metadata": {
        "colab": {
          "base_uri": "https://localhost:8080/"
        },
        "id": "QzNhHEhGir5r",
        "outputId": "5c46f48b-8e1b-432e-e2f1-b891d5c7d887"
      },
      "execution_count": null,
      "outputs": [
        {
          "output_type": "stream",
          "name": "stdout",
          "text": [
            "(3, 'Daniel', 'Warfiled', 27, 'Yellow')\n"
          ]
        }
      ]
    },
    {
      "cell_type": "markdown",
      "source": [
        "## Getting all Items"
      ],
      "metadata": {
        "id": "NuQKWGNbo6p-"
      }
    },
    {
      "cell_type": "code",
      "source": [
        "cursor.execute(\"\"\"\n",
        "\n",
        "SELECT * FROM People WHERE age > 20\n",
        "\n",
        "\"\"\")\n",
        "results = cursor.fetchall()\n",
        "display_results(cursor, results)"
      ],
      "metadata": {
        "colab": {
          "base_uri": "https://localhost:8080/",
          "height": 143
        },
        "id": "JrlqVhceo180",
        "outputId": "54512e77-ed3c-4d5c-bfd3-b3792e1c6218"
      },
      "execution_count": null,
      "outputs": [
        {
          "output_type": "display_data",
          "data": {
            "text/plain": [
              "<IPython.core.display.Markdown object>"
            ],
            "text/markdown": "|   id | first_name   | last_name   | age   | favorite_color   |\n|------|--------------|-------------|-------|------------------|\n|    2 | Mel          | Gibson      | 69    | Green            |\n|    3 | Daniel       | Warfiled    | 27    | Yellow           |\n|    4 | 3            | 3           | hello | 3                |"
          },
          "metadata": {}
        }
      ]
    },
    {
      "cell_type": "markdown",
      "source": [
        "## Getting the first and last name of All People under 30"
      ],
      "metadata": {
        "id": "tXP77It4rHlf"
      }
    },
    {
      "cell_type": "code",
      "source": [
        "cursor.execute(\"\"\"\n",
        "\n",
        "SELECT first_name, last_name FROM People WHERE age < 30\n",
        "\n",
        "\"\"\")\n",
        "results = cursor.fetchall()\n",
        "display_results(cursor, results)"
      ],
      "metadata": {
        "colab": {
          "base_uri": "https://localhost:8080/",
          "height": 112
        },
        "id": "jPkqk0QvprjU",
        "outputId": "1e91ae69-09e0-4bc5-98fe-194f99869827"
      },
      "execution_count": null,
      "outputs": [
        {
          "output_type": "display_data",
          "data": {
            "text/plain": [
              "<IPython.core.display.Markdown object>"
            ],
            "text/markdown": "| first_name   | last_name   |\n|--------------|-------------|\n| Tom          | Sawyer      |\n| Daniel       | Warfiled    |"
          },
          "metadata": {}
        }
      ]
    },
    {
      "cell_type": "markdown",
      "source": [
        "# Example 3) Creation and Deletion"
      ],
      "metadata": {
        "id": "CoFxDlxmsBRR"
      }
    },
    {
      "cell_type": "markdown",
      "source": [
        "## Creating DB"
      ],
      "metadata": {
        "id": "10wbzC85s2GR"
      }
    },
    {
      "cell_type": "code",
      "source": [
        "import sqlite3\n",
        "connection = sqlite3.connect(\"example_database_3.db\")\n",
        "cursor = connection.cursor()"
      ],
      "metadata": {
        "id": "1DF8TDVXrU5q"
      },
      "execution_count": null,
      "outputs": []
    },
    {
      "cell_type": "code",
      "source": [
        "cursor.execute(\"\"\"\n",
        "\n",
        "CREATE TABLE People(\n",
        "    id INTEGER PRIMARY KEY,\n",
        "    first_name TEXT,\n",
        "    last_name TEXT,\n",
        "    age INTEGER,\n",
        "    favorite_color TEXT\n",
        ")\n",
        "\n",
        "\"\"\")"
      ],
      "metadata": {
        "colab": {
          "base_uri": "https://localhost:8080/"
        },
        "id": "GMzrtDRCstzf",
        "outputId": "add5f62c-90a8-4d25-dff7-b45791fec9ca"
      },
      "execution_count": null,
      "outputs": [
        {
          "output_type": "execute_result",
          "data": {
            "text/plain": [
              "<sqlite3.Cursor at 0x7fe037faed40>"
            ]
          },
          "metadata": {},
          "execution_count": 40
        }
      ]
    },
    {
      "cell_type": "code",
      "source": [
        "cursor.execute(\"\"\"\n",
        "\n",
        "INSERT INTO People\n",
        "VALUES\n",
        "    (NULL, 'Tom', 'Sawyer', 19, 'White'),\n",
        "    (NULL, 'Mel', 'Gibson', 69, 'Green'),\n",
        "    (NULL, 'Daniel', 'Warfiled', 27, 'Yellow')\n",
        "\n",
        "\"\"\")\n",
        "connection.commit()"
      ],
      "metadata": {
        "id": "x01k9IUIsvtV"
      },
      "execution_count": null,
      "outputs": []
    },
    {
      "cell_type": "code",
      "source": [
        "display_table(cursor, \"People\")"
      ],
      "metadata": {
        "colab": {
          "base_uri": "https://localhost:8080/",
          "height": 143
        },
        "id": "FB2Xmdmpsz4Y",
        "outputId": "dfee8add-cf51-468c-db30-59c1d1a5fdfe"
      },
      "execution_count": null,
      "outputs": [
        {
          "output_type": "display_data",
          "data": {
            "text/plain": [
              "<IPython.core.display.Markdown object>"
            ],
            "text/markdown": "| id | first_name | last_name | age | favorite_color |\n| --- | --- | --- | --- | --- |\n| 1 | Tom | Sawyer | 19 | White |\n| 2 | Mel | Gibson | 69 | Green |\n| 3 | Daniel | Warfiled | 27 | Yellow |\n"
          },
          "metadata": {}
        }
      ]
    },
    {
      "cell_type": "markdown",
      "source": [
        "# Deleting all People under the age of 30"
      ],
      "metadata": {
        "id": "qBFNxH0Ys38U"
      }
    },
    {
      "cell_type": "code",
      "source": [
        "cursor.execute(\"\"\"\n",
        "\n",
        "DELETE FROM People WHERE age < 30\n",
        "\n",
        "\"\"\")\n",
        "connection.commit()\n",
        "\n",
        "display_table(cursor, \"People\")"
      ],
      "metadata": {
        "colab": {
          "base_uri": "https://localhost:8080/",
          "height": 80
        },
        "id": "iM4GfzUDs0HF",
        "outputId": "3aa4481c-f018-465c-93ed-97f24edc2926"
      },
      "execution_count": null,
      "outputs": [
        {
          "output_type": "display_data",
          "data": {
            "text/plain": [
              "<IPython.core.display.Markdown object>"
            ],
            "text/markdown": "| id | first_name | last_name | age | favorite_color |\n| --- | --- | --- | --- | --- |\n| 2 | Mel | Gibson | 69 | Green |\n"
          },
          "metadata": {}
        }
      ]
    },
    {
      "cell_type": "markdown",
      "source": [
        "## Deleting the Table"
      ],
      "metadata": {
        "id": "kJV4ZiXmuLJT"
      }
    },
    {
      "cell_type": "code",
      "source": [
        "# Drop the table\n",
        "cursor.execute(\"\"\"\n",
        "\n",
        "DROP TABLE IF EXISTS People\n",
        "\n",
        "\"\"\")\n",
        "connection.commit()"
      ],
      "metadata": {
        "id": "VphObjXPtFLB"
      },
      "execution_count": null,
      "outputs": []
    },
    {
      "cell_type": "code",
      "source": [
        "display_table(cursor, \"People\")"
      ],
      "metadata": {
        "colab": {
          "base_uri": "https://localhost:8080/",
          "height": 263
        },
        "id": "nldstDK4uGUW",
        "outputId": "5ae608af-f9f5-4b7c-bb03-8b7866adb2cb"
      },
      "execution_count": null,
      "outputs": [
        {
          "output_type": "error",
          "ename": "OperationalError",
          "evalue": "no such table: People",
          "traceback": [
            "\u001b[0;31m---------------------------------------------------------------------------\u001b[0m",
            "\u001b[0;31mOperationalError\u001b[0m                          Traceback (most recent call last)",
            "\u001b[0;32m<ipython-input-45-a333a3271ad8>\u001b[0m in \u001b[0;36m<cell line: 0>\u001b[0;34m()\u001b[0m\n\u001b[0;32m----> 1\u001b[0;31m \u001b[0mdisplay_table\u001b[0m\u001b[0;34m(\u001b[0m\u001b[0mcursor\u001b[0m\u001b[0;34m,\u001b[0m \u001b[0;34m\"People\"\u001b[0m\u001b[0;34m)\u001b[0m\u001b[0;34m\u001b[0m\u001b[0;34m\u001b[0m\u001b[0m\n\u001b[0m",
            "\u001b[0;32m<ipython-input-7-81be8c7770ee>\u001b[0m in \u001b[0;36mdisplay_table\u001b[0;34m(cursor, table_name)\u001b[0m\n\u001b[1;32m      5\u001b[0m \u001b[0;34m\u001b[0m\u001b[0m\n\u001b[1;32m      6\u001b[0m     \u001b[0;31m# Getting all the content from a table\u001b[0m\u001b[0;34m\u001b[0m\u001b[0;34m\u001b[0m\u001b[0m\n\u001b[0;32m----> 7\u001b[0;31m     cursor.execute(f\"\"\"\n\u001b[0m\u001b[1;32m      8\u001b[0m \u001b[0;34m\u001b[0m\u001b[0m\n\u001b[1;32m      9\u001b[0m     \u001b[0mSELECT\u001b[0m \u001b[0;34m*\u001b[0m \u001b[0mFROM\u001b[0m \u001b[0;34m{\u001b[0m\u001b[0mtable_name\u001b[0m\u001b[0;34m}\u001b[0m\u001b[0;34m\u001b[0m\u001b[0;34m\u001b[0m\u001b[0m\n",
            "\u001b[0;31mOperationalError\u001b[0m: no such table: People"
          ]
        }
      ]
    },
    {
      "cell_type": "markdown",
      "source": [
        "# Example 4) Primary and Foreign Keys"
      ],
      "metadata": {
        "id": "NIf3QOZiz8wf"
      }
    },
    {
      "cell_type": "code",
      "source": [
        "import sqlite3\n",
        "connection = sqlite3.connect(\"example_database_4.db\")\n",
        "cursor = connection.cursor()"
      ],
      "metadata": {
        "id": "0Yt0_DtfuHay"
      },
      "execution_count": null,
      "outputs": []
    },
    {
      "cell_type": "code",
      "source": [
        "cursor.executescript(\"\"\"\n",
        "\n",
        "CREATE TABLE Users(\n",
        "    id INTEGER PRIMARY KEY,\n",
        "    username TEXT\n",
        ");\n",
        "\n",
        "CREATE TABLE Comments(\n",
        "    id INTEGER PRIMARY KEY,\n",
        "    comment TEXT,\n",
        "    user_id INTEGER,\n",
        "    FOREIGN KEY (user_id) REFERENCES Users(id)\n",
        ")\n",
        "\n",
        "\"\"\")"
      ],
      "metadata": {
        "colab": {
          "base_uri": "https://localhost:8080/"
        },
        "id": "Lqjz0GPB0HoY",
        "outputId": "9761957a-81ce-4c07-e4c8-986104820486"
      },
      "execution_count": null,
      "outputs": [
        {
          "output_type": "execute_result",
          "data": {
            "text/plain": [
              "<sqlite3.Cursor at 0x7fe037fafd40>"
            ]
          },
          "metadata": {},
          "execution_count": 57
        }
      ]
    },
    {
      "cell_type": "code",
      "source": [
        "cursor.executescript(\"\"\"\n",
        "\n",
        "INSERT INTO Users (id, username) VALUES\n",
        "    (NULL, 'alice'),\n",
        "    (NULL, 'bob'),\n",
        "    (NULL, 'charlie');\n",
        "\n",
        "INSERT INTO Comments (id, comment, user_id) VALUES\n",
        "    (NULL, 'Hello world!', 1),\n",
        "    (NULL, 'Nice to meet you.', 1),\n",
        "    (NULL, 'This is a comment.', 2),\n",
        "    (NULL, 'Another one here.', 3),\n",
        "    (NULL, 'Final test comment.', 3);\n",
        "\n",
        "\"\"\")\n",
        "\n",
        "connection.commit()"
      ],
      "metadata": {
        "id": "mEfp-YA-0kHq"
      },
      "execution_count": null,
      "outputs": []
    },
    {
      "cell_type": "code",
      "source": [
        "print('Users:')\n",
        "display_table(cursor, \"Users\")\n",
        "\n",
        "print('\\nComments:')\n",
        "display_table(cursor, \"Comments\")"
      ],
      "metadata": {
        "colab": {
          "base_uri": "https://localhost:8080/",
          "height": 635
        },
        "id": "OVda4goc5nr-",
        "outputId": "44c8e7ec-a6f7-4d4e-91c1-b1d78fc3f1fb"
      },
      "execution_count": null,
      "outputs": [
        {
          "output_type": "stream",
          "name": "stdout",
          "text": [
            "Users:\n"
          ]
        },
        {
          "output_type": "display_data",
          "data": {
            "text/plain": [
              "<IPython.core.display.Markdown object>"
            ],
            "text/markdown": "| id | username |\n| --- | --- |\n| 1 | alice |\n| 2 | bob |\n| 3 | charlie |\n| 4 | alice |\n| 5 | bob |\n| 6 | charlie |\n"
          },
          "metadata": {}
        },
        {
          "output_type": "stream",
          "name": "stdout",
          "text": [
            "\n",
            "Comments:\n"
          ]
        },
        {
          "output_type": "display_data",
          "data": {
            "text/plain": [
              "<IPython.core.display.Markdown object>"
            ],
            "text/markdown": "| id | comment | user_id |\n| --- | --- | --- |\n| 1 | Hello world! | 1 |\n| 2 | Nice to meet you. | 1 |\n| 3 | This is a comment. | 2 |\n| 4 | Another one here. | 3 |\n| 5 | Final test comment. | 3 |\n| 6 | Hello world! | 1 |\n| 7 | Nice to meet you. | 1 |\n| 8 | This is a comment. | 2 |\n| 9 | Another one here. | 3 |\n| 10 | Final test comment. | 3 |\n"
          },
          "metadata": {}
        }
      ]
    },
    {
      "cell_type": "markdown",
      "source": [
        "## Drawing Entity Relationship Diagram"
      ],
      "metadata": {
        "id": "E3EXj8qh6WxX"
      }
    },
    {
      "cell_type": "code",
      "source": [
        "!pip install eralchemy"
      ],
      "metadata": {
        "colab": {
          "base_uri": "https://localhost:8080/"
        },
        "id": "xy8M2VcQ6UD6",
        "outputId": "5567811a-3b73-457f-e64d-0848f05dbf14"
      },
      "execution_count": null,
      "outputs": [
        {
          "output_type": "stream",
          "name": "stdout",
          "text": [
            "Collecting eralchemy\n",
            "  Downloading eralchemy-1.5.0-py3-none-any.whl.metadata (6.4 kB)\n",
            "Requirement already satisfied: sqlalchemy>=1.4.18 in /usr/local/lib/python3.11/dist-packages (from eralchemy) (2.0.40)\n",
            "Requirement already satisfied: greenlet>=1 in /usr/local/lib/python3.11/dist-packages (from sqlalchemy>=1.4.18->eralchemy) (3.1.1)\n",
            "Requirement already satisfied: typing-extensions>=4.6.0 in /usr/local/lib/python3.11/dist-packages (from sqlalchemy>=1.4.18->eralchemy) (4.13.0)\n",
            "Downloading eralchemy-1.5.0-py3-none-any.whl (19 kB)\n",
            "Installing collected packages: eralchemy\n",
            "Successfully installed eralchemy-1.5.0\n"
          ]
        }
      ]
    },
    {
      "cell_type": "code",
      "source": [
        "from sqlalchemy import create_engine, MetaData\n",
        "from eralchemy import render_er\n",
        "\n",
        "# Step 2: Reflect schema with SQLAlchemy\n",
        "engine = create_engine('sqlite:///example_database_4.db')\n",
        "metadata = MetaData()\n",
        "metadata.reflect(bind=engine)\n",
        "\n",
        "# Step 3: Render ER diagram\n",
        "render_er(metadata, 'example_database_4.png')"
      ],
      "metadata": {
        "colab": {
          "base_uri": "https://localhost:8080/",
          "height": 214
        },
        "id": "M3xgtAG0545d",
        "outputId": "24f0ed5f-0640-4ac7-e4e3-0c3e9750dcd1"
      },
      "execution_count": null,
      "outputs": [
        {
          "output_type": "execute_result",
          "data": {
            "image/svg+xml": "<?xml version=\"1.0\" encoding=\"UTF-8\" standalone=\"no\"?>\n<!DOCTYPE svg PUBLIC \"-//W3C//DTD SVG 1.1//EN\"\n \"http://www.w3.org/Graphics/SVG/1.1/DTD/svg11.dtd\">\n<!-- Generated by graphviz version 2.43.0 (0)\n -->\n<!-- Title: %3 Pages: 1 -->\n<svg width=\"366pt\" height=\"145pt\"\n viewBox=\"0.00 0.00 366.00 144.50\" xmlns=\"http://www.w3.org/2000/svg\" xmlns:xlink=\"http://www.w3.org/1999/xlink\">\n<g id=\"graph0\" class=\"graph\" transform=\"scale(1 1) rotate(0) translate(4 140.5)\">\n<title>%3</title>\n<polygon fill=\"white\" stroke=\"transparent\" points=\"-4,4 -4,-140.5 362,-140.5 362,4 -4,4\"/>\n<!-- Comments -->\n<g id=\"node1\" class=\"node\">\n<title>Comments</title>\n<polygon fill=\"none\" stroke=\"black\" points=\"218,-104 218,-132 350,-132 350,-104 218,-104\"/>\n<text text-anchor=\"start\" x=\"242.5\" y=\"-115.2\" font-family=\"Helvetica,sans-Serif\" font-weight=\"bold\" font-size=\"16.00\">Comments</text>\n<polygon fill=\"none\" stroke=\"black\" points=\"218,-79 218,-104 350,-104 350,-79 218,-79\"/>\n<text text-anchor=\"start\" x=\"223\" y=\"-88.8\" font-family=\"Helvetica,sans-Serif\" text-decoration=\"underline\" font-size=\"14.00\">id</text>\n<text text-anchor=\"start\" x=\"234\" y=\"-88.8\" font-family=\"Helvetica,sans-Serif\" font-size=\"14.00\"> </text>\n<text text-anchor=\"start\" x=\"238\" y=\"-88.8\" font-family=\"Helvetica,sans-Serif\" font-size=\"14.00\"> [INTEGER]</text>\n<polygon fill=\"none\" stroke=\"black\" points=\"218,-54 218,-79 350,-79 350,-54 218,-54\"/>\n<text text-anchor=\"start\" x=\"223\" y=\"-63.8\" font-family=\"Helvetica,sans-Serif\" font-size=\"14.00\">comment</text>\n<text text-anchor=\"start\" x=\"281\" y=\"-63.8\" font-family=\"Helvetica,sans-Serif\" font-size=\"14.00\"> </text>\n<text text-anchor=\"start\" x=\"285\" y=\"-63.8\" font-family=\"Helvetica,sans-Serif\" font-size=\"14.00\"> [TEXT]</text>\n<polygon fill=\"none\" stroke=\"black\" points=\"218,-29 218,-54 350,-54 350,-29 218,-29\"/>\n<text text-anchor=\"start\" x=\"223\" y=\"-38.8\" font-family=\"Helvetica,sans-Serif\" font-size=\"14.00\">user_id</text>\n<text text-anchor=\"start\" x=\"268\" y=\"-38.8\" font-family=\"Helvetica,sans-Serif\" font-size=\"14.00\"> </text>\n<text text-anchor=\"start\" x=\"272\" y=\"-38.8\" font-family=\"Helvetica,sans-Serif\" font-size=\"14.00\"> [INTEGER]</text>\n</g>\n<!-- Users -->\n<g id=\"node2\" class=\"node\">\n<title>Users</title>\n<polygon fill=\"none\" stroke=\"black\" points=\"8.5,-54 8.5,-82 129.5,-82 129.5,-54 8.5,-54\"/>\n<text text-anchor=\"start\" x=\"46.5\" y=\"-65.2\" font-family=\"Helvetica,sans-Serif\" font-weight=\"bold\" font-size=\"16.00\">Users</text>\n<polygon fill=\"none\" stroke=\"black\" points=\"8.5,-29 8.5,-54 129.5,-54 129.5,-29 8.5,-29\"/>\n<text text-anchor=\"start\" x=\"13.5\" y=\"-38.8\" font-family=\"Helvetica,sans-Serif\" text-decoration=\"underline\" font-size=\"14.00\">id</text>\n<text text-anchor=\"start\" x=\"24.5\" y=\"-38.8\" font-family=\"Helvetica,sans-Serif\" font-size=\"14.00\"> </text>\n<text text-anchor=\"start\" x=\"28.5\" y=\"-38.8\" font-family=\"Helvetica,sans-Serif\" font-size=\"14.00\"> [INTEGER]</text>\n<polygon fill=\"none\" stroke=\"black\" points=\"8.5,-4 8.5,-29 129.5,-29 129.5,-4 8.5,-4\"/>\n<text text-anchor=\"start\" x=\"13.5\" y=\"-13.8\" font-family=\"Helvetica,sans-Serif\" font-size=\"14.00\">username</text>\n<text text-anchor=\"start\" x=\"74.5\" y=\"-13.8\" font-family=\"Helvetica,sans-Serif\" font-size=\"14.00\"> </text>\n<text text-anchor=\"start\" x=\"78.5\" y=\"-13.8\" font-family=\"Helvetica,sans-Serif\" font-size=\"14.00\"> [TEXT]</text>\n</g>\n<!-- Users&#45;&#45;Comments -->\n<g id=\"edge1\" class=\"edge\">\n<title>Users:id&#45;&#45;Comments:user_id</title>\n<path fill=\"none\" stroke=\"#7f7f7f\" stroke-dasharray=\"5,2\" d=\"M130.5,-41C168.94,-41 178.56,-41 217,-41\"/>\n<text text-anchor=\"start\" x=\"192\" y=\"-29.8\" font-family=\"Times,serif\" font-size=\"14.00\">0..N</text>\n<text text-anchor=\"start\" x=\"130.5\" y=\"-29.8\" font-family=\"Times,serif\" font-size=\"14.00\">{0,1}</text>\n</g>\n</g>\n</svg>\n",
            "text/plain": [
              "<graphviz.sources.Source at 0x7fe037e32750>"
            ]
          },
          "metadata": {},
          "execution_count": 66
        }
      ]
    },
    {
      "cell_type": "markdown",
      "source": [
        "## Example 5) Joins"
      ],
      "metadata": {
        "id": "6iS1WGll6joN"
      }
    },
    {
      "cell_type": "code",
      "source": [
        "import sqlite3\n",
        "connection = sqlite3.connect(\"example_database_5.db\")\n",
        "cursor = connection.cursor()"
      ],
      "metadata": {
        "id": "uAY49V5W6Nqr"
      },
      "execution_count": null,
      "outputs": []
    },
    {
      "cell_type": "code",
      "source": [
        "cursor.executescript(\"\"\"\n",
        "\n",
        "CREATE TABLE Users(\n",
        "    id INTEGER PRIMARY KEY,\n",
        "    username TEXT\n",
        ");\n",
        "\n",
        "CREATE TABLE Comments(\n",
        "    id INTEGER PRIMARY KEY,\n",
        "    comment TEXT,\n",
        "    user_id INTEGER,\n",
        "    FOREIGN KEY (user_id) REFERENCES Users(id)\n",
        ");\n",
        "\n",
        "INSERT INTO Users (id, username) VALUES\n",
        "    (NULL, 'alice'),\n",
        "    (NULL, 'bob'),\n",
        "    (NULL, 'charlie'),\n",
        "    (NULL, 'quiet guy');\n",
        "\n",
        "INSERT INTO Comments (id, comment, user_id) VALUES\n",
        "    (NULL, 'Hello world!', 1),\n",
        "    (NULL, 'Nice to meet you.', 1),\n",
        "    (NULL, 'This is a comment.', 2),\n",
        "    (NULL, 'Another one here.', 3),\n",
        "    (NULL, 'Final test comment.', 3),\n",
        "    (NULL, 'Ghost Comment', NULL);\n",
        "\n",
        "\"\"\")\n",
        "connection.commit()"
      ],
      "metadata": {
        "id": "T-T07ZWX6tLl"
      },
      "execution_count": null,
      "outputs": []
    },
    {
      "cell_type": "code",
      "source": [
        "print('Users:')\n",
        "display_table(cursor, \"Users\")\n",
        "print('\\nComments:')\n",
        "display_table(cursor, \"Comments\")"
      ],
      "metadata": {
        "colab": {
          "base_uri": "https://localhost:8080/",
          "height": 446
        },
        "id": "AOUqhkLGqn-_",
        "outputId": "a663a062-aba8-4943-f665-c9911e512043"
      },
      "execution_count": null,
      "outputs": [
        {
          "output_type": "stream",
          "name": "stdout",
          "text": [
            "Users:\n"
          ]
        },
        {
          "output_type": "display_data",
          "data": {
            "text/plain": [
              "<IPython.core.display.Markdown object>"
            ],
            "text/markdown": "| id | username |\n| --- | --- |\n| 1 | alice |\n| 2 | bob |\n| 3 | charlie |\n| 4 | quiet guy |\n"
          },
          "metadata": {}
        },
        {
          "output_type": "stream",
          "name": "stdout",
          "text": [
            "\n",
            "Comments:\n"
          ]
        },
        {
          "output_type": "display_data",
          "data": {
            "text/plain": [
              "<IPython.core.display.Markdown object>"
            ],
            "text/markdown": "| id | comment | user_id |\n| --- | --- | --- |\n| 1 | Hello world! | 1 |\n| 2 | Nice to meet you. | 1 |\n| 3 | This is a comment. | 2 |\n| 4 | Another one here. | 3 |\n| 5 | Final test comment. | 3 |\n| 6 | Ghost Comment | None |\n"
          },
          "metadata": {}
        }
      ]
    },
    {
      "cell_type": "code",
      "source": [
        "cursor.execute(\"\"\"\n",
        "\n",
        "SELECT\n",
        "    Users.username,\n",
        "    Comments.comment\n",
        "FROM Comments\n",
        "JOIN Users ON Comments.user_id = Users.id\n",
        "\n",
        "\"\"\")\n",
        "\n",
        "results = cursor.fetchall()\n",
        "display_results(cursor, results)"
      ],
      "metadata": {
        "colab": {
          "base_uri": "https://localhost:8080/",
          "height": 206
        },
        "id": "X-wjoDIc66MM",
        "outputId": "f70ab9c9-47a5-4c64-d488-44de1d82849a"
      },
      "execution_count": null,
      "outputs": [
        {
          "output_type": "display_data",
          "data": {
            "text/plain": [
              "<IPython.core.display.Markdown object>"
            ],
            "text/markdown": "| username   | comment             |\n|------------|---------------------|\n| alice      | Hello world!        |\n| alice      | Nice to meet you.   |\n| bob        | This is a comment.  |\n| charlie    | Another one here.   |\n| charlie    | Final test comment. |"
          },
          "metadata": {}
        }
      ]
    },
    {
      "cell_type": "code",
      "source": [
        "cursor.execute(\"\"\"\n",
        "\n",
        "SELECT\n",
        "    Users.username,\n",
        "    Comments.comment\n",
        "FROM Users\n",
        "LEFT JOIN Comments ON Users.id = Comments.user_id\n",
        "\n",
        "\"\"\")\n",
        "\n",
        "results = cursor.fetchall()\n",
        "display_results(cursor, results)"
      ],
      "metadata": {
        "colab": {
          "base_uri": "https://localhost:8080/",
          "height": 237
        },
        "id": "sUvvWPaH7KJ1",
        "outputId": "adc80bbb-883e-4d36-b342-38e3d063afe1"
      },
      "execution_count": null,
      "outputs": [
        {
          "output_type": "display_data",
          "data": {
            "text/plain": [
              "<IPython.core.display.Markdown object>"
            ],
            "text/markdown": "| username   | comment             |\n|------------|---------------------|\n| alice      | Hello world!        |\n| alice      | Nice to meet you.   |\n| bob        | This is a comment.  |\n| charlie    | Another one here.   |\n| charlie    | Final test comment. |\n| quiet guy  |                     |"
          },
          "metadata": {}
        }
      ]
    },
    {
      "cell_type": "code",
      "source": [
        "# The version of SQLite I'm using doesn't support\n",
        "# right join, but we can get the same effect by swapping\n",
        "# which table we're joining on\n",
        "\n",
        "cursor.execute(\"\"\"\n",
        "\n",
        "SELECT\n",
        "    Users.username,\n",
        "    Comments.comment\n",
        "FROM Comments\n",
        "LEFT JOIN Users ON Users.id = Comments.user_id\n",
        "\n",
        "\"\"\")\n",
        "\n",
        "results = cursor.fetchall()\n",
        "display_results(cursor, results)"
      ],
      "metadata": {
        "colab": {
          "base_uri": "https://localhost:8080/",
          "height": 237
        },
        "id": "EbjscdoW7skM",
        "outputId": "c5174225-7100-4025-9004-da6305316b03"
      },
      "execution_count": null,
      "outputs": [
        {
          "output_type": "display_data",
          "data": {
            "text/plain": [
              "<IPython.core.display.Markdown object>"
            ],
            "text/markdown": "| username   | comment             |\n|------------|---------------------|\n| alice      | Hello world!        |\n| alice      | Nice to meet you.   |\n| bob        | This is a comment.  |\n| charlie    | Another one here.   |\n| charlie    | Final test comment. |\n|            | Ghost Comment       |"
          },
          "metadata": {}
        }
      ]
    },
    {
      "cell_type": "code",
      "source": [
        "# sqlite also doesn't support outer joins, but we can get that\n",
        "# by combining two left joins where the second is filtered by what\n",
        "# the first one left out. We'll get into unions and where statements later\n",
        "# I just wanted to show off the concept of an outer join\n",
        "\n",
        "cursor.execute(\"\"\"\n",
        "\n",
        "SELECT\n",
        "    Comments.comment,\n",
        "    Users.username\n",
        "FROM Comments\n",
        "LEFT JOIN Users ON Comments.user_id = Users.id\n",
        "\n",
        "UNION\n",
        "\n",
        "SELECT\n",
        "    Comments.comment,\n",
        "    Users.username\n",
        "FROM Users\n",
        "LEFT JOIN Comments ON Users.id = Comments.user_id\n",
        "WHERE Comments.user_id IS NULL\n",
        "\n",
        "\"\"\")\n",
        "\n",
        "results = cursor.fetchall()\n",
        "display_results(cursor, results)\n"
      ],
      "metadata": {
        "colab": {
          "base_uri": "https://localhost:8080/",
          "height": 268
        },
        "id": "z6ejrvNv-6Wy",
        "outputId": "d14bcf30-6ce9-4164-ef96-af4747a7d5b1"
      },
      "execution_count": null,
      "outputs": [
        {
          "output_type": "display_data",
          "data": {
            "text/plain": [
              "<IPython.core.display.Markdown object>"
            ],
            "text/markdown": "| comment             | username   |\n|---------------------|------------|\n|                     | quiet guy  |\n| Another one here.   | charlie    |\n| Final test comment. | charlie    |\n| Ghost Comment       |            |\n| Hello world!        | alice      |\n| Nice to meet you.   | alice      |\n| This is a comment.  | bob        |"
          },
          "metadata": {}
        }
      ]
    },
    {
      "cell_type": "markdown",
      "source": [
        "## Example 6) filtration"
      ],
      "metadata": {
        "id": "NIsC7Z3bBNTT"
      }
    },
    {
      "cell_type": "code",
      "source": [
        "#using the same DB as the previous example\n",
        "import sqlite3\n",
        "connection = sqlite3.connect(\"example_database_5.db\")\n",
        "cursor = connection.cursor()"
      ],
      "metadata": {
        "id": "9SDf6KBQA9jp"
      },
      "execution_count": null,
      "outputs": []
    },
    {
      "cell_type": "code",
      "source": [
        "print('Original Users Table:')\n",
        "display_table(cursor, \"Users\")\n",
        "\n",
        "#filtering by user id using WHERE\n",
        "\n",
        "cursor.execute(\"\"\"\n",
        "\n",
        "SELECT * FROM Users\n",
        "WHERE id = 2\n",
        "\n",
        "\"\"\")\n",
        "\n",
        "results = cursor.fetchall()\n",
        "print('\\nFiltered Users Table:')\n",
        "display_results(cursor, results)"
      ],
      "metadata": {
        "colab": {
          "base_uri": "https://localhost:8080/",
          "height": 290
        },
        "id": "bZfXd-dPDkfB",
        "outputId": "066bbd25-5784-452e-aa89-89934b58a94a"
      },
      "execution_count": null,
      "outputs": [
        {
          "output_type": "stream",
          "name": "stdout",
          "text": [
            "Original Users Table:\n"
          ]
        },
        {
          "output_type": "display_data",
          "data": {
            "text/plain": [
              "<IPython.core.display.Markdown object>"
            ],
            "text/markdown": "| id | username |\n| --- | --- |\n| 1 | alice |\n| 2 | bob |\n| 3 | charlie |\n| 4 | quiet guy |\n"
          },
          "metadata": {}
        },
        {
          "output_type": "stream",
          "name": "stdout",
          "text": [
            "\n",
            "Filtered Users Table:\n"
          ]
        },
        {
          "output_type": "display_data",
          "data": {
            "text/plain": [
              "<IPython.core.display.Markdown object>"
            ],
            "text/markdown": "|   id | username   |\n|------|------------|\n|    2 | bob        |"
          },
          "metadata": {}
        }
      ]
    },
    {
      "cell_type": "markdown",
      "source": [
        "# Example 7) More Filtration and Limiting"
      ],
      "metadata": {
        "id": "Pe18elLDEoMX"
      }
    },
    {
      "cell_type": "code",
      "source": [
        "import sqlite3\n",
        "import random\n",
        "import string\n",
        "\n",
        "# Connect to an in-memory SQLite database\n",
        "connection = sqlite3.connect(\"example_database_7.db\")\n",
        "cursor = connection.cursor()\n",
        "\n",
        "# Create the employees table\n",
        "cursor.execute(\"\"\"\n",
        "CREATE TABLE employees (\n",
        "    id INTEGER PRIMARY KEY,\n",
        "    name TEXT,\n",
        "    department TEXT,\n",
        "    age INTEGER,\n",
        "    salary REAL,\n",
        "    full_time BOOLEAN\n",
        ")\n",
        "\"\"\")\n",
        "\n",
        "# Generate random data\n",
        "departments = ['Engineering', 'Sales', 'HR', 'Marketing', 'Support']\n",
        "def random_name():\n",
        "    return ''.join(random.choices(string.ascii_uppercase, k=1)) + ''.join(random.choices(string.ascii_lowercase, k=6))\n",
        "\n",
        "data = [\n",
        "    (\n",
        "        i,\n",
        "        random_name(),\n",
        "        random.choice(departments),\n",
        "        random.randint(20, 65),\n",
        "        round(random.uniform(40000, 120000), 2),\n",
        "        random.choice([0, 1])\n",
        "    )\n",
        "    for i in range(1, 50)\n",
        "]\n",
        "\n",
        "# Insert data into the table\n",
        "cursor.executemany(\"INSERT INTO employees VALUES (?, ?, ?, ?, ?, ?)\", data)\n",
        "connection.commit()\n",
        "\n",
        "print('Original Users Table:')\n",
        "display_table(cursor, \"employees\")\n",
        "\n",
        "# Various filtering examples using SQL WHERE clauses\n",
        "\n",
        "print(\"\\nEmployees in Engineering under age 30:\")\n",
        "results = cursor.execute(\"SELECT * FROM employees WHERE department = 'Engineering' AND age < 30 LIMIT 5\")\n",
        "display_results(cursor, results)\n",
        "\n",
        "print(\"\\nHigh earners (salary > 100000):\")\n",
        "results = cursor.execute(\"SELECT id, name, salary FROM employees WHERE salary > 100000 LIMIT 5\")\n",
        "display_results(cursor, results)\n",
        "\n",
        "print(\"\\nPart-time employees in Sales:\")\n",
        "results = cursor.execute(\"SELECT * FROM employees WHERE department = 'Sales' AND full_time = 0 LIMIT 5\")\n",
        "display_results(cursor, results)\n",
        "\n",
        "print(\"\\nEmployees with names starting with 'A':\")\n",
        "results = cursor.execute(\"SELECT id, name FROM employees WHERE name LIKE 'A%' LIMIT 5\")\n",
        "display_results(cursor, results)\n",
        "\n",
        "print(\"\\nEmployees aged between 30 and 40:\")\n",
        "results = cursor.execute(\"SELECT id, name, age FROM employees WHERE age BETWEEN 30 AND 40 LIMIT 5\")\n",
        "display_results(cursor, results)\n"
      ],
      "metadata": {
        "colab": {
          "base_uri": "https://localhost:8080/",
          "height": 1000
        },
        "id": "hcjw5QLOD3LE",
        "outputId": "3e4fdd32-4f4c-4b0d-c1dd-329e10f1e6f6"
      },
      "execution_count": null,
      "outputs": [
        {
          "output_type": "stream",
          "name": "stdout",
          "text": [
            "Original Users Table:\n"
          ]
        },
        {
          "output_type": "display_data",
          "data": {
            "text/plain": [
              "<IPython.core.display.Markdown object>"
            ],
            "text/markdown": "| id | name | department | age | salary | full_time |\n| --- | --- | --- | --- | --- | --- |\n| 1 | Ruribms | Sales | 52 | 91908.53 | 0 |\n| 2 | Mwlymav | Support | 49 | 97663.29 | 1 |\n| 3 | Egfppih | Engineering | 54 | 58859.45 | 0 |\n| 4 | Iaxswuy | Engineering | 49 | 71957.69 | 0 |\n| 5 | Drrdyye | Marketing | 41 | 87556.73 | 1 |\n| 6 | Udhogph | Engineering | 50 | 108528.47 | 0 |\n| 7 | Obzapaa | Sales | 21 | 93981.28 | 0 |\n| 8 | Cthbakt | Support | 32 | 74465.6 | 1 |\n| 9 | Xwsioxu | HR | 24 | 59701.0 | 1 |\n| 10 | Pvvikkh | Sales | 48 | 64224.68 | 1 |\n| 11 | Gxuwhpx | Sales | 63 | 55109.61 | 1 |\n| 12 | Vcocfvb | Sales | 65 | 47398.3 | 1 |\n| 13 | Tapbfgy | HR | 31 | 50773.11 | 0 |\n| 14 | Avlppww | Sales | 32 | 67188.34 | 1 |\n| 15 | Dlwyahd | Sales | 64 | 91394.82 | 0 |\n| 16 | Zhlxpup | Marketing | 38 | 54280.37 | 1 |\n| 17 | Htieoyp | Engineering | 37 | 49554.7 | 0 |\n| 18 | Vrjbibg | HR | 40 | 54707.65 | 0 |\n| 19 | Lvyfenx | Marketing | 63 | 46704.47 | 0 |\n| 20 | Favuoem | HR | 35 | 51799.59 | 1 |\n| 21 | Zekzlxj | Support | 55 | 86358.14 | 0 |\n| 22 | Pjficih | Marketing | 32 | 65402.65 | 0 |\n| 23 | Kzcgyqx | HR | 20 | 96769.15 | 1 |\n| 24 | Egvtkfo | Support | 36 | 104225.08 | 0 |\n| 25 | Sddlvmx | Marketing | 40 | 99356.13 | 0 |\n| 26 | Dylkldg | Support | 43 | 61540.76 | 1 |\n| 27 | Cvywsxj | HR | 38 | 76197.74 | 0 |\n| 28 | Wejvdqf | Marketing | 59 | 80082.6 | 0 |\n| 29 | Uslkhpp | Marketing | 53 | 86401.75 | 0 |\n| 30 | Hjnwpzr | Engineering | 50 | 58578.34 | 1 |\n| 31 | Hzkjiab | Sales | 21 | 95801.03 | 0 |\n| 32 | Drstpnw | Support | 38 | 62386.12 | 0 |\n| 33 | Etxrklz | Marketing | 63 | 58765.07 | 1 |\n| 34 | Ohhdflw | Marketing | 62 | 97005.57 | 1 |\n| 35 | Edtldyv | HR | 58 | 75570.48 | 1 |\n| 36 | Vnkuors | Engineering | 27 | 90695.46 | 0 |\n| 37 | Kzktzpb | Engineering | 20 | 42323.11 | 0 |\n| 38 | Occkpou | Support | 31 | 55941.97 | 0 |\n| 39 | Crqbyne | Engineering | 26 | 116555.61 | 0 |\n| 40 | Tcdnmna | Engineering | 52 | 53500.36 | 0 |\n| 41 | Gcldgmn | Support | 33 | 106222.77 | 0 |\n| 42 | Fqnpqkv | HR | 25 | 53296.12 | 1 |\n| 43 | Syqgmhb | Marketing | 62 | 110897.02 | 0 |\n| 44 | Cnharis | Engineering | 63 | 56145.58 | 1 |\n| 45 | Obvieff | Marketing | 57 | 107147.99 | 1 |\n| 46 | Kjgfbho | Support | 51 | 77654.46 | 0 |\n| 47 | Sopqbxu | Sales | 20 | 76959.54 | 0 |\n| 48 | Msgjxvi | Support | 24 | 50303.52 | 0 |\n| 49 | Grifppx | Marketing | 61 | 41552.9 | 1 |\n"
          },
          "metadata": {}
        },
        {
          "output_type": "stream",
          "name": "stdout",
          "text": [
            "\n",
            "Employees in Engineering under age 30:\n"
          ]
        },
        {
          "output_type": "display_data",
          "data": {
            "text/plain": [
              "<IPython.core.display.Markdown object>"
            ],
            "text/markdown": "|   id | name    | department   |   age |   salary |   full_time |\n|------|---------|--------------|-------|----------|-------------|\n|   36 | Vnkuors | Engineering  |    27 |  90695.5 |           0 |\n|   37 | Kzktzpb | Engineering  |    20 |  42323.1 |           0 |\n|   39 | Crqbyne | Engineering  |    26 | 116556   |           0 |"
          },
          "metadata": {}
        },
        {
          "output_type": "stream",
          "name": "stdout",
          "text": [
            "\n",
            "High earners (salary > 100000):\n"
          ]
        },
        {
          "output_type": "display_data",
          "data": {
            "text/plain": [
              "<IPython.core.display.Markdown object>"
            ],
            "text/markdown": "|   id | name    |   salary |\n|------|---------|----------|\n|    6 | Udhogph |   108528 |\n|   24 | Egvtkfo |   104225 |\n|   39 | Crqbyne |   116556 |\n|   41 | Gcldgmn |   106223 |\n|   43 | Syqgmhb |   110897 |"
          },
          "metadata": {}
        },
        {
          "output_type": "stream",
          "name": "stdout",
          "text": [
            "\n",
            "Part-time employees in Sales:\n"
          ]
        },
        {
          "output_type": "display_data",
          "data": {
            "text/plain": [
              "<IPython.core.display.Markdown object>"
            ],
            "text/markdown": "|   id | name    | department   |   age |   salary |   full_time |\n|------|---------|--------------|-------|----------|-------------|\n|    1 | Ruribms | Sales        |    52 |  91908.5 |           0 |\n|    7 | Obzapaa | Sales        |    21 |  93981.3 |           0 |\n|   15 | Dlwyahd | Sales        |    64 |  91394.8 |           0 |\n|   31 | Hzkjiab | Sales        |    21 |  95801   |           0 |\n|   47 | Sopqbxu | Sales        |    20 |  76959.5 |           0 |"
          },
          "metadata": {}
        },
        {
          "output_type": "stream",
          "name": "stdout",
          "text": [
            "\n",
            "Employees with names starting with 'A':\n"
          ]
        },
        {
          "output_type": "display_data",
          "data": {
            "text/plain": [
              "<IPython.core.display.Markdown object>"
            ],
            "text/markdown": "|   id | name    |\n|------|---------|\n|   14 | Avlppww |"
          },
          "metadata": {}
        },
        {
          "output_type": "stream",
          "name": "stdout",
          "text": [
            "\n",
            "Employees aged between 30 and 40:\n"
          ]
        },
        {
          "output_type": "display_data",
          "data": {
            "text/plain": [
              "<IPython.core.display.Markdown object>"
            ],
            "text/markdown": "|   id | name    |   age |\n|------|---------|-------|\n|    8 | Cthbakt |    32 |\n|   13 | Tapbfgy |    31 |\n|   14 | Avlppww |    32 |\n|   16 | Zhlxpup |    38 |\n|   17 | Htieoyp |    37 |"
          },
          "metadata": {}
        }
      ]
    },
    {
      "cell_type": "markdown",
      "source": [
        "# Example 8) Data Types"
      ],
      "metadata": {
        "id": "5NHaf3XNfquZ"
      }
    },
    {
      "cell_type": "code",
      "source": [
        "# Connect to an in-memory SQLite database\n",
        "connection = sqlite3.connect(\"example_database_8.db\")\n",
        "cursor = connection.cursor()\n",
        "\n",
        "# Create a table showing off common SQL data types\n",
        "cursor.execute(\"\"\"\n",
        "CREATE TABLE datatypes_demo (\n",
        "    id INTEGER PRIMARY KEY,\n",
        "    age INTEGER,                  -- Whole numbers\n",
        "    height REAL,                  -- Decimal numbers\n",
        "    name TEXT,                    -- Strings\n",
        "    profile_picture BLOB,        -- Binary large object\n",
        "    is_active NUMERIC,           -- Often used for BOOLEAN (0/1)\n",
        "    created_at TEXT              -- ISO format date/time as TEXT\n",
        ");\n",
        "\"\"\")\n",
        "\n",
        "# Insert one row using all types\n",
        "cursor.execute(\"\"\"\n",
        "INSERT INTO datatypes_demo (age, height, name, profile_picture, is_active, created_at)\n",
        "VALUES (\n",
        "    30,                          -- INTEGER\n",
        "    5.9,                         -- REAL\n",
        "    'Alice Smith',              -- TEXT\n",
        "    X'89504E470D0A1A0A',         -- BLOB (mock PNG header)\n",
        "    1,                           -- NUMERIC as BOOLEAN (1 = True)\n",
        "    '2025-04-05T15:30:00'        -- TEXT for date/time\n",
        ");\n",
        "\"\"\")\n",
        "\n",
        "print('Datatype Table:')\n",
        "display_table(cursor, \"datatypes_demo\")"
      ],
      "metadata": {
        "colab": {
          "base_uri": "https://localhost:8080/",
          "height": 98
        },
        "id": "xc7gLtOqFA_C",
        "outputId": "9b8fb28a-3f5a-4708-c2d0-a61224a55856"
      },
      "execution_count": null,
      "outputs": [
        {
          "output_type": "stream",
          "name": "stdout",
          "text": [
            "Datatype Table:\n"
          ]
        },
        {
          "output_type": "display_data",
          "data": {
            "text/plain": [
              "<IPython.core.display.Markdown object>"
            ],
            "text/markdown": "| id | age | height | name | profile_picture | is_active | created_at |\n| --- | --- | --- | --- | --- | --- | --- |\n| 1 | 30 | 5.9 | Alice Smith | b'\\x89PNG\\r\\n\\x1a\\n' | 1 | 2025-04-05T15:30:00 |\n"
          },
          "metadata": {}
        }
      ]
    },
    {
      "cell_type": "markdown",
      "source": [
        "# Example 9) Distinct Selection"
      ],
      "metadata": {
        "id": "H1KehbDdgLkZ"
      }
    },
    {
      "cell_type": "code",
      "source": [
        "import sqlite3\n",
        "\n",
        "connection = sqlite3.connect(\"example_database_9\")\n",
        "cursor = connection.cursor()\n",
        "\n",
        "# Create table and insert values — all SQL\n",
        "cursor.executescript(\"\"\"\n",
        "-- Create a table of students with possible duplicate grades\n",
        "CREATE TABLE students (\n",
        "    id INTEGER PRIMARY KEY,\n",
        "    name TEXT,\n",
        "    grade TEXT\n",
        ");\n",
        "\n",
        "-- Insert values (some duplicate grades)\n",
        "INSERT INTO students (name, grade) VALUES\n",
        "  ('Alice', 'A'),\n",
        "  ('Alice', 'A'),\n",
        "  ('Alice', 'D'),\n",
        "  ('Bob', 'B'),\n",
        "  ('Charlie', 'A'),\n",
        "  ('Diana', 'C'),\n",
        "  ('Ethan', 'B');\n",
        "\"\"\")\n",
        "\n",
        "print(\"All grades (including duplicates):\")\n",
        "results = cursor.execute(\"SELECT grade FROM students\")\n",
        "display_results(cursor, results)\n",
        "\n",
        "print(\"\\nDistinct grades (duplicate grades removed):\")\n",
        "results = cursor.execute(\"SELECT DISTINCT grade FROM students\")\n",
        "display_results(cursor, results)\n"
      ],
      "metadata": {
        "colab": {
          "base_uri": "https://localhost:8080/",
          "height": 478
        },
        "id": "LQAXywSLf3I1",
        "outputId": "d5ef4ca0-703d-45af-d297-0ea2974816c1"
      },
      "execution_count": null,
      "outputs": [
        {
          "output_type": "stream",
          "name": "stdout",
          "text": [
            "All grades (including duplicates):\n"
          ]
        },
        {
          "output_type": "display_data",
          "data": {
            "text/plain": [
              "<IPython.core.display.Markdown object>"
            ],
            "text/markdown": "| grade   |\n|---------|\n| A       |\n| A       |\n| D       |\n| B       |\n| A       |\n| C       |\n| B       |"
          },
          "metadata": {}
        },
        {
          "output_type": "stream",
          "name": "stdout",
          "text": [
            "\n",
            "Distinct grades (duplicate grades removed):\n"
          ]
        },
        {
          "output_type": "display_data",
          "data": {
            "text/plain": [
              "<IPython.core.display.Markdown object>"
            ],
            "text/markdown": "| grade   |\n|---------|\n| A       |\n| D       |\n| B       |\n| C       |"
          },
          "metadata": {}
        }
      ]
    },
    {
      "cell_type": "markdown",
      "source": [],
      "metadata": {
        "id": "mIzHnRpQhwNI"
      }
    },
    {
      "cell_type": "code",
      "source": [
        "print(\"\\nDistinct combinations of name and grade:\")\n",
        "results = cursor.execute(\"SELECT DISTINCT name, grade FROM students\")\n",
        "display_results(cursor, results)"
      ],
      "metadata": {
        "colab": {
          "base_uri": "https://localhost:8080/",
          "height": 272
        },
        "id": "McYe_h4ch5gD",
        "outputId": "f079e054-059d-4245-9f6b-f48c95094965"
      },
      "execution_count": null,
      "outputs": [
        {
          "output_type": "stream",
          "name": "stdout",
          "text": [
            "\n",
            "Distinct combinations of name and grade:\n"
          ]
        },
        {
          "output_type": "display_data",
          "data": {
            "text/plain": [
              "<IPython.core.display.Markdown object>"
            ],
            "text/markdown": "| name    | grade   |\n|---------|---------|\n| Alice   | A       |\n| Alice   | D       |\n| Bob     | B       |\n| Charlie | A       |\n| Diana   | C       |\n| Ethan   | B       |"
          },
          "metadata": {}
        }
      ]
    },
    {
      "cell_type": "markdown",
      "source": [
        "# Example 9) Grouping\n",
        "\n"
      ],
      "metadata": {
        "id": "CwyHC9_0htKv"
      }
    },
    {
      "cell_type": "code",
      "source": [
        "results = cursor.execute(\"\"\"\n",
        "\n",
        "SELECT grade, MIN(name) AS example_name\n",
        "FROM students\n",
        "GROUP BY grade;\n",
        "\n",
        "\"\"\")\n",
        "display_results(cursor, results)"
      ],
      "metadata": {
        "colab": {
          "base_uri": "https://localhost:8080/",
          "height": 174
        },
        "id": "T7QjYW8PgZms",
        "outputId": "78b02ffd-2ec2-429f-c29c-4bdeb11f877f"
      },
      "execution_count": null,
      "outputs": [
        {
          "output_type": "display_data",
          "data": {
            "text/plain": [
              "<IPython.core.display.Markdown object>"
            ],
            "text/markdown": "| grade   | example_name   |\n|---------|----------------|\n| A       | Alice          |\n| B       | Bob            |\n| C       | Diana          |\n| D       | Alice          |"
          },
          "metadata": {}
        }
      ]
    },
    {
      "cell_type": "markdown",
      "source": [
        "# Example 10) More in-depth Group By"
      ],
      "metadata": {
        "id": "S0fxpatuisAG"
      }
    },
    {
      "cell_type": "code",
      "source": [
        "import sqlite3\n",
        "\n",
        "connection = sqlite3.connect(\"example_database_10\")\n",
        "cursor = connection.cursor()\n",
        "\n",
        "cursor.executescript(\"\"\"\n",
        "-- Create a table of employees\n",
        "CREATE TABLE employees (\n",
        "    id INTEGER PRIMARY KEY,\n",
        "    name TEXT,\n",
        "    department TEXT,\n",
        "    role TEXT,\n",
        "    location TEXT,\n",
        "    salary REAL,\n",
        "    hire_date TEXT  -- Stored as 'YYYY-MM-DD'\n",
        ");\n",
        "\n",
        "-- Insert sample data\n",
        "INSERT INTO employees (name, department, role, location, salary, hire_date) VALUES\n",
        "  ('Alice',   'Engineering', 'Developer', 'NY', 95000, '2020-06-15'),\n",
        "  ('Bob',     'Engineering', 'Developer', 'NY', 92000, '2019-03-20'),\n",
        "  ('Charlie', 'Engineering', 'Manager',   'SF', 120000, '2018-09-01'),\n",
        "  ('Diana',   'Marketing',   'Analyst',   'NY', 70000, '2021-02-10'),\n",
        "  ('Ethan',   'Marketing',   'Manager',   'SF', 105000, '2017-11-05'),\n",
        "  ('Fay',     'Sales',       'Rep',       'TX', 65000, '2021-07-22'),\n",
        "  ('Grace',   'Sales',       'Rep',       'TX', 64000, '2022-01-15'),\n",
        "  ('Henry',   'Sales',       'Manager',   'NY', 99000, '2016-04-30');\n",
        "\"\"\")\n"
      ],
      "metadata": {
        "colab": {
          "base_uri": "https://localhost:8080/"
        },
        "id": "9QoTgzCHiYGt",
        "outputId": "9b84be26-e66a-4e88-9559-ece31e8134b3"
      },
      "execution_count": null,
      "outputs": [
        {
          "output_type": "execute_result",
          "data": {
            "text/plain": [
              "<sqlite3.Cursor at 0x7f54120e29c0>"
            ]
          },
          "metadata": {},
          "execution_count": 17
        }
      ]
    },
    {
      "cell_type": "code",
      "source": [
        "display_table(cursor, 'employees')"
      ],
      "metadata": {
        "colab": {
          "base_uri": "https://localhost:8080/",
          "height": 300
        },
        "id": "Z7-zrUrv7R02",
        "outputId": "63618149-7b24-42df-fbe3-219f3bbf396b"
      },
      "execution_count": null,
      "outputs": [
        {
          "output_type": "display_data",
          "data": {
            "text/plain": [
              "<IPython.core.display.Markdown object>"
            ],
            "text/markdown": "| id | name | department | role | location | salary | hire_date |\n| --- | --- | --- | --- | --- | --- | --- |\n| 1 | Alice | Engineering | Developer | NY | 95000.0 | 2020-06-15 |\n| 2 | Bob | Engineering | Developer | NY | 92000.0 | 2019-03-20 |\n| 3 | Charlie | Engineering | Manager | SF | 120000.0 | 2018-09-01 |\n| 4 | Diana | Marketing | Analyst | NY | 70000.0 | 2021-02-10 |\n| 5 | Ethan | Marketing | Manager | SF | 105000.0 | 2017-11-05 |\n| 6 | Fay | Sales | Rep | TX | 65000.0 | 2021-07-22 |\n| 7 | Grace | Sales | Rep | TX | 64000.0 | 2022-01-15 |\n| 8 | Henry | Sales | Manager | NY | 99000.0 | 2016-04-30 |\n"
          },
          "metadata": {}
        }
      ]
    },
    {
      "cell_type": "code",
      "source": [
        "print('Average salary by department')\n",
        "results = cursor.execute(\"\"\"\n",
        "SELECT department, AVG(salary) AS avg_salary\n",
        "FROM employees\n",
        "GROUP BY department;\n",
        "\"\"\")\n",
        "display_results(cursor, results)"
      ],
      "metadata": {
        "colab": {
          "base_uri": "https://localhost:8080/",
          "height": 160
        },
        "id": "K5Rr2LbmizdY",
        "outputId": "604cfedb-7ef2-431f-a295-bf91565ef4df"
      },
      "execution_count": null,
      "outputs": [
        {
          "output_type": "stream",
          "name": "stdout",
          "text": [
            "Average salary by department\n"
          ]
        },
        {
          "output_type": "display_data",
          "data": {
            "text/plain": [
              "<IPython.core.display.Markdown object>"
            ],
            "text/markdown": "| department   |   avg_salary |\n|--------------|--------------|\n| Engineering  |       102333 |\n| Marketing    |        87500 |\n| Sales        |        76000 |"
          },
          "metadata": {}
        }
      ]
    },
    {
      "cell_type": "code",
      "source": [
        "print('Average salary by department')\n",
        "results = cursor.execute(\"\"\"\n",
        "SELECT department, AVG(salary)\n",
        "FROM Employees\n",
        "GROUP BY department\n",
        "HAVING AVG(salary) > 80000;\n",
        "\"\"\")\n",
        "display_results(cursor, results)"
      ],
      "metadata": {
        "colab": {
          "base_uri": "https://localhost:8080/",
          "height": 129
        },
        "id": "IaWv2XMi85K3",
        "outputId": "969fb607-c507-437e-fa21-6dbbd5034360"
      },
      "execution_count": null,
      "outputs": [
        {
          "output_type": "stream",
          "name": "stdout",
          "text": [
            "Average salary by department\n"
          ]
        },
        {
          "output_type": "display_data",
          "data": {
            "text/plain": [
              "<IPython.core.display.Markdown object>"
            ],
            "text/markdown": "| department   |   AVG(salary) |\n|--------------|---------------|\n| Engineering  |        102333 |\n| Marketing    |         87500 |"
          },
          "metadata": {}
        }
      ]
    },
    {
      "cell_type": "code",
      "source": [
        "print('Number of employees per roll')\n",
        "results = cursor.execute(\"\"\"\n",
        "SELECT role, COUNT(*) AS num_employees\n",
        "FROM employees\n",
        "GROUP BY role;\n",
        "\"\"\")\n",
        "display_results(cursor, results)"
      ],
      "metadata": {
        "colab": {
          "base_uri": "https://localhost:8080/",
          "height": 192
        },
        "id": "9OmaTzntjFnx",
        "outputId": "4485069d-d330-41ea-ad41-cbfbfdc1c21d"
      },
      "execution_count": null,
      "outputs": [
        {
          "output_type": "stream",
          "name": "stdout",
          "text": [
            "Number of employees per roll\n"
          ]
        },
        {
          "output_type": "display_data",
          "data": {
            "text/plain": [
              "<IPython.core.display.Markdown object>"
            ],
            "text/markdown": "| role      |   num_employees |\n|-----------|-----------------|\n| Analyst   |               1 |\n| Developer |               2 |\n| Manager   |               3 |\n| Rep       |               2 |"
          },
          "metadata": {}
        }
      ]
    },
    {
      "cell_type": "code",
      "source": [
        "print('Total salary per location')\n",
        "results = cursor.execute(\"\"\"\n",
        "SELECT location, SUM(salary) AS total_payroll\n",
        "FROM employees\n",
        "GROUP BY location;\n",
        "\"\"\")\n",
        "display_results(cursor, results)"
      ],
      "metadata": {
        "colab": {
          "base_uri": "https://localhost:8080/",
          "height": 160
        },
        "id": "kcuZaE4MjTBD",
        "outputId": "9dbf3137-06ca-4470-a423-3af1e7b00c20"
      },
      "execution_count": null,
      "outputs": [
        {
          "output_type": "stream",
          "name": "stdout",
          "text": [
            "Total salary per location\n"
          ]
        },
        {
          "output_type": "display_data",
          "data": {
            "text/plain": [
              "<IPython.core.display.Markdown object>"
            ],
            "text/markdown": "| location   |   total_payroll |\n|------------|-----------------|\n| NY         |          356000 |\n| SF         |          225000 |\n| TX         |          129000 |"
          },
          "metadata": {}
        }
      ]
    },
    {
      "cell_type": "code",
      "source": [
        "print('Yearly hires by department')\n",
        "results = cursor.execute(\"\"\"\n",
        "SELECT department, SUBSTR(hire_date, 1, 4) AS hire_year, COUNT(*) AS hires\n",
        "FROM employees\n",
        "GROUP BY department, hire_year\n",
        "ORDER BY hire_year;\n",
        "\"\"\")\n",
        "display_results(cursor, results)"
      ],
      "metadata": {
        "colab": {
          "base_uri": "https://localhost:8080/",
          "height": 317
        },
        "id": "mmfxzdOxjYbZ",
        "outputId": "5e649e11-71c7-4761-df22-0742e8979f58"
      },
      "execution_count": null,
      "outputs": [
        {
          "output_type": "stream",
          "name": "stdout",
          "text": [
            "Yearly hires by department\n"
          ]
        },
        {
          "output_type": "display_data",
          "data": {
            "text/plain": [
              "<IPython.core.display.Markdown object>"
            ],
            "text/markdown": "| department   |   hire_year |   hires |\n|--------------|-------------|---------|\n| Sales        |        2016 |       1 |\n| Marketing    |        2017 |       1 |\n| Engineering  |        2018 |       1 |\n| Engineering  |        2019 |       1 |\n| Engineering  |        2020 |       1 |\n| Marketing    |        2021 |       1 |\n| Sales        |        2021 |       1 |\n| Sales        |        2022 |       1 |"
          },
          "metadata": {}
        }
      ]
    },
    {
      "cell_type": "code",
      "source": [
        "print(\"Departments with an average salary above $90,000:\")\n",
        "results = cursor.execute(\"\"\"\n",
        "SELECT department, AVG(salary) AS avg_salary\n",
        "FROM employees\n",
        "GROUP BY department\n",
        "HAVING AVG(salary) > 90000;\n",
        "\"\"\")\n",
        "display_results(cursor, results)"
      ],
      "metadata": {
        "colab": {
          "base_uri": "https://localhost:8080/",
          "height": 98
        },
        "id": "AXKNKXPzmPay",
        "outputId": "953ee6a8-992f-4798-df50-1f6ff9bde492"
      },
      "execution_count": null,
      "outputs": [
        {
          "output_type": "stream",
          "name": "stdout",
          "text": [
            "Departments with an average salary above $90,000:\n"
          ]
        },
        {
          "output_type": "display_data",
          "data": {
            "text/plain": [
              "<IPython.core.display.Markdown object>"
            ],
            "text/markdown": "| department   |   avg_salary |\n|--------------|--------------|\n| Engineering  |       102333 |"
          },
          "metadata": {}
        }
      ]
    },
    {
      "cell_type": "markdown",
      "source": [
        "# Example 11) Ordering and Limiting"
      ],
      "metadata": {
        "id": "27ucBTKKkl6T"
      }
    },
    {
      "cell_type": "code",
      "source": [
        "conn = sqlite3.connect(\"example_database_11\")\n",
        "cursor = conn.cursor()\n",
        "\n",
        "# Create table and insert data again for a fresh run\n",
        "cursor.executescript(\"\"\"\n",
        "CREATE TABLE employees (\n",
        "    id INTEGER PRIMARY KEY,\n",
        "    name TEXT,\n",
        "    department TEXT,\n",
        "    role TEXT,\n",
        "    location TEXT,\n",
        "    salary REAL,\n",
        "    hire_date TEXT\n",
        ");\n",
        "\n",
        "INSERT INTO employees (name, department, role, location, salary, hire_date) VALUES\n",
        "  ('Alice',   'Engineering', 'Developer', 'NY', 95000, '2020-06-15'),\n",
        "  ('Bob',     'Engineering', 'Developer', 'NY', 92000, '2019-03-20'),\n",
        "  ('Charlie', 'Engineering', 'Manager',   'SF', 120000, '2018-09-01'),\n",
        "  ('Diana',   'Marketing',   'Analyst',   'NY', 70000, '2021-02-10'),\n",
        "  ('Ethan',   'Marketing',   'Manager',   'SF', 105000, '2017-11-05'),\n",
        "  ('Fay',     'Sales',       'Rep',       'TX', 65000, '2021-07-22'),\n",
        "  ('Grace',   'Sales',       'Rep',       'TX', 64000, '2022-01-15'),\n",
        "  ('Henry',   'Sales',       'Manager',   'NY', 99000, '2016-04-30');\n",
        "\"\"\")\n"
      ],
      "metadata": {
        "colab": {
          "base_uri": "https://localhost:8080/"
        },
        "id": "nXdfSl3pkUzG",
        "outputId": "4cff3d50-3246-4390-aaec-a4b670fc4217"
      },
      "execution_count": null,
      "outputs": [
        {
          "output_type": "execute_result",
          "data": {
            "text/plain": [
              "<sqlite3.Cursor at 0x7fe0370bcac0>"
            ]
          },
          "metadata": {},
          "execution_count": 141
        }
      ]
    },
    {
      "cell_type": "code",
      "source": [
        "print(\"Top 3 highest-paid employees:\")\n",
        "results = cursor.execute(\"\"\"\n",
        "\n",
        "SELECT name, salary\n",
        "FROM employees\n",
        "ORDER BY salary DESC\n",
        "LIMIT 3;\n",
        "\n",
        "\"\"\")\n",
        "\n",
        "display_results(cursor, results)"
      ],
      "metadata": {
        "colab": {
          "base_uri": "https://localhost:8080/",
          "height": 160
        },
        "id": "7rsLuW2WkxwE",
        "outputId": "9876c663-2333-42fb-8287-3f074c34ab58"
      },
      "execution_count": null,
      "outputs": [
        {
          "output_type": "stream",
          "name": "stdout",
          "text": [
            "Top 3 highest-paid employees:\n"
          ]
        },
        {
          "output_type": "display_data",
          "data": {
            "text/plain": [
              "<IPython.core.display.Markdown object>"
            ],
            "text/markdown": "| name    |   salary |\n|---------|----------|\n| Charlie |   120000 |\n| Ethan   |   105000 |\n| Henry   |    99000 |"
          },
          "metadata": {}
        }
      ]
    },
    {
      "cell_type": "code",
      "source": [
        "print(\"\\n5 Most Recently Hired Employees:\")\n",
        "results = cursor.execute(\"\"\"\n",
        "\n",
        "SELECT name, hire_date\n",
        "FROM employees\n",
        "ORDER BY hire_date DESC\n",
        "LIMIT 5;\n",
        "\n",
        "\"\"\")\n",
        "\n",
        "display_results(cursor, results)"
      ],
      "metadata": {
        "colab": {
          "base_uri": "https://localhost:8080/",
          "height": 240
        },
        "id": "ja42Hd6Bk4q7",
        "outputId": "22b58b76-4843-46b9-b8d6-d58b305708c0"
      },
      "execution_count": null,
      "outputs": [
        {
          "output_type": "stream",
          "name": "stdout",
          "text": [
            "\n",
            "5 Most Recently Hired Employees:\n"
          ]
        },
        {
          "output_type": "display_data",
          "data": {
            "text/plain": [
              "<IPython.core.display.Markdown object>"
            ],
            "text/markdown": "| name   | hire_date   |\n|--------|-------------|\n| Grace  | 2022-01-15  |\n| Fay    | 2021-07-22  |\n| Diana  | 2021-02-10  |\n| Alice  | 2020-06-15  |\n| Bob    | 2019-03-20  |"
          },
          "metadata": {}
        }
      ]
    },
    {
      "cell_type": "code",
      "source": [
        "print(\"Employees ranked #4–#6 by salary:\")\n",
        "\n",
        "results = cursor.execute(\"\"\"\n",
        "\n",
        "SELECT name, salary\n",
        "FROM employees\n",
        "ORDER BY salary DESC\n",
        "LIMIT 3 OFFSET 3;\n",
        "\n",
        "\"\"\")\n",
        "\n",
        "display_results(cursor, results)"
      ],
      "metadata": {
        "colab": {
          "base_uri": "https://localhost:8080/",
          "height": 160
        },
        "id": "PUCOY1HelAYU",
        "outputId": "64b7ded5-e559-446a-a179-df15f3eff8e9"
      },
      "execution_count": null,
      "outputs": [
        {
          "output_type": "stream",
          "name": "stdout",
          "text": [
            "Employees ranked #4–#6 by salary:\n"
          ]
        },
        {
          "output_type": "display_data",
          "data": {
            "text/plain": [
              "<IPython.core.display.Markdown object>"
            ],
            "text/markdown": "| name   |   salary |\n|--------|----------|\n| Alice  |    95000 |\n| Bob    |    92000 |\n| Diana  |    70000 |"
          },
          "metadata": {}
        }
      ]
    },
    {
      "cell_type": "markdown",
      "source": [
        "# Example 12) Updating and Deleting"
      ],
      "metadata": {
        "id": "LNWBigDGl6Ao"
      }
    },
    {
      "cell_type": "code",
      "source": [
        "import sqlite3\n",
        "\n",
        "# Create a new SQLite database\n",
        "conn = sqlite3.connect(\"example_database_12.db\")\n",
        "cursor = conn.cursor()\n",
        "\n",
        "# Create the table and insert sample data (pure SQL)\n",
        "cursor.executescript(\"\"\"\n",
        "DROP TABLE IF EXISTS staff;\n",
        "\n",
        "CREATE TABLE staff (\n",
        "    id INTEGER PRIMARY KEY,\n",
        "    name TEXT,\n",
        "    role TEXT,\n",
        "    department TEXT,\n",
        "    salary REAL,\n",
        "    hire_year INTEGER\n",
        ");\n",
        "\n",
        "-- Insert sample data\n",
        "INSERT INTO staff (name, role, department, salary, hire_year) VALUES\n",
        "  ('Alice', 'Developer', 'Engineering', 90000, 2020),\n",
        "  ('Bob', 'Developer', 'Engineering', 87000, 2019),\n",
        "  ('Charlie', 'Manager', 'Engineering', 110000, 2017),\n",
        "  ('Diana', 'Analyst', 'Marketing', 65000, 2021),\n",
        "  ('Ethan', 'Manager', 'Marketing', 95000, 2016),\n",
        "  ('Fay', 'Rep', 'Sales', 60000, 2022),\n",
        "  ('Grace', 'Rep', 'Sales', 61000, 2022);\n",
        "\"\"\")\n"
      ],
      "metadata": {
        "colab": {
          "base_uri": "https://localhost:8080/"
        },
        "id": "s8AFzFhslPzW",
        "outputId": "53d06596-11f1-4875-8985-ce8fb40f08ae"
      },
      "execution_count": null,
      "outputs": [
        {
          "output_type": "execute_result",
          "data": {
            "text/plain": [
              "<sqlite3.Cursor at 0x7f541209fd40>"
            ]
          },
          "metadata": {},
          "execution_count": 21
        }
      ]
    },
    {
      "cell_type": "code",
      "source": [
        "display_table(cursor, 'staff')"
      ],
      "metadata": {
        "colab": {
          "base_uri": "https://localhost:8080/",
          "height": 268
        },
        "id": "9qlWOCh4CaP9",
        "outputId": "31ac4eeb-bd2c-4c4a-930f-37f5a3808545"
      },
      "execution_count": null,
      "outputs": [
        {
          "output_type": "display_data",
          "data": {
            "text/plain": [
              "<IPython.core.display.Markdown object>"
            ],
            "text/markdown": "| id | name | role | department | salary | hire_year |\n| --- | --- | --- | --- | --- | --- |\n| 1 | Alice | Developer | Engineering | 90000.0 | 2020 |\n| 2 | Bob | Developer | Engineering | 87000.0 | 2019 |\n| 3 | Charlie | Manager | Engineering | 110000.0 | 2017 |\n| 4 | Diana | Analyst | Marketing | 65000.0 | 2021 |\n| 5 | Ethan | Manager | Marketing | 95000.0 | 2016 |\n| 6 | Fay | Rep | Sales | 60000.0 | 2022 |\n| 7 | Grace | Rep | Sales | 61000.0 | 2022 |\n"
          },
          "metadata": {}
        }
      ]
    },
    {
      "cell_type": "code",
      "source": [
        "print(\"Before update:\")\n",
        "results = cursor.execute(\"SELECT name, salary FROM staff WHERE department = 'Sales';\")\n",
        "display_results(cursor, results)\n",
        "\n",
        "cursor.execute(\"\"\"\n",
        "UPDATE staff\n",
        "SET salary = salary + 5000\n",
        "WHERE department = 'Sales' AND role = 'Rep';\n",
        "\"\"\")\n",
        "conn.commit()\n",
        "\n",
        "print(\"\\nAfter update:\")\n",
        "results = cursor.execute(\"SELECT name, salary FROM staff WHERE department = 'Sales';\")\n",
        "display_results(cursor, results)"
      ],
      "metadata": {
        "colab": {
          "base_uri": "https://localhost:8080/",
          "height": 258
        },
        "id": "VUvU2ntrn5xw",
        "outputId": "21d16fdf-0ad3-4a31-aaa1-72fdbff4e005"
      },
      "execution_count": null,
      "outputs": [
        {
          "output_type": "stream",
          "name": "stdout",
          "text": [
            "Before update:\n"
          ]
        },
        {
          "output_type": "display_data",
          "data": {
            "text/plain": [
              "<IPython.core.display.Markdown object>"
            ],
            "text/markdown": "| name   |   salary |\n|--------|----------|\n| Fay    |    65000 |\n| Grace  |    66000 |"
          },
          "metadata": {}
        },
        {
          "output_type": "stream",
          "name": "stdout",
          "text": [
            "\n",
            "After update:\n"
          ]
        },
        {
          "output_type": "display_data",
          "data": {
            "text/plain": [
              "<IPython.core.display.Markdown object>"
            ],
            "text/markdown": "| name   |   salary |\n|--------|----------|\n| Fay    |    70000 |\n| Grace  |    71000 |"
          },
          "metadata": {}
        }
      ]
    },
    {
      "cell_type": "code",
      "source": [
        "print(\"\\nBefore delete:\")\n",
        "results = cursor.execute(\"SELECT name, hire_year FROM staff ORDER BY hire_year;\")\n",
        "display_results(cursor, results)\n",
        "\n",
        "cursor.execute(\"\"\"\n",
        "DELETE FROM staff\n",
        "WHERE hire_year < 2018;\n",
        "\"\"\")\n",
        "conn.commit()\n",
        "\n",
        "print(\"\\nAfter delete:\")\n",
        "results = cursor.execute(\"SELECT name, hire_year FROM staff ORDER BY hire_year;\")\n",
        "display_results(cursor, results)"
      ],
      "metadata": {
        "colab": {
          "base_uri": "https://localhost:8080/",
          "height": 527
        },
        "id": "etrRBrzKoGtV",
        "outputId": "243045ee-41f7-427f-e808-dab57c333639"
      },
      "execution_count": null,
      "outputs": [
        {
          "output_type": "stream",
          "name": "stdout",
          "text": [
            "\n",
            "Before delete:\n"
          ]
        },
        {
          "output_type": "display_data",
          "data": {
            "text/plain": [
              "<IPython.core.display.Markdown object>"
            ],
            "text/markdown": "| name    |   hire_year |\n|---------|-------------|\n| Ethan   |        2016 |\n| Charlie |        2017 |\n| Bob     |        2019 |\n| Alice   |        2020 |\n| Diana   |        2021 |\n| Fay     |        2022 |\n| Grace   |        2022 |"
          },
          "metadata": {}
        },
        {
          "output_type": "stream",
          "name": "stdout",
          "text": [
            "\n",
            "After delete:\n"
          ]
        },
        {
          "output_type": "display_data",
          "data": {
            "text/plain": [
              "<IPython.core.display.Markdown object>"
            ],
            "text/markdown": "| name   |   hire_year |\n|--------|-------------|\n| Bob    |        2019 |\n| Alice  |        2020 |\n| Diana  |        2021 |\n| Fay    |        2022 |\n| Grace  |        2022 |"
          },
          "metadata": {}
        }
      ]
    },
    {
      "cell_type": "markdown",
      "source": [
        "# Example 12) Nulls"
      ],
      "metadata": {
        "id": "tuNAWpAjoprO"
      }
    },
    {
      "cell_type": "code",
      "source": [
        "# Create a new database\n",
        "conn = sqlite3.connect(\"example_database_12.db\")\n",
        "cursor = conn.cursor()\n",
        "\n",
        "# Create table and insert data with some NULLs\n",
        "cursor.executescript(\"\"\"\n",
        "DROP TABLE IF EXISTS projects;\n",
        "\n",
        "CREATE TABLE projects (\n",
        "    id INTEGER PRIMARY KEY,\n",
        "    name TEXT,\n",
        "    manager TEXT,\n",
        "    budget REAL\n",
        ");\n",
        "\n",
        "-- Insert sample data\n",
        "INSERT INTO projects (name, manager, budget) VALUES\n",
        "  ('Apollo', 'Alice', 100000),\n",
        "  ('Beacon', 'Bob', NULL),\n",
        "  ('Comet', NULL, 75000),\n",
        "  ('Drift', 'Diana', NULL),\n",
        "  ('Echo', NULL, NULL);\n",
        "\"\"\")\n"
      ],
      "metadata": {
        "colab": {
          "base_uri": "https://localhost:8080/"
        },
        "id": "vq-aPNcioZIt",
        "outputId": "68f631c0-0819-46ba-e8c4-4609755d22d3"
      },
      "execution_count": null,
      "outputs": [
        {
          "output_type": "execute_result",
          "data": {
            "text/plain": [
              "<sqlite3.Cursor at 0x7f542b733a40>"
            ]
          },
          "metadata": {},
          "execution_count": 24
        }
      ]
    },
    {
      "cell_type": "code",
      "source": [
        "display_table(cursor, 'projects')"
      ],
      "metadata": {
        "colab": {
          "base_uri": "https://localhost:8080/",
          "height": 206
        },
        "id": "Pls_skUyEyPH",
        "outputId": "54388bd8-7f89-4cee-c90c-1e1dd9cb2a54"
      },
      "execution_count": null,
      "outputs": [
        {
          "output_type": "display_data",
          "data": {
            "text/plain": [
              "<IPython.core.display.Markdown object>"
            ],
            "text/markdown": "| id | name | manager | budget |\n| --- | --- | --- | --- |\n| 1 | Apollo | Alice | 100000.0 |\n| 2 | Beacon | Bob | None |\n| 3 | Comet | None | 75000.0 |\n| 4 | Drift | Diana | None |\n| 5 | Echo | None | None |\n"
          },
          "metadata": {}
        }
      ]
    },
    {
      "cell_type": "code",
      "source": [
        "print(\"Projects with no assigned manager:\")\n",
        "results = cursor.execute(\"\"\"\n",
        "\n",
        "SELECT name\n",
        "FROM projects\n",
        "WHERE manager IS NULL;\n",
        "\n",
        "\"\"\")\n",
        "display_results(cursor, results)"
      ],
      "metadata": {
        "colab": {
          "base_uri": "https://localhost:8080/",
          "height": 129
        },
        "id": "GhZY_VbIow5R",
        "outputId": "1d62fe7a-87ed-46d1-f49c-d68be57a74e4"
      },
      "execution_count": null,
      "outputs": [
        {
          "output_type": "stream",
          "name": "stdout",
          "text": [
            "Projects with no assigned manager:\n"
          ]
        },
        {
          "output_type": "display_data",
          "data": {
            "text/plain": [
              "<IPython.core.display.Markdown object>"
            ],
            "text/markdown": "| name   |\n|--------|\n| Comet  |\n| Echo   |"
          },
          "metadata": {}
        }
      ]
    },
    {
      "cell_type": "code",
      "source": [
        "print(\"\\nProjects with a budget assigned:\")\n",
        "results = cursor.execute(\"\"\"\n",
        "\n",
        "SELECT name, budget\n",
        "FROM projects\n",
        "WHERE budget IS NOT NULL;\n",
        "\n",
        "\"\"\")\n",
        "display_results(cursor, results)"
      ],
      "metadata": {
        "colab": {
          "base_uri": "https://localhost:8080/",
          "height": 146
        },
        "id": "oNit5kcIo29j",
        "outputId": "af7267da-2773-4601-c261-6f2f984c0307"
      },
      "execution_count": null,
      "outputs": [
        {
          "output_type": "stream",
          "name": "stdout",
          "text": [
            "\n",
            "Projects with a budget assigned:\n"
          ]
        },
        {
          "output_type": "display_data",
          "data": {
            "text/plain": [
              "<IPython.core.display.Markdown object>"
            ],
            "text/markdown": "| name   |   budget |\n|--------|----------|\n| Apollo |   100000 |\n| Comet  |    75000 |"
          },
          "metadata": {}
        }
      ]
    },
    {
      "cell_type": "code",
      "source": [
        "print(\"\\nHow NULLs affect aggregation:\")\n",
        "results = cursor.execute(\"\"\"\n",
        "\n",
        "SELECT\n",
        "  COUNT(*) AS total_projects,\n",
        "  COUNT(budget) AS with_budget,\n",
        "  AVG(budget) AS avg_budget\n",
        "FROM projects;\n",
        "\n",
        "\"\"\")\n",
        "display_results(cursor, results)"
      ],
      "metadata": {
        "colab": {
          "base_uri": "https://localhost:8080/",
          "height": 115
        },
        "id": "aSbCN0yUo9Jn",
        "outputId": "a7bd7cb1-d76d-4b05-bb4c-05e388122904"
      },
      "execution_count": null,
      "outputs": [
        {
          "output_type": "stream",
          "name": "stdout",
          "text": [
            "\n",
            "How NULLs affect aggregation:\n"
          ]
        },
        {
          "output_type": "display_data",
          "data": {
            "text/plain": [
              "<IPython.core.display.Markdown object>"
            ],
            "text/markdown": "|   total_projects |   with_budget |   avg_budget |\n|------------------|---------------|--------------|\n|                5 |             2 |        87500 |"
          },
          "metadata": {}
        }
      ]
    },
    {
      "cell_type": "code",
      "source": [
        "print(\"Show manager or use 'Unassigned' if NULL:\")\n",
        "results = cursor.execute(\"\"\"\n",
        "\n",
        "SELECT name, COALESCE(manager, 'Unassigned') AS display_manager\n",
        "FROM projects;\n",
        "\n",
        "\"\"\")\n",
        "display_results(cursor, results)"
      ],
      "metadata": {
        "colab": {
          "base_uri": "https://localhost:8080/",
          "height": 223
        },
        "id": "g9JFTeWrpTGU",
        "outputId": "e7fcf044-4229-47e1-f8c2-b8a6faf6bea6"
      },
      "execution_count": null,
      "outputs": [
        {
          "output_type": "stream",
          "name": "stdout",
          "text": [
            "Show manager or use 'Unassigned' if NULL:\n"
          ]
        },
        {
          "output_type": "display_data",
          "data": {
            "text/plain": [
              "<IPython.core.display.Markdown object>"
            ],
            "text/markdown": "| name   | display_manager   |\n|--------|-------------------|\n| Apollo | Alice             |\n| Beacon | Bob               |\n| Comet  | Unassigned        |\n| Drift  | Diana             |\n| Echo   | Unassigned        |"
          },
          "metadata": {}
        }
      ]
    },
    {
      "cell_type": "code",
      "source": [
        "print(\"\\nShow budget, default to 0 if missing:\")\n",
        "results = cursor.execute(\"\"\"\n",
        "\n",
        "SELECT name, COALESCE(budget, 0) AS safe_budget\n",
        "FROM projects;\n",
        "\n",
        "\"\"\")\n",
        "display_results(cursor, results)"
      ],
      "metadata": {
        "colab": {
          "base_uri": "https://localhost:8080/",
          "height": 240
        },
        "id": "wxmfe9HhpgRF",
        "outputId": "6ab4f1fa-a043-4558-dcb4-4a0121fe8c47"
      },
      "execution_count": null,
      "outputs": [
        {
          "output_type": "stream",
          "name": "stdout",
          "text": [
            "\n",
            "Show budget, default to 0 if missing:\n"
          ]
        },
        {
          "output_type": "display_data",
          "data": {
            "text/plain": [
              "<IPython.core.display.Markdown object>"
            ],
            "text/markdown": "| name   |   safe_budget |\n|--------|---------------|\n| Apollo |        100000 |\n| Beacon |             0 |\n| Comet  |         75000 |\n| Drift  |             0 |\n| Echo   |             0 |"
          },
          "metadata": {}
        }
      ]
    },
    {
      "cell_type": "markdown",
      "source": [
        "# Example 13) SubQuerying"
      ],
      "metadata": {
        "id": "FOkH25IBqLAS"
      }
    },
    {
      "cell_type": "code",
      "source": [
        "conn = sqlite3.connect(\"example_database_13.db\")\n",
        "cursor = conn.cursor()\n",
        "\n",
        "cursor.executescript(\"\"\"\n",
        "DROP TABLE IF EXISTS staff;\n",
        "\n",
        "CREATE TABLE staff (\n",
        "    id INTEGER PRIMARY KEY,\n",
        "    name TEXT,\n",
        "    role TEXT,\n",
        "    department TEXT,\n",
        "    salary REAL,\n",
        "    hire_year INTEGER\n",
        ");\n",
        "\n",
        "INSERT INTO staff (name, role, department, salary, hire_year) VALUES\n",
        "  ('Alice', 'Developer', 'Engineering', 90000, 2020),\n",
        "  ('Bob', 'Developer', 'Engineering', 87000, 2019),\n",
        "  ('Charlie', 'Manager', 'Engineering', 110000, 2017),\n",
        "  ('Diana', 'Analyst', 'Marketing', 65000, 2021),\n",
        "  ('Ethan', 'Manager', 'Marketing', 95000, 2016),\n",
        "  ('Fay', 'Rep', 'Sales', 60000, 2022),\n",
        "  ('Grace', 'Rep', 'Sales', 61000, 2022),\n",
        "  ('Henry', 'Manager', 'Sales', 98000, 2018);\n",
        "\"\"\")\n"
      ],
      "metadata": {
        "colab": {
          "base_uri": "https://localhost:8080/"
        },
        "id": "zPr9dAUeprST",
        "outputId": "ec49813c-e893-422b-eaf7-f33d8bd7401a"
      },
      "execution_count": 65,
      "outputs": [
        {
          "output_type": "execute_result",
          "data": {
            "text/plain": [
              "<sqlite3.Cursor at 0x7f541202d740>"
            ]
          },
          "metadata": {},
          "execution_count": 65
        }
      ]
    },
    {
      "cell_type": "code",
      "source": [
        "print(\"Employees earning more than the average salary:\")\n",
        "results = cursor.execute(\"\"\"\n",
        "\n",
        "SELECT name, salary\n",
        "FROM staff\n",
        "WHERE salary > (\n",
        "    SELECT AVG(salary) FROM staff\n",
        ");\n",
        "\n",
        "\"\"\")\n",
        "\n",
        "display_results(cursor, results)"
      ],
      "metadata": {
        "colab": {
          "base_uri": "https://localhost:8080/",
          "height": 223
        },
        "id": "BM67pZt4qRxt",
        "outputId": "87752adb-2a9d-47ee-80ec-5a411bd1cf2f"
      },
      "execution_count": 45,
      "outputs": [
        {
          "output_type": "stream",
          "name": "stdout",
          "text": [
            "Employees earning more than the average salary:\n"
          ]
        },
        {
          "output_type": "display_data",
          "data": {
            "text/plain": [
              "<IPython.core.display.Markdown object>"
            ],
            "text/markdown": "| name    |   salary |\n|---------|----------|\n| Alice   |    90000 |\n| Bob     |    87000 |\n| Charlie |   110000 |\n| Ethan   |    95000 |\n| Henry   |    98000 |"
          },
          "metadata": {}
        }
      ]
    },
    {
      "cell_type": "code",
      "source": [
        "print(\"\\nEach employee with the company-wide average salary shown:\")\n",
        "results = cursor.execute(\"\"\"\n",
        "\n",
        "SELECT name, salary, (SELECT AVG(salary) FROM staff) AS avg_salary\n",
        "FROM staff;\n",
        "\n",
        "\"\"\")\n",
        "\n",
        "display_results(cursor, results)"
      ],
      "metadata": {
        "colab": {
          "base_uri": "https://localhost:8080/",
          "height": 334
        },
        "id": "9B5FQbWMqYUO",
        "outputId": "ba22c21b-a4f1-4933-be0a-dce8493855e1"
      },
      "execution_count": 46,
      "outputs": [
        {
          "output_type": "stream",
          "name": "stdout",
          "text": [
            "\n",
            "Each employee with the company-wide average salary shown:\n"
          ]
        },
        {
          "output_type": "display_data",
          "data": {
            "text/plain": [
              "<IPython.core.display.Markdown object>"
            ],
            "text/markdown": "| name    |   salary |   avg_salary |\n|---------|----------|--------------|\n| Alice   |    90000 |        83250 |\n| Bob     |    87000 |        83250 |\n| Charlie |   110000 |        83250 |\n| Diana   |    65000 |        83250 |\n| Ethan   |    95000 |        83250 |\n| Fay     |    60000 |        83250 |\n| Grace   |    61000 |        83250 |\n| Henry   |    98000 |        83250 |"
          },
          "metadata": {}
        }
      ]
    },
    {
      "cell_type": "code",
      "source": [
        "print(\"\\nDepartments with an average salary over $90,000:\")\n",
        "results = cursor.execute(\"\"\"\n",
        "\n",
        "SELECT *\n",
        "FROM (\n",
        "    SELECT department, AVG(salary) AS avg_salary\n",
        "    FROM staff\n",
        "    GROUP BY department\n",
        ") AS dept_avgs\n",
        "WHERE avg_salary > 90000;\n",
        "\n",
        "\"\"\")\n",
        "\n",
        "display_results(cursor, results)"
      ],
      "metadata": {
        "colab": {
          "base_uri": "https://localhost:8080/",
          "height": 115
        },
        "id": "5bdnZYseqgz6",
        "outputId": "15eb170e-6638-458d-9e25-7434d28f90e4"
      },
      "execution_count": 47,
      "outputs": [
        {
          "output_type": "stream",
          "name": "stdout",
          "text": [
            "\n",
            "Departments with an average salary over $90,000:\n"
          ]
        },
        {
          "output_type": "display_data",
          "data": {
            "text/plain": [
              "<IPython.core.display.Markdown object>"
            ],
            "text/markdown": "| department   |   avg_salary |\n|--------------|--------------|\n| Engineering  |      95666.7 |"
          },
          "metadata": {}
        }
      ]
    },
    {
      "cell_type": "code",
      "source": [
        "print(\"\\nEmployees earning more than their department's average:\")\n",
        "results = cursor.execute(\"\"\"\n",
        "\n",
        "SELECT s1.name, s1.department, s1.salary\n",
        "FROM staff s1\n",
        "WHERE s1.salary > (\n",
        "    SELECT AVG(s2.salary)\n",
        "    FROM staff s2\n",
        "    WHERE s2.department = s1.department\n",
        ");\n",
        "\n",
        "\"\"\")\n",
        "\n",
        "display_results(cursor, results)"
      ],
      "metadata": {
        "colab": {
          "base_uri": "https://localhost:8080/",
          "height": 178
        },
        "id": "xBQTJTuWqt7W",
        "outputId": "24b6b687-d09b-42b1-9156-cfeecf731323"
      },
      "execution_count": 48,
      "outputs": [
        {
          "output_type": "stream",
          "name": "stdout",
          "text": [
            "\n",
            "Employees earning more than their department's average:\n"
          ]
        },
        {
          "output_type": "display_data",
          "data": {
            "text/plain": [
              "<IPython.core.display.Markdown object>"
            ],
            "text/markdown": "| name    | department   |   salary |\n|---------|--------------|----------|\n| Charlie | Engineering  |   110000 |\n| Ethan   | Marketing    |    95000 |\n| Henry   | Sales        |    98000 |"
          },
          "metadata": {}
        }
      ]
    },
    {
      "cell_type": "code",
      "source": [
        "print(\"\\nEmployees in departments where at least one manager exists:\")\n",
        "results = cursor.execute(\"\"\"\n",
        "\n",
        "SELECT name, department\n",
        "FROM staff\n",
        "WHERE department IN (\n",
        "    SELECT DISTINCT department\n",
        "    FROM staff\n",
        "    WHERE role = 'Manager'\n",
        ");\n",
        "\n",
        "\"\"\")\n",
        "\n",
        "display_results(cursor, results)"
      ],
      "metadata": {
        "colab": {
          "base_uri": "https://localhost:8080/",
          "height": 334
        },
        "id": "mUTCXh0tq891",
        "outputId": "08ad5c59-3149-4f07-fbbf-b0afc600812f"
      },
      "execution_count": 49,
      "outputs": [
        {
          "output_type": "stream",
          "name": "stdout",
          "text": [
            "\n",
            "Employees in departments where at least one manager exists:\n"
          ]
        },
        {
          "output_type": "display_data",
          "data": {
            "text/plain": [
              "<IPython.core.display.Markdown object>"
            ],
            "text/markdown": "| name    | department   |\n|---------|--------------|\n| Alice   | Engineering  |\n| Bob     | Engineering  |\n| Charlie | Engineering  |\n| Diana   | Marketing    |\n| Ethan   | Marketing    |\n| Fay     | Sales        |\n| Grace   | Sales        |\n| Henry   | Sales        |"
          },
          "metadata": {}
        }
      ]
    },
    {
      "cell_type": "code",
      "source": [
        "print(\"Departments that have at least one Manager:\")\n",
        "\n",
        "results = cursor.execute(\"\"\"\n",
        "\n",
        "SELECT DISTINCT s1.department\n",
        "FROM staff s1\n",
        "WHERE EXISTS (\n",
        "    SELECT 1\n",
        "    FROM staff s2\n",
        "    WHERE s2.department = s1.department\n",
        "      AND s2.role = 'Manager'\n",
        ");\n",
        "\n",
        "\"\"\")\n",
        "\n",
        "display_results(cursor, results)"
      ],
      "metadata": {
        "colab": {
          "base_uri": "https://localhost:8080/",
          "height": 160
        },
        "id": "nxUktJdhrYM2",
        "outputId": "d29d26a4-6b54-4d3d-ff77-06d3749e64e4"
      },
      "execution_count": 50,
      "outputs": [
        {
          "output_type": "stream",
          "name": "stdout",
          "text": [
            "Departments that have at least one Manager:\n"
          ]
        },
        {
          "output_type": "display_data",
          "data": {
            "text/plain": [
              "<IPython.core.display.Markdown object>"
            ],
            "text/markdown": "| department   |\n|--------------|\n| Engineering  |\n| Marketing    |\n| Sales        |"
          },
          "metadata": {}
        }
      ]
    },
    {
      "cell_type": "code",
      "source": [
        "print(\"Employees whose salary is the highest in their department, and they were hired after 2017:\")\n",
        "\n",
        "results = cursor.execute(\"\"\"\n",
        "\n",
        "SELECT name, department, salary\n",
        "FROM staff s1\n",
        "WHERE hire_year > 2017\n",
        "  AND NOT EXISTS (\n",
        "    SELECT 1\n",
        "    FROM staff s2\n",
        "    WHERE s2.department = s1.department\n",
        "      AND s2.salary > s1.salary\n",
        ");\n",
        "\n",
        "\"\"\")\n",
        "\n",
        "display_results(cursor, results)\n"
      ],
      "metadata": {
        "colab": {
          "base_uri": "https://localhost:8080/",
          "height": 98
        },
        "id": "MgYvSI3vrwhk",
        "outputId": "8ef3237d-2bbf-4fa0-9659-602e3a0f2315"
      },
      "execution_count": 51,
      "outputs": [
        {
          "output_type": "stream",
          "name": "stdout",
          "text": [
            "Employees whose salary is the highest in their department, and they were hired after 2017:\n"
          ]
        },
        {
          "output_type": "display_data",
          "data": {
            "text/plain": [
              "<IPython.core.display.Markdown object>"
            ],
            "text/markdown": "| name   | department   |   salary |\n|--------|--------------|----------|\n| Henry  | Sales        |    98000 |"
          },
          "metadata": {}
        }
      ]
    },
    {
      "cell_type": "code",
      "source": [
        "print(\"Complex Expression\")\n",
        "\n",
        "results = cursor.execute(\"\"\"\n",
        "\n",
        "WITH\n",
        "-- 1. Department average salaries\n",
        "dept_avg AS (\n",
        "    SELECT department, AVG(salary) AS dept_salary_avg\n",
        "    FROM staff\n",
        "    GROUP BY department\n",
        "),\n",
        "\n",
        "-- 2. Company-wide average salary\n",
        "company_avg AS (\n",
        "    SELECT AVG(salary) AS overall_avg_salary\n",
        "    FROM staff\n",
        "),\n",
        "\n",
        "-- 3. Departments with above-company-average salaries\n",
        "above_avg_departments AS (\n",
        "    SELECT d.department\n",
        "    FROM dept_avg d\n",
        "    JOIN company_avg c\n",
        "    WHERE d.dept_salary_avg > c.overall_avg_salary\n",
        ")\n",
        "\n",
        "SELECT s.name, s.department\n",
        "FROM staff s\n",
        "JOIN dept_avg d ON s.department = d.department\n",
        "JOIN above_avg_departments a ON s.department = a.department\n",
        "WHERE s.salary > d.dept_salary_avg;\n",
        "\n",
        "\"\"\")\n",
        "\n",
        "display_results(cursor, results)"
      ],
      "metadata": {
        "colab": {
          "base_uri": "https://localhost:8080/",
          "height": 98
        },
        "id": "aXwr30_IBBEI",
        "outputId": "6a3f2304-3e9d-4ac2-a89e-22a628abbf8e"
      },
      "execution_count": 53,
      "outputs": [
        {
          "output_type": "stream",
          "name": "stdout",
          "text": [
            "Complex Expression\n"
          ]
        },
        {
          "output_type": "display_data",
          "data": {
            "text/plain": [
              "<IPython.core.display.Markdown object>"
            ],
            "text/markdown": "| name    | department   |\n|---------|--------------|\n| Charlie | Engineering  |"
          },
          "metadata": {}
        }
      ]
    },
    {
      "cell_type": "code",
      "source": [
        "print(\"Common Table Expression 1\")\n",
        "\n",
        "results = cursor.execute(\"\"\"\n",
        "\n",
        "WITH\n",
        "-- 1. Department average salaries\n",
        "dept_avg AS (\n",
        "    SELECT department, AVG(salary) AS dept_salary_avg\n",
        "    FROM staff\n",
        "    GROUP BY department\n",
        ")\n",
        "\n",
        "SELECT * FROM dept_avg\n",
        "\n",
        "\"\"\")\n",
        "\n",
        "display_results(cursor, results)"
      ],
      "metadata": {
        "colab": {
          "base_uri": "https://localhost:8080/",
          "height": 160
        },
        "id": "Hr3jevUnCWya",
        "outputId": "cb3a9ec5-8a68-4e4e-eece-1db85cd1548d"
      },
      "execution_count": 57,
      "outputs": [
        {
          "output_type": "stream",
          "name": "stdout",
          "text": [
            "Common Table Expression 1\n"
          ]
        },
        {
          "output_type": "display_data",
          "data": {
            "text/plain": [
              "<IPython.core.display.Markdown object>"
            ],
            "text/markdown": "| department   |   dept_salary_avg |\n|--------------|-------------------|\n| Engineering  |           95666.7 |\n| Marketing    |           80000   |\n| Sales        |           73000   |"
          },
          "metadata": {}
        }
      ]
    },
    {
      "cell_type": "code",
      "source": [
        "print(\"Common Table Expression 2\")\n",
        "\n",
        "results = cursor.execute(\"\"\"\n",
        "\n",
        "WITH\n",
        "company_avg AS (\n",
        "    SELECT AVG(salary) AS overall_avg_salary\n",
        "    FROM staff\n",
        ")\n",
        "\n",
        "SELECT * from company_avg\n",
        "\n",
        "\"\"\")\n",
        "\n",
        "display_results(cursor, results)"
      ],
      "metadata": {
        "colab": {
          "base_uri": "https://localhost:8080/",
          "height": 98
        },
        "id": "fwSnegmqCxby",
        "outputId": "38d408bf-6a6e-47b7-9290-a39167d2d5d2"
      },
      "execution_count": 60,
      "outputs": [
        {
          "output_type": "stream",
          "name": "stdout",
          "text": [
            "Common Table Expression 2\n"
          ]
        },
        {
          "output_type": "display_data",
          "data": {
            "text/plain": [
              "<IPython.core.display.Markdown object>"
            ],
            "text/markdown": "|   overall_avg_salary |\n|----------------------|\n|                83250 |"
          },
          "metadata": {}
        }
      ]
    },
    {
      "cell_type": "code",
      "source": [
        "print(\"Complex Expression\")\n",
        "\n",
        "results = cursor.execute(\"\"\"\n",
        "\n",
        "WITH\n",
        "-- 1. Department average salaries\n",
        "dept_avg AS (\n",
        "    SELECT department, AVG(salary) AS dept_salary_avg\n",
        "    FROM staff\n",
        "    GROUP BY department\n",
        "),\n",
        "\n",
        "-- 2. Company-wide average salary\n",
        "company_avg AS (\n",
        "    SELECT AVG(salary) AS overall_avg_salary\n",
        "    FROM staff\n",
        "),\n",
        "\n",
        "-- 3. Departments with above-company-average salaries\n",
        "above_avg_departments AS (\n",
        "    SELECT d.department\n",
        "    FROM dept_avg d\n",
        "    JOIN company_avg c\n",
        "    WHERE d.dept_salary_avg > c.overall_avg_salary\n",
        ")\n",
        "\n",
        "SELECT * from above_avg_departments\n",
        "\n",
        "\"\"\")\n",
        "\n",
        "display_results(cursor, results)"
      ],
      "metadata": {
        "colab": {
          "base_uri": "https://localhost:8080/",
          "height": 98
        },
        "id": "rdHgOF7XDT3D",
        "outputId": "67689fca-0fba-4db2-d392-3622fef0021e"
      },
      "execution_count": 61,
      "outputs": [
        {
          "output_type": "stream",
          "name": "stdout",
          "text": [
            "Complex Expression\n"
          ]
        },
        {
          "output_type": "display_data",
          "data": {
            "text/plain": [
              "<IPython.core.display.Markdown object>"
            ],
            "text/markdown": "| department   |\n|--------------|\n| Engineering  |"
          },
          "metadata": {}
        }
      ]
    },
    {
      "cell_type": "code",
      "source": [
        "print(\"Complex Expression\")\n",
        "\n",
        "results = cursor.execute(\"\"\"\n",
        "\n",
        "WITH\n",
        "-- 1. Department average salaries\n",
        "dept_avg AS (\n",
        "    SELECT department, AVG(salary) AS dept_salary_avg\n",
        "    FROM staff\n",
        "    GROUP BY department\n",
        "),\n",
        "\n",
        "-- 2. Company-wide average salary\n",
        "company_avg AS (\n",
        "    SELECT AVG(salary) AS overall_avg_salary\n",
        "    FROM staff\n",
        "),\n",
        "\n",
        "-- 3. Departments with above-company-average salaries\n",
        "above_avg_departments AS (\n",
        "    SELECT d.department\n",
        "    FROM dept_avg d\n",
        "    JOIN company_avg c\n",
        "    WHERE d.dept_salary_avg > c.overall_avg_salary\n",
        ")\n",
        "\n",
        "SELECT *\n",
        "FROM staff s\n",
        "JOIN dept_avg d ON s.department = d.department\n",
        "JOIN above_avg_departments a ON s.department = a.department\n",
        "\n",
        "\"\"\")\n",
        "\n",
        "display_results(cursor, results)"
      ],
      "metadata": {
        "colab": {
          "base_uri": "https://localhost:8080/",
          "height": 160
        },
        "id": "AasTT0vVE9qb",
        "outputId": "accb4248-3edd-4aab-e4b6-4f745f587ac7"
      },
      "execution_count": 66,
      "outputs": [
        {
          "output_type": "stream",
          "name": "stdout",
          "text": [
            "Complex Expression\n"
          ]
        },
        {
          "output_type": "display_data",
          "data": {
            "text/plain": [
              "<IPython.core.display.Markdown object>"
            ],
            "text/markdown": "|   id | name    | role      | department   |   salary |   hire_year | department   |   dept_salary_avg | department   |\n|------|---------|-----------|--------------|----------|-------------|--------------|-------------------|--------------|\n|    1 | Alice   | Developer | Engineering  |    90000 |        2020 | Engineering  |           95666.7 | Engineering  |\n|    2 | Bob     | Developer | Engineering  |    87000 |        2019 | Engineering  |           95666.7 | Engineering  |\n|    3 | Charlie | Manager   | Engineering  |   110000 |        2017 | Engineering  |           95666.7 | Engineering  |"
          },
          "metadata": {}
        }
      ]
    },
    {
      "cell_type": "markdown",
      "source": [
        "# Example 14) Common Table Expression"
      ],
      "metadata": {
        "id": "nwhRZy-_tqt0"
      }
    },
    {
      "cell_type": "code",
      "source": [
        "conn = sqlite3.connect(\"example_database_14.db\")\n",
        "cursor = conn.cursor()\n",
        "\n",
        "# Step 1: Create and populate new table\n",
        "cursor.executescript(\"\"\"\n",
        "DROP TABLE IF EXISTS employees;\n",
        "\n",
        "CREATE TABLE employees (\n",
        "    id INTEGER PRIMARY KEY,\n",
        "    name TEXT,\n",
        "    department TEXT,\n",
        "    salary REAL\n",
        ");\n",
        "\n",
        "INSERT INTO employees (name, department, salary) VALUES\n",
        "  ('Alice',  'Engineering', 90000),\n",
        "  ('Bob',    'Engineering', 87000),\n",
        "  ('Cara',   'Marketing',   72000),\n",
        "  ('Dave',   'Marketing',   68000),\n",
        "  ('Ella',   'Sales',       61000),\n",
        "  ('Frank',  'Sales',       62000),\n",
        "  ('Grace',  'Sales',       97000);\n",
        "\"\"\")\n"
      ],
      "metadata": {
        "colab": {
          "base_uri": "https://localhost:8080/"
        },
        "id": "U4WQmK9Fr2RV",
        "outputId": "1fb2a9c2-93dc-4b40-ed37-60e6d4abd15e"
      },
      "execution_count": 26,
      "outputs": [
        {
          "output_type": "execute_result",
          "data": {
            "text/plain": [
              "<sqlite3.Cursor at 0x7f541208fdc0>"
            ]
          },
          "metadata": {},
          "execution_count": 26
        }
      ]
    },
    {
      "cell_type": "code",
      "source": [
        "print(\"Departments with average salary > $75,000:\")\n",
        "\n",
        "results = cursor.execute(\"\"\"\n",
        "\n",
        "WITH department_avg AS (\n",
        "    SELECT department, AVG(salary) AS avg_salary\n",
        "    FROM employees\n",
        "    GROUP BY department\n",
        ")\n",
        "\n",
        "SELECT department, avg_salary\n",
        "FROM department_avg\n",
        "WHERE avg_salary > 75000;\n",
        "\n",
        "\"\"\")\n",
        "\n",
        "display_results(cursor, results)"
      ],
      "metadata": {
        "colab": {
          "base_uri": "https://localhost:8080/",
          "height": 98
        },
        "id": "fkQwzxhltxoS",
        "outputId": "6306b66a-47d0-49c0-e768-0d4bc1623024"
      },
      "execution_count": 27,
      "outputs": [
        {
          "output_type": "stream",
          "name": "stdout",
          "text": [
            "Departments with average salary > $75,000:\n"
          ]
        },
        {
          "output_type": "display_data",
          "data": {
            "text/plain": [
              "<IPython.core.display.Markdown object>"
            ],
            "text/markdown": "| department   |   avg_salary |\n|--------------|--------------|\n| Engineering  |        88500 |"
          },
          "metadata": {}
        }
      ]
    },
    {
      "cell_type": "markdown",
      "source": [
        "# Example 15) Recursive CTE"
      ],
      "metadata": {
        "id": "gIzrEnwSufmg"
      }
    },
    {
      "cell_type": "code",
      "source": [
        "# No table needed — it's a pure CTE demo\n",
        "\n",
        "print(\"Generating numbers 1 to 10 using a recursive CTE:\")\n",
        "\n",
        "results = cursor.execute(\"\"\"\n",
        "WITH RECURSIVE numbers(n) AS (\n",
        "    SELECT 1               -- Base case\n",
        "    UNION ALL\n",
        "    SELECT n + 1           -- Recursive case\n",
        "    FROM numbers\n",
        "    WHERE n < 10           -- Stopping condition\n",
        ")\n",
        "SELECT * FROM numbers;\n",
        "\"\"\")\n",
        "\n",
        "display_results(cursor, results)"
      ],
      "metadata": {
        "colab": {
          "base_uri": "https://localhost:8080/",
          "height": 380
        },
        "id": "3tBzWCn1t3bm",
        "outputId": "79217555-2262-4837-c879-063568527635"
      },
      "execution_count": null,
      "outputs": [
        {
          "output_type": "stream",
          "name": "stdout",
          "text": [
            "Generating numbers 1 to 10 using a recursive CTE:\n"
          ]
        },
        {
          "output_type": "display_data",
          "data": {
            "text/plain": [
              "<IPython.core.display.Markdown object>"
            ],
            "text/markdown": "|   n |\n|-----|\n|   1 |\n|   2 |\n|   3 |\n|   4 |\n|   5 |\n|   6 |\n|   7 |\n|   8 |\n|   9 |\n|  10 |"
          },
          "metadata": {}
        }
      ]
    },
    {
      "cell_type": "code",
      "source": [
        "conn = sqlite3.connect(\"example_database_15.db\")\n",
        "cursor = conn.cursor()\n",
        "\n",
        "cursor.executescript(\"\"\"\n",
        "DROP TABLE IF EXISTS employees;\n",
        "\n",
        "CREATE TABLE employees (\n",
        "    id INTEGER PRIMARY KEY,\n",
        "    name TEXT,\n",
        "    title TEXT,\n",
        "    manager_id INTEGER,\n",
        "    FOREIGN KEY (manager_id) REFERENCES employees(id)\n",
        ");\n",
        "\n",
        "INSERT INTO employees (id, name, title, manager_id) VALUES\n",
        "  (1, 'Henry', 'CEO', NULL),\n",
        "  (2, 'Alice', 'CTO', 1),\n",
        "  (3, 'Diana', 'CFO', 1),\n",
        "  (4, 'Bob', 'Engineer', 2),\n",
        "  (5, 'Cara', 'Engineer', 2),\n",
        "  (6, 'Ella', 'Accountant', 3);\n",
        "\"\"\")\n"
      ],
      "metadata": {
        "colab": {
          "base_uri": "https://localhost:8080/"
        },
        "id": "-USfn6AQuOAs",
        "outputId": "8885832d-a962-4ca1-f560-74f7cde62291"
      },
      "execution_count": null,
      "outputs": [
        {
          "output_type": "execute_result",
          "data": {
            "text/plain": [
              "<sqlite3.Cursor at 0x7fe037226340>"
            ]
          },
          "metadata": {},
          "execution_count": 172
        }
      ]
    },
    {
      "cell_type": "code",
      "source": [
        "print(\"Organizational hierarchy:\")\n",
        "\n",
        "results = cursor.execute(\"\"\"\n",
        "WITH RECURSIVE org_chart(id, name, title, manager_id, level) AS (\n",
        "    -- Base case: start with the CEO\n",
        "    SELECT id, name, title, manager_id, 0\n",
        "    FROM employees\n",
        "    WHERE manager_id IS NULL\n",
        "\n",
        "    UNION ALL\n",
        "\n",
        "    -- Recursive step: find employees reporting to those already found\n",
        "    SELECT e.id, e.name, e.title, e.manager_id, oc.level + 1\n",
        "    FROM employees e\n",
        "    JOIN org_chart oc ON e.manager_id = oc.id\n",
        ")\n",
        "SELECT name, title, level\n",
        "FROM org_chart\n",
        "ORDER BY level, name;\n",
        "\"\"\")\n",
        "\n",
        "display_results(cursor, results)"
      ],
      "metadata": {
        "colab": {
          "base_uri": "https://localhost:8080/",
          "height": 254
        },
        "id": "EdMDDGMhupwY",
        "outputId": "820d7f2b-259d-49f5-a278-326aaff7a4d5"
      },
      "execution_count": null,
      "outputs": [
        {
          "output_type": "stream",
          "name": "stdout",
          "text": [
            "Organizational hierarchy:\n"
          ]
        },
        {
          "output_type": "display_data",
          "data": {
            "text/plain": [
              "<IPython.core.display.Markdown object>"
            ],
            "text/markdown": "| name   | title      |   level |\n|--------|------------|---------|\n| Henry  | CEO        |       0 |\n| Alice  | CTO        |       1 |\n| Diana  | CFO        |       1 |\n| Bob    | Engineer   |       2 |\n| Cara   | Engineer   |       2 |\n| Ella   | Accountant |       2 |"
          },
          "metadata": {}
        }
      ]
    },
    {
      "cell_type": "code",
      "source": [
        "print(\"Flattened reporting chains with titles:\")\n",
        "\n",
        "results = cursor.execute(\"\"\"\n",
        "WITH RECURSIVE org_paths(id, name, title, manager_id, path) AS (\n",
        "    -- Base case: CEO\n",
        "    SELECT id, name, title, manager_id, name\n",
        "    FROM employees\n",
        "    WHERE manager_id IS NULL\n",
        "\n",
        "    UNION ALL\n",
        "\n",
        "    -- Recursive step: extend the path\n",
        "    SELECT e.id, e.name, e.title, e.manager_id, op.path || ' > ' || e.name\n",
        "    FROM employees e\n",
        "    JOIN org_paths op ON e.manager_id = op.id\n",
        ")\n",
        "SELECT path || ' (' || title || ')' AS full_path\n",
        "FROM org_paths\n",
        "WHERE id != 1\n",
        "ORDER BY path;\n",
        "\"\"\")\n",
        "\n",
        "display_results(cursor, results)"
      ],
      "metadata": {
        "colab": {
          "base_uri": "https://localhost:8080/",
          "height": 223
        },
        "id": "2ntSKfl6uuR8",
        "outputId": "0ce92c26-e116-4ca0-ec31-bd0268ffc80f"
      },
      "execution_count": null,
      "outputs": [
        {
          "output_type": "stream",
          "name": "stdout",
          "text": [
            "Flattened reporting chains with titles:\n"
          ]
        },
        {
          "output_type": "display_data",
          "data": {
            "text/plain": [
              "<IPython.core.display.Markdown object>"
            ],
            "text/markdown": "| full_path                         |\n|-----------------------------------|\n| Henry > Alice (CTO)               |\n| Henry > Alice > Bob (Engineer)    |\n| Henry > Alice > Cara (Engineer)   |\n| Henry > Diana (CFO)               |\n| Henry > Diana > Ella (Accountant) |"
          },
          "metadata": {}
        }
      ]
    },
    {
      "cell_type": "markdown",
      "source": [
        "# Example 16) Window Functions"
      ],
      "metadata": {
        "id": "TJPvLwTBzSNq"
      }
    },
    {
      "cell_type": "code",
      "source": [
        "import sqlite3"
      ],
      "metadata": {
        "id": "sANbD_FiS9uL"
      },
      "execution_count": 2,
      "outputs": []
    },
    {
      "cell_type": "code",
      "source": [
        "conn = sqlite3.connect(\"example_database_16.db\")\n",
        "cursor = conn.cursor()\n",
        "\n",
        "cursor.executescript(\"\"\"\n",
        "DROP TABLE IF EXISTS sales;\n",
        "\n",
        "CREATE TABLE sales (\n",
        "    id INTEGER PRIMARY KEY,\n",
        "    employee TEXT,\n",
        "    department TEXT,\n",
        "    amount REAL\n",
        ");\n",
        "\n",
        "INSERT INTO sales (employee, department, amount) VALUES\n",
        "  ('Alice', 'Engineering', 1000),\n",
        "  ('Bob', 'Engineering', 1500),\n",
        "  ('Joe', 'Engineering', 1500),\n",
        "  ('Charlie', 'Engineering', 1200),\n",
        "  ('Diana', 'Marketing', 800),\n",
        "  ('Ethan', 'Marketing', 700),\n",
        "  ('Fay', 'Sales', 900),\n",
        "  ('Grace', 'Sales', 1300);\n",
        "\"\"\")\n"
      ],
      "metadata": {
        "colab": {
          "base_uri": "https://localhost:8080/"
        },
        "id": "vcG-exEpvdqE",
        "outputId": "684fc300-819e-40da-ee67-c5894318bf42"
      },
      "execution_count": 3,
      "outputs": [
        {
          "output_type": "execute_result",
          "data": {
            "text/plain": [
              "<sqlite3.Cursor at 0x7865ec40ea40>"
            ]
          },
          "metadata": {},
          "execution_count": 3
        }
      ]
    },
    {
      "cell_type": "code",
      "source": [
        "print(\"Showing top performers by department:\")\n",
        "\n",
        "results = cursor.execute(\"\"\"\n",
        "\n",
        "SELECT employee, department, amount,\n",
        "       ROW_NUMBER() OVER (PARTITION BY department ORDER BY amount DESC) AS row_num\n",
        "FROM sales;\n",
        "\n",
        "\"\"\")\n",
        "\n",
        "display_results(cursor, results)"
      ],
      "metadata": {
        "colab": {
          "base_uri": "https://localhost:8080/",
          "height": 317
        },
        "id": "vPlYQ2NRza2n",
        "outputId": "5f45739f-5995-4a85-fd55-3313e84f7c60"
      },
      "execution_count": 18,
      "outputs": [
        {
          "output_type": "stream",
          "name": "stdout",
          "text": [
            "Showing top performers by department:\n"
          ]
        },
        {
          "output_type": "display_data",
          "data": {
            "text/plain": [
              "<IPython.core.display.Markdown object>"
            ],
            "text/markdown": "| employee   | department   |   amount |   row_num |\n|------------|--------------|----------|-----------|\n| Bob        | Engineering  |     1500 |         1 |\n| Joe        | Engineering  |     1500 |         2 |\n| Charlie    | Engineering  |     1200 |         3 |\n| Alice      | Engineering  |     1000 |         4 |\n| Diana      | Marketing    |      800 |         1 |\n| Ethan      | Marketing    |      700 |         2 |\n| Grace      | Sales        |     1300 |         1 |\n| Fay        | Sales        |      900 |         2 |"
          },
          "metadata": {}
        }
      ]
    },
    {
      "cell_type": "code",
      "source": [
        "print(\"Scoreboard:\")\n",
        "\n",
        "results = cursor.execute(\"\"\"\n",
        "\n",
        "SELECT employee, department, amount,\n",
        "       RANK() OVER (PARTITION BY department ORDER BY amount DESC) AS rank,\n",
        "       DENSE_RANK() OVER (PARTITION BY department ORDER BY amount DESC) AS dense_rank\n",
        "FROM sales;\n",
        "\n",
        "\n",
        "\"\"\")\n",
        "\n",
        "display_results(cursor, results)"
      ],
      "metadata": {
        "colab": {
          "base_uri": "https://localhost:8080/",
          "height": 317
        },
        "id": "MZwHRKzmziSR",
        "outputId": "8fe27cc8-eb1c-4869-c1db-4b3f6e5329b2"
      },
      "execution_count": 19,
      "outputs": [
        {
          "output_type": "stream",
          "name": "stdout",
          "text": [
            "Scoreboard:\n"
          ]
        },
        {
          "output_type": "display_data",
          "data": {
            "text/plain": [
              "<IPython.core.display.Markdown object>"
            ],
            "text/markdown": "| employee   | department   |   amount |   rank |   dense_rank |\n|------------|--------------|----------|--------|--------------|\n| Bob        | Engineering  |     1500 |      1 |            1 |\n| Joe        | Engineering  |     1500 |      1 |            1 |\n| Charlie    | Engineering  |     1200 |      3 |            2 |\n| Alice      | Engineering  |     1000 |      4 |            3 |\n| Diana      | Marketing    |      800 |      1 |            1 |\n| Ethan      | Marketing    |      700 |      2 |            2 |\n| Grace      | Sales        |     1300 |      1 |            1 |\n| Fay        | Sales        |      900 |      2 |            2 |"
          },
          "metadata": {}
        }
      ]
    },
    {
      "cell_type": "code",
      "source": [
        "print(\"Scoreboard:\")\n",
        "\n",
        "results = cursor.execute(\"\"\"\n",
        "\n",
        "SELECT employee, department, amount,\n",
        "       RANK() OVER (PARTITION BY department) AS rank\n",
        "FROM sales;\n",
        "\n",
        "\n",
        "\"\"\")\n",
        "\n",
        "display_results(cursor, results)"
      ],
      "metadata": {
        "colab": {
          "base_uri": "https://localhost:8080/",
          "height": 317
        },
        "id": "sHbLko8gS7wV",
        "outputId": "adb9cfbb-217b-4a35-f0c1-156614ceac51"
      },
      "execution_count": 23,
      "outputs": [
        {
          "output_type": "stream",
          "name": "stdout",
          "text": [
            "Scoreboard:\n"
          ]
        },
        {
          "output_type": "display_data",
          "data": {
            "text/plain": [
              "<IPython.core.display.Markdown object>"
            ],
            "text/markdown": "| employee   | department   |   amount |   rank |\n|------------|--------------|----------|--------|\n| Alice      | Engineering  |     1000 |      1 |\n| Bob        | Engineering  |     1500 |      1 |\n| Joe        | Engineering  |     1500 |      1 |\n| Charlie    | Engineering  |     1200 |      1 |\n| Diana      | Marketing    |      800 |      1 |\n| Ethan      | Marketing    |      700 |      1 |\n| Fay        | Sales        |      900 |      1 |\n| Grace      | Sales        |     1300 |      1 |"
          },
          "metadata": {}
        }
      ]
    },
    {
      "cell_type": "code",
      "source": [
        "print(\"Scoreboard:\")\n",
        "\n",
        "results = cursor.execute(\"\"\"\n",
        "\n",
        "SELECT employee, department, amount,\n",
        "       SUM(amount) OVER (PARTITION BY department) AS department_total,\n",
        "       SUM(amount) OVER () AS department_total\n",
        "FROM sales;\n",
        "\n",
        "\n",
        "\"\"\")\n",
        "\n",
        "display_results(cursor, results)"
      ],
      "metadata": {
        "colab": {
          "base_uri": "https://localhost:8080/",
          "height": 317
        },
        "id": "3T01CxHFUoY7",
        "outputId": "62adc521-6ece-44b8-d15d-0522ef0026ed"
      },
      "execution_count": 28,
      "outputs": [
        {
          "output_type": "stream",
          "name": "stdout",
          "text": [
            "Scoreboard:\n"
          ]
        },
        {
          "output_type": "display_data",
          "data": {
            "text/plain": [
              "<IPython.core.display.Markdown object>"
            ],
            "text/markdown": "| employee   | department   |   amount |   department_total |   department_total |\n|------------|--------------|----------|--------------------|--------------------|\n| Alice      | Engineering  |     1000 |               5200 |               8900 |\n| Bob        | Engineering  |     1500 |               5200 |               8900 |\n| Joe        | Engineering  |     1500 |               5200 |               8900 |\n| Charlie    | Engineering  |     1200 |               5200 |               8900 |\n| Diana      | Marketing    |      800 |               1500 |               8900 |\n| Ethan      | Marketing    |      700 |               1500 |               8900 |\n| Fay        | Sales        |      900 |               2200 |               8900 |\n| Grace      | Sales        |     1300 |               2200 |               8900 |"
          },
          "metadata": {}
        }
      ]
    },
    {
      "cell_type": "code",
      "source": [
        "print(\"Scoreboard:\")\n",
        "\n",
        "results = cursor.execute(\"\"\"\n",
        "\n",
        "SELECT employee, department, amount,\n",
        "       SUM(amount) OVER (PARTITION BY department) AS department_total,\n",
        "       SUM(amount) AS department_total\n",
        "FROM sales;\n",
        "\n",
        "\n",
        "\"\"\")\n",
        "\n",
        "display_results(cursor, results)"
      ],
      "metadata": {
        "colab": {
          "base_uri": "https://localhost:8080/",
          "height": 98
        },
        "id": "AipostwEV9aC",
        "outputId": "9cfca49f-b2ce-43ad-af1d-9072795375e0"
      },
      "execution_count": 29,
      "outputs": [
        {
          "output_type": "stream",
          "name": "stdout",
          "text": [
            "Scoreboard:\n"
          ]
        },
        {
          "output_type": "display_data",
          "data": {
            "text/plain": [
              "<IPython.core.display.Markdown object>"
            ],
            "text/markdown": "| employee   | department   |   amount |   department_total |   department_total |\n|------------|--------------|----------|--------------------|--------------------|\n| Alice      | Engineering  |     1000 |               1000 |               8900 |"
          },
          "metadata": {}
        }
      ]
    },
    {
      "cell_type": "code",
      "source": [
        "print(\"Comparing sales to department total\")\n",
        "\n",
        "results = cursor.execute(\"\"\"\n",
        "\n",
        "SELECT employee, department, amount,\n",
        "       SUM(amount) OVER (PARTITION BY department) AS dept_total\n",
        "FROM sales;\n",
        "\n",
        "\"\"\")\n",
        "\n",
        "display_results(cursor, results)"
      ],
      "metadata": {
        "colab": {
          "base_uri": "https://localhost:8080/",
          "height": 317
        },
        "id": "9r7q7SMjz6um",
        "outputId": "3b99a9b0-d0f7-43b4-9188-bb9ae44a2cd5"
      },
      "execution_count": null,
      "outputs": [
        {
          "output_type": "stream",
          "name": "stdout",
          "text": [
            "Comparing sales to department total\n"
          ]
        },
        {
          "output_type": "display_data",
          "data": {
            "text/plain": [
              "<IPython.core.display.Markdown object>"
            ],
            "text/markdown": "| employee   | department   |   amount |   dept_total |\n|------------|--------------|----------|--------------|\n| Alice      | Engineering  |     1000 |         5200 |\n| Bob        | Engineering  |     1500 |         5200 |\n| Joe        | Engineering  |     1500 |         5200 |\n| Charlie    | Engineering  |     1200 |         5200 |\n| Diana      | Marketing    |      800 |         1500 |\n| Ethan      | Marketing    |      700 |         1500 |\n| Fay        | Sales        |      900 |         2200 |\n| Grace      | Sales        |     1300 |         2200 |"
          },
          "metadata": {}
        }
      ]
    },
    {
      "cell_type": "code",
      "source": [
        "print(\"Compare to next and previous\")\n",
        "\n",
        "results = cursor.execute(\"\"\"\n",
        "\n",
        "SELECT employee, department, amount,\n",
        "       LAG(amount) OVER (PARTITION BY department ORDER BY amount) AS prev_amount,\n",
        "       LEAD(amount) OVER (PARTITION BY department ORDER BY amount) AS next_amount\n",
        "FROM sales;\n",
        "\n",
        "\"\"\")\n",
        "\n",
        "display_results(cursor, results)"
      ],
      "metadata": {
        "colab": {
          "base_uri": "https://localhost:8080/",
          "height": 317
        },
        "id": "0yxkKAqz0euW",
        "outputId": "e83bec7f-2689-45b9-ab98-434ec056bbf4"
      },
      "execution_count": null,
      "outputs": [
        {
          "output_type": "stream",
          "name": "stdout",
          "text": [
            "Comparing sales to department total\n"
          ]
        },
        {
          "output_type": "display_data",
          "data": {
            "text/plain": [
              "<IPython.core.display.Markdown object>"
            ],
            "text/markdown": "| employee   | department   |   amount |   prev_amount |   next_amount |\n|------------|--------------|----------|---------------|---------------|\n| Alice      | Engineering  |     1000 |               |          1200 |\n| Charlie    | Engineering  |     1200 |          1000 |          1500 |\n| Bob        | Engineering  |     1500 |          1200 |          1500 |\n| Joe        | Engineering  |     1500 |          1500 |               |\n| Ethan      | Marketing    |      700 |               |           800 |\n| Diana      | Marketing    |      800 |           700 |               |\n| Fay        | Sales        |      900 |               |          1300 |\n| Grace      | Sales        |     1300 |           900 |               |"
          },
          "metadata": {}
        }
      ]
    },
    {
      "cell_type": "code",
      "source": [
        "print(\"Compare to worst and best\")\n",
        "\n",
        "results = cursor.execute(\"\"\"\n",
        "\n",
        "SELECT employee, department, amount,\n",
        "       FIRST_VALUE(amount) OVER (PARTITION BY department ORDER BY amount DESC) AS top_sale,\n",
        "       LAST_VALUE(amount) OVER (PARTITION BY department ORDER BY amount DESC\n",
        "           ROWS BETWEEN UNBOUNDED PRECEDING AND UNBOUNDED FOLLOWING) AS bottom_sale\n",
        "FROM sales;\n",
        "\n",
        "\"\"\")\n",
        "\n",
        "display_results(cursor, results)"
      ],
      "metadata": {
        "colab": {
          "base_uri": "https://localhost:8080/",
          "height": 317
        },
        "id": "r_pSeF6p0rgz",
        "outputId": "c55e6b8c-5583-4fc2-e642-1bec0364033f"
      },
      "execution_count": null,
      "outputs": [
        {
          "output_type": "stream",
          "name": "stdout",
          "text": [
            "Compare to worst and best\n"
          ]
        },
        {
          "output_type": "display_data",
          "data": {
            "text/plain": [
              "<IPython.core.display.Markdown object>"
            ],
            "text/markdown": "| employee   | department   |   amount |   top_sale |   bottom_sale |\n|------------|--------------|----------|------------|---------------|\n| Bob        | Engineering  |     1500 |       1500 |          1000 |\n| Joe        | Engineering  |     1500 |       1500 |          1000 |\n| Charlie    | Engineering  |     1200 |       1500 |          1000 |\n| Alice      | Engineering  |     1000 |       1500 |          1000 |\n| Diana      | Marketing    |      800 |        800 |           700 |\n| Ethan      | Marketing    |      700 |        800 |           700 |\n| Grace      | Sales        |     1300 |       1300 |           900 |\n| Fay        | Sales        |      900 |       1300 |           900 |"
          },
          "metadata": {}
        }
      ]
    },
    {
      "cell_type": "code",
      "source": [
        "print(\"Group into 2 buckets\")\n",
        "\n",
        "results = cursor.execute(\"\"\"\n",
        "\n",
        "SELECT employee, department, amount,\n",
        "       NTILE(2) OVER (PARTITION BY department ORDER BY amount DESC) AS bucket\n",
        "FROM sales;\n",
        "\n",
        "\n",
        "\"\"\")\n",
        "\n",
        "display_results(cursor, results)"
      ],
      "metadata": {
        "colab": {
          "base_uri": "https://localhost:8080/",
          "height": 317
        },
        "id": "S9mX1Lvx0_gq",
        "outputId": "eeb48033-dbf0-4bf1-ace4-8fb588d7f249"
      },
      "execution_count": null,
      "outputs": [
        {
          "output_type": "stream",
          "name": "stdout",
          "text": [
            "Group into 2 buckets\n"
          ]
        },
        {
          "output_type": "display_data",
          "data": {
            "text/plain": [
              "<IPython.core.display.Markdown object>"
            ],
            "text/markdown": "| employee   | department   |   amount |   bucket |\n|------------|--------------|----------|----------|\n| Bob        | Engineering  |     1500 |        1 |\n| Joe        | Engineering  |     1500 |        1 |\n| Charlie    | Engineering  |     1200 |        2 |\n| Alice      | Engineering  |     1000 |        2 |\n| Diana      | Marketing    |      800 |        1 |\n| Ethan      | Marketing    |      700 |        2 |\n| Grace      | Sales        |     1300 |        1 |\n| Fay        | Sales        |      900 |        2 |"
          },
          "metadata": {}
        }
      ]
    },
    {
      "cell_type": "markdown",
      "source": [
        "# Example 17) Pivoting\n",
        "SQLite doesn't have a `pivot` funcitonality built in"
      ],
      "metadata": {
        "id": "OqYx-qaf14BA"
      }
    },
    {
      "cell_type": "code",
      "source": [
        "import sqlite3\n",
        "\n",
        "conn = sqlite3.connect(\"example_database_17.db\")\n",
        "cursor = conn.cursor()\n",
        "\n",
        "cursor.executescript(\"\"\"\n",
        "DROP TABLE IF EXISTS sales;\n",
        "\n",
        "CREATE TABLE sales (\n",
        "    id INTEGER PRIMARY KEY,\n",
        "    department TEXT,\n",
        "    month TEXT,\n",
        "    total_sales INTEGER\n",
        ");\n",
        "\n",
        "INSERT INTO sales (department, month, total_sales) VALUES\n",
        "  ('Sales', 'Jan', 1000),\n",
        "  ('Sales', 'Feb', 1200),\n",
        "  ('Sales', 'Mar', 1100),\n",
        "  ('Marketing', 'Jan', 800),\n",
        "  ('Marketing', 'Feb', 950),\n",
        "  ('Marketing', 'Mar', 700),\n",
        "  ('Engineering', 'Jan', 1500),\n",
        "  ('Engineering', 'Feb', 1400),\n",
        "  ('Engineering', 'Mar', 1600);\n",
        "\"\"\")\n"
      ],
      "metadata": {
        "colab": {
          "base_uri": "https://localhost:8080/"
        },
        "id": "weS2QDHQ1LpD",
        "outputId": "53cd4bdb-0f42-47a6-99df-6777ae73d13f"
      },
      "execution_count": null,
      "outputs": [
        {
          "output_type": "execute_result",
          "data": {
            "text/plain": [
              "<sqlite3.Cursor at 0x7fe03728c740>"
            ]
          },
          "metadata": {},
          "execution_count": 189
        }
      ]
    },
    {
      "cell_type": "code",
      "source": [
        "print(\"Monthly sales pivot by department:\")\n",
        "\n",
        "results = cursor.execute(\"\"\"\n",
        "SELECT\n",
        "    department,\n",
        "    SUM(CASE WHEN month = 'Jan' THEN total_sales END) AS Jan,\n",
        "    SUM(CASE WHEN month = 'Feb' THEN total_sales END) AS Feb,\n",
        "    SUM(CASE WHEN month = 'Mar' THEN total_sales END) AS Mar\n",
        "FROM sales\n",
        "GROUP BY department;\n",
        "\"\"\")\n",
        "\n",
        "display_results(cursor, results)"
      ],
      "metadata": {
        "colab": {
          "base_uri": "https://localhost:8080/",
          "height": 160
        },
        "id": "owYONUjL2DNx",
        "outputId": "05e03722-625d-483d-ad1f-27e104f1e072"
      },
      "execution_count": null,
      "outputs": [
        {
          "output_type": "stream",
          "name": "stdout",
          "text": [
            "Monthly sales pivot by department:\n"
          ]
        },
        {
          "output_type": "display_data",
          "data": {
            "text/plain": [
              "<IPython.core.display.Markdown object>"
            ],
            "text/markdown": "| department   |   Jan |   Feb |   Mar |\n|--------------|-------|-------|-------|\n| Engineering  |  1500 |  1400 |  1600 |\n| Marketing    |   800 |   950 |   700 |\n| Sales        |  1000 |  1200 |  1100 |"
          },
          "metadata": {}
        }
      ]
    },
    {
      "cell_type": "code",
      "source": [
        "print(\"Sales percentage of total per month:\")\n",
        "\n",
        "results = cursor.execute(\"\"\"\n",
        "\n",
        "SELECT\n",
        "    month,\n",
        "    department,\n",
        "    total_sales,\n",
        "    ROUND(\n",
        "        100.0 * total_sales / SUM(total_sales) OVER (PARTITION BY month),\n",
        "        2\n",
        "    ) AS pct_of_month_total\n",
        "FROM sales\n",
        "ORDER BY month, department;\n",
        "\n",
        "\"\"\")\n",
        "\n",
        "display_results(cursor, results)"
      ],
      "metadata": {
        "colab": {
          "base_uri": "https://localhost:8080/",
          "height": 348
        },
        "id": "jCGarLTU2IZT",
        "outputId": "64552219-6d35-4b15-e872-b27b0710ad1a"
      },
      "execution_count": null,
      "outputs": [
        {
          "output_type": "stream",
          "name": "stdout",
          "text": [
            "Sales percentage of total per month:\n"
          ]
        },
        {
          "output_type": "display_data",
          "data": {
            "text/plain": [
              "<IPython.core.display.Markdown object>"
            ],
            "text/markdown": "| month   | department   |   total_sales |   pct_of_month_total |\n|---------|--------------|---------------|----------------------|\n| Feb     | Engineering  |          1400 |                39.44 |\n| Feb     | Marketing    |           950 |                26.76 |\n| Feb     | Sales        |          1200 |                33.8  |\n| Jan     | Engineering  |          1500 |                45.45 |\n| Jan     | Marketing    |           800 |                24.24 |\n| Jan     | Sales        |          1000 |                30.3  |\n| Mar     | Engineering  |          1600 |                47.06 |\n| Mar     | Marketing    |           700 |                20.59 |\n| Mar     | Sales        |          1100 |                32.35 |"
          },
          "metadata": {}
        }
      ]
    },
    {
      "cell_type": "markdown",
      "source": [
        "# Example 18) Many to Many Pivot Tables"
      ],
      "metadata": {
        "id": "qQKo_Q2421wK"
      }
    },
    {
      "cell_type": "code",
      "source": [
        "import sqlite3\n",
        "\n",
        "conn = sqlite3.connect(\"pivot_m2m.db\")\n",
        "cursor = conn.cursor()\n",
        "\n",
        "cursor.executescript(\"\"\"\n",
        "DROP TABLE IF EXISTS students;\n",
        "DROP TABLE IF EXISTS courses;\n",
        "DROP TABLE IF EXISTS enrollments;\n",
        "\n",
        "CREATE TABLE students (\n",
        "    id INTEGER PRIMARY KEY,\n",
        "    name TEXT\n",
        ");\n",
        "\n",
        "CREATE TABLE courses (\n",
        "    id INTEGER PRIMARY KEY,\n",
        "    course_name TEXT\n",
        ");\n",
        "\n",
        "CREATE TABLE enrollments (\n",
        "    student_id INTEGER,\n",
        "    course_id INTEGER,\n",
        "    FOREIGN KEY (student_id) REFERENCES students(id),\n",
        "    FOREIGN KEY (course_id) REFERENCES courses(id)\n",
        ");\n",
        "\n",
        "-- Insert students\n",
        "INSERT INTO students (id, name) VALUES\n",
        "  (1, 'Alice'),\n",
        "  (2, 'Bob'),\n",
        "  (3, 'Cara'),\n",
        "  (4, 'Derek');\n",
        "\n",
        "-- Insert courses\n",
        "INSERT INTO courses (id, course_name) VALUES\n",
        "  (1, 'Math'),\n",
        "  (2, 'History'),\n",
        "  (3, 'Science');\n",
        "\n",
        "-- Insert enrollments (many-to-many)\n",
        "INSERT INTO enrollments (student_id, course_id) VALUES\n",
        "  (1, 1),  -- Alice in Math\n",
        "  (1, 2),  -- Alice in History\n",
        "  (2, 2),  -- Bob in History\n",
        "  (2, 3),  -- Bob in Science\n",
        "  (3, 1),  -- Cara in Math\n",
        "  (3, 3),  -- Cara in Science\n",
        "  (4, 1);  -- Derek in Math\n",
        "\"\"\")\n"
      ],
      "metadata": {
        "colab": {
          "base_uri": "https://localhost:8080/"
        },
        "id": "gzSE3Cty2hSo",
        "outputId": "3bd57b16-1bf8-4562-c495-72b9ef2c2527"
      },
      "execution_count": null,
      "outputs": [
        {
          "output_type": "execute_result",
          "data": {
            "text/plain": [
              "<sqlite3.Cursor at 0x7fe0372b05c0>"
            ]
          },
          "metadata": {},
          "execution_count": 192
        }
      ]
    },
    {
      "cell_type": "code",
      "source": [
        "print(\"Pivot table: Students × Courses (enrolled = 1)\")\n",
        "\n",
        "results = cursor.execute(\"\"\"\n",
        "\n",
        "SELECT\n",
        "    s.name,\n",
        "    MAX(CASE WHEN c.course_name = 'Math' THEN 1 ELSE 0 END) AS Math,\n",
        "    MAX(CASE WHEN c.course_name = 'History' THEN 1 ELSE 0 END) AS History,\n",
        "    MAX(CASE WHEN c.course_name = 'Science' THEN 1 ELSE 0 END) AS Science\n",
        "FROM students s\n",
        "LEFT JOIN enrollments e ON s.id = e.student_id\n",
        "LEFT JOIN courses c ON e.course_id = c.id\n",
        "GROUP BY s.name\n",
        "ORDER BY s.name;\n",
        "\n",
        "\"\"\")\n",
        "\n",
        "display_results(cursor, results)\n"
      ],
      "metadata": {
        "colab": {
          "base_uri": "https://localhost:8080/",
          "height": 192
        },
        "id": "wVRMYQKw26-g",
        "outputId": "16f396a3-5aff-4178-8856-5cb6d409e113"
      },
      "execution_count": null,
      "outputs": [
        {
          "output_type": "stream",
          "name": "stdout",
          "text": [
            "Pivot table: Students × Courses (enrolled = 1)\n"
          ]
        },
        {
          "output_type": "display_data",
          "data": {
            "text/plain": [
              "<IPython.core.display.Markdown object>"
            ],
            "text/markdown": "| name   |   Math |   History |   Science |\n|--------|--------|-----------|-----------|\n| Alice  |      1 |         1 |         0 |\n| Bob    |      0 |         1 |         1 |\n| Cara   |      1 |         0 |         1 |\n| Derek  |      1 |         0 |         0 |"
          },
          "metadata": {}
        }
      ]
    },
    {
      "cell_type": "code",
      "source": [
        "print(\"Pivot: Number of students per course\")\n",
        "\n",
        "results = cursor.execute(\"\"\"\n",
        "\n",
        "SELECT\n",
        "    c.course_name,\n",
        "    COUNT(e.student_id) AS student_count\n",
        "FROM courses c\n",
        "LEFT JOIN enrollments e ON c.id = e.course_id\n",
        "GROUP BY c.course_name\n",
        "ORDER BY c.course_name;\n",
        "\n",
        "\"\"\")\n",
        "\n",
        "display_results(cursor, results)"
      ],
      "metadata": {
        "colab": {
          "base_uri": "https://localhost:8080/",
          "height": 160
        },
        "id": "aB9grrRf3BKq",
        "outputId": "be965fed-9bdb-4f35-9cb2-74538e4d71e9"
      },
      "execution_count": null,
      "outputs": [
        {
          "output_type": "stream",
          "name": "stdout",
          "text": [
            "Pivot: Number of students per course\n"
          ]
        },
        {
          "output_type": "display_data",
          "data": {
            "text/plain": [
              "<IPython.core.display.Markdown object>"
            ],
            "text/markdown": "| course_name   |   student_count |\n|---------------|-----------------|\n| History       |               2 |\n| Math          |               3 |\n| Science       |               2 |"
          },
          "metadata": {}
        }
      ]
    },
    {
      "cell_type": "markdown",
      "source": [
        "# Example 19) Crazy Query 1"
      ],
      "metadata": {
        "id": "MiC6T8wd3yjz"
      }
    },
    {
      "cell_type": "code",
      "source": [
        "import sqlite3\n",
        "\n",
        "conn = sqlite3.connect(\"example_database_19.db\")\n",
        "cursor = conn.cursor()\n",
        "\n",
        "cursor.executescript(\"\"\"\n",
        "DROP TABLE IF EXISTS students;\n",
        "DROP TABLE IF EXISTS courses;\n",
        "DROP TABLE IF EXISTS enrollments;\n",
        "DROP TABLE IF EXISTS prerequisites;\n",
        "\n",
        "CREATE TABLE students (\n",
        "    id INTEGER PRIMARY KEY,\n",
        "    name TEXT\n",
        ");\n",
        "\n",
        "CREATE TABLE courses (\n",
        "    id INTEGER PRIMARY KEY,\n",
        "    course_name TEXT\n",
        ");\n",
        "\n",
        "CREATE TABLE enrollments (\n",
        "    student_id INTEGER,\n",
        "    course_id INTEGER,\n",
        "    grade INTEGER,  -- out of 100\n",
        "    FOREIGN KEY (student_id) REFERENCES students(id),\n",
        "    FOREIGN KEY (course_id) REFERENCES courses(id)\n",
        ");\n",
        "\n",
        "CREATE TABLE prerequisites (\n",
        "    course_id INTEGER,\n",
        "    prerequisite_id INTEGER,\n",
        "    FOREIGN KEY (course_id) REFERENCES courses(id),\n",
        "    FOREIGN KEY (prerequisite_id) REFERENCES courses(id)\n",
        ");\n",
        "\n",
        "-- Students\n",
        "INSERT INTO students (id, name) VALUES\n",
        "  (1, 'Alice'),\n",
        "  (2, 'Bob'),\n",
        "  (3, 'Cara');\n",
        "\n",
        "-- Courses\n",
        "INSERT INTO courses (id, course_name) VALUES\n",
        "  (1, 'Math'),\n",
        "  (2, 'History'),\n",
        "  (3, 'Science'),\n",
        "  (4, 'Advanced Science');\n",
        "\n",
        "-- Enrollments (with grades)\n",
        "INSERT INTO enrollments (student_id, course_id, grade) VALUES\n",
        "  (1, 1, 95),  -- Alice - Math\n",
        "  (1, 2, 80),\n",
        "  (1, 3, 88),\n",
        "  (1, 4, 91),  -- Took Advanced\n",
        "\n",
        "  (2, 1, 75),\n",
        "  (2, 3, 82),\n",
        "  (2, 4, 85),  -- Took Advanced, skipped History\n",
        "\n",
        "  (3, 1, 100),\n",
        "  (3, 2, 85),\n",
        "  (3, 3, 80);  -- Did not take Advanced\n",
        "\n",
        "-- Prerequisites (Advanced Science requires Science)\n",
        "INSERT INTO prerequisites (course_id, prerequisite_id) VALUES\n",
        "  (4, 3);\n",
        "\"\"\")\n"
      ],
      "metadata": {
        "colab": {
          "base_uri": "https://localhost:8080/"
        },
        "id": "V3mJR7Wc3KEE",
        "outputId": "3152a1ff-defc-41c9-acb2-093af9dffd30"
      },
      "execution_count": 31,
      "outputs": [
        {
          "output_type": "execute_result",
          "data": {
            "text/plain": [
              "<sqlite3.Cursor at 0x7865ec40e2c0>"
            ]
          },
          "metadata": {},
          "execution_count": 31
        }
      ]
    },
    {
      "cell_type": "code",
      "source": [
        "print(\"Crazy complex query mixing everything:\")\n",
        "\n",
        "results = cursor.execute(\"\"\"\n",
        "WITH RECURSIVE prereq_chain(course_id, prerequisite_id) AS (\n",
        "    -- Base case: start with prerequisites\n",
        "    SELECT course_id, prerequisite_id\n",
        "    FROM prerequisites\n",
        "    UNION\n",
        "    -- Recursively walk the tree of prerequisites\n",
        "    SELECT p.course_id, pr.prerequisite_id\n",
        "    FROM prerequisites p\n",
        "    JOIN prereq_chain pr ON p.prerequisite_id = pr.course_id\n",
        "),\n",
        "\n",
        "-- Who took what\n",
        "student_courses AS (\n",
        "    SELECT student_id, course_id, grade\n",
        "    FROM enrollments\n",
        "),\n",
        "\n",
        "-- Build course stats (ranking and percent)\n",
        "course_ranking AS (\n",
        "    SELECT\n",
        "        e.student_id,\n",
        "        c.course_name,\n",
        "        e.course_id,\n",
        "        e.grade,\n",
        "        RANK() OVER (PARTITION BY e.course_id ORDER BY e.grade DESC) AS rank_in_course,\n",
        "        ROUND(100.0 * e.grade / MAX(e.grade) OVER (PARTITION BY e.course_id), 2) AS pct_of_top,\n",
        "        CASE WHEN e.grade = MAX(e.grade) OVER (PARTITION BY e.course_id)\n",
        "             THEN '✅ Top of Class'\n",
        "             ELSE ''\n",
        "        END AS top_marker\n",
        "    FROM enrollments e\n",
        "    JOIN courses c ON c.id = e.course_id\n",
        "),\n",
        "\n",
        "-- Check who is missing prerequisites\n",
        "missing_prereqs AS (\n",
        "    SELECT DISTINCT sc.student_id, pc.course_id\n",
        "    FROM prereq_chain pc\n",
        "    JOIN student_courses sc ON sc.course_id = pc.course_id\n",
        "    WHERE NOT EXISTS (\n",
        "        SELECT 1\n",
        "        FROM student_courses inner_sc\n",
        "        WHERE inner_sc.student_id = sc.student_id\n",
        "          AND inner_sc.course_id = pc.prerequisite_id\n",
        "    )\n",
        ")\n",
        "\n",
        "-- Final selection\n",
        "SELECT\n",
        "    s.name AS student,\n",
        "    cr.course_name,\n",
        "    cr.grade,\n",
        "    cr.rank_in_course,\n",
        "    cr.pct_of_top || '%' AS relative_score,\n",
        "    cr.top_marker,\n",
        "    (\n",
        "      SELECT COUNT(*) FROM enrollments e WHERE e.student_id = s.id\n",
        "    ) AS total_courses,\n",
        "    (\n",
        "      SELECT ROUND(AVG(grade), 1) FROM enrollments e WHERE e.student_id = s.id\n",
        "    ) AS avg_grade\n",
        "FROM course_ranking cr\n",
        "JOIN students s ON s.id = cr.student_id\n",
        "WHERE cr.student_id NOT IN (\n",
        "    SELECT student_id FROM missing_prereqs\n",
        ")\n",
        "ORDER BY s.name, cr.course_id;\n",
        "\"\"\")\n",
        "\n",
        "display_results(cursor, results)"
      ],
      "metadata": {
        "colab": {
          "base_uri": "https://localhost:8080/",
          "height": 380
        },
        "id": "gA9u5ii436SM",
        "outputId": "3ddcb4c8-16cc-4b9e-9c13-3f470162053f"
      },
      "execution_count": null,
      "outputs": [
        {
          "output_type": "stream",
          "name": "stdout",
          "text": [
            "Crazy complex query mixing everything:\n"
          ]
        },
        {
          "output_type": "display_data",
          "data": {
            "text/plain": [
              "<IPython.core.display.Markdown object>"
            ],
            "text/markdown": "| student   | course_name      |   grade |   rank_in_course | relative_score   | top_marker      |   total_courses |   avg_grade |\n|-----------|------------------|---------|------------------|------------------|-----------------|-----------------|-------------|\n| Alice     | Math             |      95 |                2 | 95.0%            |                 |               4 |        88.5 |\n| Alice     | History          |      80 |                2 | 94.12%           |                 |               4 |        88.5 |\n| Alice     | Science          |      88 |                1 | 100.0%           | ✅ Top of Class |               4 |        88.5 |\n| Alice     | Advanced Science |      91 |                1 | 100.0%           | ✅ Top of Class |               4 |        88.5 |\n| Bob       | Math             |      75 |                3 | 75.0%            |                 |               3 |        80.7 |\n| Bob       | Science          |      82 |                2 | 93.18%           |                 |               3 |        80.7 |\n| Bob       | Advanced Science |      85 |                2 | 93.41%           |                 |               3 |        80.7 |\n| Cara      | Math             |     100 |                1 | 100.0%           | ✅ Top of Class |               3 |        88.3 |\n| Cara      | History          |      85 |                1 | 100.0%           | ✅ Top of Class |               3 |        88.3 |\n| Cara      | Science          |      80 |                3 | 90.91%           |                 |               3 |        88.3 |"
          },
          "metadata": {}
        }
      ]
    },
    {
      "cell_type": "code",
      "source": [
        "print(\"Crazy complex query mixing everything:\")\n",
        "\n",
        "results = cursor.execute(\"\"\"\n",
        "WITH RECURSIVE prereq_chain(course_id, prerequisite_id) AS (\n",
        "    -- Base case: start with prerequisites\n",
        "    SELECT course_id, prerequisite_id\n",
        "    FROM prerequisites\n",
        "    UNION\n",
        "    -- Recursively walk the tree of prerequisites\n",
        "    SELECT p.course_id, pr.prerequisite_id\n",
        "    FROM prerequisites p\n",
        "    JOIN prereq_chain pr ON p.prerequisite_id = pr.course_id\n",
        "),\n",
        "\n",
        "-- Who took what\n",
        "student_courses AS (\n",
        "    SELECT student_id, course_id, grade\n",
        "    FROM enrollments\n",
        "),\n",
        "\n",
        "-- Build course stats (ranking and percent)\n",
        "course_ranking AS (\n",
        "    SELECT\n",
        "        e.student_id,\n",
        "        c.course_name,\n",
        "        e.course_id,\n",
        "        e.grade,\n",
        "        RANK() OVER (PARTITION BY e.course_id ORDER BY e.grade DESC) AS rank_in_course,\n",
        "        ROUND(100.0 * e.grade / MAX(e.grade) OVER (PARTITION BY e.course_id), 2) AS pct_of_top,\n",
        "        CASE WHEN e.grade = MAX(e.grade) OVER (PARTITION BY e.course_id)\n",
        "             THEN '✅ Top of Class'\n",
        "             ELSE ''\n",
        "        END AS top_marker\n",
        "    FROM enrollments e\n",
        "    JOIN courses c ON c.id = e.course_id\n",
        "),\n",
        "\n",
        "-- Check who is missing prerequisites\n",
        "missing_prereqs AS (\n",
        "    SELECT DISTINCT *\n",
        "    FROM prereq_chain pc\n",
        "    JOIN student_courses sc ON sc.course_id = pc.course_id\n",
        ")\n",
        "\n",
        "-- Final selection\n",
        "SELECT *\n",
        "FROM missing_prereqs cr\n",
        "\n",
        "\"\"\")\n",
        "\n",
        "display_results(cursor, results)"
      ],
      "metadata": {
        "colab": {
          "base_uri": "https://localhost:8080/",
          "height": 129
        },
        "id": "6aecgx3crYA8",
        "outputId": "e9eeb1aa-43af-4042-f1d4-1b5522f8c67a"
      },
      "execution_count": 36,
      "outputs": [
        {
          "output_type": "stream",
          "name": "stdout",
          "text": [
            "Crazy complex query mixing everything:\n"
          ]
        },
        {
          "output_type": "display_data",
          "data": {
            "text/plain": [
              "<IPython.core.display.Markdown object>"
            ],
            "text/markdown": "|   course_id |   prerequisite_id |   student_id |   course_id:1 |   grade |\n|-------------|-------------------|--------------|---------------|---------|\n|           4 |                 3 |            1 |             4 |      91 |\n|           4 |                 3 |            2 |             4 |      85 |"
          },
          "metadata": {}
        }
      ]
    },
    {
      "cell_type": "markdown",
      "source": [
        "# Example 20) Crazy Example 2"
      ],
      "metadata": {
        "id": "M9t2mBcL4Uov"
      }
    },
    {
      "cell_type": "code",
      "source": [
        "import sqlite3\n",
        "from datetime import datetime, timedelta\n",
        "\n",
        "conn = sqlite3.connect(\"example_database_20.db\")\n",
        "cursor = conn.cursor()\n",
        "\n",
        "cursor.executescript(\"\"\"\n",
        "DROP TABLE IF EXISTS trades;\n",
        "\n",
        "CREATE TABLE trades (\n",
        "    id INTEGER PRIMARY KEY,\n",
        "    symbol TEXT,\n",
        "    trade_time TEXT,  -- ISO timestamp\n",
        "    price REAL,\n",
        "    volume INTEGER\n",
        ");\n",
        "\"\"\")\n",
        "\n",
        "# Generate synthetic data for one symbol over 10 minutes\n",
        "symbol = 'AAPL'\n",
        "base_time = datetime(2023, 1, 1, 9, 30)\n",
        "\n",
        "for i in range(60):\n",
        "    trade_time = (base_time + timedelta(minutes=i)).strftime('%Y-%m-%d %H:%M:%S')\n",
        "    price = 150 + (i % 10) * 0.5 + (-1)**i * (i % 3) * 0.2  # wavy pattern\n",
        "    volume = 100 + (i % 5) * 30 + (i % 2) * 20\n",
        "    cursor.execute(\"INSERT INTO trades (symbol, trade_time, price, volume) VALUES (?, ?, ?, ?)\",\n",
        "                   (symbol, trade_time, round(price, 2), volume))\n",
        "\n",
        "conn.commit()\n"
      ],
      "metadata": {
        "id": "kO9LVkhY4EpN"
      },
      "execution_count": null,
      "outputs": []
    },
    {
      "cell_type": "code",
      "source": [
        "print(\"Crazy stock time series analytics:\")\n",
        "\n",
        "results = cursor.execute(\"\"\"\n",
        "WITH base AS (\n",
        "    SELECT *\n",
        "    FROM trades\n",
        "    WHERE symbol = 'AAPL'\n",
        "),\n",
        "\n",
        "windowed AS (\n",
        "    SELECT\n",
        "        id,\n",
        "        trade_time,\n",
        "        price,\n",
        "        volume,\n",
        "        LAG(price) OVER (ORDER BY trade_time) AS prev_price,\n",
        "        LEAD(price) OVER (ORDER BY trade_time) AS next_price,\n",
        "        ROUND(AVG(price) OVER (ORDER BY trade_time ROWS BETWEEN 4 PRECEDING AND CURRENT ROW), 2) AS price_avg_5,\n",
        "        ROUND(100.0 * (price - LAG(price) OVER (ORDER BY trade_time)) / LAG(price) OVER (ORDER BY trade_time), 2) AS return_pct,\n",
        "        CASE\n",
        "            WHEN price > LAG(price) OVER (ORDER BY trade_time) THEN '↑ UP'\n",
        "            WHEN price < LAG(price) OVER (ORDER BY trade_time) THEN '↓ DOWN'\n",
        "            ELSE '→ FLAT'\n",
        "        END AS trend,\n",
        "        CASE\n",
        "            WHEN volume > AVG(volume) OVER (ORDER BY trade_time ROWS BETWEEN 4 PRECEDING AND CURRENT ROW) * 1.5 THEN '⚠️ VOLUME SPIKE'\n",
        "            ELSE ''\n",
        "        END AS volume_alert,\n",
        "        CASE\n",
        "            WHEN price > LAG(price) OVER (ORDER BY trade_time) AND price > LEAD(price) OVER (ORDER BY trade_time) THEN '🔺 LOCAL PEAK'\n",
        "            WHEN price < LAG(price) OVER (ORDER BY trade_time) AND price < LEAD(price) OVER (ORDER BY trade_time) THEN '🔻 LOCAL DIP'\n",
        "            ELSE ''\n",
        "        END AS local_extreme\n",
        "    FROM base\n",
        "),\n",
        "\n",
        "active_window AS (\n",
        "    SELECT trade_time\n",
        "    FROM windowed\n",
        "    GROUP BY strftime('%H:%M', trade_time)\n",
        "    ORDER BY SUM(volume) DESC\n",
        "    LIMIT 15\n",
        ")\n",
        "\n",
        "SELECT w.trade_time, w.price, w.volume,\n",
        "       w.trend, w.return_pct || '%' AS return,\n",
        "       w.price_avg_5 AS \"5ma\",\n",
        "       w.volume_alert, w.local_extreme\n",
        "FROM windowed w\n",
        "WHERE strftime('%H:%M', w.trade_time) IN (SELECT strftime('%H:%M', trade_time) FROM active_window)\n",
        "ORDER BY w.trade_time;\n",
        "\"\"\")\n",
        "\n",
        "display_results(cursor, results)"
      ],
      "metadata": {
        "colab": {
          "base_uri": "https://localhost:8080/",
          "height": 537
        },
        "id": "lkBTgV0i4akq",
        "outputId": "90abc0b4-a31d-4652-b3df-a20f42fff7e2"
      },
      "execution_count": null,
      "outputs": [
        {
          "output_type": "stream",
          "name": "stdout",
          "text": [
            "Crazy stock time series analytics:\n"
          ]
        },
        {
          "output_type": "display_data",
          "data": {
            "text/plain": [
              "<IPython.core.display.Markdown object>"
            ],
            "text/markdown": "| trade_time          |   price |   volume | trend   | return   |    5ma | volume_alert   | local_extreme   |\n|---------------------|---------|----------|---------|----------|--------|----------------|-----------------|\n| 2023-01-01 09:34:00 |   152.2 |      220 | ↑ UP    | 0.46%    | 151.08 |                | 🔺 LOCAL PEAK   |\n| 2023-01-01 09:39:00 |   154.5 |      240 | ↑ UP    | 0.06%    | 153.46 |                | 🔺 LOCAL PEAK   |\n| 2023-01-01 09:44:00 |   152.4 |      220 | ↑ UP    | 0.73%    | 151    |                |                 |\n| 2023-01-01 09:49:00 |   154.3 |      240 | ↑ UP    | 0.19%    | 153.42 |                | 🔺 LOCAL PEAK   |\n| 2023-01-01 09:54:00 |   152   |      220 | ↑ UP    | 0.6%     | 151.04 |                |                 |\n| 2023-01-01 09:59:00 |   154.1 |      240 | ↓ DOWN  | -0.06%   | 153.5  |                |                 |\n| 2023-01-01 10:03:00 |   151.5 |      210 | ↑ UP    | 0.07%    | 151.46 |                |                 |\n| 2023-01-01 10:04:00 |   152.2 |      220 | ↑ UP    | 0.46%    | 151.08 |                | 🔺 LOCAL PEAK   |\n| 2023-01-01 10:09:00 |   154.5 |      240 | ↑ UP    | 0.06%    | 153.46 |                | 🔺 LOCAL PEAK   |\n| 2023-01-01 10:13:00 |   151.3 |      210 | ↑ UP    | 0.2%     | 151.42 |                |                 |\n| 2023-01-01 10:14:00 |   152.4 |      220 | ↑ UP    | 0.73%    | 151    |                |                 |\n| 2023-01-01 10:19:00 |   154.3 |      240 | ↑ UP    | 0.19%    | 153.42 |                | 🔺 LOCAL PEAK   |\n| 2023-01-01 10:23:00 |   151.1 |      210 | ↓ DOWN  | -0.07%   | 151.5  |                | 🔻 LOCAL DIP    |\n| 2023-01-01 10:24:00 |   152   |      220 | ↑ UP    | 0.6%     | 151.04 |                |                 |\n| 2023-01-01 10:29:00 |   154.1 |      240 | ↓ DOWN  | -0.06%   | 153.5  |                |                 |"
          },
          "metadata": {}
        }
      ]
    },
    {
      "cell_type": "markdown",
      "source": [
        "# Example 21) Crazy Example 3"
      ],
      "metadata": {
        "id": "5akjfF6t40pl"
      }
    },
    {
      "cell_type": "code",
      "source": [
        "import sqlite3\n",
        "from datetime import datetime, timedelta\n",
        "import random\n",
        "\n",
        "conn = sqlite3.connect(\"example_database_21.db\")\n",
        "cursor = conn.cursor()\n",
        "\n",
        "cursor.executescript(\"\"\"\n",
        "DROP TABLE IF EXISTS pageviews;\n",
        "\n",
        "CREATE TABLE pageviews (\n",
        "    id INTEGER PRIMARY KEY,\n",
        "    user_id INTEGER,\n",
        "    page TEXT,\n",
        "    view_time TEXT  -- ISO timestamp\n",
        ");\n",
        "\"\"\")\n",
        "\n",
        "# Generate synthetic pageview data for 3 users\n",
        "base_time = datetime(2023, 1, 1, 9, 0)\n",
        "users = [101, 102, 103]\n",
        "pages = ['home', 'about', 'product', 'pricing', 'blog', 'contact']\n",
        "\n",
        "rows = []\n",
        "for user in users:\n",
        "    session_count = random.randint(2, 4)\n",
        "    last_time = base_time\n",
        "    for _ in range(session_count):\n",
        "        page_count = random.randint(1, 5)\n",
        "        for _ in range(page_count):\n",
        "            view_time = last_time + timedelta(minutes=random.randint(1, 20))\n",
        "            page = random.choice(pages)\n",
        "            rows.append((user, page, view_time.strftime('%Y-%m-%d %H:%M:%S')))\n",
        "            last_time = view_time\n",
        "        last_time += timedelta(hours=random.randint(2, 24))  # session gap\n",
        "\n",
        "cursor.executemany(\"INSERT INTO pageviews (user_id, page, view_time) VALUES (?, ?, ?)\", rows)\n",
        "conn.commit()"
      ],
      "metadata": {
        "id": "4M1-JZ1Q4fO2"
      },
      "execution_count": null,
      "outputs": []
    },
    {
      "cell_type": "code",
      "source": [
        "print(\"User sessions with full behavior analysis (fixed):\")\n",
        "\n",
        "results = cursor.execute(\"\"\"\n",
        "WITH ordered_views AS (\n",
        "    SELECT\n",
        "        *,\n",
        "        LAG(view_time) OVER (PARTITION BY user_id ORDER BY view_time) AS prev_time\n",
        "    FROM pageviews\n",
        "),\n",
        "\n",
        "sessionized AS (\n",
        "    SELECT *,\n",
        "        CASE\n",
        "            WHEN prev_time IS NULL THEN 1\n",
        "            WHEN strftime('%s', view_time) - strftime('%s', prev_time) > 1800 THEN 1\n",
        "            ELSE 0\n",
        "        END AS is_new_session\n",
        "    FROM ordered_views\n",
        "),\n",
        "\n",
        "numbered_sessions AS (\n",
        "    SELECT *,\n",
        "        SUM(is_new_session) OVER (PARTITION BY user_id ORDER BY view_time) AS session_num\n",
        "    FROM sessionized\n",
        "),\n",
        "\n",
        "entry_exit_pages AS (\n",
        "    SELECT\n",
        "        user_id,\n",
        "        session_num,\n",
        "        FIRST_VALUE(page) OVER w AS entry_page,\n",
        "        LAST_VALUE(page) OVER w AS exit_page\n",
        "    FROM numbered_sessions\n",
        "    WINDOW w AS (\n",
        "        PARTITION BY user_id, session_num\n",
        "        ORDER BY view_time\n",
        "        ROWS BETWEEN UNBOUNDED PRECEDING AND UNBOUNDED FOLLOWING\n",
        "    )\n",
        "),\n",
        "\n",
        "session_summary AS (\n",
        "    SELECT\n",
        "        user_id,\n",
        "        session_num,\n",
        "        MIN(view_time) AS session_start,\n",
        "        MAX(view_time) AS session_end,\n",
        "        ROUND((strftime('%s', MAX(view_time)) - strftime('%s', MIN(view_time))) / 60.0, 1) AS duration_min,\n",
        "        COUNT(*) AS pageviews\n",
        "    FROM numbered_sessions\n",
        "    GROUP BY user_id, session_num\n",
        "),\n",
        "\n",
        "returns_within_24h AS (\n",
        "    SELECT\n",
        "        a.user_id,\n",
        "        a.session_num,\n",
        "        CASE\n",
        "            WHEN EXISTS (\n",
        "                SELECT 1\n",
        "                FROM session_summary b\n",
        "                WHERE b.user_id = a.user_id\n",
        "                  AND b.session_start > a.session_end\n",
        "                  AND strftime('%s', b.session_start) - strftime('%s', a.session_end) <= 86400\n",
        "            ) THEN '✔️ Returns <24h'\n",
        "            ELSE ''\n",
        "        END AS returns_within_24h\n",
        "    FROM session_summary a\n",
        ")\n",
        "\n",
        "SELECT\n",
        "    s.user_id,\n",
        "    s.session_num,\n",
        "    s.session_start,\n",
        "    s.session_end,\n",
        "    s.duration_min,\n",
        "    s.pageviews,\n",
        "    e.entry_page,\n",
        "    e.exit_page,\n",
        "    CASE WHEN s.pageviews = 1 THEN '🚨 Bounce' ELSE '' END AS bounce_flag,\n",
        "    r.returns_within_24h\n",
        "FROM session_summary s\n",
        "JOIN entry_exit_pages e\n",
        "  ON s.user_id = e.user_id AND s.session_num = e.session_num\n",
        "LEFT JOIN returns_within_24h r\n",
        "  ON s.user_id = r.user_id AND s.session_num = r.session_num\n",
        "ORDER BY s.user_id, s.session_num;\n",
        "\"\"\")\n",
        "\n",
        "display_results(cursor, results)"
      ],
      "metadata": {
        "colab": {
          "base_uri": "https://localhost:8080/",
          "height": 1000
        },
        "id": "CDvshl9Y47Pm",
        "outputId": "e986867f-4b51-4e2e-a255-a6ae0eb53f32"
      },
      "execution_count": null,
      "outputs": [
        {
          "output_type": "stream",
          "name": "stdout",
          "text": [
            "User sessions with full behavior analysis (fixed):\n"
          ]
        },
        {
          "output_type": "display_data",
          "data": {
            "text/plain": [
              "<IPython.core.display.Markdown object>"
            ],
            "text/markdown": "|   user_id |   session_num | session_start       | session_end         |   duration_min |   pageviews | entry_page   | exit_page   | bounce_flag   | returns_within_24h   |\n|-----------|---------------|---------------------|---------------------|----------------|-------------|--------------|-------------|---------------|----------------------|\n|       101 |             1 | 2023-01-01 09:03:00 | 2023-01-01 09:21:00 |             18 |           3 | home         | product     |               | ✔️ Returns <24h      |\n|       101 |             1 | 2023-01-01 09:03:00 | 2023-01-01 09:21:00 |             18 |           3 | home         | product     |               | ✔️ Returns <24h      |\n|       101 |             1 | 2023-01-01 09:03:00 | 2023-01-01 09:21:00 |             18 |           3 | home         | product     |               | ✔️ Returns <24h      |\n|       101 |             2 | 2023-01-02 03:25:00 | 2023-01-02 03:35:00 |             10 |           2 | pricing      | product     |               | ✔️ Returns <24h      |\n|       101 |             2 | 2023-01-02 03:25:00 | 2023-01-02 03:35:00 |             10 |           2 | pricing      | product     |               | ✔️ Returns <24h      |\n|       101 |             3 | 2023-01-02 12:36:00 | 2023-01-02 13:09:00 |             33 |           4 | product      | about       |               |                      |\n|       101 |             3 | 2023-01-02 12:36:00 | 2023-01-02 13:09:00 |             33 |           4 | product      | about       |               |                      |\n|       101 |             3 | 2023-01-02 12:36:00 | 2023-01-02 13:09:00 |             33 |           4 | product      | about       |               |                      |\n|       101 |             3 | 2023-01-02 12:36:00 | 2023-01-02 13:09:00 |             33 |           4 | product      | about       |               |                      |\n|       102 |             1 | 2023-01-01 09:02:00 | 2023-01-01 09:02:00 |              0 |           1 | about        | about       | 🚨 Bounce     |                      |\n|       102 |             2 | 2023-01-02 09:10:00 | 2023-01-02 09:15:00 |              5 |           3 | home         | home        |               |                      |\n|       102 |             2 | 2023-01-02 09:10:00 | 2023-01-02 09:15:00 |              5 |           3 | home         | home        |               |                      |\n|       102 |             2 | 2023-01-02 09:10:00 | 2023-01-02 09:15:00 |              5 |           3 | home         | home        |               |                      |\n|       103 |             1 | 2023-01-01 09:17:00 | 2023-01-01 09:32:00 |             15 |           3 | home         | contact     |               | ✔️ Returns <24h      |\n|       103 |             1 | 2023-01-01 09:17:00 | 2023-01-01 09:32:00 |             15 |           3 | home         | contact     |               | ✔️ Returns <24h      |\n|       103 |             1 | 2023-01-01 09:17:00 | 2023-01-01 09:32:00 |             15 |           3 | home         | contact     |               | ✔️ Returns <24h      |\n|       103 |             2 | 2023-01-01 15:43:00 | 2023-01-01 16:14:00 |             31 |           4 | pricing      | product     |               |                      |\n|       103 |             2 | 2023-01-01 15:43:00 | 2023-01-01 16:14:00 |             31 |           4 | pricing      | product     |               |                      |\n|       103 |             2 | 2023-01-01 15:43:00 | 2023-01-01 16:14:00 |             31 |           4 | pricing      | product     |               |                      |\n|       103 |             2 | 2023-01-01 15:43:00 | 2023-01-01 16:14:00 |             31 |           4 | pricing      | product     |               |                      |"
          },
          "metadata": {}
        }
      ]
    },
    {
      "cell_type": "code",
      "source": [],
      "metadata": {
        "id": "tSoY9H-15CpV"
      },
      "execution_count": null,
      "outputs": []
    }
  ]
}