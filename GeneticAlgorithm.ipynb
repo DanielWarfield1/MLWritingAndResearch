{
  "nbformat": 4,
  "nbformat_minor": 0,
  "metadata": {
    "colab": {
      "provenance": [],
      "authorship_tag": "ABX9TyPObH0Gl3ac/6R9KAmdeEZ7",
      "include_colab_link": true
    },
    "kernelspec": {
      "name": "python3",
      "display_name": "Python 3"
    },
    "language_info": {
      "name": "python"
    }
  },
  "cells": [
    {
      "cell_type": "markdown",
      "metadata": {
        "id": "view-in-github",
        "colab_type": "text"
      },
      "source": [
        "<a href=\"https://colab.research.google.com/github/DanielWarfield1/MLWritingAndResearch/blob/main/GeneticAlgorithm.ipynb\" target=\"_parent\"><img src=\"https://colab.research.google.com/assets/colab-badge.svg\" alt=\"Open In Colab\"/></a>"
      ]
    },
    {
      "cell_type": "markdown",
      "source": [
        "# Defining Problem 1"
      ],
      "metadata": {
        "id": "HHlLURUJl7vM"
      }
    },
    {
      "cell_type": "code",
      "execution_count": 39,
      "metadata": {
        "id": "yDd4AGCql5u8"
      },
      "outputs": [],
      "source": [
        "teachers = {\n",
        "    'Morgan': ['math', 'physics', 'statistics', 'computer science'],\n",
        "    'Jordan': ['english', 'creative writing', 'drama', 'debate'],\n",
        "    'Casey': ['biology', 'chemistry', 'psychology', 'sociology'],\n",
        "    'Riley': ['history', 'geography', 'economics', 'business'],\n",
        "    'Quinn': ['art', 'music', 'theater', 'french', 'german', 'spanish'],\n",
        "    'Taylor': ['philosophy', 'ethics', 'english', 'health', 'physical education'],\n",
        "    'Alex': ['robotics', 'engineering', 'environmental science']\n",
        "}\n"
      ]
    },
    {
      "cell_type": "code",
      "source": [
        "classes = {\n",
        "    'physics1': {'type': 'physics', 'weekly_instances': 3, 'requires_media': False, 'requires_computers': False, 'requires_chemlab': False, 'class_size': 20},\n",
        "    'modern sculpture': {'type': 'art', 'weekly_instances': 2, 'requires_media': False, 'requires_computers': False, 'requires_chemlab': False, 'class_size': 15},\n",
        "    'jazz': {'type': 'music', 'weekly_instances': 2, 'requires_media': True, 'requires_computers': False, 'requires_chemlab': False, 'class_size': 16},\n",
        "    'calculus AB': {'type': 'math', 'weekly_instances': 3, 'requires_media': False, 'requires_computers': False, 'requires_chemlab': False, 'class_size': 18},\n",
        "    'british literature': {'type': 'english', 'weekly_instances': 3, 'requires_media': False, 'requires_computers': False, 'requires_chemlab': False, 'class_size': 22},\n",
        "    'french 1': {'type': 'french', 'weekly_instances': 2, 'requires_media': True, 'requires_computers': False, 'requires_chemlab': False, 'class_size': 17},\n",
        "    'intro to psychology': {'type': 'psychology', 'weekly_instances': 2, 'requires_media': False, 'requires_computers': True, 'requires_chemlab': False, 'class_size': 20},\n",
        "    'principles of sociology': {'type': 'sociology', 'weekly_instances': 2, 'requires_media': False, 'requires_computers': True, 'requires_chemlab': False, 'class_size': 19},\n",
        "    'introduction to programming': {'type': 'computer science', 'weekly_instances': 3, 'requires_media': False, 'requires_computers': True, 'requires_chemlab': False, 'class_size': 20},\n",
        "    'AP biology': {'type': 'biology', 'weekly_instances': 3, 'requires_media': False, 'requires_computers': False, 'requires_chemlab': True, 'class_size': 20},\n",
        "    'chemistry fundamentals': {'type': 'chemistry', 'weekly_instances': 3, 'requires_media': False, 'requires_computers': False, 'requires_chemlab': True, 'class_size': 21},\n",
        "    'debate and rhetoric': {'type': 'debate', 'weekly_instances': 2, 'requires_media': False, 'requires_computers': False, 'requires_chemlab': False, 'class_size': 18},\n",
        "    'statistics and probability': {'type': 'statistics', 'weekly_instances': 3, 'requires_media': False, 'requires_computers': True, 'requires_chemlab': False, 'class_size': 23}\n",
        "}\n"
      ],
      "metadata": {
        "id": "X6s3P9ANm-Y9"
      },
      "execution_count": 40,
      "outputs": []
    },
    {
      "cell_type": "code",
      "source": [
        "rooms = {\n",
        "    'Room 101': {'capacity': 30, 'has_media': False, 'has_computers': False, 'is_chemlab': False},\n",
        "    'Room 102': {'capacity': 25, 'has_media': True, 'has_computers': False, 'is_chemlab': False},\n",
        "    'Room 105': {'capacity': 30, 'has_media': True, 'has_computers': True, 'is_chemlab': False},\n",
        "    'Art Studio A': {'capacity': 20, 'has_media': True, 'has_computers': False, 'is_chemlab': False},\n",
        "    'Drama Stage': {'capacity': 25, 'has_media': True, 'has_computers': False, 'is_chemlab': False},\n",
        "    'Gym A': {'capacity': 30, 'has_media': False, 'has_computers': False, 'is_chemlab': False},\n",
        "    'Computer Lab 2': {'capacity': 20, 'has_media': False, 'has_computers': True, 'is_chemlab': False},\n",
        "    'Chem Lab A': {'capacity': 20, 'has_media': False, 'has_computers': False, 'is_chemlab': True},\n",
        "    'Lecture Hall 2': {'capacity': 35, 'has_media': True, 'has_computers': False, 'is_chemlab': False},\n",
        "    'Language Lab': {'capacity': 20, 'has_media': True, 'has_computers': True, 'is_chemlab': False},\n",
        "    'Philosophy Room': {'capacity': 18, 'has_media': False, 'has_computers': False, 'is_chemlab': False}\n",
        "}"
      ],
      "metadata": {
        "id": "ua-fgtwjoMk0"
      },
      "execution_count": 41,
      "outputs": []
    },
    {
      "cell_type": "markdown",
      "source": [
        "## Re-Representing as chromosome"
      ],
      "metadata": {
        "id": "9pzE9QHeoeNW"
      }
    },
    {
      "cell_type": "code",
      "source": [
        "import pandas as pd\n",
        "\n",
        "# Parameters\n",
        "num_periods = 8\n",
        "num_days = 5\n",
        "\n",
        "# Generate timeslots like \"Period 1_Day 1\", \"Period 2_Day 3\", etc.\n",
        "timeslots = [f'Period {p+1}_Day {d+1}' for d in range(num_days) for p in range(num_periods)]\n",
        "\n",
        "# Create list of room-timeslot pairs\n",
        "data = [{'room': room, 'timeslot': timeslot} for room in rooms.keys() for timeslot in timeslots]\n",
        "\n",
        "# Create DataFrame\n",
        "df = pd.DataFrame(data)\n",
        "df"
      ],
      "metadata": {
        "colab": {
          "base_uri": "https://localhost:8080/",
          "height": 423
        },
        "id": "zbR9yGePogsF",
        "outputId": "0e53d59c-84e2-4346-a564-f58e4ef40c51"
      },
      "execution_count": 42,
      "outputs": [
        {
          "output_type": "execute_result",
          "data": {
            "text/plain": [
              "                room        timeslot\n",
              "0           Room 101  Period 1_Day 1\n",
              "1           Room 101  Period 2_Day 1\n",
              "2           Room 101  Period 3_Day 1\n",
              "3           Room 101  Period 4_Day 1\n",
              "4           Room 101  Period 5_Day 1\n",
              "..               ...             ...\n",
              "435  Philosophy Room  Period 4_Day 5\n",
              "436  Philosophy Room  Period 5_Day 5\n",
              "437  Philosophy Room  Period 6_Day 5\n",
              "438  Philosophy Room  Period 7_Day 5\n",
              "439  Philosophy Room  Period 8_Day 5\n",
              "\n",
              "[440 rows x 2 columns]"
            ],
            "text/html": [
              "\n",
              "  <div id=\"df-0e8c315d-f60d-4a8d-8f6b-7ef1fd425a08\" class=\"colab-df-container\">\n",
              "    <div>\n",
              "<style scoped>\n",
              "    .dataframe tbody tr th:only-of-type {\n",
              "        vertical-align: middle;\n",
              "    }\n",
              "\n",
              "    .dataframe tbody tr th {\n",
              "        vertical-align: top;\n",
              "    }\n",
              "\n",
              "    .dataframe thead th {\n",
              "        text-align: right;\n",
              "    }\n",
              "</style>\n",
              "<table border=\"1\" class=\"dataframe\">\n",
              "  <thead>\n",
              "    <tr style=\"text-align: right;\">\n",
              "      <th></th>\n",
              "      <th>room</th>\n",
              "      <th>timeslot</th>\n",
              "    </tr>\n",
              "  </thead>\n",
              "  <tbody>\n",
              "    <tr>\n",
              "      <th>0</th>\n",
              "      <td>Room 101</td>\n",
              "      <td>Period 1_Day 1</td>\n",
              "    </tr>\n",
              "    <tr>\n",
              "      <th>1</th>\n",
              "      <td>Room 101</td>\n",
              "      <td>Period 2_Day 1</td>\n",
              "    </tr>\n",
              "    <tr>\n",
              "      <th>2</th>\n",
              "      <td>Room 101</td>\n",
              "      <td>Period 3_Day 1</td>\n",
              "    </tr>\n",
              "    <tr>\n",
              "      <th>3</th>\n",
              "      <td>Room 101</td>\n",
              "      <td>Period 4_Day 1</td>\n",
              "    </tr>\n",
              "    <tr>\n",
              "      <th>4</th>\n",
              "      <td>Room 101</td>\n",
              "      <td>Period 5_Day 1</td>\n",
              "    </tr>\n",
              "    <tr>\n",
              "      <th>...</th>\n",
              "      <td>...</td>\n",
              "      <td>...</td>\n",
              "    </tr>\n",
              "    <tr>\n",
              "      <th>435</th>\n",
              "      <td>Philosophy Room</td>\n",
              "      <td>Period 4_Day 5</td>\n",
              "    </tr>\n",
              "    <tr>\n",
              "      <th>436</th>\n",
              "      <td>Philosophy Room</td>\n",
              "      <td>Period 5_Day 5</td>\n",
              "    </tr>\n",
              "    <tr>\n",
              "      <th>437</th>\n",
              "      <td>Philosophy Room</td>\n",
              "      <td>Period 6_Day 5</td>\n",
              "    </tr>\n",
              "    <tr>\n",
              "      <th>438</th>\n",
              "      <td>Philosophy Room</td>\n",
              "      <td>Period 7_Day 5</td>\n",
              "    </tr>\n",
              "    <tr>\n",
              "      <th>439</th>\n",
              "      <td>Philosophy Room</td>\n",
              "      <td>Period 8_Day 5</td>\n",
              "    </tr>\n",
              "  </tbody>\n",
              "</table>\n",
              "<p>440 rows × 2 columns</p>\n",
              "</div>\n",
              "    <div class=\"colab-df-buttons\">\n",
              "\n",
              "  <div class=\"colab-df-container\">\n",
              "    <button class=\"colab-df-convert\" onclick=\"convertToInteractive('df-0e8c315d-f60d-4a8d-8f6b-7ef1fd425a08')\"\n",
              "            title=\"Convert this dataframe to an interactive table.\"\n",
              "            style=\"display:none;\">\n",
              "\n",
              "  <svg xmlns=\"http://www.w3.org/2000/svg\" height=\"24px\" viewBox=\"0 -960 960 960\">\n",
              "    <path d=\"M120-120v-720h720v720H120Zm60-500h600v-160H180v160Zm220 220h160v-160H400v160Zm0 220h160v-160H400v160ZM180-400h160v-160H180v160Zm440 0h160v-160H620v160ZM180-180h160v-160H180v160Zm440 0h160v-160H620v160Z\"/>\n",
              "  </svg>\n",
              "    </button>\n",
              "\n",
              "  <style>\n",
              "    .colab-df-container {\n",
              "      display:flex;\n",
              "      gap: 12px;\n",
              "    }\n",
              "\n",
              "    .colab-df-convert {\n",
              "      background-color: #E8F0FE;\n",
              "      border: none;\n",
              "      border-radius: 50%;\n",
              "      cursor: pointer;\n",
              "      display: none;\n",
              "      fill: #1967D2;\n",
              "      height: 32px;\n",
              "      padding: 0 0 0 0;\n",
              "      width: 32px;\n",
              "    }\n",
              "\n",
              "    .colab-df-convert:hover {\n",
              "      background-color: #E2EBFA;\n",
              "      box-shadow: 0px 1px 2px rgba(60, 64, 67, 0.3), 0px 1px 3px 1px rgba(60, 64, 67, 0.15);\n",
              "      fill: #174EA6;\n",
              "    }\n",
              "\n",
              "    .colab-df-buttons div {\n",
              "      margin-bottom: 4px;\n",
              "    }\n",
              "\n",
              "    [theme=dark] .colab-df-convert {\n",
              "      background-color: #3B4455;\n",
              "      fill: #D2E3FC;\n",
              "    }\n",
              "\n",
              "    [theme=dark] .colab-df-convert:hover {\n",
              "      background-color: #434B5C;\n",
              "      box-shadow: 0px 1px 3px 1px rgba(0, 0, 0, 0.15);\n",
              "      filter: drop-shadow(0px 1px 2px rgba(0, 0, 0, 0.3));\n",
              "      fill: #FFFFFF;\n",
              "    }\n",
              "  </style>\n",
              "\n",
              "    <script>\n",
              "      const buttonEl =\n",
              "        document.querySelector('#df-0e8c315d-f60d-4a8d-8f6b-7ef1fd425a08 button.colab-df-convert');\n",
              "      buttonEl.style.display =\n",
              "        google.colab.kernel.accessAllowed ? 'block' : 'none';\n",
              "\n",
              "      async function convertToInteractive(key) {\n",
              "        const element = document.querySelector('#df-0e8c315d-f60d-4a8d-8f6b-7ef1fd425a08');\n",
              "        const dataTable =\n",
              "          await google.colab.kernel.invokeFunction('convertToInteractive',\n",
              "                                                    [key], {});\n",
              "        if (!dataTable) return;\n",
              "\n",
              "        const docLinkHtml = 'Like what you see? Visit the ' +\n",
              "          '<a target=\"_blank\" href=https://colab.research.google.com/notebooks/data_table.ipynb>data table notebook</a>'\n",
              "          + ' to learn more about interactive tables.';\n",
              "        element.innerHTML = '';\n",
              "        dataTable['output_type'] = 'display_data';\n",
              "        await google.colab.output.renderOutput(dataTable, element);\n",
              "        const docLink = document.createElement('div');\n",
              "        docLink.innerHTML = docLinkHtml;\n",
              "        element.appendChild(docLink);\n",
              "      }\n",
              "    </script>\n",
              "  </div>\n",
              "\n",
              "\n",
              "<div id=\"df-061fee0d-3344-4455-8ad9-9d4b7355bb4e\">\n",
              "  <button class=\"colab-df-quickchart\" onclick=\"quickchart('df-061fee0d-3344-4455-8ad9-9d4b7355bb4e')\"\n",
              "            title=\"Suggest charts\"\n",
              "            style=\"display:none;\">\n",
              "\n",
              "<svg xmlns=\"http://www.w3.org/2000/svg\" height=\"24px\"viewBox=\"0 0 24 24\"\n",
              "     width=\"24px\">\n",
              "    <g>\n",
              "        <path d=\"M19 3H5c-1.1 0-2 .9-2 2v14c0 1.1.9 2 2 2h14c1.1 0 2-.9 2-2V5c0-1.1-.9-2-2-2zM9 17H7v-7h2v7zm4 0h-2V7h2v10zm4 0h-2v-4h2v4z\"/>\n",
              "    </g>\n",
              "</svg>\n",
              "  </button>\n",
              "\n",
              "<style>\n",
              "  .colab-df-quickchart {\n",
              "      --bg-color: #E8F0FE;\n",
              "      --fill-color: #1967D2;\n",
              "      --hover-bg-color: #E2EBFA;\n",
              "      --hover-fill-color: #174EA6;\n",
              "      --disabled-fill-color: #AAA;\n",
              "      --disabled-bg-color: #DDD;\n",
              "  }\n",
              "\n",
              "  [theme=dark] .colab-df-quickchart {\n",
              "      --bg-color: #3B4455;\n",
              "      --fill-color: #D2E3FC;\n",
              "      --hover-bg-color: #434B5C;\n",
              "      --hover-fill-color: #FFFFFF;\n",
              "      --disabled-bg-color: #3B4455;\n",
              "      --disabled-fill-color: #666;\n",
              "  }\n",
              "\n",
              "  .colab-df-quickchart {\n",
              "    background-color: var(--bg-color);\n",
              "    border: none;\n",
              "    border-radius: 50%;\n",
              "    cursor: pointer;\n",
              "    display: none;\n",
              "    fill: var(--fill-color);\n",
              "    height: 32px;\n",
              "    padding: 0;\n",
              "    width: 32px;\n",
              "  }\n",
              "\n",
              "  .colab-df-quickchart:hover {\n",
              "    background-color: var(--hover-bg-color);\n",
              "    box-shadow: 0 1px 2px rgba(60, 64, 67, 0.3), 0 1px 3px 1px rgba(60, 64, 67, 0.15);\n",
              "    fill: var(--button-hover-fill-color);\n",
              "  }\n",
              "\n",
              "  .colab-df-quickchart-complete:disabled,\n",
              "  .colab-df-quickchart-complete:disabled:hover {\n",
              "    background-color: var(--disabled-bg-color);\n",
              "    fill: var(--disabled-fill-color);\n",
              "    box-shadow: none;\n",
              "  }\n",
              "\n",
              "  .colab-df-spinner {\n",
              "    border: 2px solid var(--fill-color);\n",
              "    border-color: transparent;\n",
              "    border-bottom-color: var(--fill-color);\n",
              "    animation:\n",
              "      spin 1s steps(1) infinite;\n",
              "  }\n",
              "\n",
              "  @keyframes spin {\n",
              "    0% {\n",
              "      border-color: transparent;\n",
              "      border-bottom-color: var(--fill-color);\n",
              "      border-left-color: var(--fill-color);\n",
              "    }\n",
              "    20% {\n",
              "      border-color: transparent;\n",
              "      border-left-color: var(--fill-color);\n",
              "      border-top-color: var(--fill-color);\n",
              "    }\n",
              "    30% {\n",
              "      border-color: transparent;\n",
              "      border-left-color: var(--fill-color);\n",
              "      border-top-color: var(--fill-color);\n",
              "      border-right-color: var(--fill-color);\n",
              "    }\n",
              "    40% {\n",
              "      border-color: transparent;\n",
              "      border-right-color: var(--fill-color);\n",
              "      border-top-color: var(--fill-color);\n",
              "    }\n",
              "    60% {\n",
              "      border-color: transparent;\n",
              "      border-right-color: var(--fill-color);\n",
              "    }\n",
              "    80% {\n",
              "      border-color: transparent;\n",
              "      border-right-color: var(--fill-color);\n",
              "      border-bottom-color: var(--fill-color);\n",
              "    }\n",
              "    90% {\n",
              "      border-color: transparent;\n",
              "      border-bottom-color: var(--fill-color);\n",
              "    }\n",
              "  }\n",
              "</style>\n",
              "\n",
              "  <script>\n",
              "    async function quickchart(key) {\n",
              "      const quickchartButtonEl =\n",
              "        document.querySelector('#' + key + ' button');\n",
              "      quickchartButtonEl.disabled = true;  // To prevent multiple clicks.\n",
              "      quickchartButtonEl.classList.add('colab-df-spinner');\n",
              "      try {\n",
              "        const charts = await google.colab.kernel.invokeFunction(\n",
              "            'suggestCharts', [key], {});\n",
              "      } catch (error) {\n",
              "        console.error('Error during call to suggestCharts:', error);\n",
              "      }\n",
              "      quickchartButtonEl.classList.remove('colab-df-spinner');\n",
              "      quickchartButtonEl.classList.add('colab-df-quickchart-complete');\n",
              "    }\n",
              "    (() => {\n",
              "      let quickchartButtonEl =\n",
              "        document.querySelector('#df-061fee0d-3344-4455-8ad9-9d4b7355bb4e button');\n",
              "      quickchartButtonEl.style.display =\n",
              "        google.colab.kernel.accessAllowed ? 'block' : 'none';\n",
              "    })();\n",
              "  </script>\n",
              "</div>\n",
              "\n",
              "  <div id=\"id_3fd97913-f285-40c4-887d-fed2a3839717\">\n",
              "    <style>\n",
              "      .colab-df-generate {\n",
              "        background-color: #E8F0FE;\n",
              "        border: none;\n",
              "        border-radius: 50%;\n",
              "        cursor: pointer;\n",
              "        display: none;\n",
              "        fill: #1967D2;\n",
              "        height: 32px;\n",
              "        padding: 0 0 0 0;\n",
              "        width: 32px;\n",
              "      }\n",
              "\n",
              "      .colab-df-generate:hover {\n",
              "        background-color: #E2EBFA;\n",
              "        box-shadow: 0px 1px 2px rgba(60, 64, 67, 0.3), 0px 1px 3px 1px rgba(60, 64, 67, 0.15);\n",
              "        fill: #174EA6;\n",
              "      }\n",
              "\n",
              "      [theme=dark] .colab-df-generate {\n",
              "        background-color: #3B4455;\n",
              "        fill: #D2E3FC;\n",
              "      }\n",
              "\n",
              "      [theme=dark] .colab-df-generate:hover {\n",
              "        background-color: #434B5C;\n",
              "        box-shadow: 0px 1px 3px 1px rgba(0, 0, 0, 0.15);\n",
              "        filter: drop-shadow(0px 1px 2px rgba(0, 0, 0, 0.3));\n",
              "        fill: #FFFFFF;\n",
              "      }\n",
              "    </style>\n",
              "    <button class=\"colab-df-generate\" onclick=\"generateWithVariable('df')\"\n",
              "            title=\"Generate code using this dataframe.\"\n",
              "            style=\"display:none;\">\n",
              "\n",
              "  <svg xmlns=\"http://www.w3.org/2000/svg\" height=\"24px\"viewBox=\"0 0 24 24\"\n",
              "       width=\"24px\">\n",
              "    <path d=\"M7,19H8.4L18.45,9,17,7.55,7,17.6ZM5,21V16.75L18.45,3.32a2,2,0,0,1,2.83,0l1.4,1.43a1.91,1.91,0,0,1,.58,1.4,1.91,1.91,0,0,1-.58,1.4L9.25,21ZM18.45,9,17,7.55Zm-12,3A5.31,5.31,0,0,0,4.9,8.1,5.31,5.31,0,0,0,1,6.5,5.31,5.31,0,0,0,4.9,4.9,5.31,5.31,0,0,0,6.5,1,5.31,5.31,0,0,0,8.1,4.9,5.31,5.31,0,0,0,12,6.5,5.46,5.46,0,0,0,6.5,12Z\"/>\n",
              "  </svg>\n",
              "    </button>\n",
              "    <script>\n",
              "      (() => {\n",
              "      const buttonEl =\n",
              "        document.querySelector('#id_3fd97913-f285-40c4-887d-fed2a3839717 button.colab-df-generate');\n",
              "      buttonEl.style.display =\n",
              "        google.colab.kernel.accessAllowed ? 'block' : 'none';\n",
              "\n",
              "      buttonEl.onclick = () => {\n",
              "        google.colab.notebook.generateWithVariable('df');\n",
              "      }\n",
              "      })();\n",
              "    </script>\n",
              "  </div>\n",
              "\n",
              "    </div>\n",
              "  </div>\n"
            ],
            "application/vnd.google.colaboratory.intrinsic+json": {
              "type": "dataframe",
              "variable_name": "df",
              "summary": "{\n  \"name\": \"df\",\n  \"rows\": 440,\n  \"fields\": [\n    {\n      \"column\": \"room\",\n      \"properties\": {\n        \"dtype\": \"category\",\n        \"num_unique_values\": 11,\n        \"samples\": [\n          \"Gym A\",\n          \"Room 101\",\n          \"Language Lab\"\n        ],\n        \"semantic_type\": \"\",\n        \"description\": \"\"\n      }\n    },\n    {\n      \"column\": \"timeslot\",\n      \"properties\": {\n        \"dtype\": \"category\",\n        \"num_unique_values\": 40,\n        \"samples\": [\n          \"Period 4_Day 3\",\n          \"Period 1_Day 3\",\n          \"Period 8_Day 2\"\n        ],\n        \"semantic_type\": \"\",\n        \"description\": \"\"\n      }\n    }\n  ]\n}"
            }
          },
          "metadata": {},
          "execution_count": 42
        }
      ]
    },
    {
      "cell_type": "markdown",
      "source": [
        "# Creating Random Population Member"
      ],
      "metadata": {
        "id": "phf8z11hs-Mx"
      }
    },
    {
      "cell_type": "code",
      "source": [
        "import random\n",
        "\n",
        "def create_population_member():\n",
        "\n",
        "    # Pull class names and teacher names\n",
        "    class_names = list(classes.keys())\n",
        "    teacher_names = list(teachers.keys())\n",
        "\n",
        "    # Define probability of assigning None vs a valid entry\n",
        "    none_prob = 0.2  # 20% chance of being None\n",
        "\n",
        "    # Randomly assign class and teacher\n",
        "    df['class'] = [random.choice(class_names + [None] * int(len(class_names) * none_prob)) for _ in range(len(df))]\n",
        "    df['teacher'] = [random.choice(teacher_names + [None] * int(len(teacher_names) * none_prob)) for _ in range(len(df))]\n",
        "\n",
        "    return df.copy(deep=True)\n",
        "\n",
        "create_population_member()"
      ],
      "metadata": {
        "colab": {
          "base_uri": "https://localhost:8080/",
          "height": 423
        },
        "id": "HaM-YUlgpJXk",
        "outputId": "8221f55d-65e6-47b4-c3c5-faa578f4763f"
      },
      "execution_count": 43,
      "outputs": [
        {
          "output_type": "execute_result",
          "data": {
            "text/plain": [
              "                room        timeslot                       class teacher\n",
              "0           Room 101  Period 1_Day 1                    french 1  Taylor\n",
              "1           Room 101  Period 2_Day 1     principles of sociology    None\n",
              "2           Room 101  Period 3_Day 1      chemistry fundamentals  Morgan\n",
              "3           Room 101  Period 4_Day 1         debate and rhetoric  Taylor\n",
              "4           Room 101  Period 5_Day 1                        None  Taylor\n",
              "..               ...             ...                         ...     ...\n",
              "435  Philosophy Room  Period 4_Day 5                    physics1   Riley\n",
              "436  Philosophy Room  Period 5_Day 5                        jazz  Morgan\n",
              "437  Philosophy Room  Period 6_Day 5  statistics and probability   Casey\n",
              "438  Philosophy Room  Period 7_Day 5      chemistry fundamentals   Casey\n",
              "439  Philosophy Room  Period 8_Day 5                        None  Jordan\n",
              "\n",
              "[440 rows x 4 columns]"
            ],
            "text/html": [
              "\n",
              "  <div id=\"df-6dcf24ab-c716-485e-b7c1-9559d411be0d\" class=\"colab-df-container\">\n",
              "    <div>\n",
              "<style scoped>\n",
              "    .dataframe tbody tr th:only-of-type {\n",
              "        vertical-align: middle;\n",
              "    }\n",
              "\n",
              "    .dataframe tbody tr th {\n",
              "        vertical-align: top;\n",
              "    }\n",
              "\n",
              "    .dataframe thead th {\n",
              "        text-align: right;\n",
              "    }\n",
              "</style>\n",
              "<table border=\"1\" class=\"dataframe\">\n",
              "  <thead>\n",
              "    <tr style=\"text-align: right;\">\n",
              "      <th></th>\n",
              "      <th>room</th>\n",
              "      <th>timeslot</th>\n",
              "      <th>class</th>\n",
              "      <th>teacher</th>\n",
              "    </tr>\n",
              "  </thead>\n",
              "  <tbody>\n",
              "    <tr>\n",
              "      <th>0</th>\n",
              "      <td>Room 101</td>\n",
              "      <td>Period 1_Day 1</td>\n",
              "      <td>french 1</td>\n",
              "      <td>Taylor</td>\n",
              "    </tr>\n",
              "    <tr>\n",
              "      <th>1</th>\n",
              "      <td>Room 101</td>\n",
              "      <td>Period 2_Day 1</td>\n",
              "      <td>principles of sociology</td>\n",
              "      <td>None</td>\n",
              "    </tr>\n",
              "    <tr>\n",
              "      <th>2</th>\n",
              "      <td>Room 101</td>\n",
              "      <td>Period 3_Day 1</td>\n",
              "      <td>chemistry fundamentals</td>\n",
              "      <td>Morgan</td>\n",
              "    </tr>\n",
              "    <tr>\n",
              "      <th>3</th>\n",
              "      <td>Room 101</td>\n",
              "      <td>Period 4_Day 1</td>\n",
              "      <td>debate and rhetoric</td>\n",
              "      <td>Taylor</td>\n",
              "    </tr>\n",
              "    <tr>\n",
              "      <th>4</th>\n",
              "      <td>Room 101</td>\n",
              "      <td>Period 5_Day 1</td>\n",
              "      <td>None</td>\n",
              "      <td>Taylor</td>\n",
              "    </tr>\n",
              "    <tr>\n",
              "      <th>...</th>\n",
              "      <td>...</td>\n",
              "      <td>...</td>\n",
              "      <td>...</td>\n",
              "      <td>...</td>\n",
              "    </tr>\n",
              "    <tr>\n",
              "      <th>435</th>\n",
              "      <td>Philosophy Room</td>\n",
              "      <td>Period 4_Day 5</td>\n",
              "      <td>physics1</td>\n",
              "      <td>Riley</td>\n",
              "    </tr>\n",
              "    <tr>\n",
              "      <th>436</th>\n",
              "      <td>Philosophy Room</td>\n",
              "      <td>Period 5_Day 5</td>\n",
              "      <td>jazz</td>\n",
              "      <td>Morgan</td>\n",
              "    </tr>\n",
              "    <tr>\n",
              "      <th>437</th>\n",
              "      <td>Philosophy Room</td>\n",
              "      <td>Period 6_Day 5</td>\n",
              "      <td>statistics and probability</td>\n",
              "      <td>Casey</td>\n",
              "    </tr>\n",
              "    <tr>\n",
              "      <th>438</th>\n",
              "      <td>Philosophy Room</td>\n",
              "      <td>Period 7_Day 5</td>\n",
              "      <td>chemistry fundamentals</td>\n",
              "      <td>Casey</td>\n",
              "    </tr>\n",
              "    <tr>\n",
              "      <th>439</th>\n",
              "      <td>Philosophy Room</td>\n",
              "      <td>Period 8_Day 5</td>\n",
              "      <td>None</td>\n",
              "      <td>Jordan</td>\n",
              "    </tr>\n",
              "  </tbody>\n",
              "</table>\n",
              "<p>440 rows × 4 columns</p>\n",
              "</div>\n",
              "    <div class=\"colab-df-buttons\">\n",
              "\n",
              "  <div class=\"colab-df-container\">\n",
              "    <button class=\"colab-df-convert\" onclick=\"convertToInteractive('df-6dcf24ab-c716-485e-b7c1-9559d411be0d')\"\n",
              "            title=\"Convert this dataframe to an interactive table.\"\n",
              "            style=\"display:none;\">\n",
              "\n",
              "  <svg xmlns=\"http://www.w3.org/2000/svg\" height=\"24px\" viewBox=\"0 -960 960 960\">\n",
              "    <path d=\"M120-120v-720h720v720H120Zm60-500h600v-160H180v160Zm220 220h160v-160H400v160Zm0 220h160v-160H400v160ZM180-400h160v-160H180v160Zm440 0h160v-160H620v160ZM180-180h160v-160H180v160Zm440 0h160v-160H620v160Z\"/>\n",
              "  </svg>\n",
              "    </button>\n",
              "\n",
              "  <style>\n",
              "    .colab-df-container {\n",
              "      display:flex;\n",
              "      gap: 12px;\n",
              "    }\n",
              "\n",
              "    .colab-df-convert {\n",
              "      background-color: #E8F0FE;\n",
              "      border: none;\n",
              "      border-radius: 50%;\n",
              "      cursor: pointer;\n",
              "      display: none;\n",
              "      fill: #1967D2;\n",
              "      height: 32px;\n",
              "      padding: 0 0 0 0;\n",
              "      width: 32px;\n",
              "    }\n",
              "\n",
              "    .colab-df-convert:hover {\n",
              "      background-color: #E2EBFA;\n",
              "      box-shadow: 0px 1px 2px rgba(60, 64, 67, 0.3), 0px 1px 3px 1px rgba(60, 64, 67, 0.15);\n",
              "      fill: #174EA6;\n",
              "    }\n",
              "\n",
              "    .colab-df-buttons div {\n",
              "      margin-bottom: 4px;\n",
              "    }\n",
              "\n",
              "    [theme=dark] .colab-df-convert {\n",
              "      background-color: #3B4455;\n",
              "      fill: #D2E3FC;\n",
              "    }\n",
              "\n",
              "    [theme=dark] .colab-df-convert:hover {\n",
              "      background-color: #434B5C;\n",
              "      box-shadow: 0px 1px 3px 1px rgba(0, 0, 0, 0.15);\n",
              "      filter: drop-shadow(0px 1px 2px rgba(0, 0, 0, 0.3));\n",
              "      fill: #FFFFFF;\n",
              "    }\n",
              "  </style>\n",
              "\n",
              "    <script>\n",
              "      const buttonEl =\n",
              "        document.querySelector('#df-6dcf24ab-c716-485e-b7c1-9559d411be0d button.colab-df-convert');\n",
              "      buttonEl.style.display =\n",
              "        google.colab.kernel.accessAllowed ? 'block' : 'none';\n",
              "\n",
              "      async function convertToInteractive(key) {\n",
              "        const element = document.querySelector('#df-6dcf24ab-c716-485e-b7c1-9559d411be0d');\n",
              "        const dataTable =\n",
              "          await google.colab.kernel.invokeFunction('convertToInteractive',\n",
              "                                                    [key], {});\n",
              "        if (!dataTable) return;\n",
              "\n",
              "        const docLinkHtml = 'Like what you see? Visit the ' +\n",
              "          '<a target=\"_blank\" href=https://colab.research.google.com/notebooks/data_table.ipynb>data table notebook</a>'\n",
              "          + ' to learn more about interactive tables.';\n",
              "        element.innerHTML = '';\n",
              "        dataTable['output_type'] = 'display_data';\n",
              "        await google.colab.output.renderOutput(dataTable, element);\n",
              "        const docLink = document.createElement('div');\n",
              "        docLink.innerHTML = docLinkHtml;\n",
              "        element.appendChild(docLink);\n",
              "      }\n",
              "    </script>\n",
              "  </div>\n",
              "\n",
              "\n",
              "<div id=\"df-09fff57d-e9d1-4bfd-b6e0-f9f18f096710\">\n",
              "  <button class=\"colab-df-quickchart\" onclick=\"quickchart('df-09fff57d-e9d1-4bfd-b6e0-f9f18f096710')\"\n",
              "            title=\"Suggest charts\"\n",
              "            style=\"display:none;\">\n",
              "\n",
              "<svg xmlns=\"http://www.w3.org/2000/svg\" height=\"24px\"viewBox=\"0 0 24 24\"\n",
              "     width=\"24px\">\n",
              "    <g>\n",
              "        <path d=\"M19 3H5c-1.1 0-2 .9-2 2v14c0 1.1.9 2 2 2h14c1.1 0 2-.9 2-2V5c0-1.1-.9-2-2-2zM9 17H7v-7h2v7zm4 0h-2V7h2v10zm4 0h-2v-4h2v4z\"/>\n",
              "    </g>\n",
              "</svg>\n",
              "  </button>\n",
              "\n",
              "<style>\n",
              "  .colab-df-quickchart {\n",
              "      --bg-color: #E8F0FE;\n",
              "      --fill-color: #1967D2;\n",
              "      --hover-bg-color: #E2EBFA;\n",
              "      --hover-fill-color: #174EA6;\n",
              "      --disabled-fill-color: #AAA;\n",
              "      --disabled-bg-color: #DDD;\n",
              "  }\n",
              "\n",
              "  [theme=dark] .colab-df-quickchart {\n",
              "      --bg-color: #3B4455;\n",
              "      --fill-color: #D2E3FC;\n",
              "      --hover-bg-color: #434B5C;\n",
              "      --hover-fill-color: #FFFFFF;\n",
              "      --disabled-bg-color: #3B4455;\n",
              "      --disabled-fill-color: #666;\n",
              "  }\n",
              "\n",
              "  .colab-df-quickchart {\n",
              "    background-color: var(--bg-color);\n",
              "    border: none;\n",
              "    border-radius: 50%;\n",
              "    cursor: pointer;\n",
              "    display: none;\n",
              "    fill: var(--fill-color);\n",
              "    height: 32px;\n",
              "    padding: 0;\n",
              "    width: 32px;\n",
              "  }\n",
              "\n",
              "  .colab-df-quickchart:hover {\n",
              "    background-color: var(--hover-bg-color);\n",
              "    box-shadow: 0 1px 2px rgba(60, 64, 67, 0.3), 0 1px 3px 1px rgba(60, 64, 67, 0.15);\n",
              "    fill: var(--button-hover-fill-color);\n",
              "  }\n",
              "\n",
              "  .colab-df-quickchart-complete:disabled,\n",
              "  .colab-df-quickchart-complete:disabled:hover {\n",
              "    background-color: var(--disabled-bg-color);\n",
              "    fill: var(--disabled-fill-color);\n",
              "    box-shadow: none;\n",
              "  }\n",
              "\n",
              "  .colab-df-spinner {\n",
              "    border: 2px solid var(--fill-color);\n",
              "    border-color: transparent;\n",
              "    border-bottom-color: var(--fill-color);\n",
              "    animation:\n",
              "      spin 1s steps(1) infinite;\n",
              "  }\n",
              "\n",
              "  @keyframes spin {\n",
              "    0% {\n",
              "      border-color: transparent;\n",
              "      border-bottom-color: var(--fill-color);\n",
              "      border-left-color: var(--fill-color);\n",
              "    }\n",
              "    20% {\n",
              "      border-color: transparent;\n",
              "      border-left-color: var(--fill-color);\n",
              "      border-top-color: var(--fill-color);\n",
              "    }\n",
              "    30% {\n",
              "      border-color: transparent;\n",
              "      border-left-color: var(--fill-color);\n",
              "      border-top-color: var(--fill-color);\n",
              "      border-right-color: var(--fill-color);\n",
              "    }\n",
              "    40% {\n",
              "      border-color: transparent;\n",
              "      border-right-color: var(--fill-color);\n",
              "      border-top-color: var(--fill-color);\n",
              "    }\n",
              "    60% {\n",
              "      border-color: transparent;\n",
              "      border-right-color: var(--fill-color);\n",
              "    }\n",
              "    80% {\n",
              "      border-color: transparent;\n",
              "      border-right-color: var(--fill-color);\n",
              "      border-bottom-color: var(--fill-color);\n",
              "    }\n",
              "    90% {\n",
              "      border-color: transparent;\n",
              "      border-bottom-color: var(--fill-color);\n",
              "    }\n",
              "  }\n",
              "</style>\n",
              "\n",
              "  <script>\n",
              "    async function quickchart(key) {\n",
              "      const quickchartButtonEl =\n",
              "        document.querySelector('#' + key + ' button');\n",
              "      quickchartButtonEl.disabled = true;  // To prevent multiple clicks.\n",
              "      quickchartButtonEl.classList.add('colab-df-spinner');\n",
              "      try {\n",
              "        const charts = await google.colab.kernel.invokeFunction(\n",
              "            'suggestCharts', [key], {});\n",
              "      } catch (error) {\n",
              "        console.error('Error during call to suggestCharts:', error);\n",
              "      }\n",
              "      quickchartButtonEl.classList.remove('colab-df-spinner');\n",
              "      quickchartButtonEl.classList.add('colab-df-quickchart-complete');\n",
              "    }\n",
              "    (() => {\n",
              "      let quickchartButtonEl =\n",
              "        document.querySelector('#df-09fff57d-e9d1-4bfd-b6e0-f9f18f096710 button');\n",
              "      quickchartButtonEl.style.display =\n",
              "        google.colab.kernel.accessAllowed ? 'block' : 'none';\n",
              "    })();\n",
              "  </script>\n",
              "</div>\n",
              "\n",
              "    </div>\n",
              "  </div>\n"
            ],
            "application/vnd.google.colaboratory.intrinsic+json": {
              "type": "dataframe",
              "summary": "{\n  \"name\": \"create_population_member()\",\n  \"rows\": 440,\n  \"fields\": [\n    {\n      \"column\": \"room\",\n      \"properties\": {\n        \"dtype\": \"category\",\n        \"num_unique_values\": 11,\n        \"samples\": [\n          \"Gym A\",\n          \"Room 101\",\n          \"Language Lab\"\n        ],\n        \"semantic_type\": \"\",\n        \"description\": \"\"\n      }\n    },\n    {\n      \"column\": \"timeslot\",\n      \"properties\": {\n        \"dtype\": \"category\",\n        \"num_unique_values\": 40,\n        \"samples\": [\n          \"Period 4_Day 3\",\n          \"Period 1_Day 3\",\n          \"Period 8_Day 2\"\n        ],\n        \"semantic_type\": \"\",\n        \"description\": \"\"\n      }\n    },\n    {\n      \"column\": \"class\",\n      \"properties\": {\n        \"dtype\": \"category\",\n        \"num_unique_values\": 13,\n        \"samples\": [\n          \"jazz\",\n          \"AP biology\",\n          \"french 1\"\n        ],\n        \"semantic_type\": \"\",\n        \"description\": \"\"\n      }\n    },\n    {\n      \"column\": \"teacher\",\n      \"properties\": {\n        \"dtype\": \"category\",\n        \"num_unique_values\": 7,\n        \"samples\": [\n          \"Taylor\",\n          \"Morgan\",\n          \"Casey\"\n        ],\n        \"semantic_type\": \"\",\n        \"description\": \"\"\n      }\n    }\n  ]\n}"
            }
          },
          "metadata": {},
          "execution_count": 43
        }
      ]
    },
    {
      "cell_type": "markdown",
      "source": [
        "# Creating Population"
      ],
      "metadata": {
        "id": "wAvXT6_htYou"
      }
    },
    {
      "cell_type": "code",
      "source": [
        "population = [create_population_member() for _ in range(100)]"
      ],
      "metadata": {
        "id": "ptVpUEoytYNp"
      },
      "execution_count": 44,
      "outputs": []
    },
    {
      "cell_type": "markdown",
      "source": [
        "# Selection"
      ],
      "metadata": {
        "id": "ybSV0HTtti7L"
      }
    },
    {
      "cell_type": "code",
      "source": [
        "def fitness(chromosome):\n",
        "    penalty = 0\n",
        "\n",
        "    teacher_timeslot_set = set()\n",
        "    class_instance_counter = {}\n",
        "\n",
        "    for idx, row in chromosome.iterrows():\n",
        "        class_name = row['class']\n",
        "        teacher = row['teacher']\n",
        "        room = row['room']\n",
        "        timeslot = row['timeslot']\n",
        "\n",
        "        if class_name is None or teacher is None:\n",
        "            continue  # No assignment, skip\n",
        "\n",
        "        # Track how many times this class is scheduled\n",
        "        class_instance_counter[class_name] = class_instance_counter.get(class_name, 0) + 1\n",
        "\n",
        "        # 1. Teacher qualified?\n",
        "        class_info = classes[class_name]\n",
        "        class_type = class_info['type']\n",
        "        if class_type not in teachers.get(teacher, []):\n",
        "            penalty += 10\n",
        "\n",
        "        # 2. Room resources\n",
        "        room_info = rooms[room]\n",
        "        if class_info['requires_media'] and not room_info['has_media']:\n",
        "            penalty += 5\n",
        "        if class_info['requires_computers'] and not room_info['has_computers']:\n",
        "            penalty += 5\n",
        "        if class_info['requires_chemlab'] and not room_info['is_chemlab']:\n",
        "            penalty += 5\n",
        "\n",
        "        # 3. Room capacity\n",
        "        if room_info['capacity'] < class_info['class_size']:\n",
        "            penalty += (class_info['class_size'] - room_info['capacity'])\n",
        "\n",
        "        # 4. Double-booked teacher\n",
        "        key = (teacher, timeslot)\n",
        "        if key in teacher_timeslot_set:\n",
        "            penalty += 15\n",
        "        else:\n",
        "            teacher_timeslot_set.add(key)\n",
        "\n",
        "    # 5. Penalize over/under-scheduling of classes\n",
        "    for class_name, class_info in classes.items():\n",
        "        required = class_info['weekly_instances']\n",
        "        actual = class_instance_counter.get(class_name, 0)\n",
        "        if actual != required:\n",
        "            penalty += abs(required - actual) * 5  # Penalty per instance off\n",
        "\n",
        "    return -penalty\n",
        "\n",
        "fitness(population[0])"
      ],
      "metadata": {
        "colab": {
          "base_uri": "https://localhost:8080/"
        },
        "id": "H1sw8w1Ntg93",
        "outputId": "ed6c285d-dff2-4866-ca8a-bb29519685fa"
      },
      "execution_count": 45,
      "outputs": [
        {
          "output_type": "execute_result",
          "data": {
            "text/plain": [
              "-7807"
            ]
          },
          "metadata": {},
          "execution_count": 45
        }
      ]
    },
    {
      "cell_type": "code",
      "source": [
        "def selection(population):\n",
        "    # Evaluate fitness for each chromosome\n",
        "    scored_population = [\n",
        "        (chromosome, fitness(chromosome))\n",
        "        for chromosome in population\n",
        "    ]\n",
        "\n",
        "    # Sort by fitness (higher is better)\n",
        "    scored_population.sort(key=lambda x: x[1], reverse=True)\n",
        "\n",
        "    # Keep top 50%\n",
        "    num_survivors = len(population) // 2\n",
        "    survivors = [chromosome for chromosome, _ in scored_population[:num_survivors]]\n",
        "\n",
        "    return survivors\n",
        "\n",
        "survivors = selection(population)\n",
        "len(survivors)"
      ],
      "metadata": {
        "colab": {
          "base_uri": "https://localhost:8080/"
        },
        "id": "rIUXrDZvuGtu",
        "outputId": "b4437198-99e4-49ce-bdad-1c93a7a00dd9"
      },
      "execution_count": 46,
      "outputs": [
        {
          "output_type": "execute_result",
          "data": {
            "text/plain": [
              "50"
            ]
          },
          "metadata": {},
          "execution_count": 46
        }
      ]
    },
    {
      "cell_type": "markdown",
      "source": [
        "# Crossover"
      ],
      "metadata": {
        "id": "EYfF6W3tu0cA"
      }
    },
    {
      "cell_type": "code",
      "source": [
        "import random\n",
        "\n",
        "def crossover(survivors, crossover_rate=0.5):\n",
        "    original_population_size = len(survivors) * 2\n",
        "    offspring = []\n",
        "\n",
        "    while len(offspring) < len(survivors):\n",
        "        # Pick two distinct parents\n",
        "        parent1, parent2 = random.sample(survivors, 2)\n",
        "\n",
        "        # Create a new child DataFrame\n",
        "        child = parent1.copy()\n",
        "        for idx in child.index:\n",
        "            if random.random() < crossover_rate:\n",
        "                child.at[idx, 'class'] = parent1.at[idx, 'class']\n",
        "                child.at[idx, 'teacher'] = parent1.at[idx, 'teacher']\n",
        "            else:\n",
        "                child.at[idx, 'class'] = parent2.at[idx, 'class']\n",
        "                child.at[idx, 'teacher'] = parent2.at[idx, 'teacher']\n",
        "\n",
        "        offspring.append(child)\n",
        "\n",
        "    return survivors + offspring\n",
        "\n",
        "new_population = crossover(survivors)\n",
        "len(new_population)"
      ],
      "metadata": {
        "colab": {
          "base_uri": "https://localhost:8080/"
        },
        "id": "w-R0fveLul4e",
        "outputId": "1d63a4b2-6de3-44a0-b33b-42f6a19a83c9"
      },
      "execution_count": 47,
      "outputs": [
        {
          "output_type": "execute_result",
          "data": {
            "text/plain": [
              "100"
            ]
          },
          "metadata": {},
          "execution_count": 47
        }
      ]
    },
    {
      "cell_type": "markdown",
      "source": [
        "# Mutation"
      ],
      "metadata": {
        "id": "_ZQWWTXDvcuy"
      }
    },
    {
      "cell_type": "code",
      "source": [
        "import random\n",
        "\n",
        "def mutate(population, mutation_rate=0.01):\n",
        "    class_names = list(classes.keys())\n",
        "    teacher_names = list(teachers.keys())\n",
        "\n",
        "    for chromosome in population:\n",
        "        for idx in chromosome.index:\n",
        "            # Mutate class\n",
        "            if random.random() < mutation_rate:\n",
        "                chromosome.at[idx, 'class'] = random.choice(class_names + [None])\n",
        "\n",
        "            # Mutate teacher\n",
        "            if random.random() < mutation_rate:\n",
        "                chromosome.at[idx, 'teacher'] = random.choice(teacher_names + [None])\n",
        "\n",
        "    return population\n",
        "\n",
        "mutated_population = mutate(new_population)\n",
        "len(mutated_population)"
      ],
      "metadata": {
        "colab": {
          "base_uri": "https://localhost:8080/"
        },
        "id": "bcW_Y_LyvclW",
        "outputId": "546b3cf8-cc10-43c9-bfc2-eaa8f6dc4b4e"
      },
      "execution_count": 48,
      "outputs": [
        {
          "output_type": "execute_result",
          "data": {
            "text/plain": [
              "100"
            ]
          },
          "metadata": {},
          "execution_count": 48
        }
      ]
    },
    {
      "cell_type": "code",
      "source": [
        "import random\n",
        "\n",
        "def mutate(population, mutation_rate=0.01):\n",
        "    class_names = list(classes.keys())\n",
        "\n",
        "    for chromosome in population:\n",
        "        for idx in chromosome.index:\n",
        "            # Mutate class and teacher for a given classroom timeslot\n",
        "            if random.random() < mutation_rate:\n",
        "                new_class = random.choice(class_names + [None])\n",
        "                chromosome.at[idx, 'class'] = new_class\n",
        "\n",
        "                if new_class is None:\n",
        "                    possible_teachers = list(teachers.keys()) + [None]\n",
        "                else:\n",
        "                    class_type = classes[new_class]['type']\n",
        "                    possible_teachers = [\n",
        "                        t for t, qualified_types in teachers.items()\n",
        "                        if class_type in qualified_types\n",
        "                    ] + [None]\n",
        "\n",
        "                if possible_teachers:\n",
        "                    chromosome.at[idx, 'teacher'] = random.choice(possible_teachers)\n",
        "\n",
        "    return population\n",
        "\n",
        "\n",
        "mutated_population = mutate(new_population)\n",
        "len(mutated_population)"
      ],
      "metadata": {
        "colab": {
          "base_uri": "https://localhost:8080/"
        },
        "id": "sYmQO0Mj8gz3",
        "outputId": "76d57b2e-75c1-4d6c-a6d0-8399cbeed691"
      },
      "execution_count": 51,
      "outputs": [
        {
          "output_type": "execute_result",
          "data": {
            "text/plain": [
              "100"
            ]
          },
          "metadata": {},
          "execution_count": 51
        }
      ]
    },
    {
      "cell_type": "markdown",
      "source": [
        "# Optimizing Schedule"
      ],
      "metadata": {
        "id": "fwOcoczrvrDY"
      }
    },
    {
      "cell_type": "code",
      "source": [
        "import matplotlib.pyplot as plt\n",
        "from tqdm import tqdm\n",
        "\n",
        "# --- Set up GA loop ---\n",
        "population_size = 40\n",
        "generations = 300\n",
        "\n",
        "# Assume df is a DataFrame of room-timeslot pairs\n",
        "df_template = df[['room', 'timeslot']].copy()  # reuse your earlier structure\n",
        "\n",
        "population = [create_population_member() for _ in range(population_size)]\n",
        "\n",
        "avg_fitness = []\n",
        "min_fitness = []\n",
        "max_fitness = []\n",
        "\n",
        "for gen in tqdm(range(generations), desc=\"Evolving\", dynamic_ncols=True):\n",
        "    scores = [fitness(chrom) for chrom in population]\n",
        "\n",
        "    avg = sum(scores) / len(scores)\n",
        "    mn = min(scores)\n",
        "    mx = max(scores)\n",
        "\n",
        "    avg_fitness.append(avg)\n",
        "    min_fitness.append(mn)\n",
        "    max_fitness.append(mx)\n",
        "\n",
        "    tqdm.write(f\"Gen {gen} — avg: {avg:.1f}, min: {mn:.1f}, max: {mx:.1f}\")\n",
        "\n",
        "    survivors = selection(population)\n",
        "    population = crossover(survivors, crossover_rate=0.7)\n",
        "    population = mutate(population, mutation_rate=0.005)\n"
      ],
      "metadata": {
        "colab": {
          "base_uri": "https://localhost:8080/"
        },
        "id": "GKrW_1GAvVum",
        "outputId": "1fe29220-5cce-4dd8-d37f-af75bc3ae9e8"
      },
      "execution_count": 55,
      "outputs": [
        {
          "output_type": "stream",
          "name": "stderr",
          "text": [
            "Evolving:   0%|          | 0/300 [00:00<?, ?it/s]"
          ]
        },
        {
          "output_type": "stream",
          "name": "stdout",
          "text": [
            "Gen 0 — avg: -7204.1, min: -7880.0, max: -6822.0\n"
          ]
        },
        {
          "output_type": "stream",
          "name": "stderr",
          "text": [
            "Evolving:   0%|          | 1/300 [00:02<10:00,  2.01s/it]"
          ]
        },
        {
          "output_type": "stream",
          "name": "stdout",
          "text": [
            "Gen 1 — avg: -7001.2, min: -7377.0, max: -6636.0\n"
          ]
        },
        {
          "output_type": "stream",
          "name": "stderr",
          "text": [
            "Evolving:   1%|          | 2/300 [00:05<11:38,  2.34s/it]"
          ]
        },
        {
          "output_type": "stream",
          "name": "stdout",
          "text": [
            "Gen 2 — avg: -6863.1, min: -7465.0, max: -6519.0\n"
          ]
        },
        {
          "output_type": "stream",
          "name": "stderr",
          "text": [
            "Evolving:   1%|          | 3/300 [00:07<11:41,  2.36s/it]"
          ]
        },
        {
          "output_type": "stream",
          "name": "stdout",
          "text": [
            "Gen 3 — avg: -6708.1, min: -6987.0, max: -6489.0\n"
          ]
        },
        {
          "output_type": "stream",
          "name": "stderr",
          "text": [
            "Evolving:   1%|▏         | 4/300 [00:09<10:55,  2.22s/it]"
          ]
        },
        {
          "output_type": "stream",
          "name": "stdout",
          "text": [
            "Gen 4 — avg: -6594.7, min: -6932.0, max: -6301.0\n"
          ]
        },
        {
          "output_type": "stream",
          "name": "stderr",
          "text": [
            "Evolving:   2%|▏         | 5/300 [00:11<10:26,  2.12s/it]"
          ]
        },
        {
          "output_type": "stream",
          "name": "stdout",
          "text": [
            "Gen 5 — avg: -6476.3, min: -6758.0, max: -6246.0\n"
          ]
        },
        {
          "output_type": "stream",
          "name": "stderr",
          "text": [
            "Evolving:   2%|▏         | 6/300 [00:13<10:11,  2.08s/it]"
          ]
        },
        {
          "output_type": "stream",
          "name": "stdout",
          "text": [
            "Gen 6 — avg: -6364.1, min: -6606.0, max: -5864.0\n"
          ]
        },
        {
          "output_type": "stream",
          "name": "stderr",
          "text": [
            "Evolving:   2%|▏         | 7/300 [00:15<10:00,  2.05s/it]"
          ]
        },
        {
          "output_type": "stream",
          "name": "stdout",
          "text": [
            "Gen 7 — avg: -6274.9, min: -6651.0, max: -5849.0\n"
          ]
        },
        {
          "output_type": "stream",
          "name": "stderr",
          "text": [
            "Evolving:   3%|▎         | 8/300 [00:18<10:54,  2.24s/it]"
          ]
        },
        {
          "output_type": "stream",
          "name": "stdout",
          "text": [
            "Gen 8 — avg: -6165.7, min: -6473.0, max: -5824.0\n"
          ]
        },
        {
          "output_type": "stream",
          "name": "stderr",
          "text": [
            "Evolving:   3%|▎         | 9/300 [00:20<10:57,  2.26s/it]"
          ]
        },
        {
          "output_type": "stream",
          "name": "stdout",
          "text": [
            "Gen 9 — avg: -6046.0, min: -6253.0, max: -5738.0\n"
          ]
        },
        {
          "output_type": "stream",
          "name": "stderr",
          "text": [
            "Evolving:   3%|▎         | 10/300 [00:22<10:31,  2.18s/it]"
          ]
        },
        {
          "output_type": "stream",
          "name": "stdout",
          "text": [
            "Gen 10 — avg: -5930.1, min: -6226.0, max: -5720.0\n"
          ]
        },
        {
          "output_type": "stream",
          "name": "stderr",
          "text": [
            "Evolving:   4%|▎         | 11/300 [00:24<10:09,  2.11s/it]"
          ]
        },
        {
          "output_type": "stream",
          "name": "stdout",
          "text": [
            "Gen 11 — avg: -5805.8, min: -6112.0, max: -5423.0\n"
          ]
        },
        {
          "output_type": "stream",
          "name": "stderr",
          "text": [
            "Evolving:   4%|▍         | 12/300 [00:26<09:58,  2.08s/it]"
          ]
        },
        {
          "output_type": "stream",
          "name": "stdout",
          "text": [
            "Gen 12 — avg: -5680.1, min: -5968.0, max: -5408.0\n"
          ]
        },
        {
          "output_type": "stream",
          "name": "stderr",
          "text": [
            "Evolving:   4%|▍         | 13/300 [00:28<09:46,  2.04s/it]"
          ]
        },
        {
          "output_type": "stream",
          "name": "stdout",
          "text": [
            "Gen 13 — avg: -5545.6, min: -5810.0, max: -5164.0\n"
          ]
        },
        {
          "output_type": "stream",
          "name": "stderr",
          "text": [
            "Evolving:   5%|▍         | 14/300 [00:31<10:51,  2.28s/it]"
          ]
        },
        {
          "output_type": "stream",
          "name": "stdout",
          "text": [
            "Gen 14 — avg: -5434.6, min: -5678.0, max: -5142.0\n"
          ]
        },
        {
          "output_type": "stream",
          "name": "stderr",
          "text": [
            "Evolving:   5%|▌         | 15/300 [00:33<10:36,  2.23s/it]"
          ]
        },
        {
          "output_type": "stream",
          "name": "stdout",
          "text": [
            "Gen 15 — avg: -5337.9, min: -5616.0, max: -4992.0\n"
          ]
        },
        {
          "output_type": "stream",
          "name": "stderr",
          "text": [
            "Evolving:   5%|▌         | 16/300 [00:35<10:12,  2.16s/it]"
          ]
        },
        {
          "output_type": "stream",
          "name": "stdout",
          "text": [
            "Gen 16 — avg: -5251.6, min: -5607.0, max: -4936.0\n"
          ]
        },
        {
          "output_type": "stream",
          "name": "stderr",
          "text": [
            "Evolving:   6%|▌         | 17/300 [00:37<09:52,  2.09s/it]"
          ]
        },
        {
          "output_type": "stream",
          "name": "stdout",
          "text": [
            "Gen 17 — avg: -5150.7, min: -5400.0, max: -4700.0\n"
          ]
        },
        {
          "output_type": "stream",
          "name": "stderr",
          "text": [
            "Evolving:   6%|▌         | 18/300 [00:39<09:39,  2.06s/it]"
          ]
        },
        {
          "output_type": "stream",
          "name": "stdout",
          "text": [
            "Gen 18 — avg: -5043.9, min: -5240.0, max: -4677.0\n"
          ]
        },
        {
          "output_type": "stream",
          "name": "stderr",
          "text": [
            "Evolving:   6%|▋         | 19/300 [00:41<09:31,  2.03s/it]"
          ]
        },
        {
          "output_type": "stream",
          "name": "stdout",
          "text": [
            "Gen 19 — avg: -4931.2, min: -5233.0, max: -4652.0\n"
          ]
        },
        {
          "output_type": "stream",
          "name": "stderr",
          "text": [
            "Evolving:   7%|▋         | 20/300 [00:44<10:41,  2.29s/it]"
          ]
        },
        {
          "output_type": "stream",
          "name": "stdout",
          "text": [
            "Gen 20 — avg: -4856.4, min: -5287.0, max: -4620.0\n"
          ]
        },
        {
          "output_type": "stream",
          "name": "stderr",
          "text": [
            "Evolving:   7%|▋         | 21/300 [00:46<10:14,  2.20s/it]"
          ]
        },
        {
          "output_type": "stream",
          "name": "stdout",
          "text": [
            "Gen 21 — avg: -4755.6, min: -4978.0, max: -4534.0\n"
          ]
        },
        {
          "output_type": "stream",
          "name": "stderr",
          "text": [
            "Evolving:   7%|▋         | 22/300 [00:48<09:52,  2.13s/it]"
          ]
        },
        {
          "output_type": "stream",
          "name": "stdout",
          "text": [
            "Gen 22 — avg: -4655.9, min: -4765.0, max: -4478.0\n"
          ]
        },
        {
          "output_type": "stream",
          "name": "stderr",
          "text": [
            "Evolving:   8%|▊         | 23/300 [00:50<09:36,  2.08s/it]"
          ]
        },
        {
          "output_type": "stream",
          "name": "stdout",
          "text": [
            "Gen 23 — avg: -4596.4, min: -4879.0, max: -4416.0\n"
          ]
        },
        {
          "output_type": "stream",
          "name": "stderr",
          "text": [
            "Evolving:   8%|▊         | 24/300 [00:53<09:53,  2.15s/it]"
          ]
        },
        {
          "output_type": "stream",
          "name": "stdout",
          "text": [
            "Gen 24 — avg: -4514.0, min: -4679.0, max: -4346.0\n"
          ]
        },
        {
          "output_type": "stream",
          "name": "stderr",
          "text": [
            "Evolving:   8%|▊         | 25/300 [00:56<11:04,  2.42s/it]"
          ]
        },
        {
          "output_type": "stream",
          "name": "stdout",
          "text": [
            "Gen 25 — avg: -4468.8, min: -4657.0, max: -4346.0\n"
          ]
        },
        {
          "output_type": "stream",
          "name": "stderr",
          "text": [
            "Evolving:   9%|▊         | 26/300 [00:58<11:11,  2.45s/it]"
          ]
        },
        {
          "output_type": "stream",
          "name": "stdout",
          "text": [
            "Gen 26 — avg: -4402.8, min: -4582.0, max: -4188.0\n"
          ]
        },
        {
          "output_type": "stream",
          "name": "stderr",
          "text": [
            "Evolving:   9%|▉         | 27/300 [01:00<10:27,  2.30s/it]"
          ]
        },
        {
          "output_type": "stream",
          "name": "stdout",
          "text": [
            "Gen 27 — avg: -4329.9, min: -4478.0, max: -4118.0\n"
          ]
        },
        {
          "output_type": "stream",
          "name": "stderr",
          "text": [
            "Evolving:   9%|▉         | 28/300 [01:02<09:57,  2.20s/it]"
          ]
        },
        {
          "output_type": "stream",
          "name": "stdout",
          "text": [
            "Gen 28 — avg: -4269.1, min: -4446.0, max: -4048.0\n"
          ]
        },
        {
          "output_type": "stream",
          "name": "stderr",
          "text": [
            "Evolving:  10%|▉         | 29/300 [01:04<09:36,  2.13s/it]"
          ]
        },
        {
          "output_type": "stream",
          "name": "stdout",
          "text": [
            "Gen 29 — avg: -4173.8, min: -4331.0, max: -4020.0\n"
          ]
        },
        {
          "output_type": "stream",
          "name": "stderr",
          "text": [
            "Evolving:  10%|█         | 30/300 [01:05<09:19,  2.07s/it]"
          ]
        },
        {
          "output_type": "stream",
          "name": "stdout",
          "text": [
            "Gen 30 — avg: -4114.3, min: -4301.0, max: -3917.0\n"
          ]
        },
        {
          "output_type": "stream",
          "name": "stderr",
          "text": [
            "Evolving:  10%|█         | 31/300 [01:08<09:44,  2.17s/it]"
          ]
        },
        {
          "output_type": "stream",
          "name": "stdout",
          "text": [
            "Gen 31 — avg: -4028.7, min: -4253.0, max: -3788.0\n"
          ]
        },
        {
          "output_type": "stream",
          "name": "stderr",
          "text": [
            "Evolving:  11%|█         | 32/300 [01:10<10:10,  2.28s/it]"
          ]
        },
        {
          "output_type": "stream",
          "name": "stdout",
          "text": [
            "Gen 32 — avg: -3948.6, min: -4091.0, max: -3748.0\n"
          ]
        },
        {
          "output_type": "stream",
          "name": "stderr",
          "text": [
            "Evolving:  11%|█         | 33/300 [01:12<09:42,  2.18s/it]"
          ]
        },
        {
          "output_type": "stream",
          "name": "stdout",
          "text": [
            "Gen 33 — avg: -3876.8, min: -4093.0, max: -3728.0\n"
          ]
        },
        {
          "output_type": "stream",
          "name": "stderr",
          "text": [
            "Evolving:  11%|█▏        | 34/300 [01:14<09:23,  2.12s/it]"
          ]
        },
        {
          "output_type": "stream",
          "name": "stdout",
          "text": [
            "Gen 34 — avg: -3822.5, min: -3983.0, max: -3672.0\n"
          ]
        },
        {
          "output_type": "stream",
          "name": "stderr",
          "text": [
            "Evolving:  12%|█▏        | 35/300 [01:16<09:07,  2.07s/it]"
          ]
        },
        {
          "output_type": "stream",
          "name": "stdout",
          "text": [
            "Gen 35 — avg: -3767.2, min: -3916.0, max: -3592.0\n"
          ]
        },
        {
          "output_type": "stream",
          "name": "stderr",
          "text": [
            "Evolving:  12%|█▏        | 36/300 [01:18<08:58,  2.04s/it]"
          ]
        },
        {
          "output_type": "stream",
          "name": "stdout",
          "text": [
            "Gen 36 — avg: -3715.7, min: -3852.0, max: -3548.0\n"
          ]
        },
        {
          "output_type": "stream",
          "name": "stderr",
          "text": [
            "Evolving:  12%|█▏        | 37/300 [01:21<09:26,  2.15s/it]"
          ]
        },
        {
          "output_type": "stream",
          "name": "stdout",
          "text": [
            "Gen 37 — avg: -3647.0, min: -3815.0, max: -3531.0\n"
          ]
        },
        {
          "output_type": "stream",
          "name": "stderr",
          "text": [
            "Evolving:  13%|█▎        | 38/300 [01:23<09:51,  2.26s/it]"
          ]
        },
        {
          "output_type": "stream",
          "name": "stdout",
          "text": [
            "Gen 38 — avg: -3594.9, min: -3781.0, max: -3423.0\n"
          ]
        },
        {
          "output_type": "stream",
          "name": "stderr",
          "text": [
            "Evolving:  13%|█▎        | 39/300 [01:25<09:26,  2.17s/it]"
          ]
        },
        {
          "output_type": "stream",
          "name": "stdout",
          "text": [
            "Gen 39 — avg: -3547.2, min: -3689.0, max: -3430.0\n"
          ]
        },
        {
          "output_type": "stream",
          "name": "stderr",
          "text": [
            "Evolving:  13%|█▎        | 40/300 [01:27<09:07,  2.10s/it]"
          ]
        },
        {
          "output_type": "stream",
          "name": "stdout",
          "text": [
            "Gen 40 — avg: -3474.7, min: -3570.0, max: -3248.0\n"
          ]
        },
        {
          "output_type": "stream",
          "name": "stderr",
          "text": [
            "Evolving:  14%|█▎        | 41/300 [01:29<08:54,  2.06s/it]"
          ]
        },
        {
          "output_type": "stream",
          "name": "stdout",
          "text": [
            "Gen 41 — avg: -3418.7, min: -3569.0, max: -3248.0\n"
          ]
        },
        {
          "output_type": "stream",
          "name": "stderr",
          "text": [
            "Evolving:  14%|█▍        | 42/300 [01:31<08:43,  2.03s/it]"
          ]
        },
        {
          "output_type": "stream",
          "name": "stdout",
          "text": [
            "Gen 42 — avg: -3356.0, min: -3485.0, max: -3143.0\n"
          ]
        },
        {
          "output_type": "stream",
          "name": "stderr",
          "text": [
            "Evolving:  14%|█▍        | 43/300 [01:34<09:14,  2.16s/it]"
          ]
        },
        {
          "output_type": "stream",
          "name": "stdout",
          "text": [
            "Gen 43 — avg: -3299.3, min: -3443.0, max: -3126.0\n"
          ]
        },
        {
          "output_type": "stream",
          "name": "stderr",
          "text": [
            "Evolving:  15%|█▍        | 44/300 [01:36<09:33,  2.24s/it]"
          ]
        },
        {
          "output_type": "stream",
          "name": "stdout",
          "text": [
            "Gen 44 — avg: -3241.7, min: -3322.0, max: -3088.0\n"
          ]
        },
        {
          "output_type": "stream",
          "name": "stderr",
          "text": [
            "Evolving:  15%|█▌        | 45/300 [01:38<09:08,  2.15s/it]"
          ]
        },
        {
          "output_type": "stream",
          "name": "stdout",
          "text": [
            "Gen 45 — avg: -3212.1, min: -3381.0, max: -3088.0\n"
          ]
        },
        {
          "output_type": "stream",
          "name": "stderr",
          "text": [
            "Evolving:  15%|█▌        | 46/300 [01:40<08:53,  2.10s/it]"
          ]
        },
        {
          "output_type": "stream",
          "name": "stdout",
          "text": [
            "Gen 46 — avg: -3140.1, min: -3241.0, max: -2974.0\n"
          ]
        },
        {
          "output_type": "stream",
          "name": "stderr",
          "text": [
            "Evolving:  16%|█▌        | 47/300 [01:42<08:40,  2.06s/it]"
          ]
        },
        {
          "output_type": "stream",
          "name": "stdout",
          "text": [
            "Gen 47 — avg: -3087.8, min: -3183.0, max: -2949.0\n"
          ]
        },
        {
          "output_type": "stream",
          "name": "stderr",
          "text": [
            "Evolving:  16%|█▌        | 48/300 [01:44<08:30,  2.03s/it]"
          ]
        },
        {
          "output_type": "stream",
          "name": "stdout",
          "text": [
            "Gen 48 — avg: -3044.2, min: -3160.0, max: -2884.0\n"
          ]
        },
        {
          "output_type": "stream",
          "name": "stderr",
          "text": [
            "Evolving:  16%|█▋        | 49/300 [01:47<09:00,  2.15s/it]"
          ]
        },
        {
          "output_type": "stream",
          "name": "stdout",
          "text": [
            "Gen 49 — avg: -3013.1, min: -3177.0, max: -2854.0\n"
          ]
        },
        {
          "output_type": "stream",
          "name": "stderr",
          "text": [
            "Evolving:  17%|█▋        | 50/300 [01:49<09:19,  2.24s/it]"
          ]
        },
        {
          "output_type": "stream",
          "name": "stdout",
          "text": [
            "Gen 50 — avg: -2949.2, min: -3077.0, max: -2825.0\n"
          ]
        },
        {
          "output_type": "stream",
          "name": "stderr",
          "text": [
            "Evolving:  17%|█▋        | 51/300 [01:51<08:55,  2.15s/it]"
          ]
        },
        {
          "output_type": "stream",
          "name": "stdout",
          "text": [
            "Gen 51 — avg: -2917.2, min: -3015.0, max: -2825.0\n"
          ]
        },
        {
          "output_type": "stream",
          "name": "stderr",
          "text": [
            "Evolving:  17%|█▋        | 52/300 [01:53<08:40,  2.10s/it]"
          ]
        },
        {
          "output_type": "stream",
          "name": "stdout",
          "text": [
            "Gen 52 — avg: -2871.3, min: -2999.0, max: -2755.0\n"
          ]
        },
        {
          "output_type": "stream",
          "name": "stderr",
          "text": [
            "Evolving:  18%|█▊        | 53/300 [01:54<08:27,  2.05s/it]"
          ]
        },
        {
          "output_type": "stream",
          "name": "stdout",
          "text": [
            "Gen 53 — avg: -2826.1, min: -2965.0, max: -2713.0\n"
          ]
        },
        {
          "output_type": "stream",
          "name": "stderr",
          "text": [
            "Evolving:  18%|█▊        | 54/300 [01:56<08:18,  2.03s/it]"
          ]
        },
        {
          "output_type": "stream",
          "name": "stdout",
          "text": [
            "Gen 54 — avg: -2777.9, min: -2889.0, max: -2682.0\n"
          ]
        },
        {
          "output_type": "stream",
          "name": "stderr",
          "text": [
            "Evolving:  18%|█▊        | 55/300 [01:59<08:49,  2.16s/it]"
          ]
        },
        {
          "output_type": "stream",
          "name": "stdout",
          "text": [
            "Gen 55 — avg: -2723.1, min: -2866.0, max: -2550.0\n"
          ]
        },
        {
          "output_type": "stream",
          "name": "stderr",
          "text": [
            "Evolving:  19%|█▊        | 56/300 [02:01<09:06,  2.24s/it]"
          ]
        },
        {
          "output_type": "stream",
          "name": "stdout",
          "text": [
            "Gen 56 — avg: -2682.0, min: -2793.0, max: -2525.0\n"
          ]
        },
        {
          "output_type": "stream",
          "name": "stderr",
          "text": [
            "Evolving:  19%|█▉        | 57/300 [02:03<08:45,  2.16s/it]"
          ]
        },
        {
          "output_type": "stream",
          "name": "stdout",
          "text": [
            "Gen 57 — avg: -2643.0, min: -2794.0, max: -2495.0\n"
          ]
        },
        {
          "output_type": "stream",
          "name": "stderr",
          "text": [
            "Evolving:  19%|█▉        | 58/300 [02:05<08:30,  2.11s/it]"
          ]
        },
        {
          "output_type": "stream",
          "name": "stdout",
          "text": [
            "Gen 58 — avg: -2598.2, min: -2792.0, max: -2468.0\n"
          ]
        },
        {
          "output_type": "stream",
          "name": "stderr",
          "text": [
            "Evolving:  20%|█▉        | 59/300 [02:07<08:16,  2.06s/it]"
          ]
        },
        {
          "output_type": "stream",
          "name": "stdout",
          "text": [
            "Gen 59 — avg: -2548.6, min: -2673.0, max: -2438.0\n"
          ]
        },
        {
          "output_type": "stream",
          "name": "stderr",
          "text": [
            "Evolving:  20%|██        | 60/300 [02:09<08:07,  2.03s/it]"
          ]
        },
        {
          "output_type": "stream",
          "name": "stdout",
          "text": [
            "Gen 60 — avg: -2505.0, min: -2627.0, max: -2367.0\n"
          ]
        },
        {
          "output_type": "stream",
          "name": "stderr",
          "text": [
            "Evolving:  20%|██        | 61/300 [02:12<08:46,  2.20s/it]"
          ]
        },
        {
          "output_type": "stream",
          "name": "stdout",
          "text": [
            "Gen 61 — avg: -2460.6, min: -2598.0, max: -2318.0\n"
          ]
        },
        {
          "output_type": "stream",
          "name": "stderr",
          "text": [
            "Evolving:  21%|██        | 62/300 [02:14<08:53,  2.24s/it]"
          ]
        },
        {
          "output_type": "stream",
          "name": "stdout",
          "text": [
            "Gen 62 — avg: -2428.5, min: -2525.0, max: -2308.0\n"
          ]
        },
        {
          "output_type": "stream",
          "name": "stderr",
          "text": [
            "Evolving:  21%|██        | 63/300 [02:16<08:31,  2.16s/it]"
          ]
        },
        {
          "output_type": "stream",
          "name": "stdout",
          "text": [
            "Gen 63 — avg: -2398.2, min: -2496.0, max: -2231.0\n"
          ]
        },
        {
          "output_type": "stream",
          "name": "stderr",
          "text": [
            "Evolving:  21%|██▏       | 64/300 [02:18<08:15,  2.10s/it]"
          ]
        },
        {
          "output_type": "stream",
          "name": "stdout",
          "text": [
            "Gen 64 — avg: -2362.8, min: -2479.0, max: -2203.0\n"
          ]
        },
        {
          "output_type": "stream",
          "name": "stderr",
          "text": [
            "Evolving:  22%|██▏       | 65/300 [02:20<08:03,  2.06s/it]"
          ]
        },
        {
          "output_type": "stream",
          "name": "stdout",
          "text": [
            "Gen 65 — avg: -2318.7, min: -2451.0, max: -2212.0\n"
          ]
        },
        {
          "output_type": "stream",
          "name": "stderr",
          "text": [
            "Evolving:  22%|██▏       | 66/300 [02:22<07:55,  2.03s/it]"
          ]
        },
        {
          "output_type": "stream",
          "name": "stdout",
          "text": [
            "Gen 66 — avg: -2277.8, min: -2372.0, max: -2182.0\n"
          ]
        },
        {
          "output_type": "stream",
          "name": "stderr",
          "text": [
            "Evolving:  22%|██▏       | 67/300 [02:25<08:34,  2.21s/it]"
          ]
        },
        {
          "output_type": "stream",
          "name": "stdout",
          "text": [
            "Gen 67 — avg: -2253.4, min: -2366.0, max: -2123.0\n"
          ]
        },
        {
          "output_type": "stream",
          "name": "stderr",
          "text": [
            "Evolving:  23%|██▎       | 68/300 [02:27<08:38,  2.24s/it]"
          ]
        },
        {
          "output_type": "stream",
          "name": "stdout",
          "text": [
            "Gen 68 — avg: -2234.8, min: -2404.0, max: -2110.0\n"
          ]
        },
        {
          "output_type": "stream",
          "name": "stderr",
          "text": [
            "Evolving:  23%|██▎       | 69/300 [02:29<08:17,  2.15s/it]"
          ]
        },
        {
          "output_type": "stream",
          "name": "stdout",
          "text": [
            "Gen 69 — avg: -2183.5, min: -2259.0, max: -2089.0\n"
          ]
        },
        {
          "output_type": "stream",
          "name": "stderr",
          "text": [
            "Evolving:  23%|██▎       | 70/300 [02:31<07:59,  2.09s/it]"
          ]
        },
        {
          "output_type": "stream",
          "name": "stdout",
          "text": [
            "Gen 70 — avg: -2139.4, min: -2348.0, max: -1990.0\n"
          ]
        },
        {
          "output_type": "stream",
          "name": "stderr",
          "text": [
            "Evolving:  24%|██▎       | 71/300 [02:33<07:47,  2.04s/it]"
          ]
        },
        {
          "output_type": "stream",
          "name": "stdout",
          "text": [
            "Gen 71 — avg: -2083.8, min: -2220.0, max: -1865.0\n"
          ]
        },
        {
          "output_type": "stream",
          "name": "stderr",
          "text": [
            "Evolving:  24%|██▍       | 72/300 [02:35<07:41,  2.02s/it]"
          ]
        },
        {
          "output_type": "stream",
          "name": "stdout",
          "text": [
            "Gen 72 — avg: -2060.4, min: -2250.0, max: -1865.0\n"
          ]
        },
        {
          "output_type": "stream",
          "name": "stderr",
          "text": [
            "Evolving:  24%|██▍       | 73/300 [02:38<08:21,  2.21s/it]"
          ]
        },
        {
          "output_type": "stream",
          "name": "stdout",
          "text": [
            "Gen 73 — avg: -2015.4, min: -2161.0, max: -1865.0\n"
          ]
        },
        {
          "output_type": "stream",
          "name": "stderr",
          "text": [
            "Evolving:  25%|██▍       | 74/300 [02:40<08:21,  2.22s/it]"
          ]
        },
        {
          "output_type": "stream",
          "name": "stdout",
          "text": [
            "Gen 74 — avg: -1989.3, min: -2104.0, max: -1865.0\n"
          ]
        },
        {
          "output_type": "stream",
          "name": "stderr",
          "text": [
            "Evolving:  25%|██▌       | 75/300 [02:42<08:03,  2.15s/it]"
          ]
        },
        {
          "output_type": "stream",
          "name": "stdout",
          "text": [
            "Gen 75 — avg: -1961.2, min: -2087.0, max: -1865.0\n"
          ]
        },
        {
          "output_type": "stream",
          "name": "stderr",
          "text": [
            "Evolving:  25%|██▌       | 76/300 [02:44<07:48,  2.09s/it]"
          ]
        },
        {
          "output_type": "stream",
          "name": "stdout",
          "text": [
            "Gen 76 — avg: -1928.6, min: -2048.0, max: -1830.0\n"
          ]
        },
        {
          "output_type": "stream",
          "name": "stderr",
          "text": [
            "Evolving:  26%|██▌       | 77/300 [02:46<07:37,  2.05s/it]"
          ]
        },
        {
          "output_type": "stream",
          "name": "stdout",
          "text": [
            "Gen 77 — avg: -1904.2, min: -1999.0, max: -1825.0\n"
          ]
        },
        {
          "output_type": "stream",
          "name": "stderr",
          "text": [
            "Evolving:  26%|██▌       | 78/300 [02:48<07:28,  2.02s/it]"
          ]
        },
        {
          "output_type": "stream",
          "name": "stdout",
          "text": [
            "Gen 78 — avg: -1875.2, min: -1989.0, max: -1761.0\n"
          ]
        },
        {
          "output_type": "stream",
          "name": "stderr",
          "text": [
            "Evolving:  26%|██▋       | 79/300 [02:50<08:07,  2.21s/it]"
          ]
        },
        {
          "output_type": "stream",
          "name": "stdout",
          "text": [
            "Gen 79 — avg: -1846.2, min: -1959.0, max: -1763.0\n"
          ]
        },
        {
          "output_type": "stream",
          "name": "stderr",
          "text": [
            "Evolving:  27%|██▋       | 80/300 [02:52<08:05,  2.21s/it]"
          ]
        },
        {
          "output_type": "stream",
          "name": "stdout",
          "text": [
            "Gen 80 — avg: -1824.9, min: -1921.0, max: -1748.0\n"
          ]
        },
        {
          "output_type": "stream",
          "name": "stderr",
          "text": [
            "Evolving:  27%|██▋       | 81/300 [02:54<07:46,  2.13s/it]"
          ]
        },
        {
          "output_type": "stream",
          "name": "stdout",
          "text": [
            "Gen 81 — avg: -1794.5, min: -1912.0, max: -1671.0\n"
          ]
        },
        {
          "output_type": "stream",
          "name": "stderr",
          "text": [
            "Evolving:  27%|██▋       | 82/300 [02:56<07:33,  2.08s/it]"
          ]
        },
        {
          "output_type": "stream",
          "name": "stdout",
          "text": [
            "Gen 82 — avg: -1776.5, min: -1905.0, max: -1656.0\n"
          ]
        },
        {
          "output_type": "stream",
          "name": "stderr",
          "text": [
            "Evolving:  28%|██▊       | 83/300 [02:58<07:23,  2.04s/it]"
          ]
        },
        {
          "output_type": "stream",
          "name": "stdout",
          "text": [
            "Gen 83 — avg: -1760.3, min: -1873.0, max: -1663.0\n"
          ]
        },
        {
          "output_type": "stream",
          "name": "stderr",
          "text": [
            "Evolving:  28%|██▊       | 84/300 [03:00<07:15,  2.02s/it]"
          ]
        },
        {
          "output_type": "stream",
          "name": "stdout",
          "text": [
            "Gen 84 — avg: -1724.7, min: -1887.0, max: -1611.0\n"
          ]
        },
        {
          "output_type": "stream",
          "name": "stderr",
          "text": [
            "Evolving:  28%|██▊       | 85/300 [03:03<07:53,  2.20s/it]"
          ]
        },
        {
          "output_type": "stream",
          "name": "stdout",
          "text": [
            "Gen 85 — avg: -1693.2, min: -1796.0, max: -1606.0\n"
          ]
        },
        {
          "output_type": "stream",
          "name": "stderr",
          "text": [
            "Evolving:  29%|██▊       | 86/300 [03:05<07:52,  2.21s/it]"
          ]
        },
        {
          "output_type": "stream",
          "name": "stdout",
          "text": [
            "Gen 86 — avg: -1659.5, min: -1792.0, max: -1552.0\n"
          ]
        },
        {
          "output_type": "stream",
          "name": "stderr",
          "text": [
            "Evolving:  29%|██▉       | 87/300 [03:07<07:34,  2.13s/it]"
          ]
        },
        {
          "output_type": "stream",
          "name": "stdout",
          "text": [
            "Gen 87 — avg: -1635.5, min: -1743.0, max: -1541.0\n"
          ]
        },
        {
          "output_type": "stream",
          "name": "stderr",
          "text": [
            "Evolving:  29%|██▉       | 88/300 [03:09<07:20,  2.08s/it]"
          ]
        },
        {
          "output_type": "stream",
          "name": "stdout",
          "text": [
            "Gen 88 — avg: -1627.5, min: -1730.0, max: -1535.0\n"
          ]
        },
        {
          "output_type": "stream",
          "name": "stderr",
          "text": [
            "Evolving:  30%|██▉       | 89/300 [03:11<07:11,  2.05s/it]"
          ]
        },
        {
          "output_type": "stream",
          "name": "stdout",
          "text": [
            "Gen 89 — avg: -1609.5, min: -1727.0, max: -1530.0\n"
          ]
        },
        {
          "output_type": "stream",
          "name": "stderr",
          "text": [
            "Evolving:  30%|███       | 90/300 [03:13<07:03,  2.02s/it]"
          ]
        },
        {
          "output_type": "stream",
          "name": "stdout",
          "text": [
            "Gen 90 — avg: -1584.7, min: -1657.0, max: -1524.0\n"
          ]
        },
        {
          "output_type": "stream",
          "name": "stderr",
          "text": [
            "Evolving:  30%|███       | 91/300 [03:16<07:40,  2.20s/it]"
          ]
        },
        {
          "output_type": "stream",
          "name": "stdout",
          "text": [
            "Gen 91 — avg: -1559.0, min: -1616.0, max: -1460.0\n"
          ]
        },
        {
          "output_type": "stream",
          "name": "stderr",
          "text": [
            "Evolving:  31%|███       | 92/300 [03:18<07:39,  2.21s/it]"
          ]
        },
        {
          "output_type": "stream",
          "name": "stdout",
          "text": [
            "Gen 92 — avg: -1535.8, min: -1727.0, max: -1389.0\n"
          ]
        },
        {
          "output_type": "stream",
          "name": "stderr",
          "text": [
            "Evolving:  31%|███       | 93/300 [03:20<07:20,  2.13s/it]"
          ]
        },
        {
          "output_type": "stream",
          "name": "stdout",
          "text": [
            "Gen 93 — avg: -1501.6, min: -1603.0, max: -1390.0\n"
          ]
        },
        {
          "output_type": "stream",
          "name": "stderr",
          "text": [
            "Evolving:  31%|███▏      | 94/300 [03:22<07:07,  2.08s/it]"
          ]
        },
        {
          "output_type": "stream",
          "name": "stdout",
          "text": [
            "Gen 94 — avg: -1478.3, min: -1579.0, max: -1345.0\n"
          ]
        },
        {
          "output_type": "stream",
          "name": "stderr",
          "text": [
            "Evolving:  32%|███▏      | 95/300 [03:24<06:57,  2.04s/it]"
          ]
        },
        {
          "output_type": "stream",
          "name": "stdout",
          "text": [
            "Gen 95 — avg: -1451.7, min: -1537.0, max: -1345.0\n"
          ]
        },
        {
          "output_type": "stream",
          "name": "stderr",
          "text": [
            "Evolving:  32%|███▏      | 96/300 [03:26<06:50,  2.01s/it]"
          ]
        },
        {
          "output_type": "stream",
          "name": "stdout",
          "text": [
            "Gen 96 — avg: -1430.8, min: -1545.0, max: -1317.0\n"
          ]
        },
        {
          "output_type": "stream",
          "name": "stderr",
          "text": [
            "Evolving:  32%|███▏      | 97/300 [03:28<07:25,  2.19s/it]"
          ]
        },
        {
          "output_type": "stream",
          "name": "stdout",
          "text": [
            "Gen 97 — avg: -1393.6, min: -1494.0, max: -1302.0\n"
          ]
        },
        {
          "output_type": "stream",
          "name": "stderr",
          "text": [
            "Evolving:  33%|███▎      | 98/300 [03:30<07:26,  2.21s/it]"
          ]
        },
        {
          "output_type": "stream",
          "name": "stdout",
          "text": [
            "Gen 98 — avg: -1367.0, min: -1448.0, max: -1279.0\n"
          ]
        },
        {
          "output_type": "stream",
          "name": "stderr",
          "text": [
            "Evolving:  33%|███▎      | 99/300 [03:32<07:07,  2.13s/it]"
          ]
        },
        {
          "output_type": "stream",
          "name": "stdout",
          "text": [
            "Gen 99 — avg: -1330.8, min: -1401.0, max: -1221.0\n"
          ]
        },
        {
          "output_type": "stream",
          "name": "stderr",
          "text": [
            "Evolving:  33%|███▎      | 100/300 [03:34<06:55,  2.08s/it]"
          ]
        },
        {
          "output_type": "stream",
          "name": "stdout",
          "text": [
            "Gen 100 — avg: -1308.0, min: -1423.0, max: -1157.0\n"
          ]
        },
        {
          "output_type": "stream",
          "name": "stderr",
          "text": [
            "Evolving:  34%|███▎      | 101/300 [03:36<06:45,  2.04s/it]"
          ]
        },
        {
          "output_type": "stream",
          "name": "stdout",
          "text": [
            "Gen 101 — avg: -1282.5, min: -1432.0, max: -1157.0\n"
          ]
        },
        {
          "output_type": "stream",
          "name": "stderr",
          "text": [
            "Evolving:  34%|███▍      | 102/300 [03:38<06:37,  2.01s/it]"
          ]
        },
        {
          "output_type": "stream",
          "name": "stdout",
          "text": [
            "Gen 102 — avg: -1263.1, min: -1378.0, max: -1157.0\n"
          ]
        },
        {
          "output_type": "stream",
          "name": "stderr",
          "text": [
            "Evolving:  34%|███▍      | 103/300 [03:41<07:10,  2.19s/it]"
          ]
        },
        {
          "output_type": "stream",
          "name": "stdout",
          "text": [
            "Gen 103 — avg: -1229.9, min: -1341.0, max: -1131.0\n"
          ]
        },
        {
          "output_type": "stream",
          "name": "stderr",
          "text": [
            "Evolving:  35%|███▍      | 104/300 [03:43<07:13,  2.21s/it]"
          ]
        },
        {
          "output_type": "stream",
          "name": "stdout",
          "text": [
            "Gen 104 — avg: -1209.2, min: -1321.0, max: -1128.0\n"
          ]
        },
        {
          "output_type": "stream",
          "name": "stderr",
          "text": [
            "Evolving:  35%|███▌      | 105/300 [03:45<06:55,  2.13s/it]"
          ]
        },
        {
          "output_type": "stream",
          "name": "stdout",
          "text": [
            "Gen 105 — avg: -1179.9, min: -1264.0, max: -1104.0\n"
          ]
        },
        {
          "output_type": "stream",
          "name": "stderr",
          "text": [
            "Evolving:  35%|███▌      | 106/300 [03:47<06:43,  2.08s/it]"
          ]
        },
        {
          "output_type": "stream",
          "name": "stdout",
          "text": [
            "Gen 106 — avg: -1154.6, min: -1246.0, max: -1057.0\n"
          ]
        },
        {
          "output_type": "stream",
          "name": "stderr",
          "text": [
            "Evolving:  36%|███▌      | 107/300 [03:49<06:33,  2.04s/it]"
          ]
        },
        {
          "output_type": "stream",
          "name": "stdout",
          "text": [
            "Gen 107 — avg: -1124.5, min: -1191.0, max: -984.0\n"
          ]
        },
        {
          "output_type": "stream",
          "name": "stderr",
          "text": [
            "Evolving:  36%|███▌      | 108/300 [03:51<06:24,  2.00s/it]"
          ]
        },
        {
          "output_type": "stream",
          "name": "stdout",
          "text": [
            "Gen 108 — avg: -1106.0, min: -1199.0, max: -984.0\n"
          ]
        },
        {
          "output_type": "stream",
          "name": "stderr",
          "text": [
            "Evolving:  36%|███▋      | 109/300 [03:54<06:51,  2.15s/it]"
          ]
        },
        {
          "output_type": "stream",
          "name": "stdout",
          "text": [
            "Gen 109 — avg: -1083.4, min: -1184.0, max: -992.0\n"
          ]
        },
        {
          "output_type": "stream",
          "name": "stderr",
          "text": [
            "Evolving:  37%|███▋      | 110/300 [03:56<06:59,  2.21s/it]"
          ]
        },
        {
          "output_type": "stream",
          "name": "stdout",
          "text": [
            "Gen 110 — avg: -1060.5, min: -1187.0, max: -949.0\n"
          ]
        },
        {
          "output_type": "stream",
          "name": "stderr",
          "text": [
            "Evolving:  37%|███▋      | 111/300 [03:58<06:41,  2.13s/it]"
          ]
        },
        {
          "output_type": "stream",
          "name": "stdout",
          "text": [
            "Gen 111 — avg: -1038.1, min: -1127.0, max: -934.0\n"
          ]
        },
        {
          "output_type": "stream",
          "name": "stderr",
          "text": [
            "Evolving:  37%|███▋      | 112/300 [03:59<06:29,  2.07s/it]"
          ]
        },
        {
          "output_type": "stream",
          "name": "stdout",
          "text": [
            "Gen 112 — avg: -1012.8, min: -1096.0, max: -914.0\n"
          ]
        },
        {
          "output_type": "stream",
          "name": "stderr",
          "text": [
            "Evolving:  38%|███▊      | 113/300 [04:01<06:20,  2.04s/it]"
          ]
        },
        {
          "output_type": "stream",
          "name": "stdout",
          "text": [
            "Gen 113 — avg: -996.1, min: -1101.0, max: -913.0\n"
          ]
        },
        {
          "output_type": "stream",
          "name": "stderr",
          "text": [
            "Evolving:  38%|███▊      | 114/300 [04:03<06:13,  2.01s/it]"
          ]
        },
        {
          "output_type": "stream",
          "name": "stdout",
          "text": [
            "Gen 114 — avg: -976.2, min: -1078.0, max: -887.0\n"
          ]
        },
        {
          "output_type": "stream",
          "name": "stderr",
          "text": [
            "Evolving:  38%|███▊      | 115/300 [04:06<06:39,  2.16s/it]"
          ]
        },
        {
          "output_type": "stream",
          "name": "stdout",
          "text": [
            "Gen 115 — avg: -967.8, min: -1093.0, max: -887.0\n"
          ]
        },
        {
          "output_type": "stream",
          "name": "stderr",
          "text": [
            "Evolving:  39%|███▊      | 116/300 [04:08<06:48,  2.22s/it]"
          ]
        },
        {
          "output_type": "stream",
          "name": "stdout",
          "text": [
            "Gen 116 — avg: -946.5, min: -1034.0, max: -859.0\n"
          ]
        },
        {
          "output_type": "stream",
          "name": "stderr",
          "text": [
            "Evolving:  39%|███▉      | 117/300 [04:10<06:32,  2.14s/it]"
          ]
        },
        {
          "output_type": "stream",
          "name": "stdout",
          "text": [
            "Gen 117 — avg: -930.3, min: -990.0, max: -854.0\n"
          ]
        },
        {
          "output_type": "stream",
          "name": "stderr",
          "text": [
            "Evolving:  39%|███▉      | 118/300 [04:12<06:19,  2.08s/it]"
          ]
        },
        {
          "output_type": "stream",
          "name": "stdout",
          "text": [
            "Gen 118 — avg: -913.3, min: -994.0, max: -811.0\n"
          ]
        },
        {
          "output_type": "stream",
          "name": "stderr",
          "text": [
            "Evolving:  40%|███▉      | 119/300 [04:14<06:09,  2.04s/it]"
          ]
        },
        {
          "output_type": "stream",
          "name": "stdout",
          "text": [
            "Gen 119 — avg: -895.5, min: -957.0, max: -803.0\n"
          ]
        },
        {
          "output_type": "stream",
          "name": "stderr",
          "text": [
            "Evolving:  40%|████      | 120/300 [04:16<06:02,  2.01s/it]"
          ]
        },
        {
          "output_type": "stream",
          "name": "stdout",
          "text": [
            "Gen 120 — avg: -877.0, min: -943.0, max: -800.0\n"
          ]
        },
        {
          "output_type": "stream",
          "name": "stderr",
          "text": [
            "Evolving:  40%|████      | 121/300 [04:19<06:27,  2.17s/it]"
          ]
        },
        {
          "output_type": "stream",
          "name": "stdout",
          "text": [
            "Gen 121 — avg: -864.0, min: -929.0, max: -803.0\n"
          ]
        },
        {
          "output_type": "stream",
          "name": "stderr",
          "text": [
            "Evolving:  41%|████      | 122/300 [04:21<06:35,  2.22s/it]"
          ]
        },
        {
          "output_type": "stream",
          "name": "stdout",
          "text": [
            "Gen 122 — avg: -855.2, min: -901.0, max: -803.0\n"
          ]
        },
        {
          "output_type": "stream",
          "name": "stderr",
          "text": [
            "Evolving:  41%|████      | 123/300 [04:23<06:18,  2.14s/it]"
          ]
        },
        {
          "output_type": "stream",
          "name": "stdout",
          "text": [
            "Gen 123 — avg: -851.0, min: -920.0, max: -797.0\n"
          ]
        },
        {
          "output_type": "stream",
          "name": "stderr",
          "text": [
            "Evolving:  41%|████▏     | 124/300 [04:25<06:04,  2.07s/it]"
          ]
        },
        {
          "output_type": "stream",
          "name": "stdout",
          "text": [
            "Gen 124 — avg: -844.7, min: -904.0, max: -742.0\n"
          ]
        },
        {
          "output_type": "stream",
          "name": "stderr",
          "text": [
            "Evolving:  42%|████▏     | 125/300 [04:27<05:57,  2.04s/it]"
          ]
        },
        {
          "output_type": "stream",
          "name": "stdout",
          "text": [
            "Gen 125 — avg: -839.1, min: -929.0, max: -742.0\n"
          ]
        },
        {
          "output_type": "stream",
          "name": "stderr",
          "text": [
            "Evolving:  42%|████▏     | 126/300 [04:29<05:48,  2.01s/it]"
          ]
        },
        {
          "output_type": "stream",
          "name": "stdout",
          "text": [
            "Gen 126 — avg: -821.0, min: -904.0, max: -752.0\n"
          ]
        },
        {
          "output_type": "stream",
          "name": "stderr",
          "text": [
            "Evolving:  42%|████▏     | 127/300 [04:32<06:19,  2.20s/it]"
          ]
        },
        {
          "output_type": "stream",
          "name": "stdout",
          "text": [
            "Gen 127 — avg: -812.6, min: -896.0, max: -760.0\n"
          ]
        },
        {
          "output_type": "stream",
          "name": "stderr",
          "text": [
            "Evolving:  43%|████▎     | 128/300 [04:35<07:16,  2.54s/it]"
          ]
        },
        {
          "output_type": "stream",
          "name": "stdout",
          "text": [
            "Gen 128 — avg: -802.1, min: -869.0, max: -755.0\n"
          ]
        },
        {
          "output_type": "stream",
          "name": "stderr",
          "text": [
            "Evolving:  43%|████▎     | 129/300 [04:37<06:43,  2.36s/it]"
          ]
        },
        {
          "output_type": "stream",
          "name": "stdout",
          "text": [
            "Gen 129 — avg: -790.9, min: -848.0, max: -732.0\n"
          ]
        },
        {
          "output_type": "stream",
          "name": "stderr",
          "text": [
            "Evolving:  43%|████▎     | 130/300 [04:39<06:19,  2.23s/it]"
          ]
        },
        {
          "output_type": "stream",
          "name": "stdout",
          "text": [
            "Gen 130 — avg: -781.4, min: -853.0, max: -698.0\n"
          ]
        },
        {
          "output_type": "stream",
          "name": "stderr",
          "text": [
            "Evolving:  44%|████▎     | 131/300 [04:40<06:03,  2.15s/it]"
          ]
        },
        {
          "output_type": "stream",
          "name": "stdout",
          "text": [
            "Gen 131 — avg: -762.8, min: -823.0, max: -680.0\n"
          ]
        },
        {
          "output_type": "stream",
          "name": "stderr",
          "text": [
            "Evolving:  44%|████▍     | 132/300 [04:42<05:50,  2.09s/it]"
          ]
        },
        {
          "output_type": "stream",
          "name": "stdout",
          "text": [
            "Gen 132 — avg: -742.9, min: -797.0, max: -673.0\n"
          ]
        },
        {
          "output_type": "stream",
          "name": "stderr",
          "text": [
            "Evolving:  44%|████▍     | 133/300 [04:45<05:58,  2.15s/it]"
          ]
        },
        {
          "output_type": "stream",
          "name": "stdout",
          "text": [
            "Gen 133 — avg: -733.5, min: -785.0, max: -680.0\n"
          ]
        },
        {
          "output_type": "stream",
          "name": "stderr",
          "text": [
            "Evolving:  45%|████▍     | 134/300 [04:47<06:17,  2.27s/it]"
          ]
        },
        {
          "output_type": "stream",
          "name": "stdout",
          "text": [
            "Gen 134 — avg: -715.6, min: -789.0, max: -667.0\n"
          ]
        },
        {
          "output_type": "stream",
          "name": "stderr",
          "text": [
            "Evolving:  45%|████▌     | 135/300 [04:49<05:58,  2.17s/it]"
          ]
        },
        {
          "output_type": "stream",
          "name": "stdout",
          "text": [
            "Gen 135 — avg: -702.4, min: -763.0, max: -627.0\n"
          ]
        },
        {
          "output_type": "stream",
          "name": "stderr",
          "text": [
            "Evolving:  45%|████▌     | 136/300 [04:51<05:44,  2.10s/it]"
          ]
        },
        {
          "output_type": "stream",
          "name": "stdout",
          "text": [
            "Gen 136 — avg: -694.7, min: -763.0, max: -622.0\n"
          ]
        },
        {
          "output_type": "stream",
          "name": "stderr",
          "text": [
            "Evolving:  46%|████▌     | 137/300 [04:53<05:34,  2.05s/it]"
          ]
        },
        {
          "output_type": "stream",
          "name": "stdout",
          "text": [
            "Gen 137 — avg: -684.5, min: -794.0, max: -619.0\n"
          ]
        },
        {
          "output_type": "stream",
          "name": "stderr",
          "text": [
            "Evolving:  46%|████▌     | 138/300 [04:55<05:25,  2.01s/it]"
          ]
        },
        {
          "output_type": "stream",
          "name": "stdout",
          "text": [
            "Gen 138 — avg: -676.5, min: -808.0, max: -619.0\n"
          ]
        },
        {
          "output_type": "stream",
          "name": "stderr",
          "text": [
            "Evolving:  46%|████▋     | 139/300 [04:58<05:36,  2.09s/it]"
          ]
        },
        {
          "output_type": "stream",
          "name": "stdout",
          "text": [
            "Gen 139 — avg: -664.4, min: -744.0, max: -598.0\n"
          ]
        },
        {
          "output_type": "stream",
          "name": "stderr",
          "text": [
            "Evolving:  47%|████▋     | 140/300 [05:00<05:59,  2.25s/it]"
          ]
        },
        {
          "output_type": "stream",
          "name": "stdout",
          "text": [
            "Gen 140 — avg: -655.1, min: -739.0, max: -598.0\n"
          ]
        },
        {
          "output_type": "stream",
          "name": "stderr",
          "text": [
            "Evolving:  47%|████▋     | 141/300 [05:02<05:42,  2.16s/it]"
          ]
        },
        {
          "output_type": "stream",
          "name": "stdout",
          "text": [
            "Gen 141 — avg: -635.1, min: -707.0, max: -590.0\n"
          ]
        },
        {
          "output_type": "stream",
          "name": "stderr",
          "text": [
            "Evolving:  47%|████▋     | 142/300 [05:04<05:30,  2.09s/it]"
          ]
        },
        {
          "output_type": "stream",
          "name": "stdout",
          "text": [
            "Gen 142 — avg: -625.2, min: -702.0, max: -565.0\n"
          ]
        },
        {
          "output_type": "stream",
          "name": "stderr",
          "text": [
            "Evolving:  48%|████▊     | 143/300 [05:06<05:20,  2.04s/it]"
          ]
        },
        {
          "output_type": "stream",
          "name": "stdout",
          "text": [
            "Gen 143 — avg: -614.3, min: -669.0, max: -557.0\n"
          ]
        },
        {
          "output_type": "stream",
          "name": "stderr",
          "text": [
            "Evolving:  48%|████▊     | 144/300 [05:08<05:14,  2.02s/it]"
          ]
        },
        {
          "output_type": "stream",
          "name": "stdout",
          "text": [
            "Gen 144 — avg: -608.2, min: -701.0, max: -548.0\n"
          ]
        },
        {
          "output_type": "stream",
          "name": "stderr",
          "text": [
            "Evolving:  48%|████▊     | 145/300 [05:10<05:22,  2.08s/it]"
          ]
        },
        {
          "output_type": "stream",
          "name": "stdout",
          "text": [
            "Gen 145 — avg: -604.4, min: -669.0, max: -531.0\n"
          ]
        },
        {
          "output_type": "stream",
          "name": "stderr",
          "text": [
            "Evolving:  49%|████▊     | 146/300 [05:13<05:48,  2.26s/it]"
          ]
        },
        {
          "output_type": "stream",
          "name": "stdout",
          "text": [
            "Gen 146 — avg: -589.0, min: -667.0, max: -490.0\n"
          ]
        },
        {
          "output_type": "stream",
          "name": "stderr",
          "text": [
            "Evolving:  49%|████▉     | 147/300 [05:14<05:30,  2.16s/it]"
          ]
        },
        {
          "output_type": "stream",
          "name": "stdout",
          "text": [
            "Gen 147 — avg: -571.1, min: -625.0, max: -479.0\n"
          ]
        },
        {
          "output_type": "stream",
          "name": "stderr",
          "text": [
            "Evolving:  49%|████▉     | 148/300 [05:16<05:18,  2.10s/it]"
          ]
        },
        {
          "output_type": "stream",
          "name": "stdout",
          "text": [
            "Gen 148 — avg: -555.9, min: -643.0, max: -461.0\n"
          ]
        },
        {
          "output_type": "stream",
          "name": "stderr",
          "text": [
            "Evolving:  50%|████▉     | 149/300 [05:18<05:10,  2.06s/it]"
          ]
        },
        {
          "output_type": "stream",
          "name": "stdout",
          "text": [
            "Gen 149 — avg: -544.0, min: -620.0, max: -488.0\n"
          ]
        },
        {
          "output_type": "stream",
          "name": "stderr",
          "text": [
            "Evolving:  50%|█████     | 150/300 [05:20<05:03,  2.03s/it]"
          ]
        },
        {
          "output_type": "stream",
          "name": "stdout",
          "text": [
            "Gen 150 — avg: -515.3, min: -567.0, max: -448.0\n"
          ]
        },
        {
          "output_type": "stream",
          "name": "stderr",
          "text": [
            "Evolving:  50%|█████     | 151/300 [05:23<05:10,  2.09s/it]"
          ]
        },
        {
          "output_type": "stream",
          "name": "stdout",
          "text": [
            "Gen 151 — avg: -512.8, min: -579.0, max: -465.0\n"
          ]
        },
        {
          "output_type": "stream",
          "name": "stderr",
          "text": [
            "Evolving:  51%|█████     | 152/300 [05:25<05:33,  2.26s/it]"
          ]
        },
        {
          "output_type": "stream",
          "name": "stdout",
          "text": [
            "Gen 152 — avg: -500.8, min: -560.0, max: -427.0\n"
          ]
        },
        {
          "output_type": "stream",
          "name": "stderr",
          "text": [
            "Evolving:  51%|█████     | 153/300 [05:27<05:19,  2.17s/it]"
          ]
        },
        {
          "output_type": "stream",
          "name": "stdout",
          "text": [
            "Gen 153 — avg: -490.0, min: -553.0, max: -438.0\n"
          ]
        },
        {
          "output_type": "stream",
          "name": "stderr",
          "text": [
            "Evolving:  51%|█████▏    | 154/300 [05:29<05:07,  2.11s/it]"
          ]
        },
        {
          "output_type": "stream",
          "name": "stdout",
          "text": [
            "Gen 154 — avg: -482.9, min: -544.0, max: -437.0\n"
          ]
        },
        {
          "output_type": "stream",
          "name": "stderr",
          "text": [
            "Evolving:  52%|█████▏    | 155/300 [05:31<04:57,  2.05s/it]"
          ]
        },
        {
          "output_type": "stream",
          "name": "stdout",
          "text": [
            "Gen 155 — avg: -468.1, min: -527.0, max: -419.0\n"
          ]
        },
        {
          "output_type": "stream",
          "name": "stderr",
          "text": [
            "Evolving:  52%|█████▏    | 156/300 [05:33<04:50,  2.02s/it]"
          ]
        },
        {
          "output_type": "stream",
          "name": "stdout",
          "text": [
            "Gen 156 — avg: -459.5, min: -505.0, max: -418.0\n"
          ]
        },
        {
          "output_type": "stream",
          "name": "stderr",
          "text": [
            "Evolving:  52%|█████▏    | 157/300 [05:36<04:55,  2.06s/it]"
          ]
        },
        {
          "output_type": "stream",
          "name": "stdout",
          "text": [
            "Gen 157 — avg: -455.3, min: -528.0, max: -413.0\n"
          ]
        },
        {
          "output_type": "stream",
          "name": "stderr",
          "text": [
            "Evolving:  53%|█████▎    | 158/300 [05:38<05:18,  2.25s/it]"
          ]
        },
        {
          "output_type": "stream",
          "name": "stdout",
          "text": [
            "Gen 158 — avg: -449.8, min: -541.0, max: -398.0\n"
          ]
        },
        {
          "output_type": "stream",
          "name": "stderr",
          "text": [
            "Evolving:  53%|█████▎    | 159/300 [05:40<05:03,  2.15s/it]"
          ]
        },
        {
          "output_type": "stream",
          "name": "stdout",
          "text": [
            "Gen 159 — avg: -442.7, min: -519.0, max: -407.0\n"
          ]
        },
        {
          "output_type": "stream",
          "name": "stderr",
          "text": [
            "Evolving:  53%|█████▎    | 160/300 [05:42<04:52,  2.09s/it]"
          ]
        },
        {
          "output_type": "stream",
          "name": "stdout",
          "text": [
            "Gen 160 — avg: -436.9, min: -534.0, max: -362.0\n"
          ]
        },
        {
          "output_type": "stream",
          "name": "stderr",
          "text": [
            "Evolving:  54%|█████▎    | 161/300 [05:44<04:43,  2.04s/it]"
          ]
        },
        {
          "output_type": "stream",
          "name": "stdout",
          "text": [
            "Gen 161 — avg: -431.9, min: -500.0, max: -362.0\n"
          ]
        },
        {
          "output_type": "stream",
          "name": "stderr",
          "text": [
            "Evolving:  54%|█████▍    | 162/300 [05:46<04:37,  2.01s/it]"
          ]
        },
        {
          "output_type": "stream",
          "name": "stdout",
          "text": [
            "Gen 162 — avg: -422.8, min: -485.0, max: -353.0\n"
          ]
        },
        {
          "output_type": "stream",
          "name": "stderr",
          "text": [
            "Evolving:  54%|█████▍    | 163/300 [05:48<04:41,  2.05s/it]"
          ]
        },
        {
          "output_type": "stream",
          "name": "stdout",
          "text": [
            "Gen 163 — avg: -417.4, min: -475.0, max: -348.0\n"
          ]
        },
        {
          "output_type": "stream",
          "name": "stderr",
          "text": [
            "Evolving:  55%|█████▍    | 164/300 [05:50<05:05,  2.25s/it]"
          ]
        },
        {
          "output_type": "stream",
          "name": "stdout",
          "text": [
            "Gen 164 — avg: -404.7, min: -481.0, max: -348.0\n"
          ]
        },
        {
          "output_type": "stream",
          "name": "stderr",
          "text": [
            "Evolving:  55%|█████▌    | 165/300 [05:52<04:49,  2.15s/it]"
          ]
        },
        {
          "output_type": "stream",
          "name": "stdout",
          "text": [
            "Gen 165 — avg: -387.7, min: -464.0, max: -325.0\n"
          ]
        },
        {
          "output_type": "stream",
          "name": "stderr",
          "text": [
            "Evolving:  55%|█████▌    | 166/300 [05:54<04:39,  2.08s/it]"
          ]
        },
        {
          "output_type": "stream",
          "name": "stdout",
          "text": [
            "Gen 166 — avg: -367.2, min: -435.0, max: -297.0\n"
          ]
        },
        {
          "output_type": "stream",
          "name": "stderr",
          "text": [
            "Evolving:  56%|█████▌    | 167/300 [05:56<04:31,  2.04s/it]"
          ]
        },
        {
          "output_type": "stream",
          "name": "stdout",
          "text": [
            "Gen 167 — avg: -359.3, min: -421.0, max: -285.0\n"
          ]
        },
        {
          "output_type": "stream",
          "name": "stderr",
          "text": [
            "Evolving:  56%|█████▌    | 168/300 [05:58<04:25,  2.01s/it]"
          ]
        },
        {
          "output_type": "stream",
          "name": "stdout",
          "text": [
            "Gen 168 — avg: -349.0, min: -406.0, max: -285.0\n"
          ]
        },
        {
          "output_type": "stream",
          "name": "stderr",
          "text": [
            "Evolving:  56%|█████▋    | 169/300 [06:01<04:25,  2.03s/it]"
          ]
        },
        {
          "output_type": "stream",
          "name": "stdout",
          "text": [
            "Gen 169 — avg: -342.8, min: -459.0, max: -294.0\n"
          ]
        },
        {
          "output_type": "stream",
          "name": "stderr",
          "text": [
            "Evolving:  57%|█████▋    | 170/300 [06:03<04:51,  2.24s/it]"
          ]
        },
        {
          "output_type": "stream",
          "name": "stdout",
          "text": [
            "Gen 170 — avg: -331.7, min: -404.0, max: -278.0\n"
          ]
        },
        {
          "output_type": "stream",
          "name": "stderr",
          "text": [
            "Evolving:  57%|█████▋    | 171/300 [06:05<04:37,  2.15s/it]"
          ]
        },
        {
          "output_type": "stream",
          "name": "stdout",
          "text": [
            "Gen 171 — avg: -321.3, min: -368.0, max: -278.0\n"
          ]
        },
        {
          "output_type": "stream",
          "name": "stderr",
          "text": [
            "Evolving:  57%|█████▋    | 172/300 [06:07<04:27,  2.09s/it]"
          ]
        },
        {
          "output_type": "stream",
          "name": "stdout",
          "text": [
            "Gen 172 — avg: -316.1, min: -355.0, max: -269.0\n"
          ]
        },
        {
          "output_type": "stream",
          "name": "stderr",
          "text": [
            "Evolving:  58%|█████▊    | 173/300 [06:09<04:19,  2.04s/it]"
          ]
        },
        {
          "output_type": "stream",
          "name": "stdout",
          "text": [
            "Gen 173 — avg: -308.4, min: -342.0, max: -278.0\n"
          ]
        },
        {
          "output_type": "stream",
          "name": "stderr",
          "text": [
            "Evolving:  58%|█████▊    | 174/300 [06:11<04:14,  2.02s/it]"
          ]
        },
        {
          "output_type": "stream",
          "name": "stdout",
          "text": [
            "Gen 174 — avg: -311.9, min: -365.0, max: -273.0\n"
          ]
        },
        {
          "output_type": "stream",
          "name": "stderr",
          "text": [
            "Evolving:  58%|█████▊    | 175/300 [06:13<04:11,  2.01s/it]"
          ]
        },
        {
          "output_type": "stream",
          "name": "stdout",
          "text": [
            "Gen 175 — avg: -311.5, min: -383.0, max: -273.0\n"
          ]
        },
        {
          "output_type": "stream",
          "name": "stderr",
          "text": [
            "Evolving:  59%|█████▊    | 176/300 [06:16<04:39,  2.26s/it]"
          ]
        },
        {
          "output_type": "stream",
          "name": "stdout",
          "text": [
            "Gen 176 — avg: -302.7, min: -336.0, max: -253.0\n"
          ]
        },
        {
          "output_type": "stream",
          "name": "stderr",
          "text": [
            "Evolving:  59%|█████▉    | 177/300 [06:18<04:25,  2.16s/it]"
          ]
        },
        {
          "output_type": "stream",
          "name": "stdout",
          "text": [
            "Gen 177 — avg: -292.0, min: -348.0, max: -234.0\n"
          ]
        },
        {
          "output_type": "stream",
          "name": "stderr",
          "text": [
            "Evolving:  59%|█████▉    | 178/300 [06:19<04:15,  2.10s/it]"
          ]
        },
        {
          "output_type": "stream",
          "name": "stdout",
          "text": [
            "Gen 178 — avg: -281.6, min: -338.0, max: -207.0\n"
          ]
        },
        {
          "output_type": "stream",
          "name": "stderr",
          "text": [
            "Evolving:  60%|█████▉    | 179/300 [06:21<04:07,  2.05s/it]"
          ]
        },
        {
          "output_type": "stream",
          "name": "stdout",
          "text": [
            "Gen 179 — avg: -273.6, min: -321.0, max: -212.0\n"
          ]
        },
        {
          "output_type": "stream",
          "name": "stderr",
          "text": [
            "Evolving:  60%|██████    | 180/300 [06:23<04:01,  2.01s/it]"
          ]
        },
        {
          "output_type": "stream",
          "name": "stdout",
          "text": [
            "Gen 180 — avg: -272.1, min: -314.0, max: -232.0\n"
          ]
        },
        {
          "output_type": "stream",
          "name": "stderr",
          "text": [
            "Evolving:  60%|██████    | 181/300 [06:26<03:57,  1.99s/it]"
          ]
        },
        {
          "output_type": "stream",
          "name": "stdout",
          "text": [
            "Gen 181 — avg: -262.9, min: -317.0, max: -202.0\n"
          ]
        },
        {
          "output_type": "stream",
          "name": "stderr",
          "text": [
            "Evolving:  61%|██████    | 182/300 [06:28<04:26,  2.25s/it]"
          ]
        },
        {
          "output_type": "stream",
          "name": "stdout",
          "text": [
            "Gen 182 — avg: -253.2, min: -307.0, max: -202.0\n"
          ]
        },
        {
          "output_type": "stream",
          "name": "stderr",
          "text": [
            "Evolving:  61%|██████    | 183/300 [06:30<04:13,  2.16s/it]"
          ]
        },
        {
          "output_type": "stream",
          "name": "stdout",
          "text": [
            "Gen 183 — avg: -251.7, min: -327.0, max: -211.0\n"
          ]
        },
        {
          "output_type": "stream",
          "name": "stderr",
          "text": [
            "Evolving:  61%|██████▏   | 184/300 [06:32<04:03,  2.10s/it]"
          ]
        },
        {
          "output_type": "stream",
          "name": "stdout",
          "text": [
            "Gen 184 — avg: -246.9, min: -293.0, max: -211.0\n"
          ]
        },
        {
          "output_type": "stream",
          "name": "stderr",
          "text": [
            "Evolving:  62%|██████▏   | 185/300 [06:34<03:55,  2.05s/it]"
          ]
        },
        {
          "output_type": "stream",
          "name": "stdout",
          "text": [
            "Gen 185 — avg: -241.7, min: -294.0, max: -200.0\n"
          ]
        },
        {
          "output_type": "stream",
          "name": "stderr",
          "text": [
            "Evolving:  62%|██████▏   | 186/300 [06:36<03:49,  2.01s/it]"
          ]
        },
        {
          "output_type": "stream",
          "name": "stdout",
          "text": [
            "Gen 186 — avg: -233.7, min: -305.0, max: -190.0\n"
          ]
        },
        {
          "output_type": "stream",
          "name": "stderr",
          "text": [
            "Evolving:  62%|██████▏   | 187/300 [06:38<03:45,  1.99s/it]"
          ]
        },
        {
          "output_type": "stream",
          "name": "stdout",
          "text": [
            "Gen 187 — avg: -226.9, min: -274.0, max: -190.0\n"
          ]
        },
        {
          "output_type": "stream",
          "name": "stderr",
          "text": [
            "Evolving:  63%|██████▎   | 188/300 [06:41<04:14,  2.27s/it]"
          ]
        },
        {
          "output_type": "stream",
          "name": "stdout",
          "text": [
            "Gen 188 — avg: -220.4, min: -286.0, max: -170.0\n"
          ]
        },
        {
          "output_type": "stream",
          "name": "stderr",
          "text": [
            "Evolving:  63%|██████▎   | 189/300 [06:43<04:01,  2.17s/it]"
          ]
        },
        {
          "output_type": "stream",
          "name": "stdout",
          "text": [
            "Gen 189 — avg: -210.7, min: -246.0, max: -170.0\n"
          ]
        },
        {
          "output_type": "stream",
          "name": "stderr",
          "text": [
            "Evolving:  63%|██████▎   | 190/300 [06:45<03:50,  2.10s/it]"
          ]
        },
        {
          "output_type": "stream",
          "name": "stdout",
          "text": [
            "Gen 190 — avg: -201.9, min: -237.0, max: -163.0\n"
          ]
        },
        {
          "output_type": "stream",
          "name": "stderr",
          "text": [
            "Evolving:  64%|██████▎   | 191/300 [06:47<03:43,  2.05s/it]"
          ]
        },
        {
          "output_type": "stream",
          "name": "stdout",
          "text": [
            "Gen 191 — avg: -200.8, min: -263.0, max: -163.0\n"
          ]
        },
        {
          "output_type": "stream",
          "name": "stderr",
          "text": [
            "Evolving:  64%|██████▍   | 192/300 [06:49<03:37,  2.02s/it]"
          ]
        },
        {
          "output_type": "stream",
          "name": "stdout",
          "text": [
            "Gen 192 — avg: -195.7, min: -232.0, max: -168.0\n"
          ]
        },
        {
          "output_type": "stream",
          "name": "stderr",
          "text": [
            "Evolving:  64%|██████▍   | 193/300 [06:51<03:32,  1.99s/it]"
          ]
        },
        {
          "output_type": "stream",
          "name": "stdout",
          "text": [
            "Gen 193 — avg: -193.3, min: -244.0, max: -165.0\n"
          ]
        },
        {
          "output_type": "stream",
          "name": "stderr",
          "text": [
            "Evolving:  65%|██████▍   | 194/300 [06:53<04:00,  2.26s/it]"
          ]
        },
        {
          "output_type": "stream",
          "name": "stdout",
          "text": [
            "Gen 194 — avg: -193.2, min: -227.0, max: -146.0\n"
          ]
        },
        {
          "output_type": "stream",
          "name": "stderr",
          "text": [
            "Evolving:  65%|██████▌   | 195/300 [06:55<03:47,  2.16s/it]"
          ]
        },
        {
          "output_type": "stream",
          "name": "stdout",
          "text": [
            "Gen 195 — avg: -190.7, min: -233.0, max: -145.0\n"
          ]
        },
        {
          "output_type": "stream",
          "name": "stderr",
          "text": [
            "Evolving:  65%|██████▌   | 196/300 [06:57<03:38,  2.10s/it]"
          ]
        },
        {
          "output_type": "stream",
          "name": "stdout",
          "text": [
            "Gen 196 — avg: -185.3, min: -236.0, max: -140.0\n"
          ]
        },
        {
          "output_type": "stream",
          "name": "stderr",
          "text": [
            "Evolving:  66%|██████▌   | 197/300 [06:59<03:30,  2.05s/it]"
          ]
        },
        {
          "output_type": "stream",
          "name": "stdout",
          "text": [
            "Gen 197 — avg: -181.8, min: -228.0, max: -145.0\n"
          ]
        },
        {
          "output_type": "stream",
          "name": "stderr",
          "text": [
            "Evolving:  66%|██████▌   | 198/300 [07:01<03:25,  2.01s/it]"
          ]
        },
        {
          "output_type": "stream",
          "name": "stdout",
          "text": [
            "Gen 198 — avg: -172.2, min: -233.0, max: -128.0\n"
          ]
        },
        {
          "output_type": "stream",
          "name": "stderr",
          "text": [
            "Evolving:  66%|██████▋   | 199/300 [07:03<03:20,  1.98s/it]"
          ]
        },
        {
          "output_type": "stream",
          "name": "stdout",
          "text": [
            "Gen 199 — avg: -164.4, min: -199.0, max: -126.0\n"
          ]
        },
        {
          "output_type": "stream",
          "name": "stderr",
          "text": [
            "Evolving:  67%|██████▋   | 200/300 [07:06<03:43,  2.24s/it]"
          ]
        },
        {
          "output_type": "stream",
          "name": "stdout",
          "text": [
            "Gen 200 — avg: -159.3, min: -199.0, max: -133.0\n"
          ]
        },
        {
          "output_type": "stream",
          "name": "stderr",
          "text": [
            "Evolving:  67%|██████▋   | 201/300 [07:08<03:34,  2.17s/it]"
          ]
        },
        {
          "output_type": "stream",
          "name": "stdout",
          "text": [
            "Gen 201 — avg: -160.7, min: -195.0, max: -125.0\n"
          ]
        },
        {
          "output_type": "stream",
          "name": "stderr",
          "text": [
            "Evolving:  67%|██████▋   | 202/300 [07:10<03:25,  2.10s/it]"
          ]
        },
        {
          "output_type": "stream",
          "name": "stdout",
          "text": [
            "Gen 202 — avg: -155.4, min: -198.0, max: -123.0\n"
          ]
        },
        {
          "output_type": "stream",
          "name": "stderr",
          "text": [
            "Evolving:  68%|██████▊   | 203/300 [07:12<03:19,  2.05s/it]"
          ]
        },
        {
          "output_type": "stream",
          "name": "stdout",
          "text": [
            "Gen 203 — avg: -152.7, min: -208.0, max: -116.0\n"
          ]
        },
        {
          "output_type": "stream",
          "name": "stderr",
          "text": [
            "Evolving:  68%|██████▊   | 204/300 [07:14<03:13,  2.02s/it]"
          ]
        },
        {
          "output_type": "stream",
          "name": "stdout",
          "text": [
            "Gen 204 — avg: -144.9, min: -194.0, max: -111.0\n"
          ]
        },
        {
          "output_type": "stream",
          "name": "stderr",
          "text": [
            "Evolving:  68%|██████▊   | 205/300 [07:16<03:08,  1.99s/it]"
          ]
        },
        {
          "output_type": "stream",
          "name": "stdout",
          "text": [
            "Gen 205 — avg: -144.5, min: -183.0, max: -108.0\n"
          ]
        },
        {
          "output_type": "stream",
          "name": "stderr",
          "text": [
            "Evolving:  69%|██████▊   | 206/300 [07:18<03:27,  2.21s/it]"
          ]
        },
        {
          "output_type": "stream",
          "name": "stdout",
          "text": [
            "Gen 206 — avg: -141.8, min: -198.0, max: -108.0\n"
          ]
        },
        {
          "output_type": "stream",
          "name": "stderr",
          "text": [
            "Evolving:  69%|██████▉   | 207/300 [07:20<03:22,  2.17s/it]"
          ]
        },
        {
          "output_type": "stream",
          "name": "stdout",
          "text": [
            "Gen 207 — avg: -135.2, min: -180.0, max: -108.0\n"
          ]
        },
        {
          "output_type": "stream",
          "name": "stderr",
          "text": [
            "Evolving:  69%|██████▉   | 208/300 [07:22<03:13,  2.10s/it]"
          ]
        },
        {
          "output_type": "stream",
          "name": "stdout",
          "text": [
            "Gen 208 — avg: -126.6, min: -158.0, max: -103.0\n"
          ]
        },
        {
          "output_type": "stream",
          "name": "stderr",
          "text": [
            "Evolving:  70%|██████▉   | 209/300 [07:24<03:06,  2.05s/it]"
          ]
        },
        {
          "output_type": "stream",
          "name": "stdout",
          "text": [
            "Gen 209 — avg: -124.6, min: -150.0, max: -96.0\n"
          ]
        },
        {
          "output_type": "stream",
          "name": "stderr",
          "text": [
            "Evolving:  70%|███████   | 210/300 [07:26<03:01,  2.01s/it]"
          ]
        },
        {
          "output_type": "stream",
          "name": "stdout",
          "text": [
            "Gen 210 — avg: -123.8, min: -156.0, max: -106.0\n"
          ]
        },
        {
          "output_type": "stream",
          "name": "stderr",
          "text": [
            "Evolving:  70%|███████   | 211/300 [07:28<02:56,  1.99s/it]"
          ]
        },
        {
          "output_type": "stream",
          "name": "stdout",
          "text": [
            "Gen 211 — avg: -124.9, min: -175.0, max: -98.0\n"
          ]
        },
        {
          "output_type": "stream",
          "name": "stderr",
          "text": [
            "Evolving:  71%|███████   | 212/300 [07:31<03:12,  2.18s/it]"
          ]
        },
        {
          "output_type": "stream",
          "name": "stdout",
          "text": [
            "Gen 212 — avg: -119.8, min: -176.0, max: -88.0\n"
          ]
        },
        {
          "output_type": "stream",
          "name": "stderr",
          "text": [
            "Evolving:  71%|███████   | 213/300 [07:33<03:10,  2.19s/it]"
          ]
        },
        {
          "output_type": "stream",
          "name": "stdout",
          "text": [
            "Gen 213 — avg: -125.6, min: -176.0, max: -98.0\n"
          ]
        },
        {
          "output_type": "stream",
          "name": "stderr",
          "text": [
            "Evolving:  71%|███████▏  | 214/300 [07:35<03:01,  2.11s/it]"
          ]
        },
        {
          "output_type": "stream",
          "name": "stdout",
          "text": [
            "Gen 214 — avg: -125.9, min: -174.0, max: -103.0\n"
          ]
        },
        {
          "output_type": "stream",
          "name": "stderr",
          "text": [
            "Evolving:  72%|███████▏  | 215/300 [07:37<02:55,  2.06s/it]"
          ]
        },
        {
          "output_type": "stream",
          "name": "stdout",
          "text": [
            "Gen 215 — avg: -124.2, min: -183.0, max: -98.0\n"
          ]
        },
        {
          "output_type": "stream",
          "name": "stderr",
          "text": [
            "Evolving:  72%|███████▏  | 216/300 [07:39<02:49,  2.02s/it]"
          ]
        },
        {
          "output_type": "stream",
          "name": "stdout",
          "text": [
            "Gen 216 — avg: -121.0, min: -171.0, max: -86.0\n"
          ]
        },
        {
          "output_type": "stream",
          "name": "stderr",
          "text": [
            "Evolving:  72%|███████▏  | 217/300 [07:41<02:45,  1.99s/it]"
          ]
        },
        {
          "output_type": "stream",
          "name": "stdout",
          "text": [
            "Gen 217 — avg: -119.4, min: -168.0, max: -86.0\n"
          ]
        },
        {
          "output_type": "stream",
          "name": "stderr",
          "text": [
            "Evolving:  73%|███████▎  | 218/300 [07:44<02:57,  2.17s/it]"
          ]
        },
        {
          "output_type": "stream",
          "name": "stdout",
          "text": [
            "Gen 218 — avg: -114.8, min: -148.0, max: -89.0\n"
          ]
        },
        {
          "output_type": "stream",
          "name": "stderr",
          "text": [
            "Evolving:  73%|███████▎  | 219/300 [07:46<02:57,  2.19s/it]"
          ]
        },
        {
          "output_type": "stream",
          "name": "stdout",
          "text": [
            "Gen 219 — avg: -114.8, min: -143.0, max: -83.0\n"
          ]
        },
        {
          "output_type": "stream",
          "name": "stderr",
          "text": [
            "Evolving:  73%|███████▎  | 220/300 [07:47<02:49,  2.11s/it]"
          ]
        },
        {
          "output_type": "stream",
          "name": "stdout",
          "text": [
            "Gen 220 — avg: -110.8, min: -144.0, max: -89.0\n"
          ]
        },
        {
          "output_type": "stream",
          "name": "stderr",
          "text": [
            "Evolving:  74%|███████▎  | 221/300 [07:49<02:42,  2.05s/it]"
          ]
        },
        {
          "output_type": "stream",
          "name": "stdout",
          "text": [
            "Gen 221 — avg: -116.2, min: -162.0, max: -89.0\n"
          ]
        },
        {
          "output_type": "stream",
          "name": "stderr",
          "text": [
            "Evolving:  74%|███████▍  | 222/300 [07:51<02:37,  2.01s/it]"
          ]
        },
        {
          "output_type": "stream",
          "name": "stdout",
          "text": [
            "Gen 222 — avg: -109.6, min: -162.0, max: -89.0\n"
          ]
        },
        {
          "output_type": "stream",
          "name": "stderr",
          "text": [
            "Evolving:  74%|███████▍  | 223/300 [07:53<02:32,  1.98s/it]"
          ]
        },
        {
          "output_type": "stream",
          "name": "stdout",
          "text": [
            "Gen 223 — avg: -109.5, min: -142.0, max: -83.0\n"
          ]
        },
        {
          "output_type": "stream",
          "name": "stderr",
          "text": [
            "Evolving:  75%|███████▍  | 224/300 [07:56<02:42,  2.14s/it]"
          ]
        },
        {
          "output_type": "stream",
          "name": "stdout",
          "text": [
            "Gen 224 — avg: -106.8, min: -140.0, max: -85.0\n"
          ]
        },
        {
          "output_type": "stream",
          "name": "stderr",
          "text": [
            "Evolving:  75%|███████▌  | 225/300 [07:58<02:44,  2.20s/it]"
          ]
        },
        {
          "output_type": "stream",
          "name": "stdout",
          "text": [
            "Gen 225 — avg: -107.6, min: -141.0, max: -80.0\n"
          ]
        },
        {
          "output_type": "stream",
          "name": "stderr",
          "text": [
            "Evolving:  75%|███████▌  | 226/300 [08:00<02:36,  2.12s/it]"
          ]
        },
        {
          "output_type": "stream",
          "name": "stdout",
          "text": [
            "Gen 226 — avg: -107.3, min: -169.0, max: -78.0\n"
          ]
        },
        {
          "output_type": "stream",
          "name": "stderr",
          "text": [
            "Evolving:  76%|███████▌  | 227/300 [08:02<02:30,  2.06s/it]"
          ]
        },
        {
          "output_type": "stream",
          "name": "stdout",
          "text": [
            "Gen 227 — avg: -103.6, min: -155.0, max: -70.0\n"
          ]
        },
        {
          "output_type": "stream",
          "name": "stderr",
          "text": [
            "Evolving:  76%|███████▌  | 228/300 [08:04<02:25,  2.02s/it]"
          ]
        },
        {
          "output_type": "stream",
          "name": "stdout",
          "text": [
            "Gen 228 — avg: -102.4, min: -160.0, max: -65.0\n"
          ]
        },
        {
          "output_type": "stream",
          "name": "stderr",
          "text": [
            "Evolving:  76%|███████▋  | 229/300 [08:06<02:21,  1.99s/it]"
          ]
        },
        {
          "output_type": "stream",
          "name": "stdout",
          "text": [
            "Gen 229 — avg: -104.8, min: -180.0, max: -65.0\n"
          ]
        },
        {
          "output_type": "stream",
          "name": "stderr",
          "text": [
            "Evolving:  77%|███████▋  | 230/300 [08:09<02:41,  2.30s/it]"
          ]
        },
        {
          "output_type": "stream",
          "name": "stdout",
          "text": [
            "Gen 230 — avg: -99.7, min: -139.0, max: -65.0\n"
          ]
        },
        {
          "output_type": "stream",
          "name": "stderr",
          "text": [
            "Evolving:  77%|███████▋  | 231/300 [08:12<02:51,  2.49s/it]"
          ]
        },
        {
          "output_type": "stream",
          "name": "stdout",
          "text": [
            "Gen 231 — avg: -98.0, min: -142.0, max: -65.0\n"
          ]
        },
        {
          "output_type": "stream",
          "name": "stderr",
          "text": [
            "Evolving:  77%|███████▋  | 232/300 [08:14<02:38,  2.32s/it]"
          ]
        },
        {
          "output_type": "stream",
          "name": "stdout",
          "text": [
            "Gen 232 — avg: -99.6, min: -142.0, max: -65.0\n"
          ]
        },
        {
          "output_type": "stream",
          "name": "stderr",
          "text": [
            "Evolving:  78%|███████▊  | 233/300 [08:16<02:27,  2.20s/it]"
          ]
        },
        {
          "output_type": "stream",
          "name": "stdout",
          "text": [
            "Gen 233 — avg: -102.4, min: -154.0, max: -72.0\n"
          ]
        },
        {
          "output_type": "stream",
          "name": "stderr",
          "text": [
            "Evolving:  78%|███████▊  | 234/300 [08:17<02:19,  2.12s/it]"
          ]
        },
        {
          "output_type": "stream",
          "name": "stdout",
          "text": [
            "Gen 234 — avg: -111.3, min: -187.0, max: -73.0\n"
          ]
        },
        {
          "output_type": "stream",
          "name": "stderr",
          "text": [
            "Evolving:  78%|███████▊  | 235/300 [08:19<02:14,  2.06s/it]"
          ]
        },
        {
          "output_type": "stream",
          "name": "stdout",
          "text": [
            "Gen 235 — avg: -104.5, min: -147.0, max: -73.0\n"
          ]
        },
        {
          "output_type": "stream",
          "name": "stderr",
          "text": [
            "Evolving:  79%|███████▊  | 236/300 [08:22<02:12,  2.07s/it]"
          ]
        },
        {
          "output_type": "stream",
          "name": "stdout",
          "text": [
            "Gen 236 — avg: -99.0, min: -140.0, max: -63.0\n"
          ]
        },
        {
          "output_type": "stream",
          "name": "stderr",
          "text": [
            "Evolving:  79%|███████▉  | 237/300 [08:24<02:22,  2.27s/it]"
          ]
        },
        {
          "output_type": "stream",
          "name": "stdout",
          "text": [
            "Gen 237 — avg: -95.8, min: -130.0, max: -73.0\n"
          ]
        },
        {
          "output_type": "stream",
          "name": "stderr",
          "text": [
            "Evolving:  79%|███████▉  | 238/300 [08:26<02:15,  2.18s/it]"
          ]
        },
        {
          "output_type": "stream",
          "name": "stdout",
          "text": [
            "Gen 238 — avg: -97.3, min: -131.0, max: -73.0\n"
          ]
        },
        {
          "output_type": "stream",
          "name": "stderr",
          "text": [
            "Evolving:  80%|███████▉  | 239/300 [08:28<02:08,  2.11s/it]"
          ]
        },
        {
          "output_type": "stream",
          "name": "stdout",
          "text": [
            "Gen 239 — avg: -99.6, min: -123.0, max: -73.0\n"
          ]
        },
        {
          "output_type": "stream",
          "name": "stderr",
          "text": [
            "Evolving:  80%|████████  | 240/300 [08:30<02:03,  2.05s/it]"
          ]
        },
        {
          "output_type": "stream",
          "name": "stdout",
          "text": [
            "Gen 240 — avg: -93.9, min: -150.0, max: -62.0\n"
          ]
        },
        {
          "output_type": "stream",
          "name": "stderr",
          "text": [
            "Evolving:  80%|████████  | 241/300 [08:32<01:59,  2.02s/it]"
          ]
        },
        {
          "output_type": "stream",
          "name": "stdout",
          "text": [
            "Gen 241 — avg: -89.2, min: -142.0, max: -67.0\n"
          ]
        },
        {
          "output_type": "stream",
          "name": "stderr",
          "text": [
            "Evolving:  81%|████████  | 242/300 [08:34<01:56,  2.01s/it]"
          ]
        },
        {
          "output_type": "stream",
          "name": "stdout",
          "text": [
            "Gen 242 — avg: -83.3, min: -115.0, max: -63.0\n"
          ]
        },
        {
          "output_type": "stream",
          "name": "stderr",
          "text": [
            "Evolving:  81%|████████  | 243/300 [08:37<02:08,  2.25s/it]"
          ]
        },
        {
          "output_type": "stream",
          "name": "stdout",
          "text": [
            "Gen 243 — avg: -87.5, min: -121.0, max: -63.0\n"
          ]
        },
        {
          "output_type": "stream",
          "name": "stderr",
          "text": [
            "Evolving:  81%|████████▏ | 244/300 [08:39<02:00,  2.16s/it]"
          ]
        },
        {
          "output_type": "stream",
          "name": "stdout",
          "text": [
            "Gen 244 — avg: -88.8, min: -123.0, max: -66.0\n"
          ]
        },
        {
          "output_type": "stream",
          "name": "stderr",
          "text": [
            "Evolving:  82%|████████▏ | 245/300 [08:41<01:54,  2.09s/it]"
          ]
        },
        {
          "output_type": "stream",
          "name": "stdout",
          "text": [
            "Gen 245 — avg: -82.5, min: -113.0, max: -53.0\n"
          ]
        },
        {
          "output_type": "stream",
          "name": "stderr",
          "text": [
            "Evolving:  82%|████████▏ | 246/300 [08:43<01:50,  2.05s/it]"
          ]
        },
        {
          "output_type": "stream",
          "name": "stdout",
          "text": [
            "Gen 246 — avg: -81.8, min: -128.0, max: -53.0\n"
          ]
        },
        {
          "output_type": "stream",
          "name": "stderr",
          "text": [
            "Evolving:  82%|████████▏ | 247/300 [08:45<01:46,  2.02s/it]"
          ]
        },
        {
          "output_type": "stream",
          "name": "stdout",
          "text": [
            "Gen 247 — avg: -77.7, min: -118.0, max: -57.0\n"
          ]
        },
        {
          "output_type": "stream",
          "name": "stderr",
          "text": [
            "Evolving:  83%|████████▎ | 248/300 [08:47<01:43,  1.99s/it]"
          ]
        },
        {
          "output_type": "stream",
          "name": "stdout",
          "text": [
            "Gen 248 — avg: -76.0, min: -114.0, max: -61.0\n"
          ]
        },
        {
          "output_type": "stream",
          "name": "stderr",
          "text": [
            "Evolving:  83%|████████▎ | 249/300 [08:49<01:55,  2.26s/it]"
          ]
        },
        {
          "output_type": "stream",
          "name": "stdout",
          "text": [
            "Gen 249 — avg: -76.7, min: -126.0, max: -48.0\n"
          ]
        },
        {
          "output_type": "stream",
          "name": "stderr",
          "text": [
            "Evolving:  83%|████████▎ | 250/300 [08:51<01:47,  2.15s/it]"
          ]
        },
        {
          "output_type": "stream",
          "name": "stdout",
          "text": [
            "Gen 250 — avg: -75.0, min: -118.0, max: -48.0\n"
          ]
        },
        {
          "output_type": "stream",
          "name": "stderr",
          "text": [
            "Evolving:  84%|████████▎ | 251/300 [08:53<01:42,  2.08s/it]"
          ]
        },
        {
          "output_type": "stream",
          "name": "stdout",
          "text": [
            "Gen 251 — avg: -78.3, min: -162.0, max: -48.0\n"
          ]
        },
        {
          "output_type": "stream",
          "name": "stderr",
          "text": [
            "Evolving:  84%|████████▍ | 252/300 [08:55<01:37,  2.04s/it]"
          ]
        },
        {
          "output_type": "stream",
          "name": "stdout",
          "text": [
            "Gen 252 — avg: -77.3, min: -170.0, max: -53.0\n"
          ]
        },
        {
          "output_type": "stream",
          "name": "stderr",
          "text": [
            "Evolving:  84%|████████▍ | 253/300 [08:57<01:34,  2.00s/it]"
          ]
        },
        {
          "output_type": "stream",
          "name": "stdout",
          "text": [
            "Gen 253 — avg: -75.5, min: -104.0, max: -58.0\n"
          ]
        },
        {
          "output_type": "stream",
          "name": "stderr",
          "text": [
            "Evolving:  85%|████████▍ | 254/300 [08:59<01:31,  1.98s/it]"
          ]
        },
        {
          "output_type": "stream",
          "name": "stdout",
          "text": [
            "Gen 254 — avg: -73.0, min: -113.0, max: -53.0\n"
          ]
        },
        {
          "output_type": "stream",
          "name": "stderr",
          "text": [
            "Evolving:  85%|████████▌ | 255/300 [09:02<01:41,  2.26s/it]"
          ]
        },
        {
          "output_type": "stream",
          "name": "stdout",
          "text": [
            "Gen 255 — avg: -76.3, min: -128.0, max: -57.0\n"
          ]
        },
        {
          "output_type": "stream",
          "name": "stderr",
          "text": [
            "Evolving:  85%|████████▌ | 256/300 [09:04<01:34,  2.15s/it]"
          ]
        },
        {
          "output_type": "stream",
          "name": "stdout",
          "text": [
            "Gen 256 — avg: -78.8, min: -142.0, max: -53.0\n"
          ]
        },
        {
          "output_type": "stream",
          "name": "stderr",
          "text": [
            "Evolving:  86%|████████▌ | 257/300 [09:06<01:29,  2.08s/it]"
          ]
        },
        {
          "output_type": "stream",
          "name": "stdout",
          "text": [
            "Gen 257 — avg: -74.9, min: -118.0, max: -53.0\n"
          ]
        },
        {
          "output_type": "stream",
          "name": "stderr",
          "text": [
            "Evolving:  86%|████████▌ | 258/300 [09:08<01:25,  2.04s/it]"
          ]
        },
        {
          "output_type": "stream",
          "name": "stdout",
          "text": [
            "Gen 258 — avg: -73.2, min: -111.0, max: -53.0\n"
          ]
        },
        {
          "output_type": "stream",
          "name": "stderr",
          "text": [
            "Evolving:  86%|████████▋ | 259/300 [09:10<01:22,  2.01s/it]"
          ]
        },
        {
          "output_type": "stream",
          "name": "stdout",
          "text": [
            "Gen 259 — avg: -73.0, min: -117.0, max: -43.0\n"
          ]
        },
        {
          "output_type": "stream",
          "name": "stderr",
          "text": [
            "Evolving:  87%|████████▋ | 260/300 [09:12<01:19,  1.99s/it]"
          ]
        },
        {
          "output_type": "stream",
          "name": "stdout",
          "text": [
            "Gen 260 — avg: -71.6, min: -103.0, max: -48.0\n"
          ]
        },
        {
          "output_type": "stream",
          "name": "stderr",
          "text": [
            "Evolving:  87%|████████▋ | 261/300 [09:14<01:27,  2.24s/it]"
          ]
        },
        {
          "output_type": "stream",
          "name": "stdout",
          "text": [
            "Gen 261 — avg: -72.6, min: -102.0, max: -48.0\n"
          ]
        },
        {
          "output_type": "stream",
          "name": "stderr",
          "text": [
            "Evolving:  87%|████████▋ | 262/300 [09:16<01:22,  2.16s/it]"
          ]
        },
        {
          "output_type": "stream",
          "name": "stdout",
          "text": [
            "Gen 262 — avg: -75.6, min: -116.0, max: -48.0\n"
          ]
        },
        {
          "output_type": "stream",
          "name": "stderr",
          "text": [
            "Evolving:  88%|████████▊ | 263/300 [09:18<01:17,  2.09s/it]"
          ]
        },
        {
          "output_type": "stream",
          "name": "stdout",
          "text": [
            "Gen 263 — avg: -70.6, min: -107.0, max: -53.0\n"
          ]
        },
        {
          "output_type": "stream",
          "name": "stderr",
          "text": [
            "Evolving:  88%|████████▊ | 264/300 [09:20<01:13,  2.04s/it]"
          ]
        },
        {
          "output_type": "stream",
          "name": "stdout",
          "text": [
            "Gen 264 — avg: -75.8, min: -115.0, max: -52.0\n"
          ]
        },
        {
          "output_type": "stream",
          "name": "stderr",
          "text": [
            "Evolving:  88%|████████▊ | 265/300 [09:22<01:10,  2.01s/it]"
          ]
        },
        {
          "output_type": "stream",
          "name": "stdout",
          "text": [
            "Gen 265 — avg: -74.1, min: -152.0, max: -48.0\n"
          ]
        },
        {
          "output_type": "stream",
          "name": "stderr",
          "text": [
            "Evolving:  89%|████████▊ | 266/300 [09:24<01:07,  1.99s/it]"
          ]
        },
        {
          "output_type": "stream",
          "name": "stdout",
          "text": [
            "Gen 266 — avg: -67.8, min: -93.0, max: -43.0\n"
          ]
        },
        {
          "output_type": "stream",
          "name": "stderr",
          "text": [
            "Evolving:  89%|████████▉ | 267/300 [09:27<01:13,  2.22s/it]"
          ]
        },
        {
          "output_type": "stream",
          "name": "stdout",
          "text": [
            "Gen 267 — avg: -70.7, min: -104.0, max: -43.0\n"
          ]
        },
        {
          "output_type": "stream",
          "name": "stderr",
          "text": [
            "Evolving:  89%|████████▉ | 268/300 [09:29<01:09,  2.18s/it]"
          ]
        },
        {
          "output_type": "stream",
          "name": "stdout",
          "text": [
            "Gen 268 — avg: -68.9, min: -91.0, max: -48.0\n"
          ]
        },
        {
          "output_type": "stream",
          "name": "stderr",
          "text": [
            "Evolving:  90%|████████▉ | 269/300 [09:31<01:05,  2.10s/it]"
          ]
        },
        {
          "output_type": "stream",
          "name": "stdout",
          "text": [
            "Gen 269 — avg: -69.3, min: -139.0, max: -33.0\n"
          ]
        },
        {
          "output_type": "stream",
          "name": "stderr",
          "text": [
            "Evolving:  90%|█████████ | 270/300 [09:33<01:01,  2.04s/it]"
          ]
        },
        {
          "output_type": "stream",
          "name": "stdout",
          "text": [
            "Gen 270 — avg: -68.8, min: -126.0, max: -48.0\n"
          ]
        },
        {
          "output_type": "stream",
          "name": "stderr",
          "text": [
            "Evolving:  90%|█████████ | 271/300 [09:35<00:58,  2.01s/it]"
          ]
        },
        {
          "output_type": "stream",
          "name": "stdout",
          "text": [
            "Gen 271 — avg: -73.3, min: -125.0, max: -48.0\n"
          ]
        },
        {
          "output_type": "stream",
          "name": "stderr",
          "text": [
            "Evolving:  91%|█████████ | 272/300 [09:37<00:55,  1.99s/it]"
          ]
        },
        {
          "output_type": "stream",
          "name": "stdout",
          "text": [
            "Gen 272 — avg: -75.0, min: -123.0, max: -53.0\n"
          ]
        },
        {
          "output_type": "stream",
          "name": "stderr",
          "text": [
            "Evolving:  91%|█████████ | 273/300 [09:40<00:58,  2.18s/it]"
          ]
        },
        {
          "output_type": "stream",
          "name": "stdout",
          "text": [
            "Gen 273 — avg: -73.0, min: -95.0, max: -43.0\n"
          ]
        },
        {
          "output_type": "stream",
          "name": "stderr",
          "text": [
            "Evolving:  91%|█████████▏| 274/300 [09:41<00:56,  2.19s/it]"
          ]
        },
        {
          "output_type": "stream",
          "name": "stdout",
          "text": [
            "Gen 274 — avg: -71.0, min: -138.0, max: -43.0\n"
          ]
        },
        {
          "output_type": "stream",
          "name": "stderr",
          "text": [
            "Evolving:  92%|█████████▏| 275/300 [09:43<00:52,  2.11s/it]"
          ]
        },
        {
          "output_type": "stream",
          "name": "stdout",
          "text": [
            "Gen 275 — avg: -74.1, min: -108.0, max: -48.0\n"
          ]
        },
        {
          "output_type": "stream",
          "name": "stderr",
          "text": [
            "Evolving:  92%|█████████▏| 276/300 [09:45<00:49,  2.06s/it]"
          ]
        },
        {
          "output_type": "stream",
          "name": "stdout",
          "text": [
            "Gen 276 — avg: -75.8, min: -131.0, max: -51.0\n"
          ]
        },
        {
          "output_type": "stream",
          "name": "stderr",
          "text": [
            "Evolving:  92%|█████████▏| 277/300 [09:47<00:46,  2.02s/it]"
          ]
        },
        {
          "output_type": "stream",
          "name": "stdout",
          "text": [
            "Gen 277 — avg: -75.2, min: -128.0, max: -51.0\n"
          ]
        },
        {
          "output_type": "stream",
          "name": "stderr",
          "text": [
            "Evolving:  93%|█████████▎| 278/300 [09:49<00:43,  1.99s/it]"
          ]
        },
        {
          "output_type": "stream",
          "name": "stdout",
          "text": [
            "Gen 278 — avg: -72.9, min: -118.0, max: -51.0\n"
          ]
        },
        {
          "output_type": "stream",
          "name": "stderr",
          "text": [
            "Evolving:  93%|█████████▎| 279/300 [09:52<00:45,  2.16s/it]"
          ]
        },
        {
          "output_type": "stream",
          "name": "stdout",
          "text": [
            "Gen 279 — avg: -76.4, min: -115.0, max: -48.0\n"
          ]
        },
        {
          "output_type": "stream",
          "name": "stderr",
          "text": [
            "Evolving:  93%|█████████▎| 280/300 [09:54<00:44,  2.20s/it]"
          ]
        },
        {
          "output_type": "stream",
          "name": "stdout",
          "text": [
            "Gen 280 — avg: -77.0, min: -113.0, max: -48.0\n"
          ]
        },
        {
          "output_type": "stream",
          "name": "stderr",
          "text": [
            "Evolving:  94%|█████████▎| 281/300 [09:56<00:40,  2.12s/it]"
          ]
        },
        {
          "output_type": "stream",
          "name": "stdout",
          "text": [
            "Gen 281 — avg: -70.9, min: -112.0, max: -48.0\n"
          ]
        },
        {
          "output_type": "stream",
          "name": "stderr",
          "text": [
            "Evolving:  94%|█████████▍| 282/300 [09:58<00:37,  2.06s/it]"
          ]
        },
        {
          "output_type": "stream",
          "name": "stdout",
          "text": [
            "Gen 282 — avg: -71.5, min: -115.0, max: -48.0\n"
          ]
        },
        {
          "output_type": "stream",
          "name": "stderr",
          "text": [
            "Evolving:  94%|█████████▍| 283/300 [10:00<00:34,  2.02s/it]"
          ]
        },
        {
          "output_type": "stream",
          "name": "stdout",
          "text": [
            "Gen 283 — avg: -71.5, min: -122.0, max: -48.0\n"
          ]
        },
        {
          "output_type": "stream",
          "name": "stderr",
          "text": [
            "Evolving:  95%|█████████▍| 284/300 [10:02<00:31,  1.99s/it]"
          ]
        },
        {
          "output_type": "stream",
          "name": "stdout",
          "text": [
            "Gen 284 — avg: -68.4, min: -98.0, max: -33.0\n"
          ]
        },
        {
          "output_type": "stream",
          "name": "stderr",
          "text": [
            "Evolving:  95%|█████████▌| 285/300 [10:05<00:32,  2.14s/it]"
          ]
        },
        {
          "output_type": "stream",
          "name": "stdout",
          "text": [
            "Gen 285 — avg: -69.1, min: -101.0, max: -33.0\n"
          ]
        },
        {
          "output_type": "stream",
          "name": "stderr",
          "text": [
            "Evolving:  95%|█████████▌| 286/300 [10:07<00:30,  2.20s/it]"
          ]
        },
        {
          "output_type": "stream",
          "name": "stdout",
          "text": [
            "Gen 286 — avg: -65.2, min: -106.0, max: -37.0\n"
          ]
        },
        {
          "output_type": "stream",
          "name": "stderr",
          "text": [
            "Evolving:  96%|█████████▌| 287/300 [10:08<00:27,  2.12s/it]"
          ]
        },
        {
          "output_type": "stream",
          "name": "stdout",
          "text": [
            "Gen 287 — avg: -61.8, min: -103.0, max: -37.0\n"
          ]
        },
        {
          "output_type": "stream",
          "name": "stderr",
          "text": [
            "Evolving:  96%|█████████▌| 288/300 [10:10<00:24,  2.06s/it]"
          ]
        },
        {
          "output_type": "stream",
          "name": "stdout",
          "text": [
            "Gen 288 — avg: -61.3, min: -106.0, max: -42.0\n"
          ]
        },
        {
          "output_type": "stream",
          "name": "stderr",
          "text": [
            "Evolving:  96%|█████████▋| 289/300 [10:12<00:22,  2.03s/it]"
          ]
        },
        {
          "output_type": "stream",
          "name": "stdout",
          "text": [
            "Gen 289 — avg: -62.9, min: -103.0, max: -42.0\n"
          ]
        },
        {
          "output_type": "stream",
          "name": "stderr",
          "text": [
            "Evolving:  97%|█████████▋| 290/300 [10:14<00:19,  2.00s/it]"
          ]
        },
        {
          "output_type": "stream",
          "name": "stdout",
          "text": [
            "Gen 290 — avg: -62.2, min: -88.0, max: -43.0\n"
          ]
        },
        {
          "output_type": "stream",
          "name": "stderr",
          "text": [
            "Evolving:  97%|█████████▋| 291/300 [10:17<00:19,  2.13s/it]"
          ]
        },
        {
          "output_type": "stream",
          "name": "stdout",
          "text": [
            "Gen 291 — avg: -63.9, min: -95.0, max: -43.0\n"
          ]
        },
        {
          "output_type": "stream",
          "name": "stderr",
          "text": [
            "Evolving:  97%|█████████▋| 292/300 [10:19<00:17,  2.21s/it]"
          ]
        },
        {
          "output_type": "stream",
          "name": "stdout",
          "text": [
            "Gen 292 — avg: -60.7, min: -112.0, max: -43.0\n"
          ]
        },
        {
          "output_type": "stream",
          "name": "stderr",
          "text": [
            "Evolving:  98%|█████████▊| 293/300 [10:21<00:14,  2.13s/it]"
          ]
        },
        {
          "output_type": "stream",
          "name": "stdout",
          "text": [
            "Gen 293 — avg: -63.0, min: -115.0, max: -38.0\n"
          ]
        },
        {
          "output_type": "stream",
          "name": "stderr",
          "text": [
            "Evolving:  98%|█████████▊| 294/300 [10:23<00:12,  2.07s/it]"
          ]
        },
        {
          "output_type": "stream",
          "name": "stdout",
          "text": [
            "Gen 294 — avg: -60.8, min: -90.0, max: -33.0\n"
          ]
        },
        {
          "output_type": "stream",
          "name": "stderr",
          "text": [
            "Evolving:  98%|█████████▊| 295/300 [10:25<00:10,  2.03s/it]"
          ]
        },
        {
          "output_type": "stream",
          "name": "stdout",
          "text": [
            "Gen 295 — avg: -62.1, min: -108.0, max: -38.0\n"
          ]
        },
        {
          "output_type": "stream",
          "name": "stderr",
          "text": [
            "Evolving:  99%|█████████▊| 296/300 [10:27<00:08,  2.01s/it]"
          ]
        },
        {
          "output_type": "stream",
          "name": "stdout",
          "text": [
            "Gen 296 — avg: -62.7, min: -100.0, max: -38.0\n"
          ]
        },
        {
          "output_type": "stream",
          "name": "stderr",
          "text": [
            "Evolving:  99%|█████████▉| 297/300 [10:30<00:06,  2.13s/it]"
          ]
        },
        {
          "output_type": "stream",
          "name": "stdout",
          "text": [
            "Gen 297 — avg: -67.3, min: -135.0, max: -38.0\n"
          ]
        },
        {
          "output_type": "stream",
          "name": "stderr",
          "text": [
            "Evolving:  99%|█████████▉| 298/300 [10:32<00:04,  2.22s/it]"
          ]
        },
        {
          "output_type": "stream",
          "name": "stdout",
          "text": [
            "Gen 298 — avg: -62.0, min: -99.0, max: -43.0\n"
          ]
        },
        {
          "output_type": "stream",
          "name": "stderr",
          "text": [
            "Evolving: 100%|█████████▉| 299/300 [10:34<00:02,  2.13s/it]"
          ]
        },
        {
          "output_type": "stream",
          "name": "stdout",
          "text": [
            "Gen 299 — avg: -59.1, min: -128.0, max: -43.0\n"
          ]
        },
        {
          "output_type": "stream",
          "name": "stderr",
          "text": [
            "Evolving: 100%|██████████| 300/300 [10:35<00:00,  2.12s/it]\n"
          ]
        }
      ]
    },
    {
      "cell_type": "code",
      "source": [
        "# --- Plot results ---\n",
        "plt.plot(avg_fitness, label='Average Fitness')\n",
        "plt.plot(min_fitness, label='Min Fitness')\n",
        "plt.plot(max_fitness, label='Max Fitness')\n",
        "plt.xlabel('Generation')\n",
        "plt.ylabel('Fitness')\n",
        "plt.title('GA Fitness over Generations')\n",
        "plt.legend()\n",
        "plt.grid(True)\n",
        "plt.show()"
      ],
      "metadata": {
        "colab": {
          "base_uri": "https://localhost:8080/",
          "height": 472
        },
        "id": "rkXvPGvgweB9",
        "outputId": "cf9b7fbe-51ed-470d-a432-476c28d68a4c"
      },
      "execution_count": 56,
      "outputs": [
        {
          "output_type": "display_data",
          "data": {
            "text/plain": [
              "<Figure size 640x480 with 1 Axes>"
            ],
            "image/png": "[encoded data removed]"
          },
          "metadata": {}
        }
      ]
    },
    {
      "cell_type": "markdown",
      "source": [
        "# Problem 2"
      ],
      "metadata": {
        "id": "tcbxvfqUKLoA"
      }
    },
    {
      "cell_type": "code",
      "source": [
        "import random\n",
        "import networkx as nx\n",
        "import matplotlib.pyplot as plt\n",
        "\n",
        "def generate_time_dependent_graph(cities):\n",
        "    graph = {}\n",
        "    for from_city in cities:\n",
        "        graph[from_city] = {}\n",
        "        for to_city in cities:\n",
        "            if from_city != to_city:\n",
        "                graph[from_city][to_city] = [random.randint(1, 4) for _ in range(24)]\n",
        "    return graph\n",
        "\n",
        "def get_graph_at_hour(graph, hour):\n",
        "    hourly_graph = nx.DiGraph()\n",
        "    for from_node, edges in graph.items():\n",
        "        for to_node, weights in edges.items():\n",
        "            hourly_graph.add_edge(from_node, to_node, weight=weights[hour])\n",
        "    return hourly_graph\n",
        "\n",
        "def draw_graphs_for_hours(graph, hours):\n",
        "    fig, axes = plt.subplots(1, len(hours), figsize=(16, 4))\n",
        "    pos = nx.spring_layout(nx.DiGraph(graph))  # fixed layout for all graphs\n",
        "\n",
        "    for idx, hour in enumerate(hours):\n",
        "        G_hour = get_graph_at_hour(graph, hour)\n",
        "        ax = axes[idx]\n",
        "        ax.set_title(f'Hour {hour}')\n",
        "        nx.draw(G_hour, pos, ax=ax, with_labels=True, node_color='lightblue', node_size=800, arrows=True)\n",
        "        labels = nx.get_edge_attributes(G_hour, 'weight')\n",
        "        nx.draw_networkx_edge_labels(G_hour, pos, edge_labels=labels, ax=ax, font_size=8)\n",
        "\n",
        "    plt.tight_layout()\n",
        "    plt.show()\n",
        "\n",
        "# Create the graph and visualize it\n",
        "cities = ['A', 'B', 'C', 'D', 'E', 'F', 'G', 'H', 'I', 'J', 'K', 'L', 'M']\n",
        "time_dependent_graph = generate_time_dependent_graph(cities)\n",
        "\n",
        "# Render for 4 sample hours\n",
        "draw_graphs_for_hours(time_dependent_graph, hours=[0, 6, 12, 18])\n"
      ],
      "metadata": {
        "colab": {
          "base_uri": "https://localhost:8080/",
          "height": 407
        },
        "id": "KGvH1oIg4H5z",
        "outputId": "9cb98511-f358-4308-fa53-b45c2654efd2"
      },
      "execution_count": 81,
      "outputs": [
        {
          "output_type": "display_data",
          "data": {
            "text/plain": [
              "<Figure size 1600x400 with 4 Axes>"
            ],
            "image/png": "[encoded data removed]"
          },
          "metadata": {}
        }
      ]
    },
    {
      "cell_type": "code",
      "source": [
        "import random\n",
        "\n",
        "def evaluate_genome(genome, graph_data, start_city):\n",
        "    current_time = 0\n",
        "    current_city = start_city\n",
        "    visited = set([current_city])\n",
        "\n",
        "    for next_city in genome:\n",
        "        if next_city == current_city:\n",
        "            continue\n",
        "\n",
        "        graph_at_time = get_graph_at_hour(graph_data, current_time % 24)\n",
        "        if not graph_at_time.has_edge(current_city, next_city):\n",
        "            continue\n",
        "\n",
        "        travel_time = graph_at_time[current_city][next_city]['weight']\n",
        "        current_time += travel_time\n",
        "        current_city = next_city\n",
        "        visited.add(current_city)\n",
        "\n",
        "        if len(visited) == len(graph_data):\n",
        "            break\n",
        "\n",
        "    return -current_time if len(visited) == len(graph_data) else -float('inf')\n",
        "\n",
        "def mutate(genome, cities, mutation_rate=0.1):\n",
        "    new_genome = genome[:]\n",
        "    for i in range(len(new_genome)):\n",
        "        if random.random() < mutation_rate:\n",
        "            new_genome[i] = random.choice(cities)\n",
        "    return new_genome\n",
        "\n",
        "def crossover(parent1, parent2):\n",
        "    return [random.choice([g1, g2]) for g1, g2 in zip(parent1, parent2)]\n",
        "\n",
        "def run_generation(population, graph, cities, start_city, mutation_rate=0.1):\n",
        "    scored_population = [(genome, evaluate_genome(genome, graph, start_city)) for genome in population]\n",
        "    scored_population.sort(key=lambda x: x[1], reverse=True)\n",
        "\n",
        "    next_generation = [genome for genome, _ in scored_population[:2]]  # elitism\n",
        "\n",
        "    while len(next_generation) < len(population):\n",
        "        parent1, parent2 = random.choices(scored_population[:5], k=2)\n",
        "        child = crossover(parent1[0], parent2[0])\n",
        "        mutated_child = mutate(child, cities, mutation_rate)\n",
        "        next_generation.append(mutated_child)\n",
        "\n",
        "    return next_generation, scored_population[0]\n",
        "\n",
        "def genetic_algorithm(graph, cities, start_city='A', generations=10, pop_size=500, mutation_rate=0.1):\n",
        "    genome_length = 2 * len(cities)\n",
        "    population = [\n",
        "        [random.choice(cities) for _ in range(genome_length)]\n",
        "        for _ in range(pop_size)\n",
        "    ]\n",
        "\n",
        "    best_overall = (None, -float('inf'))\n",
        "    for gen in range(generations):\n",
        "        population, best = run_generation(population, graph, cities, start_city, mutation_rate)\n",
        "        if best[1] > best_overall[1]:\n",
        "            best_overall = best\n",
        "        print(f\"Generation {gen+1}: Best fitness = {best[1]}\")\n",
        "\n",
        "    print(\"\\nBest path found:\", best_overall[0])\n",
        "    print(\"Final fitness:\", best_overall[1])\n",
        "    return best_overall\n",
        "\n",
        "# --- Run the GA on your existing graph ---\n",
        "best_path, best_fitness = genetic_algorithm(time_dependent_graph, cities)\n"
      ],
      "metadata": {
        "colab": {
          "base_uri": "https://localhost:8080/"
        },
        "id": "GM-cUtUhLdY2",
        "outputId": "1e9a3b3f-a806-4c4b-c0f2-280d84b1b126"
      },
      "execution_count": 82,
      "outputs": [
        {
          "output_type": "stream",
          "name": "stdout",
          "text": [
            "Generation 1: Best fitness = -35\n",
            "Generation 2: Best fitness = -30\n",
            "Generation 3: Best fitness = -27\n",
            "Generation 4: Best fitness = -24\n",
            "Generation 5: Best fitness = -24\n",
            "Generation 6: Best fitness = -22\n",
            "Generation 7: Best fitness = -21\n",
            "Generation 8: Best fitness = -21\n",
            "Generation 9: Best fitness = -21\n",
            "Generation 10: Best fitness = -21\n",
            "\n",
            "Best path found: ['L', 'F', 'D', 'K', 'B', 'M', 'C', 'E', 'J', 'G', 'I', 'H', 'F', 'K', 'J', 'J', 'J', 'A', 'L', 'B', 'L', 'E', 'L', 'L', 'G', 'C']\n",
            "Final fitness: -21\n"
          ]
        }
      ]
    },
    {
      "cell_type": "code",
      "source": [],
      "metadata": {
        "id": "rPn5X5bLNJb2"
      },
      "execution_count": null,
      "outputs": []
    }
  ]
}